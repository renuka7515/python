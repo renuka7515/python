{
 "cells": [
  {
   "cell_type": "code",
   "execution_count": 2,
   "id": "1cf78c00",
   "metadata": {},
   "outputs": [],
   "source": [
    "class ATM:\n",
    "    def __init__(self):\n",
    "        self.balance=0\n",
    "        self.__pin=0\n",
    "        self.info()\n",
    "    \n",
    "    def info(self):\n",
    "        input_value=int(input(\"1:- create a new pin\\n2:- check the balance\\n3:- withdrawl\\n4:-deposit\\n5:-mini statement\\n6:- change the pin\\n7:-exit\"))\n",
    "        \n",
    "        \n",
    "        def change_pin():\n",
    "            check=int(input(\"enter your pin\"))\n",
    "            if check==self.__pin:\n",
    "                new_pin1=int(input(\"type your 4 digit pin\"))\n",
    "                new_pin2=int(input(\"type your new 4 digit pin\"))\n",
    "                if new_pin1==new_pin2:\n",
    "                    print(\"pin is changed successfully\")\n",
    "                    self.__pin=new_pin1\n",
    "                else:\n",
    "                    print(\"pin is mismatched\")\n",
    "                    \n",
    "            if input(\"enter b to go back to main menu and e to exit \")==\"b\":\n",
    "                self.info()\n",
    "        \n",
    "        def create_pin():\n",
    "            if self.__pin==0:\n",
    "                new_pin1=int(input(\"type your 4 digit pin \"))\n",
    "                new_pin2=int(input(\"type your new 4 digit pin \"))\n",
    "                if new_pin1==new_pin2:\n",
    "                    print(\"pin is created successfully\")\n",
    "                    self.__pin=new_pin1\n",
    "                else:\n",
    "                    print(\"pin is mismatched\")\n",
    "            if input(\"enter b to go back to main menu and e to exit \")==\"b\":\n",
    "                self.info()        \n",
    "                    \n",
    "        def balance():\n",
    "            check=int(input(\"enter your pin\"))\n",
    "            if check==self.__pin:\n",
    "                print(\"your current balance is {}\".format(self.balance))\n",
    "            else:\n",
    "                print(\"incorrect pin\")\n",
    "                \n",
    "            if input(\"enter b to go back to main menu and e to exit \")==\"b\":\n",
    "                self.info()\n",
    "                    \n",
    "        def deposit():\n",
    "            check=int(input(\"enter your pin\"))\n",
    "            if check==self.__pin:\n",
    "                how_much=int(input(\"enter the amount you want to deposit \"))\n",
    "                notes_100=int(input(\"enter the number of 100 notes: \"))\n",
    "                notes_200=int(input(\"enter the number of 200 notes: \"))\n",
    "                notes_500=int(input(\"enter the number of 500 notes: \"))\n",
    "                notes_2000=int(input(\"enter the number of 2000 notes: \"))\n",
    "                \n",
    "                if how_much==100*notes_100+200*notes_200+500*notes_500+2000*notes_2000:\n",
    "                    print(\"amount deposited successfully\")\n",
    "                    self.balance+=how_much\n",
    "                else:\n",
    "                    print(\"amount deposited denied because of notes mismatch\")\n",
    "                    \n",
    "        def withdrawl():\n",
    "            check=int(input(\"enter your pin\"))\n",
    "            if check==self.__pin:\n",
    "                how_much_withd=int(input(\"enter the amount you want to withdraw: \"))\n",
    "                if how_much_withd<=self.balance:\n",
    "                    self.balance=self.balance-how_much_withd\n",
    "                    print(\"withdrawl successful\")\n",
    "                else:\n",
    "                    print(\"insufficent balance\")\n",
    "\n",
    "        if input_value==1:\n",
    "            create_pin()\n",
    "        elif input_value==6:\n",
    "            change_pin()\n",
    "        elif input_value==2:   \n",
    "            balance()\n",
    "        elif input_value==3:\n",
    "            withdrawl()\n",
    "        elif input_value==4:\n",
    "            deposit()\n",
    "        else: \n",
    "            pass\n",
    "\n",
    "    "
   ]
  },
  {
   "cell_type": "code",
   "execution_count": 4,
   "id": "69201b52",
   "metadata": {},
   "outputs": [
    {
     "name": "stdout",
     "output_type": "stream",
     "text": [
      "1:- create a new pin\n",
      "2:- check the balance\n",
      "3:- withdrawl\n",
      "4:-deposit\n",
      "5:-mini statement\n",
      "6:- change the pin\n",
      "7:-exit1\n",
      "type your 4 digit pin 4515\n",
      "type your new 4 digit pin 4515\n",
      "pin is created successfully\n",
      "enter b to go back to main menu and e to exit b\n",
      "1:- create a new pin\n",
      "2:- check the balance\n",
      "3:- withdrawl\n",
      "4:-deposit\n",
      "5:-mini statement\n",
      "6:- change the pin\n",
      "7:-exit4\n",
      "enter your pin4515\n",
      "enter the amount you want to deposit 500\n",
      "enter the number of 100 notes: 0\n",
      "enter the number of 200 notes: 0\n",
      "enter the number of 500 notes: 1\n",
      "enter the number of 2000 notes: 0\n",
      "amount deposited successfully\n"
     ]
    }
   ],
   "source": [
    "ob1=ATM()"
   ]
  },
  {
   "cell_type": "code",
   "execution_count": 5,
   "id": "a7e6967f",
   "metadata": {},
   "outputs": [
    {
     "name": "stdout",
     "output_type": "stream",
     "text": [
      "1:- create a new pin\n",
      "2:- check the balance\n",
      "3:- withdrawl\n",
      "4:-deposit\n",
      "5:-mini statement\n",
      "6:- change the pin\n",
      "7:-exit4\n",
      "enter your pin4515\n",
      "enter the amount you want to deposit 5000\n",
      "enter the number of 100 notes: 2\n",
      "enter the number of 200 notes: 4\n",
      "enter the number of 500 notes: 4\n",
      "enter the number of 2000 notes: 1\n",
      "amount deposited successfully\n"
     ]
    }
   ],
   "source": [
    "ob1.info()"
   ]
  },
  {
   "cell_type": "code",
   "execution_count": 6,
   "id": "11899062",
   "metadata": {},
   "outputs": [
    {
     "name": "stdout",
     "output_type": "stream",
     "text": [
      "1:- create a new pin\n",
      "2:- check the balance\n",
      "3:- withdrawl\n",
      "4:-deposit\n",
      "5:-mini statement\n",
      "6:- change the pin\n",
      "7:-exit2\n",
      "enter your pin4515\n",
      "your current balance is 5500\n",
      "enter b to go back to main menu and e to exit e\n"
     ]
    }
   ],
   "source": [
    "ob1.info()"
   ]
  },
  {
   "cell_type": "code",
   "execution_count": null,
   "id": "414d13b7",
   "metadata": {},
   "outputs": [],
   "source": []
  },
  {
   "cell_type": "code",
   "execution_count": null,
   "id": "f08832d0",
   "metadata": {},
   "outputs": [],
   "source": []
  },
  {
   "cell_type": "code",
   "execution_count": null,
   "id": "66f44ba2",
   "metadata": {},
   "outputs": [],
   "source": []
  }
 ],
 "metadata": {
  "kernelspec": {
   "display_name": "Python 3 (ipykernel)",
   "language": "python",
   "name": "python3"
  },
  "language_info": {
   "codemirror_mode": {
    "name": "ipython",
    "version": 3
   },
   "file_extension": ".py",
   "mimetype": "text/x-python",
   "name": "python",
   "nbconvert_exporter": "python",
   "pygments_lexer": "ipython3",
   "version": "3.9.12"
  }
 },
 "nbformat": 4,
 "nbformat_minor": 5
}
