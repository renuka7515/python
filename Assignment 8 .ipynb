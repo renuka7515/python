{
 "cells": [
  {
   "cell_type": "code",
   "execution_count": 1,
   "id": "2b490652",
   "metadata": {},
   "outputs": [
    {
     "data": {
      "text/plain": [
       "'True'"
      ]
     },
     "execution_count": 1,
     "metadata": {},
     "output_type": "execute_result"
    }
   ],
   "source": [
    "# 1. Create a function that takes a boolean variable flag and returns it as a string.\n",
    "# Examples\n",
    "# bool_to_string(True) ➞ \"True\"\n",
    "\n",
    "# bool_to_string(False) ➞ \"False\"\n",
    "\n",
    "\n",
    "\n",
    "def bool_to_string(flag):\n",
    "    return str(flag)\n",
    "bool_to_string(True)"
   ]
  },
  {
   "cell_type": "code",
   "execution_count": 6,
   "id": "7ab504ff",
   "metadata": {},
   "outputs": [],
   "source": [
    "# 2. Create a function that returns True when num1 is equal to num2; otherwise return False.\n",
    "# Examples\n",
    "# is_same_num(4, 8) ➞ False\n",
    "\n",
    "# is_same_num(2, 2) ➞  True\n",
    "\n",
    "# is_same_num(2, \"2\") ➞ False\n",
    "\n",
    "\n",
    "def is_same_num(num1,num2):\n",
    "    return (num1==num2)"
   ]
  },
  {
   "cell_type": "code",
   "execution_count": 7,
   "id": "7f09b165",
   "metadata": {},
   "outputs": [
    {
     "data": {
      "text/plain": [
       "False"
      ]
     },
     "execution_count": 7,
     "metadata": {},
     "output_type": "execute_result"
    }
   ],
   "source": [
    "is_same_num(1,2)"
   ]
  },
  {
   "cell_type": "code",
   "execution_count": 8,
   "id": "be055eba",
   "metadata": {},
   "outputs": [
    {
     "data": {
      "text/plain": [
       "True"
      ]
     },
     "execution_count": 8,
     "metadata": {},
     "output_type": "execute_result"
    }
   ],
   "source": [
    "is_same_num(2,2)"
   ]
  },
  {
   "cell_type": "code",
   "execution_count": 13,
   "id": "2a7fb76c",
   "metadata": {},
   "outputs": [
    {
     "data": {
      "text/plain": [
       "False"
      ]
     },
     "execution_count": 13,
     "metadata": {},
     "output_type": "execute_result"
    }
   ],
   "source": [
    "# 3.Create a function that takes a number as its only argument and returns True if it's less than or equal to zero, \n",
    "# otherwise return False.\n",
    "# Examples\n",
    "# less_than_or_equal_to_zero(5) ➞ False\n",
    "\n",
    "# less_than_or_equal_to_zero(0) ➞ True\n",
    "\n",
    "# less_than_or_equal_to_zero(-2) ➞ True\n",
    "\n",
    "def less_than_or_equal_to_zero(num):\n",
    "    if num<=0:\n",
    "        return True\n",
    "    else:\n",
    "        return False\n",
    "\n",
    "less_than_or_equal_to_zero(5)\n"
   ]
  },
  {
   "cell_type": "code",
   "execution_count": 14,
   "id": "d1042fec",
   "metadata": {},
   "outputs": [
    {
     "data": {
      "text/plain": [
       "True"
      ]
     },
     "execution_count": 14,
     "metadata": {},
     "output_type": "execute_result"
    }
   ],
   "source": [
    "less_than_or_equal_to_zero(0)"
   ]
  },
  {
   "cell_type": "code",
   "execution_count": 20,
   "id": "6abeb14d",
   "metadata": {},
   "outputs": [
    {
     "data": {
      "text/plain": [
       "'Hello, maya!'"
      ]
     },
     "execution_count": 20,
     "metadata": {},
     "output_type": "execute_result"
    }
   ],
   "source": [
    "# 4.Emmy has written a function that returns a greeting to users. However, she's in love with Mubashir, \n",
    "# and would like to greet him slightly differently. She added a special case in her function, but she made a mistake.\n",
    "# Can you help her?\n",
    "# Examples\n",
    "# greeting(\"Matt\") ➞ \"Hello, Matt!\"\n",
    "\n",
    "# greeting(\"Helen\") ➞ \"Hello, Helen!\"\n",
    "\n",
    "# greeting(\"Mubashir\") ➞ \"Hello, my Love!\"\n",
    "\n",
    "\n",
    "def greeting(name):\n",
    "    if name == \"Mubashir\":\n",
    "        return \"Hello, my Love!\"\n",
    "    else:\n",
    "        return \"Hello, \" + name + \"!\"\n",
    "greeting(\"maya\")\n"
   ]
  },
  {
   "cell_type": "code",
   "execution_count": 21,
   "id": "bb180e9a",
   "metadata": {},
   "outputs": [
    {
     "data": {
      "text/plain": [
       "'Hello, my Love!'"
      ]
     },
     "execution_count": 21,
     "metadata": {},
     "output_type": "execute_result"
    }
   ],
   "source": [
    "greeting(\"Mubashir\")"
   ]
  },
  {
   "cell_type": "code",
   "execution_count": 25,
   "id": "8b60491a",
   "metadata": {},
   "outputs": [
    {
     "name": "stdout",
     "output_type": "stream",
     "text": [
      "True\n",
      "True\n",
      "False\n"
     ]
    }
   ],
   "source": [
    "# 5. Create a function that takes two arguments. Both arguments are integers, a and b. \n",
    "# Return True if one of them is 10 or if their sum is 10.\n",
    "# Examples\n",
    "# makes10(9, 10) ➞ True\n",
    "\n",
    "# makes10(9, 9) ➞ False\n",
    "\n",
    "# makes10(1, 9) ➞ True\n",
    "\n",
    "\n",
    "def makes10(a, b):\n",
    "    if a==10 or b==10 or a+b==10:\n",
    "        return True\n",
    "    else:\n",
    "        return False\n",
    "print(makes10(10,5))\n",
    "print(makes10(5,5))\n",
    "print(makes10(2,5))"
   ]
  },
  {
   "cell_type": "code",
   "execution_count": 34,
   "id": "69446c08",
   "metadata": {},
   "outputs": [
    {
     "name": "stdout",
     "output_type": "stream",
     "text": [
      "False\n",
      "True\n"
     ]
    }
   ],
   "source": [
    "# 6. Create a function that takes three arguments prob, prize, pay and returns True if prob * prize > pay; \n",
    "# otherwise return False.\n",
    "# To illustrate:\n",
    "# profitable_gamble(0.2, 50, 9)\n",
    "# ... should yield True, since the net profit is 1 (0.2 * 50 - 9), and 1 > 0.\n",
    "\n",
    "def profitable_gamble(prob,prize,pay):\n",
    "    return (prob*prize) > pay\n",
    "\n",
    "print(profitable_gamble(2,5,20))\n",
    "print(profitable_gamble(2,20,20))"
   ]
  },
  {
   "cell_type": "code",
   "execution_count": 42,
   "id": "52d41893",
   "metadata": {},
   "outputs": [
    {
     "name": "stdout",
     "output_type": "stream",
     "text": [
      "False\n",
      "True\n",
      "True\n",
      "False\n"
     ]
    }
   ],
   "source": [
    "# 7. Create a function that takes an integer and returns True if it's divisible by 100, otherwise return False.\n",
    "# Examples\n",
    "# divisible(1) ➞ False\n",
    "\n",
    "# divisible(1000) ➞ True\n",
    "\n",
    "# divisible(100) ➞ True\n",
    "\n",
    "\n",
    "def divisible(num):\n",
    "    return int(num)%100==0\n",
    "print(divisible(1))\n",
    "print(divisible(200))\n",
    "print(divisible(1000))\n",
    "print(divisible(5050))\n"
   ]
  },
  {
   "cell_type": "code",
   "execution_count": 47,
   "id": "0286853c",
   "metadata": {},
   "outputs": [
    {
     "name": "stdout",
     "output_type": "stream",
     "text": [
      "True\n",
      "False\n"
     ]
    }
   ],
   "source": [
    "# 8.Create a function that takes two strings as arguments and return either True or False depending on whether the total number of characters in the first string is equal to the total number of characters in the second string.\n",
    "#Examples\n",
    "#comp(\"AB\", \"CD\") ➞ True\n",
    "\n",
    "#comp(\"ABC\", \"DE\") ➞ False\n",
    "\n",
    "#comp(\"hello\", \"edabit\") ➞ False\n",
    "\n",
    "\n",
    "def comp(str1,str2):\n",
    "    return len(str1)==len(str2)\n",
    "print(comp(\"abc\",\"abc\"))\n",
    "print(comp(\"hi\",\"bye\"))"
   ]
  },
  {
   "cell_type": "code",
   "execution_count": 49,
   "id": "83cd9901",
   "metadata": {},
   "outputs": [
    {
     "name": "stdout",
     "output_type": "stream",
     "text": [
      "True\n",
      "False\n"
     ]
    }
   ],
   "source": [
    "# 9 Given a string, return True if its length is even or False if the length is odd.\n",
    "# Examples\n",
    "#odd_or_even(\"apples\") ➞ True\n",
    "# The word \"apples\" has 6 characters.\n",
    "# 6 is an even number, so the program outputs True.\n",
    "\n",
    "# odd_or_even(\"pears\") ➞ False\n",
    "# \"pears\" has 5 letters, and 5 is odd.\n",
    "# Therefore the program outputs False.\n",
    "\n",
    "# odd_or_even(\"cherry\") ➞ True\n",
    "\n",
    "\n",
    "def odd_or_even(string):\n",
    "    return len(string)%2==0\n",
    "print(odd_or_even(\"python\"))\n",
    "print(odd_or_even(\"world\"))"
   ]
  },
  {
   "cell_type": "code",
   "execution_count": 2,
   "id": "e6095cdd",
   "metadata": {},
   "outputs": [
    {
     "name": "stdout",
     "output_type": "stream",
     "text": [
      "byebyebye\n",
      "pytpytpyt\n",
      "hi\n"
     ]
    }
   ],
   "source": [
    "# 10. Create a function that takes a string; we'll say that the front is the first three characters of the string. If the string length is less than three characters, the front is whatever is there. Return a new string, which is three copies of the front.\n",
    "#Examples\n",
    "#front3(\"Python\") ➞ \"PytPytPyt\"\n",
    "\n",
    "#front3(\"Cucumber\") ➞ \"CucCucCuc\"\n",
    "\n",
    "\n",
    "def front3(string):\n",
    "    if len(string)<3:\n",
    "         return string*3\n",
    "    else:\n",
    "        return string[0:3]*3\n",
    "print(front3(\"bye\"))\n",
    "print(front3(\"python\"))\n",
    "print(\"hi\")"
   ]
  },
  {
   "cell_type": "code",
   "execution_count": 1,
   "id": "4e4ab506",
   "metadata": {},
   "outputs": [],
   "source": [
    "# 11. Darts is a target game played by throwing feathered darts at a circular board with numbered spaces. Our darts game is the simplest of all games. The score of a single turn is calculated based on the distance from the middle. You need to create a function that takes the dart location as two cartesian coordinates (x, y) and returns a score based on the distance from the middle, aka Bullseye (x=0, y=0).\n",
    "# ●Bullseye and inner circle scores = 10 points\n",
    "# ●Middle ring scores = 5 points\n",
    "# ●Outer ring scores = 1 point\n",
    "# ●Outside the target = 0 points\n",
    "# We play it simple so a dart in the double or treble ring counts as usual and does not affect the segment score.\n",
    "# Board and circle radius is as follows:\n",
    "# ●Board radius and outer circle radius = 10 units\n",
    "# ●Middle circle radius = 5 units\n",
    "# ●Inner circle radius = 1 unit\n",
    "# Short Description\n",
    "# Convert cartesian coordinates (x, y) to polar coordinates (R, phi) and return the score based on the R value. R > 10 gives 0 points, 10 >= R > 5 gives 1 point, 5 >= R > 1 gives 5 points, R <= 1 gives 10 points.\n",
    "# Examples\n",
    "# darts_scoring(0, 0) ➞ 10\n",
    "\n",
    "# darts_scoring(3, 2) ➞ 5\n",
    "\n",
    "# darts_scoring(0, -0.8) ➞ 10\n",
    "\n",
    "\n",
    "def darts(x, y):\n",
    "    result_r= (x ** 2 + y ** 2) ** 0.5\n",
    "    if result_r <= 1:\n",
    "        return 10\n",
    "    elif result_r <= 5:\n",
    "        return 5\n",
    "    elif result_r <= 10:\n",
    "        return 1\n",
    "    else:\n",
    "        return 0"
   ]
  },
  {
   "cell_type": "code",
   "execution_count": 2,
   "id": "835046fd",
   "metadata": {},
   "outputs": [
    {
     "data": {
      "text/plain": [
       "5"
      ]
     },
     "execution_count": 2,
     "metadata": {},
     "output_type": "execute_result"
    }
   ],
   "source": [
    "darts(2,2)"
   ]
  },
  {
   "cell_type": "code",
   "execution_count": 6,
   "id": "28cbabfd",
   "metadata": {},
   "outputs": [
    {
     "name": "stdout",
     "output_type": "stream",
     "text": [
      "False\n",
      "True\n"
     ]
    }
   ],
   "source": [
    "# 12. Write a function that returns True if a year is a leap, otherwise return False.\n",
    "# A year is a \"leap year\" if it lasts 366 days, instead of 365 in a typical year. That extra day is added to the end of the shortest month, creating February 29.\n",
    "# A leap year occurs every four years, and will take place if the year is a multiple of four. The exception to this is a year at the beginning of a century (for example, 1900 or 2000), where the year must be divisible by 400 to be a leap year.\n",
    "# Look at the examples, and if you need help, look at the resources panel.\n",
    "# Examples\n",
    "\n",
    "# leap_year(1990) ➞ False\n",
    "\n",
    "# leap_year(1924) ➞ True\n",
    "\n",
    "# leap_year(2021) ➞ False\n",
    "\n",
    "def leap_year(year):\n",
    "    return year%400==0 or year%100!=0 and year%4==0\n",
    "\n",
    "print(leap_year(1900))\n",
    "print(leap_year(2000))\n"
   ]
  },
  {
   "cell_type": "code",
   "execution_count": 50,
   "id": "7f0de29c",
   "metadata": {},
   "outputs": [
    {
     "name": "stdout",
     "output_type": "stream",
     "text": [
      "True\n",
      "False\n",
      "True\n"
     ]
    }
   ],
   "source": [
    "# 13. Create a function that takes an array of hurdle heights and a jumper's jump height, and determine whether or not the hurdler can clear all the hurdles.\n",
    "# A hurdler can clear a hurdle if their jump height is greater than or equal to the hurdle height.\n",
    "# Examples\n",
    "# hurdle_jump([1, 2, 3, 4, 5], 5) ➞ True\n",
    "\n",
    "# hurdle_jump([5, 5, 3, 4, 5], 3) ➞ False\n",
    "\n",
    "# hurdle_jump([5, 4, 5, 6], 10) ➞ True\n",
    "\n",
    "# hurdle_jump([1, 2, 1], 1) ➞ False\n",
    "\n",
    "def hurdle_jump(hurdle_heights,jumper_height):\n",
    "    for heights in hurdle_heights:\n",
    "        if jumper_height>=heights:\n",
    "            return True\n",
    "        else:\n",
    "            return False\n",
    "    return hurdle_heights==[]\n",
    "print(hurdle_jump([1,2,3,4,5],5))\n",
    "print(hurdle_jump([5, 5, 3, 4, 5],3))\n",
    "print(hurdle_jump([],3))"
   ]
  },
  {
   "cell_type": "code",
   "execution_count": 56,
   "id": "ab71fc03",
   "metadata": {},
   "outputs": [
    {
     "name": "stdout",
     "output_type": "stream",
     "text": [
      "January\n",
      "None\n"
     ]
    }
   ],
   "source": [
    "# 14. Create a function that takes a number (from 1 to 12) and returns its corresponding month name as a string. For example, if you're given 3 as input, your function should return \"March\", because March is the 3rd month.\n",
    "\n",
    "def month_name(num):\n",
    "    months=[\"January\",\"February\",\"March\",\"April\",\"May\",\"June\",\"July\",\"August\",\"September\",\"October\",\"November\",\"December\"]\n",
    "    if 1<=num<=12:\n",
    "        return months[num-1]\n",
    "    else:\n",
    "        return\n",
    "print(month_name(1))\n",
    "print(month_name(13))"
   ]
  },
  {
   "cell_type": "code",
   "execution_count": 57,
   "id": "8160d3b2",
   "metadata": {},
   "outputs": [
    {
     "name": "stdout",
     "output_type": "stream",
     "text": [
      "4\n",
      "1\n",
      "3\n"
     ]
    }
   ],
   "source": [
    "#15 Create a function that takes in a two-dimensional list and returns the number of sub-lists with only identical elements.\n",
    "\n",
    "def identical(lst):\n",
    "    count = 0\n",
    "    for sub_lst in lst:\n",
    "        if len(set(sub_lst)) == 1:\n",
    "            count += 1\n",
    "    return count\n",
    "print(identical([[1], [2], [3], [4]]))           \n",
    "print(identical([[1, 2], [2, 3], [3, 4], [4, 4]]))             \n",
    "print(identical([[True, True, True], [False, False], [True]]))"
   ]
  },
  {
   "cell_type": "code",
   "execution_count": 67,
   "id": "e2b8b615",
   "metadata": {},
   "outputs": [
    {
     "name": "stdout",
     "output_type": "stream",
     "text": [
      "False\n",
      "True\n"
     ]
    }
   ],
   "source": [
    "#16 A bartender is writing a simple program to determine whether he should serve drinks to someone. He only serves drinks to people 18 and older and when he's not on break. Given the person's age, and whether break time is in session, create a function which returns whether he should serve drinks.\n",
    "\n",
    "def should_serve_drinks(age,on_break):\n",
    "    if age>=18 and on_break==False:\n",
    "        return True\n",
    "    else:\n",
    "        return False\n",
    "\n",
    "print(should_serve_drinks(20,True))\n",
    "print(should_serve_drinks(18,False))"
   ]
  },
  {
   "cell_type": "code",
   "execution_count": 68,
   "id": "2bb66635",
   "metadata": {},
   "outputs": [
    {
     "name": "stdout",
     "output_type": "stream",
     "text": [
      "1\n",
      "0\n",
      "0\n",
      "1\n",
      "0\n",
      "1\n",
      "1\n"
     ]
    }
   ],
   "source": [
    "# 17 You will need to write three unfinished logic gates. Continue to write the three logic gates: AND, OR, and NOT.\n",
    "# Examples\n",
    "# AND(1, 1) ➞ 1\n",
    "# AND(0, 0) ➞ 0\n",
    "\n",
    "# OR(1, 0) ➞ 1\n",
    "# OR(1, 1) ➞ 1\n",
    "\n",
    "# NOT(0) ➞ 1\n",
    "# NOT(1) ➞ 0\n",
    "\n",
    "def NOT(num):\n",
    "    return (1 if num==0 else 0)\n",
    "\n",
    "def AND(num,num2):\n",
    "    return (1 if num==1 and num2==1 else 0)\n",
    "\n",
    "def OR(num,num2):\n",
    "    return (1 if num==1 or num2==1 else 0)\n",
    "\n",
    "print(NOT(0))\n",
    "print(NOT(1))\n",
    "print(AND(0,0))\n",
    "print(AND(1,1))\n",
    "print(AND(0,1))\n",
    "print(OR(1,1))\n",
    "print(OR(1,0))"
   ]
  },
  {
   "cell_type": "code",
   "execution_count": 73,
   "id": "ba62a0d4",
   "metadata": {},
   "outputs": [
    {
     "name": "stdout",
     "output_type": "stream",
     "text": [
      "3.77\n",
      "48\n",
      "3.0\n"
     ]
    }
   ],
   "source": [
    "#  18.Write a function that accepts base (decimal), height (decimal) and shape (\"triangle\", \"parallelogram\") as input and calculates the area of that shape.\n",
    "# Examples\n",
    "# area_shape(2, 3, \"triangle\") ➞ 3\n",
    "\n",
    "# area_shape(8, 6, \"parallelogram\") ➞ 48\n",
    "\n",
    "# area_shape(2.9, 1.3, \"parallelogram\") ➞ 3.77\n",
    "\n",
    "\n",
    "def area_shape(base,height,shape):\n",
    "    return 1/2*base*height if shape==\"triangle\" else base*height\n",
    "print(area_shape(2.9,1.3,\"parellelogram\"))\n",
    "print(area_shape(8, 6, \"parallelogram\"))\n",
    "print(area_shape(2, 3, \"triangle\"))"
   ]
  },
  {
   "cell_type": "code",
   "execution_count": 78,
   "id": "ff0631b3",
   "metadata": {},
   "outputs": [
    {
     "name": "stdout",
     "output_type": "stream",
     "text": [
      "False\n",
      "True\n"
     ]
    }
   ],
   "source": [
    "# 19. Create a function that takes a string (a random name). If the last character of the name is an \"n\", return True, otherwise return False.\n",
    "# Examples\n",
    "# is_last_character_n(\"Aiden\") ➞ True\n",
    "\n",
    "# is_last_character_n(\"Piet\") ➞ False\n",
    "\n",
    "# is_last_character_n(\"Bert\") ➞ False\n",
    "\n",
    "# is_last_character_n(\"Dean\") ➞ True\n",
    "\n",
    "\n",
    "def is_last_character_n(string):\n",
    "    return string[-1]==\"n\"\n",
    "print(is_last_character_n(\"Piet\"))\n",
    "print(is_last_character_n(\"Aiden\"))"
   ]
  },
  {
   "cell_type": "code",
   "execution_count": 80,
   "id": "50784a4d",
   "metadata": {},
   "outputs": [
    {
     "name": "stdout",
     "output_type": "stream",
     "text": [
      "True\n",
      "False\n"
     ]
    }
   ],
   "source": [
    "# 20. Create a function that takes in a word and determines whether or not it is plural. A plural word is one that ends in \"s\".\n",
    "# Examples\n",
    "# is_plural(\"changes\") ➞ True\n",
    "\n",
    "# is_plural(\"change\") ➞ False\n",
    "\n",
    "# is_plural(\"dudes\") ➞ True\n",
    "\n",
    "# is_plural(\"magic\") ➞ False\n",
    "\n",
    "\n",
    "def is_plural(word):\n",
    "    return word[-1]==\"s\"\n",
    "\n",
    "print(is_plural(\"changes\"))\n",
    "print(is_plural(\"change\"))"
   ]
  },
  {
   "cell_type": "code",
   "execution_count": 86,
   "id": "b84228dc",
   "metadata": {},
   "outputs": [
    {
     "name": "stdout",
     "output_type": "stream",
     "text": [
      "even\n",
      "odd\n",
      "even\n",
      "odd\n"
     ]
    }
   ],
   "source": [
    "# 21. Create a function that takes a number as an argument and returns \"even\" for even numbers and \"odd\" for odd numbers.\n",
    "# Examples\n",
    "# isEvenOrOdd(3) ➞ \"odd\"\n",
    "\n",
    "# isEvenOrOdd(146) ➞ \"even\"\n",
    "\n",
    "# isEvenOrOdd(19) ➞ \"odd\"\n",
    "\n",
    "\n",
    "def is_even_or_odd(num):\n",
    "    return (\"even\" if num%2==0 else \"odd\")\n",
    "\n",
    "print(is_even_or_odd(2))\n",
    "print(is_even_or_odd(21))\n",
    "print(is_even_or_odd(450))\n",
    "print(is_even_or_odd(147))"
   ]
  },
  {
   "cell_type": "code",
   "execution_count": null,
   "id": "da20bfa5",
   "metadata": {},
   "outputs": [],
   "source": []
  }
 ],
 "metadata": {
  "kernelspec": {
   "display_name": "Python 3 (ipykernel)",
   "language": "python",
   "name": "python3"
  },
  "language_info": {
   "codemirror_mode": {
    "name": "ipython",
    "version": 3
   },
   "file_extension": ".py",
   "mimetype": "text/x-python",
   "name": "python",
   "nbconvert_exporter": "python",
   "pygments_lexer": "ipython3",
   "version": "3.9.12"
  }
 },
 "nbformat": 4,
 "nbformat_minor": 5
}
