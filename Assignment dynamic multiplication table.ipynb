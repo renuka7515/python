{
 "cells": [
  {
   "cell_type": "code",
   "execution_count": 2,
   "id": "f79c4026",
   "metadata": {},
   "outputs": [
    {
     "name": "stdout",
     "output_type": "stream",
     "text": [
      "what multiplication table you want to display: 2\n",
      "how many values you want to go: 20\n",
      "2*1=2\n",
      "2*2=4\n",
      "2*3=6\n",
      "2*4=8\n",
      "2*5=10\n",
      "2*6=12\n",
      "2*7=14\n",
      "2*8=16\n",
      "2*9=18\n",
      "2*10=20\n",
      "2*11=22\n",
      "2*12=24\n",
      "2*13=26\n",
      "2*14=28\n",
      "2*15=30\n",
      "2*16=32\n",
      "2*17=34\n",
      "2*18=36\n",
      "2*19=38\n",
      "2*20=40\n"
     ]
    }
   ],
   "source": [
    "x=int(input(\"what multiplication table you want to display: \"))\n",
    "v=int(input(\"how many values you want to go: \"))\n",
    "for y in range(1,v+1):\n",
    "    z=x*y\n",
    "    print(\"{}*{}={}\".format(x,y,z))"
   ]
  },
  {
   "cell_type": "code",
   "execution_count": null,
   "id": "bf7e3bf4",
   "metadata": {},
   "outputs": [],
   "source": []
  }
 ],
 "metadata": {
  "kernelspec": {
   "display_name": "Python 3 (ipykernel)",
   "language": "python",
   "name": "python3"
  },
  "language_info": {
   "codemirror_mode": {
    "name": "ipython",
    "version": 3
   },
   "file_extension": ".py",
   "mimetype": "text/x-python",
   "name": "python",
   "nbconvert_exporter": "python",
   "pygments_lexer": "ipython3",
   "version": "3.9.12"
  }
 },
 "nbformat": 4,
 "nbformat_minor": 5
}
