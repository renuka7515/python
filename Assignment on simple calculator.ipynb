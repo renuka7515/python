{
 "cells": [
  {
   "cell_type": "code",
   "execution_count": 1,
   "id": "5f74aca7",
   "metadata": {},
   "outputs": [
    {
     "name": "stdout",
     "output_type": "stream",
     "text": [
      "enter on to start the calculator: on\n",
      "starting your calculator\n",
      "enter a number: 5\n",
      "enter a number: 6\n",
      "enter an operator +,-,*,//,/,%,**: +\n",
      "11.0\n",
      "enter 's' to stop the calculator or 'c' to continue: c\n",
      "enter a number: 5\n",
      "enter a number: 6\n",
      "enter an operator +,-,*,//,/,%,**: *\n",
      "30.0\n",
      "enter 's' to stop the calculator or 'c' to continue: c\n",
      "enter a number: 5\n",
      "enter a number: +\n",
      "can't calculate numbers should be in integer or float \n",
      "enter a number: 5\n",
      "enter a number: 6\n",
      "enter an operator +,-,*,//,/,%,**: //\n",
      "0.0\n",
      "enter 's' to stop the calculator or 'c' to continue: s\n"
     ]
    }
   ],
   "source": [
    "x=input(\"enter on to start the calculator: \")\n",
    "if x==\"on\":\n",
    "    print(\"starting your calculator\")\n",
    "    while x==\"on\":\n",
    "        first_num=input(\"enter a number: \")\n",
    "        second_num=input(\"enter a number: \")\n",
    "        if first_num.isdigit() and second_num.isdigit():\n",
    "            first_num=float(first_num)\n",
    "            second_num=float(second_num)\n",
    "            operator=input(\"enter an operator +,-,*,//,/,%,**: \")\n",
    "            if operator==\"+\":\n",
    "                print(first_num+second_num)\n",
    "            elif operator==\"-\":\n",
    "                print(first_num-second_num)\n",
    "            elif operator==\"*\":\n",
    "                print(first_num*second_num)\n",
    "            elif operator==\"//\":\n",
    "                print(first_num//second_num)\n",
    "            elif operator==\"/\":\n",
    "                print(first_num/second_num)\n",
    "            elif operator==\"%\":\n",
    "                print(first_num%second_num)\n",
    "            elif operator==\"**\":\n",
    "                print(first_num**second_num)\n",
    "            y=input(\"enter 's' to stop the calculator or 'c' to continue: \")\n",
    "            if y==\"s\":\n",
    "                break\n",
    "            else:\n",
    "                continue   \n",
    "        else:\n",
    "            print(\"can't calculate numbers should be in integer or float \")\n",
    "else:\n",
    "    print(\"couldn't on calculator\")\n",
    "    "
   ]
  },
  {
   "cell_type": "code",
   "execution_count": 2,
   "id": "2e73bdde",
   "metadata": {},
   "outputs": [
    {
     "name": "stdout",
     "output_type": "stream",
     "text": [
      "enter on to start the calculator: p\n",
      "couldn't on calculator\n"
     ]
    }
   ],
   "source": [
    "x=input(\"enter on to start the calculator: \")\n",
    "if x==\"on\":\n",
    "    print(\"starting your calculator\")\n",
    "    while x==\"on\":\n",
    "        first_num=input(\"enter a number: \")\n",
    "        second_num=input(\"enter a number: \")\n",
    "        if first_num.isdigit() and second_num.isdigit():\n",
    "            first_num=float(first_num)\n",
    "            second_num=float(second_num)\n",
    "            operator=input(\"enter an operator +,-,*,//,/,%,**: \")\n",
    "            if operator==\"+\":\n",
    "                print(first_num+second_num)\n",
    "            elif operator==\"-\":\n",
    "                print(first_num-second_num)\n",
    "            elif operator==\"*\":\n",
    "                print(first_num*second_num)\n",
    "            elif operator==\"//\":\n",
    "                print(first_num//second_num)\n",
    "            elif operator==\"/\":\n",
    "                print(first_num/second_num)\n",
    "            elif operator==\"%\":\n",
    "                print(first_num%second_num)\n",
    "            elif operator==\"**\":\n",
    "                print(first_num**second_num)\n",
    "            y=input(\"enter 's' to stop the calculator or 'c' to continue: \")\n",
    "            if y==\"s\":\n",
    "                break\n",
    "            else:\n",
    "                continue   \n",
    "        else:\n",
    "            print(\"can't calculate numbers should be in integer or float \")\n",
    "else:\n",
    "    print(\"couldn't on calculator\")\n",
    "    "
   ]
  },
  {
   "cell_type": "code",
   "execution_count": null,
   "id": "5dad6c74",
   "metadata": {},
   "outputs": [],
   "source": []
  }
 ],
 "metadata": {
  "kernelspec": {
   "display_name": "Python 3 (ipykernel)",
   "language": "python",
   "name": "python3"
  },
  "language_info": {
   "codemirror_mode": {
    "name": "ipython",
    "version": 3
   },
   "file_extension": ".py",
   "mimetype": "text/x-python",
   "name": "python",
   "nbconvert_exporter": "python",
   "pygments_lexer": "ipython3",
   "version": "3.9.12"
  }
 },
 "nbformat": 4,
 "nbformat_minor": 5
}
