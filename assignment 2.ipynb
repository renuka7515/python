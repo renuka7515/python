{
 "cells": [
  {
   "cell_type": "code",
   "execution_count": 5,
   "id": "34da4114",
   "metadata": {},
   "outputs": [
    {
     "name": "stdout",
     "output_type": "stream",
     "text": [
      "enter 1st number: 6\n",
      "enter 2nd number: 6\n",
      "multiplication:6.0*6.0=36.0\n",
      "division:6.0/6.0=1.0\n"
     ]
    }
   ],
   "source": [
    "# 1) Write a program to accept two numbers from the user and calculate multiplication, division\n",
    "x=float(input(\"enter 1st number: \"))\n",
    "y=float(input (\"enter 2nd number: \"))\n",
    "multiplication=x*y\n",
    "division=x/y\n",
    "print(\"multiplication:{}*{}={}\".format(x,y,multiplication))\n",
    "print(\"division:{}/{}={}\".format(x,y,division))"
   ]
  },
  {
   "cell_type": "code",
   "execution_count": 12,
   "id": "2073eeec",
   "metadata": {},
   "outputs": [
    {
     "name": "stdout",
     "output_type": "stream",
     "text": [
      "enter a string: hello\n",
      "h l o "
     ]
    }
   ],
   "source": [
    "# 2) Write a python program to print the characters from a string that are present at an even index\n",
    "x=input(\"enter a string: \")\n",
    "for y in range(len(x)):\n",
    "    if y%2==0:\n",
    "        print(x[y],end=\" \")    "
   ]
  },
  {
   "cell_type": "code",
   "execution_count": 13,
   "id": "98f90f29",
   "metadata": {},
   "outputs": [
    {
     "name": "stdout",
     "output_type": "stream",
     "text": [
      "enter a string: hello\n",
      "e l "
     ]
    }
   ],
   "source": [
    "# 3) Write a python program to print the characters from a string that are present at an odd index\n",
    "x=input(\"enter a string: \")\n",
    "for y in range(len(x)):\n",
    "    if y%2!=0:\n",
    "        print(x[y],end=\" \")  "
   ]
  },
  {
   "cell_type": "code",
   "execution_count": 11,
   "id": "a78ba6f8",
   "metadata": {},
   "outputs": [
    {
     "name": "stdout",
     "output_type": "stream",
     "text": [
      "enter a number: 2\n",
      "enter a number: 2\n",
      "sum:2.0+2.0=4.0\n",
      "enter a number: 6\n",
      "enter a number: 9\n",
      "differene:6.0-9.0=-3.0\n"
     ]
    }
   ],
   "source": [
    "# 4) Write a python program which will print the sum of the two numbers if the two numbers are even or it will print the \n",
    "# difference of two numbers\n",
    "x=0\n",
    "while x<=1:\n",
    "    num1=float(input(\"enter a number: \"))\n",
    "    num2=float(input(\"enter a number: \"))\n",
    "    if num1%2==0 and num2%2==0:\n",
    "        sum1=num1+num2\n",
    "        print(\"sum:{}+{}={}\".format(num1,num2,sum1))\n",
    "    else:\n",
    "        diff=num1-num2\n",
    "        print(\"differene:{}-{}={}\".format(num1,num2,diff))\n",
    "    x=x+1"
   ]
  },
  {
   "cell_type": "code",
   "execution_count": 21,
   "id": "b21ce4a3",
   "metadata": {},
   "outputs": [
    {
     "name": "stdout",
     "output_type": "stream",
     "text": [
      "enter a string: renuka\n",
      "ReNuKa\n"
     ]
    }
   ],
   "source": [
    "# 5) Write a python program to convert all even indexed alphabets to upper and odd indexed char\n",
    "x=input(\"enter a string: \")\n",
    "y=\"\"\n",
    "for z in range(len(x)):\n",
    "    if z%2==0:\n",
    "        y+=x[z].upper()\n",
    "    else:\n",
    "        y+=x[z].lower()\n",
    "print(y)"
   ]
  },
  {
   "cell_type": "code",
   "execution_count": 10,
   "id": "81ae44be",
   "metadata": {},
   "outputs": [
    {
     "name": "stdout",
     "output_type": "stream",
     "text": [
      "enter a number: 5\n",
      "True\n",
      "enter a number: 9\n",
      "False\n"
     ]
    }
   ],
   "source": [
    "# 6) Write a python program which will print True if the input number is divisible by 5 or else False\n",
    "y=0\n",
    "while y<=1:\n",
    "    x=float(input(\"enter a number: \"))\n",
    "    if x%5==0:\n",
    "        print(True)\n",
    "    else:\n",
    "        print(False)\n",
    "    y=y+1"
   ]
  },
  {
   "cell_type": "code",
   "execution_count": 12,
   "id": "504a4741",
   "metadata": {},
   "outputs": [
    {
     "name": "stdout",
     "output_type": "stream",
     "text": [
      "enter a number: 60\n",
      "enter a number: 50\n",
      "product:60*50=3000\n",
      "enter a number: 6\n",
      "enter a number: 80\n",
      "sum:6+80=86\n",
      "enter a number: 65\n",
      "enter a number: 35\n",
      "product:65*35=2275\n"
     ]
    }
   ],
   "source": [
    "# 7) Given two integer numbers return their product only if the product is greater than 1000, else return their sum\n",
    "x=0\n",
    "while x<=2:\n",
    "    num1=int(input(\"enter a number: \"))\n",
    "    num2=int(input(\"enter a number: \"))\n",
    "    product=num1*num2\n",
    "    sum1=num1+num2\n",
    "    if product>1000:\n",
    "        print(\"product:{}*{}={}\".format(num1,num2,product))\n",
    "    else:\n",
    "        print(\"sum:{}+{}={}\".format(num1,num2,sum1))\n",
    "    x=x+1"
   ]
  },
  {
   "cell_type": "code",
   "execution_count": 5,
   "id": "29fd9146",
   "metadata": {},
   "outputs": [
    {
     "name": "stdout",
     "output_type": "stream",
     "text": [
      "enter a string: hello\n",
      "enter a string: world\n",
      "hwlrod\n"
     ]
    }
   ],
   "source": [
    "# 8) Given two strings x, y writes a program to return a new string made of x and y’s first, middle, and last characters\n",
    "x=input(\"enter a string: \")\n",
    "y=input(\"enter a string: \")\n",
    "z=x[0]+y[0]+x[len(x)//2]+y[len(y)//2]+x[-1]+y[-1]\n",
    "print(z)"
   ]
  },
  {
   "cell_type": "code",
   "execution_count": 9,
   "id": "1de6bfcc",
   "metadata": {},
   "outputs": [
    {
     "name": "stdout",
     "output_type": "stream",
     "text": [
      "enter 3 names by giving space: srinu chamu renu\n",
      "name1:- srinu \n",
      "name2:- chamu \n",
      "name3:- renu\n"
     ]
    }
   ],
   "source": [
    "# 9) Write a python program to take three names as input from a user in the single input () function call\n",
    "n=input(\"enter 3 names by giving space: \")\n",
    "for y in range(0,3):\n",
    "    z=n.split(\" \")\n",
    "print(\"name1:-\",z[0],\"\\nname2:-\",z[1],\"\\nname3:-\",z[2])"
   ]
  },
  {
   "cell_type": "code",
   "execution_count": 12,
   "id": "0759f055",
   "metadata": {},
   "outputs": [
    {
     "name": "stdout",
     "output_type": "stream",
     "text": [
      "enter a string: memory\n",
      "me@ory\n"
     ]
    }
   ],
   "source": [
    "# 10) Write a Python program to get a string from a given string where all occurrences of its first char have been \n",
    "# changed to '@', except the first char itself. \n",
    "x=input(\"enter a string: \")\n",
    "y=x[0]\n",
    "for z in range(1,len(x)):\n",
    "    if x[z]==x[0]:\n",
    "        y+=\"@\"\n",
    "    else:\n",
    "        y+=x[z]\n",
    "print(y)       "
   ]
  },
  {
   "cell_type": "code",
   "execution_count": 1,
   "id": "18d33df7",
   "metadata": {},
   "outputs": [
    {
     "name": "stdout",
     "output_type": "stream",
     "text": [
      "enter a string: on\n",
      "on\n",
      "enter a string: sing\n",
      "sly\n",
      "enter a string: play\n",
      "playing\n"
     ]
    }
   ],
   "source": [
    "# 11) Write a Python program to add 'ing' at the end of a given string (string length should be equal to or more than 3). If \n",
    "# the given string already ends with 'ing' then add 'ly' instead. If the string length of the given string is less than 3, \n",
    "# leave it unchanged\n",
    "s=0\n",
    "while s<=2:\n",
    "    x=input(\"enter a string: \")\n",
    "    y=\"\"\n",
    "    if len(x)>=3:\n",
    "        if x[-3:]==\"ing\":\n",
    "            y+=x.replace(\"ing\",\"ly\")\n",
    "            print(y)\n",
    "        else:\n",
    "            y+=x+\"ing\"\n",
    "            print(y)\n",
    "        \n",
    "    if len(x)<3:\n",
    "         print(x)       \n",
    "    s=s+1"
   ]
  },
  {
   "cell_type": "code",
   "execution_count": 6,
   "id": "3d3d100a",
   "metadata": {},
   "outputs": [
    {
     "name": "stdout",
     "output_type": "stream",
     "text": [
      "enter a number: 10\n",
      "enter a number: 6\n",
      "True\n",
      "enter a number: 6\n",
      "enter a number: 4\n",
      "True\n",
      "enter a number: 5\n",
      "enter a number: 5\n",
      "True\n",
      "enter a number: 6\n",
      "enter a number: 6\n",
      "False\n"
     ]
    }
   ],
   "source": [
    "# 12) Write a python program that accepts two inputs num1 and num2 print True if one of them is 10 or if their sum is 10\n",
    "# otherwise print False\n",
    "x=0\n",
    "while x<=3:\n",
    "    num1=float(input(\"enter a number: \"))\n",
    "    num2=float(input(\"enter a number: \"))\n",
    "    sum1=num1+num2\n",
    "    if num1==10 or num2==10 or sum1==10:\n",
    "        print(True)\n",
    "    else:\n",
    "        print(False)\n",
    "    x=x+1"
   ]
  },
  {
   "cell_type": "code",
   "execution_count": 1,
   "id": "26302fb6",
   "metadata": {},
   "outputs": [
    {
     "name": "stdout",
     "output_type": "stream",
     "text": [
      "enter a number: 6\n",
      "enter a number: 3\n",
      "enter a number: 5\n",
      "True\n",
      "enter a number: 1\n",
      "enter a number: 1\n",
      "enter a number: 2\n",
      "False\n"
     ]
    }
   ],
   "source": [
    "# 13) Write a python program that accepts three inputs x, y and z print True if x*y>z otherwise False\n",
    "i=0\n",
    "while i<=1:\n",
    "    x=float(input(\"enter a number: \"))\n",
    "    y=float(input(\"enter a number: \"))\n",
    "    z=float(input(\"enter a number: \"))\n",
    "    product=x*y\n",
    "    if product>z:\n",
    "        print(True)\n",
    "    else:\n",
    "        print(False)\n",
    "    i+=1"
   ]
  },
  {
   "cell_type": "code",
   "execution_count": 2,
   "id": "4fc202d1",
   "metadata": {},
   "outputs": [
    {
     "name": "stdout",
     "output_type": "stream",
     "text": [
      "enter a string: hey\n",
      "enter a string: bye\n",
      "True\n",
      "enter a string: hi\n",
      "enter a string: hello\n",
      "False\n"
     ]
    }
   ],
   "source": [
    "# 14) Write a python program that accepts two strings inputs return True depending on whether the total number of characters \n",
    "# in the first string is equal to the total number of characters in the second string\n",
    "i=0\n",
    "while i<=1:\n",
    "    str1=str(input(\"enter a string: \"))\n",
    "    str2=str(input(\"enter a string: \"))\n",
    "    if len(str1)==len(str2):\n",
    "        print(True)\n",
    "    else:\n",
    "        print(False)\n",
    "    i+=1"
   ]
  },
  {
   "cell_type": "code",
   "execution_count": 2,
   "id": "c53d6379",
   "metadata": {},
   "outputs": [
    {
     "name": "stdout",
     "output_type": "stream",
     "text": [
      "enter a string: hi\n",
      "hihihi\n",
      "enter a string: hello\n",
      "hello\n"
     ]
    }
   ],
   "source": [
    "# 15) Write a python program that takes a string input, we'll say that the front is the first three characters of the string. \n",
    "#If the string length is less than three characters, the front is whatever is there. Return a new string, which is three copies \n",
    "# of the front\n",
    "i=0\n",
    "while i<=1:\n",
    "    x=str(input(\"enter a string: \"))\n",
    "    if len(x)<3:\n",
    "        print(x*3)\n",
    "    else:\n",
    "        print(x)\n",
    "    i+=1"
   ]
  },
  {
   "cell_type": "code",
   "execution_count": 2,
   "id": "6ee50f67",
   "metadata": {},
   "outputs": [
    {
     "name": "stdout",
     "output_type": "stream",
     "text": [
      "enter a word to determine plural or not: flower\n",
      "the word is not plural\n",
      "enter a word to determine plural or not: flowers\n",
      "the word is plural\n"
     ]
    }
   ],
   "source": [
    "# 16) Write a python program that takes in a word and determines whether or not it is plural. A plural word is one that ends \n",
    "# in \"s\".\n",
    "i=0\n",
    "while i<=1:\n",
    "    x=input(\"enter a word to determine plural or not: \")\n",
    "    if x[-1]==\"s\":\n",
    "        print(\"the word is plural\")\n",
    "    else:\n",
    "        print(\"the word is not plural\")\n",
    "    i+=1"
   ]
  },
  {
   "cell_type": "code",
   "execution_count": 1,
   "id": "4678ae9d",
   "metadata": {},
   "outputs": [
    {
     "name": "stdout",
     "output_type": "stream",
     "text": [
      "enter your age: 16\n",
      "enter true to be on break and false to not on break: false\n",
      "should not serve the drink\n",
      "enter your age: 18\n",
      "enter true to be on break and false to not on break: false\n",
      "should serve the drink\n"
     ]
    }
   ],
   "source": [
    "# 17) A bartender is writing a simple program to determine whether he should serve drinks to someone. He only serves \n",
    "#drinks to people 18 and older and when he's not on break(True means break and False means not a break time). Given \n",
    "#the person's age, and whether break time is in session, create a python program which prints whether he should serve \n",
    "#drinks or not.\n",
    "i=0\n",
    "while i<=1:\n",
    "    x=int(input(\"enter your age: \"))\n",
    "    y=input(\"enter true to be on break and false to not on break: \")\n",
    "    if x>=18 and y==\"false\":\n",
    "        print(\"should serve the drink\")\n",
    "    else:\n",
    "        print(\"should not serve the drink\")\n",
    "    i+=1"
   ]
  },
  {
   "cell_type": "code",
   "execution_count": 6,
   "id": "a938c383",
   "metadata": {},
   "outputs": [
    {
     "name": "stdout",
     "output_type": "stream",
     "text": [
      "enter person name:letha\n",
      "letha is your mother\n"
     ]
    }
   ],
   "source": [
    "# 18) Manoj Kumar has family and friends. Help him remind them who is who. Given a string with a name, return the \n",
    "#relation of that person to Manoj Kumar.\n",
    "person=\"shiva,letha,tarun,kavitha\"\n",
    "x=input(\"enter person name:\")\n",
    "if x==person[0:5]:\n",
    "    print(x,\"is your father\")\n",
    "elif x==person[6:11]:\n",
    "    print(x,\"is your mother\")\n",
    "elif x==person[12:16]:\n",
    "    print(x,\"is your brother\")\n",
    "else:\n",
    "    print(x,\"is your sister\")\n"
   ]
  },
  {
   "cell_type": "code",
   "execution_count": 7,
   "id": "532ecef5",
   "metadata": {},
   "outputs": [
    {
     "name": "stdout",
     "output_type": "stream",
     "text": [
      "Give a string: renuka sri\n",
      "euairnk sr\n"
     ]
    }
   ],
   "source": [
    "# 19) Write a python program that takes a string, breaks it up and returns it with vowels first, consonants second. For any \n",
    "#character that's not a vowel (like special characters or spaces), treat them like consonants\n",
    "x=input(\"Give a string: \")\n",
    "a=\"\"\n",
    "b=\"\"\n",
    "for z in range(0,len(x)):\n",
    "    if x[z]==\"a\" or x[z]==\"e\" or x[z]==\"i\" or x[z]==\"o\" or x[z]==\"u\" or x[z]==\"A\" or x[z]==\"E\" or x[z]==\"I\" or x[z]==\"O\" or x[z]==\"U\":\n",
    "        a+=x[z]\n",
    "    else:\n",
    "        b+=x[z]\n",
    "print(a+b)"
   ]
  },
  {
   "cell_type": "code",
   "execution_count": 8,
   "id": "090471ca",
   "metadata": {},
   "outputs": [
    {
     "name": "stdout",
     "output_type": "stream",
     "text": [
      "enter on to start the calculator: on\n",
      "starting your calulator\n",
      "enter a number: 6\n",
      "enter a number: 12\n",
      "enter an operator +,-,*,//,/,%,**: +\n",
      "18\n",
      "enter 's' to stop the calulator or 'c' to continue: s\n"
     ]
    }
   ],
   "source": [
    "# 20) Create a dynamic calculator which asks for numbers and operator and return the answers\n",
    "x=input(\"enter on to start the calculator: \")\n",
    "if x==\"on\":\n",
    "    print(\"starting your calulator\")\n",
    "    while x==\"on\":\n",
    "        first_num=int(input(\"enter a number: \"))\n",
    "        second_num=int(input(\"enter a number: \"))\n",
    "        operator=input(\"enter an operator +,-,*,//,/,%,**: \")\n",
    "        if operator==\"+\":\n",
    "            print(first_num+second_num)\n",
    "        elif operator==\"-\":\n",
    "            print(first_num-second_num)\n",
    "        elif operator==\"*\":\n",
    "            print(first_num*second_num)\n",
    "        elif operator==\"//\":\n",
    "            print(first_num//second_num)\n",
    "        elif operator==\"/\":\n",
    "            print(first_num/second_num)\n",
    "        elif operator==\"%\":\n",
    "            print(first_num%second_num)\n",
    "        elif operator==\"**\":\n",
    "            print(first_num**second_num)\n",
    "        y=input(\"enter 's' to stop the calulator or 'c' to continue: \")\n",
    "        if y==\"s\":\n",
    "            break\n",
    "        else:\n",
    "            continue   \n",
    "else:\n",
    "    print(\"couldn't on calculator\")"
   ]
  },
  {
   "cell_type": "code",
   "execution_count": null,
   "id": "da1723e7",
   "metadata": {},
   "outputs": [],
   "source": []
  }
 ],
 "metadata": {
  "kernelspec": {
   "display_name": "Python 3 (ipykernel)",
   "language": "python",
   "name": "python3"
  },
  "language_info": {
   "codemirror_mode": {
    "name": "ipython",
    "version": 3
   },
   "file_extension": ".py",
   "mimetype": "text/x-python",
   "name": "python",
   "nbconvert_exporter": "python",
   "pygments_lexer": "ipython3",
   "version": "3.9.12"
  }
 },
 "nbformat": 4,
 "nbformat_minor": 5
}
