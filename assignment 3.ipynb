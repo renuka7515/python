{
 "cells": [
  {
   "cell_type": "code",
   "execution_count": 12,
   "id": "0ee2d366",
   "metadata": {},
   "outputs": [
    {
     "name": "stdout",
     "output_type": "stream",
     "text": [
      "0\n",
      "1\n",
      "2\n",
      "4\n",
      "5\n"
     ]
    }
   ],
   "source": [
    "# 1) Write a Python program that prints all the numbers from 0 to 6 except 3 and 6\n",
    "for y in range(0,7):\n",
    "    if y%3==0 and y!=0:\n",
    "        continue\n",
    "    else:\n",
    "        print(y)\n",
    "        "
   ]
  },
  {
   "cell_type": "code",
   "execution_count": 15,
   "id": "bf0b1ef5",
   "metadata": {},
   "outputs": [
    {
     "name": "stdout",
     "output_type": "stream",
     "text": [
      "enter a number: 6\n",
      "21\n"
     ]
    }
   ],
   "source": [
    "# 2) Write a program to accept a number from a user and calculate the sum of all numbers from 1 to a given number\n",
    "num=int(input(\"enter a number: \"))\n",
    "x=0\n",
    "for y in range(0,num+1):\n",
    "    x+=y\n",
    "print(x)"
   ]
  },
  {
   "cell_type": "code",
   "execution_count": 18,
   "id": "e488b17d",
   "metadata": {},
   "outputs": [
    {
     "name": "stdout",
     "output_type": "stream",
     "text": [
      "what multiplication table you want to display: 2\n",
      "2*1=2\n",
      "2*2=4\n",
      "2*3=6\n",
      "2*4=8\n",
      "2*5=10\n",
      "2*6=12\n",
      "2*7=14\n",
      "2*8=16\n",
      "2*9=18\n",
      "2*10=20\n"
     ]
    }
   ],
   "source": [
    "# 3) Write a program to print multiplication table of a given number(input)\n",
    "x=int(input(\"what multiplication table you want to display: \"))\n",
    "for y in range(1,11):\n",
    "    z=x*y\n",
    "    print(\"{}*{}={}\".format(x,y,z))\n"
   ]
  },
  {
   "cell_type": "code",
   "execution_count": 25,
   "id": "c159321b",
   "metadata": {},
   "outputs": [
    {
     "name": "stdout",
     "output_type": "stream",
     "text": [
      "enter a digit:5656\n",
      "4\n"
     ]
    }
   ],
   "source": [
    "# 4) Write a program to count the total number of digits in a number using a while loop\n",
    "x=input(\"enter a digit:\")\n",
    "y=0\n",
    "while y<len(x):\n",
    "    y=y+1\n",
    "print(y)"
   ]
  },
  {
   "cell_type": "code",
   "execution_count": null,
   "id": "5de2b574",
   "metadata": {},
   "outputs": [
    {
     "name": "stdout",
     "output_type": "stream",
     "text": [
      " guess a number: 6\n",
      "try again\n",
      " guess a number: 300\n",
      "try again\n",
      " guess a number: 1\n",
      "try again\n",
      " guess a number: 0\n",
      "well guessed\n",
      " guess a number: 100\n",
      "try again\n"
     ]
    }
   ],
   "source": [
    "# 5) Write a Python program to guess a number between 1 to  #\n",
    "for x in range(0,100):\n",
    "    s=0\n",
    "    while s>=x or s>=x+1:\n",
    "        y=int(input(\" guess a number: \"))\n",
    "        s+=1\n",
    "        if y==x:\n",
    "            y+=x\n",
    "            print(\"well guessed\")\n",
    "        else:\n",
    "            print(\"try again\")"
   ]
  },
  {
   "cell_type": "code",
   "execution_count": 1,
   "id": "299f0dc7",
   "metadata": {},
   "outputs": [
    {
     "name": "stdout",
     "output_type": "stream",
     "text": [
      "1\n",
      "2\n",
      "Fizz\n",
      "4\n",
      "Buzz\n",
      "Fizz\n",
      "7\n",
      "8\n",
      "Fizz\n",
      "Buzz\n",
      "11\n",
      "Fizz\n",
      "13\n",
      "14\n",
      "FizzBuzz\n",
      "16\n",
      "17\n",
      "Fizz\n",
      "19\n",
      "Buzz\n",
      "Fizz\n",
      "22\n",
      "23\n",
      "Fizz\n",
      "Buzz\n",
      "26\n",
      "Fizz\n",
      "28\n",
      "29\n",
      "FizzBuzz\n",
      "31\n",
      "32\n",
      "Fizz\n",
      "34\n",
      "Buzz\n",
      "Fizz\n",
      "37\n",
      "38\n",
      "Fizz\n",
      "Buzz\n",
      "41\n",
      "Fizz\n",
      "43\n",
      "44\n",
      "FizzBuzz\n",
      "46\n",
      "47\n",
      "Fizz\n",
      "49\n",
      "Buzz\n",
      "Fizz\n",
      "52\n",
      "53\n",
      "Fizz\n",
      "Buzz\n",
      "56\n",
      "Fizz\n",
      "58\n",
      "59\n",
      "FizzBuzz\n"
     ]
    }
   ],
   "source": [
    "# 6) Write a Python program which iterates the integers from 1 to 60. For multiples of three print \"Fizz\" instead of the\n",
    "# number and for the multiples of five print \"Buzz\". For numbers which are multiples of both three and five print \"FizzBuzz\".\n",
    "for x in range(1,61):\n",
    "    if x%3==0 and x%5==0:\n",
    "        print(\"FizzBuzz\")\n",
    "    elif x%3==0:\n",
    "        print(\"Fizz\")\n",
    "    elif x%5==0:\n",
    "        print(\"Buzz\")\n",
    "    else: \n",
    "        print(x)"
   ]
  },
  {
   "cell_type": "code",
   "execution_count": 3,
   "id": "0315888f",
   "metadata": {},
   "outputs": [
    {
     "name": "stdout",
     "output_type": "stream",
     "text": [
      "enter a string: hello7515\n",
      "digits:  5 \n",
      "letters:  4\n"
     ]
    }
   ],
   "source": [
    "# 7) Write a Python program that accepts a string and calculate the number of digits and letters\n",
    "x=input(\"enter a string: \")\n",
    "l=0\n",
    "n=0\n",
    "for y in range(0,len(x)):\n",
    "    if x[y].isalpha():\n",
    "        l+=1\n",
    "    else:\n",
    "        x[y].isdigit()\n",
    "        n+=1\n",
    "print(\"digits: \",l,\"\\nletters: \",n)"
   ]
  },
  {
   "cell_type": "code",
   "execution_count": 11,
   "id": "de6a720d",
   "metadata": {},
   "outputs": [
    {
     "name": "stdout",
     "output_type": "stream",
     "text": [
      "Password: renuka@7515\n",
      "Valid Password\n"
     ]
    }
   ],
   "source": [
    "# 8) Write a Python program to check the validity of password input by users.\n",
    "x=input(\"Password: \")\n",
    "a=\"\"\n",
    "for y in range(0,len(x)):\n",
    "    if x[y].isalpha() and x[y].isupper() and x[y].isdigit and x[y]==\"$\" or x[y]==\"#\" or x[y]==\"@\":\n",
    "        a+=1\n",
    "    else:\n",
    "        break\n",
    "if 6<=len(x)<=16:\n",
    "        print(\"Valid Password\")    \n",
    "else:\n",
    "    print(\"Invalid Password\")"
   ]
  },
  {
   "cell_type": "code",
   "execution_count": 14,
   "id": "84bc004d",
   "metadata": {},
   "outputs": [
    {
     "name": "stdout",
     "output_type": "stream",
     "text": [
      "enter  a string: tea\n",
      "aet\n"
     ]
    }
   ],
   "source": [
    "# 9) Write a program in Python to reverse a word by using while loop\n",
    "x=input(\"enter  a string: \")\n",
    "y=\"\"\n",
    "z=1\n",
    "while z<len(x)+1:\n",
    "    y+=x[-z]\n",
    "    z+=1\n",
    "print(y)"
   ]
  },
  {
   "cell_type": "code",
   "execution_count": 3,
   "id": "bf36f1ca",
   "metadata": {},
   "outputs": [
    {
     "name": "stdout",
     "output_type": "stream",
     "text": [
      "enter a Number:1\n",
      "enter a Number:2\n",
      "enter a Number:3\n",
      "enter a Number:5\n",
      "enter a Number:9\n",
      "enter a Number:4\n",
      "enter a Number:8\n",
      "enter a Number:4\n",
      "enter a Number:14\n",
      "enter a Number:65\n",
      "Average:  11.5\n"
     ]
    }
   ],
   "source": [
    "# 10) Write a program which takes 10 integers as input using loop and print their average value on the screen\n",
    "a=0\n",
    "for x in range(0,10):\n",
    "    y=int(input(\"enter a Number:\"))\n",
    "    a+=y/10\n",
    "print(\"Average: \",a)"
   ]
  },
  {
   "cell_type": "code",
   "execution_count": 2,
   "id": "b036665b",
   "metadata": {},
   "outputs": [
    {
     "name": "stdout",
     "output_type": "stream",
     "text": [
      "enter a number: 3\n",
      "enter q to quit or enter n to continue: n\n",
      "enter a number: 1\n",
      "enter q to quit or enter n to continue: q\n",
      "avg: 2.0 \n",
      " product: 3\n"
     ]
    }
   ],
   "source": [
    "# 11) Write a program which takes integer inputs from user until he/she presses “q” (Ask to press q to quit after every integer \n",
    "#input). Print average and product of all numbers.\n",
    "a=0\n",
    "b=1\n",
    "x=0\n",
    "while x>=0:\n",
    "    y=int(input(\"enter a number: \"))\n",
    "    a+=y/y\n",
    "    b*=y\n",
    "    z=input(\"enter q to quit or enter n to continue: \")\n",
    "    if z==\"q\":\n",
    "        break\n",
    "    else:\n",
    "        continue\n",
    "    x+=1\n",
    "print(\"avg:\",a,\"\\n product:\",b)"
   ]
  },
  {
   "cell_type": "code",
   "execution_count": 4,
   "id": "d3b6b8ee",
   "metadata": {},
   "outputs": [
    {
     "name": "stdout",
     "output_type": "stream",
     "text": [
      "enter a string: r@e.j25#4$oi%ce\n",
      "rejoice\n"
     ]
    }
   ],
   "source": [
    "# 12) Write a Python program which will remove all digits or any other characters from the string except alphabets\n",
    "x=input(\"enter a string: \")\n",
    "b=\"\"\n",
    "for y in range(0,len(x)):\n",
    "    if x[y].isalpha():\n",
    "        b+=x[y]\n",
    "    else:\n",
    "        continue\n",
    "print(b)"
   ]
  },
  {
   "cell_type": "code",
   "execution_count": 6,
   "id": "69085031",
   "metadata": {},
   "outputs": [
    {
     "name": "stdout",
     "output_type": "stream",
     "text": [
      "sum 30\n"
     ]
    }
   ],
   "source": [
    "# 13) Write a python program to find the sum of all even numbers from 0 to 10\n",
    "x=0\n",
    "for y in range(0,11):\n",
    "    if y%2==0:\n",
    "        x+=y\n",
    "    else:\n",
    "        continue\n",
    "print(\"sum\",x)"
   ]
  },
  {
   "cell_type": "code",
   "execution_count": 10,
   "id": "d76e8c76",
   "metadata": {},
   "outputs": [
    {
     "name": "stdout",
     "output_type": "stream",
     "text": [
      "Give a number:6\n",
      "5\n",
      "4\n",
      "3\n",
      "2\n",
      "1\n",
      "0\n"
     ]
    }
   ],
   "source": [
    "# 14) Write a python program which will accept a digit and print All the numbers before it till 0\n",
    "x=int(input(\"Give a number:\"))\n",
    "for y in range(x-1,-1,-1):\n",
    "    print(y)"
   ]
  },
  {
   "cell_type": "code",
   "execution_count": 11,
   "id": "9c254ff7",
   "metadata": {},
   "outputs": [
    {
     "name": "stdout",
     "output_type": "stream",
     "text": [
      "enter on to start the calculator: on\n",
      "starting your calculator\n",
      "enter a number: 2\n",
      "enter a number: 3\n",
      "enter an operator +,-,*,//,/,%,**: +\n",
      "5.0\n",
      "enter 's' to stop the calculator or 'c' to continue: c\n",
      "enter a number: 9\n",
      "enter a number: 6\n",
      "enter an operator +,-,*,//,/,%,**: *\n",
      "54.0\n",
      "enter 's' to stop the calculator or 'c' to continue: s\n"
     ]
    }
   ],
   "source": [
    "# 15) Create a dynamic calculator which will run continually till you press \"c\"\n",
    "x=input(\"enter on to start the calculator: \")\n",
    "if x==\"on\":\n",
    "    print(\"starting your calculator\")\n",
    "    while x==\"on\":\n",
    "        first_num=input(\"enter a number: \")\n",
    "        second_num=input(\"enter a number: \")\n",
    "        if first_num.isdigit() and second_num.isdigit():\n",
    "            first_num=float(first_num)\n",
    "            second_num=float(second_num)\n",
    "            operator=input(\"enter an operator +,-,*,//,/,%,**: \")\n",
    "            if operator==\"+\":\n",
    "                print(first_num+second_num)\n",
    "            elif operator==\"-\":\n",
    "                print(first_num-second_num)\n",
    "            elif operator==\"*\":\n",
    "                print(first_num*second_num)\n",
    "            elif operator==\"//\":\n",
    "                print(first_num//second_num)\n",
    "            elif operator==\"/\":\n",
    "                print(first_num/second_num)\n",
    "            elif operator==\"%\":\n",
    "                print(first_num%second_num)\n",
    "            elif operator==\"**\":\n",
    "                print(first_num**second_num)\n",
    "            y=input(\"enter 's' to stop the calculator or 'c' to continue: \")\n",
    "            if y==\"s\":\n",
    "                break\n",
    "            else:\n",
    "                continue   \n",
    "        else:\n",
    "            print(\"can't calculate numbers should be in integer or float \")\n",
    "else:\n",
    "    print(\"couldn't on calculator\")\n",
    "    "
   ]
  },
  {
   "cell_type": "code",
   "execution_count": null,
   "id": "7f6589bf",
   "metadata": {},
   "outputs": [],
   "source": []
  }
 ],
 "metadata": {
  "kernelspec": {
   "display_name": "Python 3 (ipykernel)",
   "language": "python",
   "name": "python3"
  },
  "language_info": {
   "codemirror_mode": {
    "name": "ipython",
    "version": 3
   },
   "file_extension": ".py",
   "mimetype": "text/x-python",
   "name": "python",
   "nbconvert_exporter": "python",
   "pygments_lexer": "ipython3",
   "version": "3.9.12"
  }
 },
 "nbformat": 4,
 "nbformat_minor": 5
}
