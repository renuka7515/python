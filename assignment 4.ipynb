{
 "cells": [
  {
   "cell_type": "code",
   "execution_count": 9,
   "id": "b59203c0",
   "metadata": {},
   "outputs": [
    {
     "name": "stdout",
     "output_type": "stream",
     "text": [
      "enter the elements into a list: 123569\n",
      "1\n",
      "2\n",
      "3\n",
      "5\n",
      "6\n",
      "9\n"
     ]
    }
   ],
   "source": [
    "# 1) Write a Python program to loop through all the elements in a list\n",
    "x=list(input(\"enter the elements into a list: \"))\n",
    "for y in x:\n",
    "    print(y)"
   ]
  },
  {
   "cell_type": "code",
   "execution_count": 1,
   "id": "eb455492",
   "metadata": {},
   "outputs": [
    {
     "name": "stdout",
     "output_type": "stream",
     "text": [
      "type the length of the list:4\n",
      "enter the data type which is int,float,string,complex: int\n",
      "enter the elements1\n",
      "enter the data type which is int,float,string,complex: float\n",
      "enter the elements1.1\n",
      "enter the data type which is int,float,string,complex: string\n",
      "enter the elementsabc\n",
      "enter the data type which is int,float,string,complex: complex\n",
      "enter the elements2+3j\n",
      "[1, 1.1, 'abc', '2+3j']\n"
     ]
    }
   ],
   "source": [
    "# 2) Write a Python program where you will ask the users to insert elements in a list\n",
    "l=[]\n",
    "length=int(input(\"type the length of the list:\"))\n",
    "for x in range(0,length):\n",
    "    data_type=input(\"enter the data type which is int,float,string,complex: \")\n",
    "    \n",
    "    if data_type==\"int\":\n",
    "        l.append(int(input(\"enter the elements\")))\n",
    "    elif data_type==\"float\":\n",
    "        l.append(float(input(\"enter the elements\")))\n",
    "    elif data_type==\"string\":\n",
    "        l.append(str(input(\"enter the elements\")))\n",
    "    else:\n",
    "        l.append(input(\"enter the elements\"))         \n",
    "print(l)"
   ]
  },
  {
   "cell_type": "code",
   "execution_count": 21,
   "id": "148adf55",
   "metadata": {},
   "outputs": [
    {
     "name": "stdout",
     "output_type": "stream",
     "text": [
      "[1, 3, 5, 7]\n"
     ]
    }
   ],
   "source": [
    "# 3) Write a Python program to remove all the odd index value from a list and only even index elements should remain\n",
    "l=[]\n",
    "x=[1,2,3,4,5,6,7,8]\n",
    "for y in range(0,len(x)):\n",
    "    if y%2==0:\n",
    "        l.append(x[y])\n",
    "    else:\n",
    "        continue\n",
    "print(l)"
   ]
  },
  {
   "cell_type": "code",
   "execution_count": 12,
   "id": "65fe56d6",
   "metadata": {},
   "outputs": [
    {
     "name": "stdout",
     "output_type": "stream",
     "text": [
      "enter the size of the list: 4\n",
      "enter the element: 1\n",
      "enter the element: 2\n",
      "enter the element: 3\n",
      "enter the element: 4\n",
      "10\n",
      "24\n"
     ]
    }
   ],
   "source": [
    "# 4) Write a Python program to sum and multiply all the items in a list\n",
    "x=[]\n",
    "y=int(input(\"enter the size of the list: \"))\n",
    "for z in range(0,y):\n",
    "    e=int(input(\"enter the element: \"))\n",
    "    x.append(e)\n",
    "sum1=0\n",
    "prod=1\n",
    "for w in x:\n",
    "    sum1+=w\n",
    "    prod*=w\n",
    "print(sum1)\n",
    "print(prod)"
   ]
  },
  {
   "cell_type": "code",
   "execution_count": 1,
   "id": "45e01615",
   "metadata": {},
   "outputs": [
    {
     "name": "stdout",
     "output_type": "stream",
     "text": [
      "enter the size of the list: 4\n",
      "enter the element: 1\n",
      "enter the element: 61\n",
      "enter the element: 87\n",
      "enter the element: 2\n",
      "min value 1\n",
      "max value 87\n"
     ]
    }
   ],
   "source": [
    "# 5) Write a Python program to get the maximum and minimum numbers from a list\n",
    "x=[]\n",
    "y=int(input(\"enter the size of the list: \"))\n",
    "for z in range(0,y):\n",
    "    e=int(input(\"enter the element: \"))\n",
    "    x.append(e)\n",
    "x.sort()\n",
    "x\n",
    "minimum=x[0]\n",
    "maximum=x[-1]\n",
    "print(\"min value\",minimum)\n",
    "print(\"max value\",maximum)"
   ]
  },
  {
   "cell_type": "code",
   "execution_count": 9,
   "id": "1b87f55f",
   "metadata": {},
   "outputs": [
    {
     "name": "stdout",
     "output_type": "stream",
     "text": [
      "enter the size of the list greater than 6: 6\n",
      "enter the element: 1\n",
      "enter the element: 2\n",
      "enter the element: 3\n",
      "enter the element: 4\n",
      "enter the element: 5\n",
      "enter the element: 6\n",
      "[2, 3, 4]\n"
     ]
    }
   ],
   "source": [
    "# 6) Write a Python program to print a specified list after removing the 0th, 4th and 5th elements.\n",
    "\n",
    "x=[]\n",
    "m=[]\n",
    "y=int(input(\"enter the size of the list greater than 6: \"))\n",
    "for z in range(0,y):\n",
    "    e=int(input(\"enter the element: \"))\n",
    "    x.append(e)\n",
    "for i in range(y):\n",
    "    if i==0 or i==4 or i==5:\n",
    "        continue\n",
    "    else:\n",
    "         m.append(x[i])\n",
    "print(m)"
   ]
  },
  {
   "cell_type": "code",
   "execution_count": 1,
   "id": "a5c611d8",
   "metadata": {},
   "outputs": [
    {
     "name": "stdout",
     "output_type": "stream",
     "text": [
      "enter the size of the list: 5\n",
      "enter the characters: a\n",
      "enter the characters: b\n",
      "enter the characters: c\n",
      "enter the characters: d\n",
      "enter the characters: e\n",
      "abcde\n"
     ]
    },
    {
     "data": {
      "text/plain": [
       "str"
      ]
     },
     "execution_count": 1,
     "metadata": {},
     "output_type": "execute_result"
    }
   ],
   "source": [
    "# 7) Write a Python program to convert a list of characters into a string\n",
    "x=[]\n",
    "y=int(input(\"enter the size of the list: \"))\n",
    "for z in range(0,y):\n",
    "    e=str(input(\"enter the characters: \"))\n",
    "    x.append(e)\n",
    "x\n",
    "s=\"\"\n",
    "for i in x:\n",
    "    s+=i\n",
    "print(s)\n",
    "type(s)"
   ]
  },
  {
   "cell_type": "code",
   "execution_count": 8,
   "id": "cef4abef",
   "metadata": {},
   "outputs": [
    {
     "name": "stdout",
     "output_type": "stream",
     "text": [
      "enter the size of the list: 5\n",
      "enter the elements: 1\n",
      "enter the elements: 2\n",
      "enter the elements: 3\n",
      "enter the elements: 4\n",
      "enter the elements: 5\n",
      "15\n",
      "3.0\n"
     ]
    }
   ],
   "source": [
    "# 8) Write a Python program to compute average of given lists.\n",
    "x=[]\n",
    "y=int(input(\"enter the size of the list: \"))\n",
    "for z in range(0,y):\n",
    "    e=int(input(\"enter the elements: \"))\n",
    "    x.append(e)\n",
    "sum1=0\n",
    "for i in x:\n",
    "    sum1+=i\n",
    "print(sum1)\n",
    "avg=sum1/y\n",
    "print(avg)"
   ]
  },
  {
   "cell_type": "code",
   "execution_count": 1,
   "id": "bdbf1fca",
   "metadata": {},
   "outputs": [
    {
     "name": "stdout",
     "output_type": "stream",
     "text": [
      "type the length of the list:5\n",
      "enter the data type which is int,float,string,complex: int\n",
      "enter the elements1\n",
      "enter the data type which is int,float,string,complex: string\n",
      "enter the elementsa\n",
      "enter the data type which is int,float,string,complex: int\n",
      "enter the elements6\n",
      "enter the data type which is int,float,string,complex: float\n",
      "enter the elements2.3\n",
      "enter the data type which is int,float,string,complex: int\n",
      "enter the elements98\n",
      "[1, 'a', 6, 2.3, 98]\n",
      "number of integers in a list:  3\n"
     ]
    }
   ],
   "source": [
    "# 9) Write a Python program to count integer in a given mixed list.\n",
    "l=[]\n",
    "z=0\n",
    "length=int(input(\"type the length of the list:\"))\n",
    "for x in range(0,length):\n",
    "    data_type=input(\"enter the data type which is int,float,string,complex: \")\n",
    "    \n",
    "    if data_type==\"int\":\n",
    "        l.append(int(input(\"enter the elements\")))\n",
    "        z+=1\n",
    "    elif data_type==\"float\":\n",
    "        l.append(float(input(\"enter the elements\")))\n",
    "    elif data_type==\"string\":\n",
    "        l.append(str(input(\"enter the elements\")))\n",
    "    else:\n",
    "        l.append(input(\"enter the elements\"))         \n",
    "print(l)\n",
    "print(\"number of integers in a list: \",z)"
   ]
  },
  {
   "cell_type": "code",
   "execution_count": 2,
   "id": "c0098c3f",
   "metadata": {},
   "outputs": [
    {
     "name": "stdout",
     "output_type": "stream",
     "text": [
      "enter the size of the list: 5\n",
      "enter the element: 1\n",
      "enter the element: 2\n",
      "enter the element: 3\n",
      "enter the element: 4\n",
      "enter the element: 5\n",
      "[1, 2, 3, 4, 5]\n"
     ]
    },
    {
     "data": {
      "text/plain": [
       "[5, 4, 3, 2, 1]"
      ]
     },
     "execution_count": 2,
     "metadata": {},
     "output_type": "execute_result"
    }
   ],
   "source": [
    "# 10) Write a Python program to reverse the list \n",
    "x=[]\n",
    "y=int(input(\"enter the size of the list: \"))\n",
    "for z in range(0,y):\n",
    "    e=int(input(\"enter the element: \"))\n",
    "    x.append(e)\n",
    "print(x)\n",
    "x.reverse()\n",
    "x"
   ]
  },
  {
   "cell_type": "code",
   "execution_count": 5,
   "id": "d495b2a2",
   "metadata": {},
   "outputs": [
    {
     "name": "stdout",
     "output_type": "stream",
     "text": [
      "enter a string:hello123\n"
     ]
    },
    {
     "data": {
      "text/plain": [
       "('h', 'e', 'l', 'l', 'o', '1', '2', '3')"
      ]
     },
     "execution_count": 5,
     "metadata": {},
     "output_type": "execute_result"
    }
   ],
   "source": [
    "# 11) Write a Python program convert a given string to a tuple\n",
    "x=str(input(\"enter a string:\"))\n",
    "tuple(x)"
   ]
  },
  {
   "cell_type": "code",
   "execution_count": null,
   "id": "44459914",
   "metadata": {},
   "outputs": [],
   "source": []
  }
 ],
 "metadata": {
  "kernelspec": {
   "display_name": "Python 3 (ipykernel)",
   "language": "python",
   "name": "python3"
  },
  "language_info": {
   "codemirror_mode": {
    "name": "ipython",
    "version": 3
   },
   "file_extension": ".py",
   "mimetype": "text/x-python",
   "name": "python",
   "nbconvert_exporter": "python",
   "pygments_lexer": "ipython3",
   "version": "3.9.12"
  }
 },
 "nbformat": 4,
 "nbformat_minor": 5
}
