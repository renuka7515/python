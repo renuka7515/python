{
 "cells": [
  {
   "cell_type": "code",
   "execution_count": 3,
   "id": "b4c54166",
   "metadata": {},
   "outputs": [
    {
     "data": {
      "text/plain": [
       "[1, 2, 3, 4, 7, 8, 9]"
      ]
     },
     "execution_count": 3,
     "metadata": {},
     "output_type": "execute_result"
    }
   ],
   "source": [
    "# 1) Given a list of numbers, write a python program that returns a new list which Has all duplicate elements removed. \n",
    "# And is sorted in an increasing order\n",
    "l=[2,1,3,4,2,3,3,2,7,9,8,7]\n",
    "for y in l:\n",
    "    if l.count(y)>1:\n",
    "        l.remove(y)\n",
    "    else:\n",
    "        continue\n",
    "l.sort()\n",
    "l"
   ]
  },
  {
   "cell_type": "code",
   "execution_count": 4,
   "id": "a3f7e8d4",
   "metadata": {},
   "outputs": [
    {
     "name": "stdout",
     "output_type": "stream",
     "text": [
      "1 hi\n",
      "2 hello\n",
      "3 bye\n"
     ]
    }
   ],
   "source": [
    "# 2) Write a Python program where you will iterate over both keys and values in dictionaries\n",
    "dict1={1:\"hi\",2:\"hello\",3:\"bye\"}\n",
    "for key,value in dict1.items():\n",
    "    print(key,value)"
   ]
  },
  {
   "cell_type": "code",
   "execution_count": 3,
   "id": "37ebdac3",
   "metadata": {},
   "outputs": [
    {
     "data": {
      "text/plain": [
       "['anusha', 'lakshman', 'ramya']"
      ]
     },
     "execution_count": 3,
     "metadata": {},
     "output_type": "execute_result"
    }
   ],
   "source": [
    "# 3) Write a Python program that takes a dictionary of student names and returns a list of student names in alphabetical order\n",
    "list1=[]\n",
    "y={\"student 1\":\"ramya\",\"student 2\":\"lakshman\",\"student 3\":\"anusha\"}\n",
    "list1+=y.values()\n",
    "list1.sort()\n",
    "list1"
   ]
  },
  {
   "cell_type": "code",
   "execution_count": 7,
   "id": "acd82273",
   "metadata": {},
   "outputs": [
    {
     "name": "stdout",
     "output_type": "stream",
     "text": [
      "enter a string: 12302106\n",
      "[True, False, True, False]\n"
     ]
    }
   ],
   "source": [
    "# 4) Write a Python which returns a new list of Booleans, from a given number. Iterating  \n",
    "#   through the number one digit at a time, append True if the digit is 1 and False if it is 0.\n",
    "a=[]\n",
    "x=input(\"enter a string: \")\n",
    "z=list(x)\n",
    "for y in range(len(x)):\n",
    "    if z[y]==\"0\":\n",
    "        a+=[False]\n",
    "    elif z[y]==\"1\":\n",
    "        a+=[True]\n",
    "    else:\n",
    "        continue\n",
    "print(a)"
   ]
  },
  {
   "cell_type": "code",
   "execution_count": 8,
   "id": "1e1c9a2f",
   "metadata": {},
   "outputs": [
    {
     "name": "stdout",
     "output_type": "stream",
     "text": [
      "enter the string: hello world\n",
      "{'h': 1, 'e': 1, 'l': 3, 'o': 2, 'w': 1, 'r': 1, 'd': 1}\n"
     ]
    }
   ],
   "source": [
    "# 5) Write a Python program where you will return a dictionary where the keys will be the character and the values \n",
    "# will be the occurrence of the character in the string, and it should for any string inputs (dynamic)\n",
    "d={}\n",
    "z=input(\"enter the string: \")\n",
    "for x in z:\n",
    "    if x==\" \":\n",
    "        continue\n",
    "    else:\n",
    "        d.update({x:z.count(x)})\n",
    "print(d)"
   ]
  },
  {
   "cell_type": "code",
   "execution_count": 9,
   "id": "fe7b7d9e",
   "metadata": {},
   "outputs": [
    {
     "name": "stdout",
     "output_type": "stream",
     "text": [
      "Oldest person is Ackes whoes age is 45\n"
     ]
    }
   ],
   "source": [
    "# 6) Given a dictionary containing the names and ages of a group of people, return the name of the oldest person\n",
    "x={\"Tmma\": 41, \"Ackes\": 45, \"myna\": 15, \"Benthon\": 29}\n",
    "max1=0\n",
    "for y in x.values():\n",
    "    if y>max1:\n",
    "        max1=y\n",
    "    else:\n",
    "        continue\n",
    "for s in x:\n",
    "    if max1==x[s]:\n",
    "        print(\"Oldest person is\",s,\"whoes age is\",max1)"
   ]
  },
  {
   "cell_type": "code",
   "execution_count": 11,
   "id": "d4a347c4",
   "metadata": {},
   "outputs": [
    {
     "name": "stdout",
     "output_type": "stream",
     "text": [
      "Start the game yes or no: yes\n",
      "a:Rock,Paper or Scissors: rock\n",
      "b:Rock,Paper or Scissors: rock\n",
      "Tie\n",
      "Do you want to play again yes or no: yes\n",
      "a:Rock,Paper or Scissors: paper\n",
      "b:Rock,Paper or Scissors: scissors\n",
      "b is the winner\n",
      "Do you want to play again yes or no: no\n"
     ]
    }
   ],
   "source": [
    "# 7) Write a Python program to create a Rock, Paper, Scissor game, use two inputs for two players:\n",
    "# Conditions: -Rock beats Scissors, Scissors beats Paper, Paper beats Rock\n",
    "s=input(\"Start the game yes or no: \")\n",
    "while s==\"yes\":\n",
    "    a=input(\"a:Rock,Paper or Scissors: \")\n",
    "    b=input(\"b:Rock,Paper or Scissors: \")\n",
    "    if a==\"rock\" and b==\"scissors\" or a==\"scissors\" and b==\"paper\" or a==\"paper\" and b==\"rock\":\n",
    "        print(\"a is the winner\")\n",
    "        l=input(\"Do you want to play again yes or no: \")\n",
    "    elif a==\"rock\" and b==\"rock\" or a==\"scissors\" and b==\"scissors\" or a==\"paper\" and b==\"paper\":\n",
    "        print(\"Tie\")\n",
    "        l=input(\"Do you want to play again yes or no: \")\n",
    "    else:\n",
    "        print(\"b is the winner\")\n",
    "        l=input(\"Do you want to play again yes or no: \")\n",
    "    if l==\"yes\":\n",
    "        continue\n",
    "    else:\n",
    "        break"
   ]
  },
  {
   "cell_type": "code",
   "execution_count": 15,
   "id": "ed7497df",
   "metadata": {},
   "outputs": [
    {
     "name": "stdout",
     "output_type": "stream",
     "text": [
      "Enter the money you have in wallet: 100\n",
      "Your wallet balance:  100\n",
      "['water bottles', 'Chips']\n"
     ]
    }
   ],
   "source": [
    "# 8) Create a program that returns a list of items that you can afford in the store with the money you have in your wallet. \n",
    "# Create a dictionary with items as key and price as values\n",
    "store={\"water bottles\":20,\"Chips\":10,\"Iphone\":49000,\"towel\":90,\"pens\":58,\"cake\":400}\n",
    "wallet=int(input(\"Enter the money you have in wallet: \"))\n",
    "s=0;l=[]\n",
    "for x,y in store.items():\n",
    "    s+=y\n",
    "    if s<wallet:\n",
    "        l.append(x)\n",
    "print(\"Your wallet balance: \",wallet)\n",
    "print(l)"
   ]
  },
  {
   "cell_type": "code",
   "execution_count": 17,
   "id": "57bc4746",
   "metadata": {},
   "outputs": [
    {
     "name": "stdout",
     "output_type": "stream",
     "text": [
      "Enter the length of set1 4\n",
      "Enter a value: 1\n",
      "Enter a value: 2\n",
      "Enter a value: 3\n",
      "Enter a value: 4\n",
      "Enter the length of set2 4\n",
      "Enter a value: 56\n",
      "Enter a value: 6\n",
      "Enter a value: 4\n",
      "Enter a value: 8\n",
      "{'1', '6', '4', '3', '56', '8', '2'}\n"
     ]
    }
   ],
   "source": [
    "# 9) Write a Python program to create a union of sets\n",
    "set1=set();set2=set()\n",
    "a=int(input(\"Enter the length of set1 \"))\n",
    "for x in range(0,a):\n",
    "    p=input(\"Enter a value: \")\n",
    "    set1.add(p)\n",
    "b=int(input(\"Enter the length of set2 \"))\n",
    "for y in range(0,b):\n",
    "    q=input(\"Enter a value: \")\n",
    "    set2.add(q)\n",
    "print(set1.union(set2))"
   ]
  },
  {
   "cell_type": "code",
   "execution_count": 18,
   "id": "1004af48",
   "metadata": {},
   "outputs": [
    {
     "name": "stdout",
     "output_type": "stream",
     "text": [
      "Enter the length of the set: 5\n",
      "Enter a value: abc\n",
      "Enter a value: 5\n",
      "Enter a value: jk\n",
      "Enter a value: 5\n",
      "Enter a value: 6\n",
      "\n",
      "Enter the value you want to check: 9\n",
      "9 not found.\n"
     ]
    }
   ],
   "source": [
    "# 10) Write a Python program to check if a given value is present in a set or not (Dynamic)\n",
    "set1=set()\n",
    "a=int(input(\"Enter the length of the set: \"))\n",
    "for x in range(0,a):\n",
    "    p=input(\"Enter a value: \")\n",
    "    set1.update(p)\n",
    "b=input(\"\\nEnter the value you want to check: \")\n",
    "if b in set1:\n",
    "    print(b,\"is presnt.\")\n",
    "else:\n",
    "    print(b,\"not found.\")"
   ]
  },
  {
   "cell_type": "code",
   "execution_count": 20,
   "id": "dcb14922",
   "metadata": {},
   "outputs": [
    {
     "name": "stdout",
     "output_type": "stream",
     "text": [
      "Enter a string: Cat dog dog cat horse dog dog mouse horse dog mouse tiger lion tiger  cat mouse snail\n",
      "{'dog': 5, 'mouse': 3, 'cat': 2}\n"
     ]
    }
   ],
   "source": [
    "# 11) Write a Python program to find the occurrences of 3 most common words in a given text. And make it as a dictionaries\n",
    "x=input(\"Enter a string: \")\n",
    "l=x.split()\n",
    "a=0;b=0;c=0;d={};a1=\"\";b1=\"\";c1=\"\"\n",
    "for x in l:\n",
    "    if l.count(x)>a:\n",
    "        a=l.count(x)\n",
    "        a1=x\n",
    "for x in range(1,a):\n",
    "    l.remove(a1)\n",
    "for y in l:\n",
    "    if l.count(y)>b:\n",
    "        b=l.count(y)\n",
    "        b1=y\n",
    "for y in range(1,b):\n",
    "    l.remove(b1)\n",
    "for z in l:\n",
    "    if l.count(z)>c:\n",
    "        c=l.count(z)\n",
    "        c1=z\n",
    "d.update({a1:a,b1:b,c1:c})\n",
    "print(d)"
   ]
  },
  {
   "cell_type": "code",
   "execution_count": 23,
   "id": "3831ab58",
   "metadata": {},
   "outputs": [
    {
     "name": "stdout",
     "output_type": "stream",
     "text": [
      "Enter the length of the dictionary: 4\n",
      "Enter the subject: Telugu\n",
      "Enter the marks: 85\n",
      "Enter the subject: Hindi\n",
      "Enter the marks: 90\n",
      "Enter the subject: English\n",
      "Enter the marks: 95\n",
      "Enter the subject: Maths\n",
      "Enter the marks: 90\n",
      "{'Telugu': 85, 'Hindi': 90, 'English': 95, 'Maths': 90}\n"
     ]
    }
   ],
   "source": [
    "# 12) Write a Python program that accepts name of given subject and mark, and make subjects as keys in dictionaries and \n",
    "#marks as values and print the final dictionary with subjects and marks\n",
    "d={}\n",
    "l=int(input(\"Enter the length of the dictionary: \"))\n",
    "for z in range(0,l):\n",
    "    k=input(\"Enter the subject: \")\n",
    "    v=int(input(\"Enter the marks: \"))\n",
    "    d.update({k:v})\n",
    "#print(\"Subject:\",\"\\tMarks:\\n\")\n",
    "#for x,y in d.items():\n",
    "    #print(x,\"\\t\\t\",y)\n",
    "print(d)"
   ]
  },
  {
   "cell_type": "code",
   "execution_count": null,
   "id": "b10b2bb6",
   "metadata": {},
   "outputs": [],
   "source": []
  }
 ],
 "metadata": {
  "kernelspec": {
   "display_name": "Python 3 (ipykernel)",
   "language": "python",
   "name": "python3"
  },
  "language_info": {
   "codemirror_mode": {
    "name": "ipython",
    "version": 3
   },
   "file_extension": ".py",
   "mimetype": "text/x-python",
   "name": "python",
   "nbconvert_exporter": "python",
   "pygments_lexer": "ipython3",
   "version": "3.9.12"
  }
 },
 "nbformat": 4,
 "nbformat_minor": 5
}
