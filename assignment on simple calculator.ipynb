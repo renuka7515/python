{
 "cells": [
  {
   "cell_type": "code",
   "execution_count": 3,
   "id": "cc66c530",
   "metadata": {},
   "outputs": [
    {
     "name": "stdout",
     "output_type": "stream",
     "text": [
      "enter on to start the calculator: on\n",
      "starting your calculator\n",
      "enter a number: 5\n",
      "enter a number: 6\n",
      "enter an operator +,-,*,//,/,%,**: +\n",
      "11\n",
      "enter 's' to stop the calculator or 'c' to continue: c\n",
      "enter a number: 8\n",
      "enter a number: 8\n",
      "enter an operator +,-,*,//,/,%,**: *\n",
      "64\n",
      "enter 's' to stop the calculator or 'c' to continue: s\n"
     ]
    }
   ],
   "source": [
    "x=input(\"enter on to start the calculator: \")\n",
    "if x==\"on\":\n",
    "    print(\"starting your calculator\")\n",
    "    while x==\"on\":\n",
    "        first_num=int(input(\"enter a number: \"))\n",
    "        second_num=int(input(\"enter a number: \"))\n",
    "        operator=input(\"enter an operator +,-,*,//,/,%,**: \")\n",
    "        if operator==\"+\":\n",
    "            print(first_num+second_num)\n",
    "        elif operator==\"-\":\n",
    "            print(first_num-second_num)\n",
    "        elif operator==\"*\":\n",
    "            print(first_num*second_num)\n",
    "        elif operator==\"//\":\n",
    "            print(first_num//second_num)\n",
    "        elif operator==\"/\":\n",
    "            print(first_num/second_num)\n",
    "        elif operator==\"%\":\n",
    "            print(first_num%second_num)\n",
    "        elif operator==\"**\":\n",
    "            print(first_num**second_num)\n",
    "        y=input(\"enter 's' to stop the calculator or 'c' to continue: \")\n",
    "        if y==\"s\":\n",
    "            break\n",
    "        else:\n",
    "            continue   \n",
    "else:\n",
    "    print(\"couldn't on calculator\")"
   ]
  },
  {
   "cell_type": "code",
   "execution_count": null,
   "id": "a6b3294e",
   "metadata": {},
   "outputs": [],
   "source": []
  },
  {
   "cell_type": "code",
   "execution_count": null,
   "id": "df611419",
   "metadata": {},
   "outputs": [],
   "source": []
  }
 ],
 "metadata": {
  "kernelspec": {
   "display_name": "Python 3 (ipykernel)",
   "language": "python",
   "name": "python3"
  },
  "language_info": {
   "codemirror_mode": {
    "name": "ipython",
    "version": 3
   },
   "file_extension": ".py",
   "mimetype": "text/x-python",
   "name": "python",
   "nbconvert_exporter": "python",
   "pygments_lexer": "ipython3",
   "version": "3.9.12"
  }
 },
 "nbformat": 4,
 "nbformat_minor": 5
}
