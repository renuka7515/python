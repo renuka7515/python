{
 "cells": [
  {
   "cell_type": "markdown",
   "id": "f8adafb5",
   "metadata": {},
   "source": [
    "1. Luke, I Am Your ...\n",
    "Luke Skywalker has family and friends. Help him remind them who is who. Given a string with a name, return the relation of that person to Luke.\n",
    "\n",
    "Person\tRelation\n",
    "Darth Vader\tfather\n",
    "Leia\tsister\n",
    "Han\tbrother in law\n",
    "R2D2\tdroid\n",
    "Examples\n",
    "relation_to_luke(\"Darth Vader\") ➞ \"Luke, I am your father.\"\n",
    "\n",
    "relation_to_luke(\"Leia\") ➞ \"Luke, I am your sister.\"\n",
    "\n",
    "relation_to_luke(\"Han\") ➞ \"Luke, I am your brother in law.\"\n",
    "Notes\n",
    "N/A"
   ]
  },
  {
   "cell_type": "code",
   "execution_count": 5,
   "id": "0b95b7e1",
   "metadata": {},
   "outputs": [],
   "source": [
    "def relation_to_luke(name):\n",
    "    if name== \"Darth Vader\":\n",
    "        return \"luke,I am your father.\"\n",
    "    elif name== \"Leia\":\n",
    "        return \"Luke, I am your sister.\"\n",
    "    elif name==\"Han\":\n",
    "        return \"Luke, I am your brother in law.\"\n",
    "    elif name==\"R2D2\":\n",
    "        return \"Luke, I am your droid.\"\n",
    "    else:\n",
    "        return \"Not your Relate\""
   ]
  },
  {
   "cell_type": "code",
   "execution_count": 2,
   "id": "5fc24e0c",
   "metadata": {},
   "outputs": [
    {
     "data": {
      "text/plain": [
       "'luke,I am your father.'"
      ]
     },
     "execution_count": 2,
     "metadata": {},
     "output_type": "execute_result"
    }
   ],
   "source": [
    "relation_to_luke(\"Darth Vader\")"
   ]
  },
  {
   "cell_type": "code",
   "execution_count": 4,
   "id": "c4f8d94d",
   "metadata": {},
   "outputs": [
    {
     "data": {
      "text/plain": [
       "'Luke, I am your sister.'"
      ]
     },
     "execution_count": 4,
     "metadata": {},
     "output_type": "execute_result"
    }
   ],
   "source": [
    "relation_to_luke(\"Leia\")"
   ]
  },
  {
   "cell_type": "code",
   "execution_count": 7,
   "id": "754f313c",
   "metadata": {},
   "outputs": [
    {
     "data": {
      "text/plain": [
       "'Not your Relate'"
      ]
     },
     "execution_count": 7,
     "metadata": {},
     "output_type": "execute_result"
    }
   ],
   "source": [
    "relation_to_luke(\"arth\")"
   ]
  },
  {
   "cell_type": "markdown",
   "id": "63b1f675",
   "metadata": {},
   "source": [
    "2. Calculating Damage\n",
    "Create a function that takes damage and speed (attacks per second) and returns the amount of damage after a given time.\n",
    "\n",
    "Examples\n",
    "damage(40, 5, \"second\") ➞ 200\n",
    "\n",
    "damage(100, 1, \"minute\") ➞ 6000\n",
    "\n",
    "damage(2, 100, \"hour\") ➞ 720000\n",
    "Notes\n",
    "Return \"invalid\" if damage or speed is negative."
   ]
  },
  {
   "cell_type": "code",
   "execution_count": 3,
   "id": "e59088bb",
   "metadata": {},
   "outputs": [],
   "source": [
    "def damage(damage,speed,time):\n",
    "    d=damage*speed\n",
    "    if damage<0 or speed<0:\n",
    "        return \"invalid\"\n",
    "    elif time==\"second\":\n",
    "        return d\n",
    "    elif time==\"minute\":\n",
    "        return d*60\n",
    "    elif time==\"hour\":\n",
    "        return d*3600\n",
    "    else:\n",
    "        return"
   ]
  },
  {
   "cell_type": "code",
   "execution_count": 4,
   "id": "8538d4c3",
   "metadata": {},
   "outputs": [
    {
     "data": {
      "text/plain": [
       "200"
      ]
     },
     "execution_count": 4,
     "metadata": {},
     "output_type": "execute_result"
    }
   ],
   "source": [
    "damage(40,5,\"second\")"
   ]
  },
  {
   "cell_type": "code",
   "execution_count": 6,
   "id": "29e4da3b",
   "metadata": {},
   "outputs": [
    {
     "data": {
      "text/plain": [
       "6000"
      ]
     },
     "execution_count": 6,
     "metadata": {},
     "output_type": "execute_result"
    }
   ],
   "source": [
    "damage(100, 1, \"minute\")"
   ]
  },
  {
   "cell_type": "code",
   "execution_count": 7,
   "id": "e77880ef",
   "metadata": {},
   "outputs": [
    {
     "data": {
      "text/plain": [
       "'invalid'"
      ]
     },
     "execution_count": 7,
     "metadata": {},
     "output_type": "execute_result"
    }
   ],
   "source": [
    "damage(100, -1, \"minute\")"
   ]
  },
  {
   "cell_type": "markdown",
   "id": "89e32eef",
   "metadata": {},
   "source": [
    "3.Same Parity?\n",
    "Create a function that takes a number as input and returns True if the sum of its digits has the same parity as the entire number. Otherwise, return False.\n",
    "\n",
    "Examples\n",
    "parity_analysis(243) ➞ True\n",
    "#243 is odd and so is 9 (2 + 4 + 3)\n",
    "\n",
    "parity_analysis(12) ➞ False\n",
    "#12 is even but 3 is odd (1 + 2)\n",
    "\n",
    "parity_analysis(3) ➞ True\n",
    "#3 is odd and 3 is odd and 3 is odd (3)\n",
    "Notes\n",
    "Parity is whether a number is even or odd. If the sum of the digits is even and the number itself is even, return True. The same goes if the number is odd and so is the sum of its digits.\n",
    "Single digits will obviously have the same parities (see example #3)."
   ]
  },
  {
   "cell_type": "code",
   "execution_count": 4,
   "id": "c78d65d8",
   "metadata": {},
   "outputs": [],
   "source": [
    "def adding(num):\n",
    "    ans=0 \n",
    "    while num>0:\n",
    "        r=num%10\n",
    "        ans=ans+r\n",
    "        num=num//10\n",
    "    #return ans\n",
    "    if num%2==0 and ans%2==0:\n",
    "        return True\n",
    "    elif num%2==0 and ans%2==0:\n",
    "        return True\n",
    "    else:\n",
    "        return False"
   ]
  },
  {
   "cell_type": "code",
   "execution_count": 5,
   "id": "679dfcd4",
   "metadata": {},
   "outputs": [
    {
     "data": {
      "text/plain": [
       "True"
      ]
     },
     "execution_count": 5,
     "metadata": {},
     "output_type": "execute_result"
    }
   ],
   "source": [
    "adding(123)"
   ]
  },
  {
   "cell_type": "code",
   "execution_count": 7,
   "id": "ef6fec00",
   "metadata": {},
   "outputs": [
    {
     "data": {
      "text/plain": [
       "False"
      ]
     },
     "execution_count": 7,
     "metadata": {},
     "output_type": "execute_result"
    }
   ],
   "source": [
    "adding(12)"
   ]
  },
  {
   "cell_type": "markdown",
   "id": "67349194",
   "metadata": {},
   "source": [
    "4.Xs and Os, Nobody Knows\n",
    "Create a function that takes a string, checks if it has the same number of \"x\"s and \"o\"s and returns either True or False.\n",
    "\n",
    "Return a boolean value (True or False).\n",
    "Return True if the amount of x's and o's are the same.\n",
    "Return False if they aren't the same amount.\n",
    "The string can contain any character.\n",
    "When \"x\" and \"o\" are not in the string, return True.\n",
    "Examples\n",
    "XO(\"ooxx\") ➞ True\n",
    "\n",
    "XO(\"xooxx\") ➞ False\n",
    "\n",
    "XO(\"ooxXm\") ➞ True\n",
    "#Case insensitive.\n",
    "\n",
    "XO(\"zpzpzpp\") ➞ True\n",
    "#Returns True if no x and o.\n",
    "\n",
    "XO(\"zzoo\") ➞ False\n",
    "Notes\n",
    "Remember to return True if there aren't any x's or o's.\n",
    "Must be case insensitive."
   ]
  },
  {
   "cell_type": "code",
   "execution_count": 8,
   "id": "cbac96e8",
   "metadata": {},
   "outputs": [],
   "source": [
    "def XO(string):\n",
    "    x_count=0\n",
    "    o_count=0\n",
    "    for char in string:\n",
    "        if char.lower()==\"x\":\n",
    "            x_count+=1\n",
    "        elif char.lower()==\"o\":\n",
    "            o_count+=1\n",
    "    return x_count==o_count"
   ]
  },
  {
   "cell_type": "code",
   "execution_count": 10,
   "id": "2cc450b0",
   "metadata": {},
   "outputs": [
    {
     "data": {
      "text/plain": [
       "False"
      ]
     },
     "execution_count": 10,
     "metadata": {},
     "output_type": "execute_result"
    }
   ],
   "source": [
    "XO(\"xoxx\")"
   ]
  },
  {
   "cell_type": "code",
   "execution_count": 11,
   "id": "d45cc31f",
   "metadata": {},
   "outputs": [
    {
     "data": {
      "text/plain": [
       "True"
      ]
     },
     "execution_count": 11,
     "metadata": {},
     "output_type": "execute_result"
    }
   ],
   "source": [
    "XO(\"ooxXm\")"
   ]
  },
  {
   "cell_type": "code",
   "execution_count": 12,
   "id": "677a52d9",
   "metadata": {},
   "outputs": [
    {
     "data": {
      "text/plain": [
       "True"
      ]
     },
     "execution_count": 12,
     "metadata": {},
     "output_type": "execute_result"
    }
   ],
   "source": [
    "XO(\"zpzpzpp\") "
   ]
  },
  {
   "cell_type": "markdown",
   "id": "4dda9786",
   "metadata": {},
   "source": [
    "5.Flip the Boolean\n",
    "Create a function that reverses a boolean value and returns the string \"boolean expected\" if another variable type is given.\n",
    "\n",
    "Examples\n",
    "reverse(True) ➞ False\n",
    "\n",
    "reverse(False) ➞ True\n",
    "\n",
    "reverse(0) ➞ \"boolean expected\"\n",
    "\n",
    "reverse(None) ➞ \"boolean expected\"\n",
    "Notes\n",
    "Don't forget to return the result.\n",
    "If you get stuck on a challenge, find help in the Resources tab.\n",
    "If you're really stuck, unlock solutions in the Solutions tab."
   ]
  },
  {
   "cell_type": "code",
   "execution_count": 13,
   "id": "d7aef874",
   "metadata": {},
   "outputs": [],
   "source": [
    "def reverse(boolean):\n",
    "    if type(boolean) is not bool:\n",
    "        return \"boolean expected\"\n",
    "    return not boolean"
   ]
  },
  {
   "cell_type": "code",
   "execution_count": 14,
   "id": "523c27f1",
   "metadata": {},
   "outputs": [
    {
     "data": {
      "text/plain": [
       "False"
      ]
     },
     "execution_count": 14,
     "metadata": {},
     "output_type": "execute_result"
    }
   ],
   "source": [
    "reverse(True)"
   ]
  },
  {
   "cell_type": "code",
   "execution_count": 15,
   "id": "ede4b4e8",
   "metadata": {},
   "outputs": [
    {
     "data": {
      "text/plain": [
       "True"
      ]
     },
     "execution_count": 15,
     "metadata": {},
     "output_type": "execute_result"
    }
   ],
   "source": [
    "reverse(False)"
   ]
  },
  {
   "cell_type": "code",
   "execution_count": 16,
   "id": "4c1de789",
   "metadata": {},
   "outputs": [
    {
     "data": {
      "text/plain": [
       "'boolean expected'"
      ]
     },
     "execution_count": 16,
     "metadata": {},
     "output_type": "execute_result"
    }
   ],
   "source": [
    "reverse(0)"
   ]
  },
  {
   "cell_type": "markdown",
   "id": "3920c456",
   "metadata": {},
   "source": [
    "6.Even Number Generator\n",
    "Using list comprehensions, create a function that finds all even numbers from 1 to the given number.\n",
    "\n",
    "Examples\n",
    "find_even_nums(8) ➞ [2, 4, 6, 8]\n",
    "\n",
    "find_even_nums(4) ➞ [2, 4]\n",
    "\n",
    "find_even_nums(2) ➞ [2]\n",
    "Try to use list comprehensions in your solution. Here's an example:\n",
    "\n",
    "vals = [expression \n",
    "  for value in collection \n",
    "    if condition]\n",
    "This is equivalent to:\n",
    "\n",
    "vals = []\n",
    "for value in collection:\n",
    "  if condition:\n",
    "    vals.append(expression)\n",
    "Notes\n",
    "Try to use list comprehensions instead of logic.\n",
    "If there are no even numbers, return an empty list."
   ]
  },
  {
   "cell_type": "code",
   "execution_count": 19,
   "id": "0de631aa",
   "metadata": {},
   "outputs": [],
   "source": [
    "def even_numbers(n):\n",
    "    return [i for i in range(1,n+1) if i%2==0]"
   ]
  },
  {
   "cell_type": "code",
   "execution_count": 20,
   "id": "9a7675d1",
   "metadata": {},
   "outputs": [
    {
     "data": {
      "text/plain": [
       "[2, 4]"
      ]
     },
     "execution_count": 20,
     "metadata": {},
     "output_type": "execute_result"
    }
   ],
   "source": [
    "even_numbers(5)"
   ]
  },
  {
   "cell_type": "code",
   "execution_count": 21,
   "id": "d07eaeda",
   "metadata": {},
   "outputs": [
    {
     "data": {
      "text/plain": [
       "[2, 4, 6, 8]"
      ]
     },
     "execution_count": 21,
     "metadata": {},
     "output_type": "execute_result"
    }
   ],
   "source": [
    "even_numbers(8)"
   ]
  },
  {
   "cell_type": "markdown",
   "id": "96d91859",
   "metadata": {},
   "source": [
    "7.Filter Strings from Array\n",
    "Create a function that takes a list of strings and integers, and filters out the list so that it returns a list of integers only.\n",
    "\n",
    "Examples\n",
    "filter_list([1, 2, 3, \"a\", \"b\", 4]) ➞ [1, 2, 3, 4]\n",
    "\n",
    "filter_list([\"A\", 0, \"Edabit\", 1729, \"Python\", \"1729\"]) ➞ [0, 1729]\n",
    "\n",
    "filter_list([\"Nothing\", \"here\"]) ➞ []\n",
    "Notes\n",
    "Don't overthink this one."
   ]
  },
  {
   "cell_type": "code",
   "execution_count": 22,
   "id": "f2913f8e",
   "metadata": {},
   "outputs": [],
   "source": [
    "def filter_list(l):\n",
    "    new_list=[]\n",
    "    for x in l:\n",
    "        if type(x)==int:\n",
    "            new_list.append(x)\n",
    "    return new_list"
   ]
  },
  {
   "cell_type": "code",
   "execution_count": 23,
   "id": "a29e2abe",
   "metadata": {},
   "outputs": [
    {
     "data": {
      "text/plain": [
       "[1, 2, 3, 4]"
      ]
     },
     "execution_count": 23,
     "metadata": {},
     "output_type": "execute_result"
    }
   ],
   "source": [
    "filter_list([1, 2, 3, \"a\", \"b\", 4])"
   ]
  },
  {
   "cell_type": "code",
   "execution_count": 24,
   "id": "b6463b2c",
   "metadata": {},
   "outputs": [
    {
     "data": {
      "text/plain": [
       "[0, 1729]"
      ]
     },
     "execution_count": 24,
     "metadata": {},
     "output_type": "execute_result"
    }
   ],
   "source": [
    "filter_list([\"A\", 0, \"Edabit\", 1729, \"Python\", \"1729\"])"
   ]
  },
  {
   "cell_type": "code",
   "execution_count": 25,
   "id": "f7cb65f0",
   "metadata": {},
   "outputs": [
    {
     "data": {
      "text/plain": [
       "[]"
      ]
     },
     "execution_count": 25,
     "metadata": {},
     "output_type": "execute_result"
    }
   ],
   "source": [
    "filter_list([\"Nothing\", \"here\"])"
   ]
  },
  {
   "cell_type": "markdown",
   "id": "56dafb79",
   "metadata": {},
   "source": [
    "8.Stand in Line\n",
    "Write a function that takes a list and a number as arguments. Add the number to the end of the list, then remove the first element of the list. The function should then return the updated list.\n",
    "\n",
    "Examples\n",
    "next_in_line([5, 6, 7, 8, 9], 1) ➞ [6, 7, 8, 9, 1]\n",
    "\n",
    "next_in_line([7, 6, 3, 23, 17], 10) ➞ [6, 3, 23, 17, 10]\n",
    "\n",
    "next_in_line([1, 10, 20, 42 ], 6) ➞ [10, 20, 42, 6]\n",
    "\n",
    "next_in_line([], 6) ➞ \"No list has been selected\"\n",
    "Notes\n",
    "For an empty list input, return: \"No list has been selected\""
   ]
  },
  {
   "cell_type": "code",
   "execution_count": 31,
   "id": "41f5f2ba",
   "metadata": {},
   "outputs": [],
   "source": [
    "def next_in_line(lst,number):\n",
    "    lst.append(number)\n",
    "    lst.pop(0)\n",
    "    if lst==[]:\n",
    "        return \"no list has been selected\"\n",
    "    return lst"
   ]
  },
  {
   "cell_type": "code",
   "execution_count": 32,
   "id": "2a03eb0e",
   "metadata": {},
   "outputs": [
    {
     "data": {
      "text/plain": [
       "[6, 7, 8, 9, 1]"
      ]
     },
     "execution_count": 32,
     "metadata": {},
     "output_type": "execute_result"
    }
   ],
   "source": [
    "next_in_line([5, 6, 7, 8, 9], 1)"
   ]
  },
  {
   "cell_type": "code",
   "execution_count": 33,
   "id": "e0d971e8",
   "metadata": {},
   "outputs": [
    {
     "data": {
      "text/plain": [
       "[6, 3, 23, 17, 10]"
      ]
     },
     "execution_count": 33,
     "metadata": {},
     "output_type": "execute_result"
    }
   ],
   "source": [
    "next_in_line([7, 6, 3, 23, 17], 10) "
   ]
  },
  {
   "cell_type": "code",
   "execution_count": 34,
   "id": "3968ccba",
   "metadata": {},
   "outputs": [
    {
     "data": {
      "text/plain": [
       "'no list has been selected'"
      ]
     },
     "execution_count": 34,
     "metadata": {},
     "output_type": "execute_result"
    }
   ],
   "source": [
    "next_in_line([], 6)"
   ]
  },
  {
   "cell_type": "markdown",
   "id": "f193c9d3",
   "metadata": {},
   "source": [
    "9.Card Counting (BlackJack)\n",
    "In BlackJack, cards are counted with -1, 0, 1 values:\n",
    "\n",
    "2, 3, 4, 5, 6 are counted as +1\n",
    "7, 8, 9 are counted as 0\n",
    "10, J, Q, K, A are counted as -1\n",
    "Create a function that counts the number and returns it from the list of cards provided.\n",
    "\n",
    "Examples\n",
    "count([5, 9, 10, 3, \"J\", \"A\", 4, 8, 5]) ➞ 1\n",
    "\n",
    "count([\"A\", \"A\", \"K\", \"Q\", \"Q\", \"J\"]) ➞ -6\n",
    "\n",
    "count([\"A\", 5, 5, 2, 6, 2, 3, 8, 9, 7]) ➞ 5\n",
    "Notes\n",
    "String inputs will always be upper case.\n",
    "You do not need to consider case sensitivity.\n",
    "If the argument is empty, return 0.\n",
    "No input other than: 2, 3, 4, 5, 6, 7, 8, 9, 10, \"J\", \"Q\", \"K\", \"A\"."
   ]
  },
  {
   "cell_type": "code",
   "execution_count": 50,
   "id": "37c1cb14",
   "metadata": {},
   "outputs": [],
   "source": [
    "def count_cards(cards):\n",
    "    count=0\n",
    "    for card in cards:\n",
    "        if card in [2,3,4,5,6]:\n",
    "            count+=1\n",
    "        elif card in [10,\"J\",\"Q\",\"K\",\"A\"]:\n",
    "            count-=1\n",
    "        #elif card in [7,8,9]:\n",
    "            #count=0\n",
    "    return count"
   ]
  },
  {
   "cell_type": "code",
   "execution_count": 51,
   "id": "ae558302",
   "metadata": {},
   "outputs": [
    {
     "data": {
      "text/plain": [
       "1"
      ]
     },
     "execution_count": 51,
     "metadata": {},
     "output_type": "execute_result"
    }
   ],
   "source": [
    "count_cards([2, 9, 10, 3, \"J\", \"A\", 4, 8, 5]) "
   ]
  },
  {
   "cell_type": "code",
   "execution_count": 52,
   "id": "1b90d525",
   "metadata": {},
   "outputs": [
    {
     "data": {
      "text/plain": [
       "-6"
      ]
     },
     "execution_count": 52,
     "metadata": {},
     "output_type": "execute_result"
    }
   ],
   "source": [
    "count_cards([\"A\", \"A\", \"K\", \"Q\", \"Q\", \"J\"]) "
   ]
  },
  {
   "cell_type": "code",
   "execution_count": 53,
   "id": "504bee3b",
   "metadata": {},
   "outputs": [
    {
     "data": {
      "text/plain": [
       "5"
      ]
     },
     "execution_count": 53,
     "metadata": {},
     "output_type": "execute_result"
    }
   ],
   "source": [
    "count_cards([\"A\", 5, 5, 2, 6, 2, 3, 8, 9, 7])"
   ]
  },
  {
   "cell_type": "markdown",
   "id": "fe330d92",
   "metadata": {},
   "source": [
    "10.Western Showdown\n",
    "Wild Roger is participating in a Western Showdown, meaning he has to draw (pull out and shoot) his gun faster than his opponent in a gun standoff.\n",
    "\n",
    "Given two strings,p1 and p2, return which person drew their gun the fastest. If both are drawn at the same time, return \"tie\".\n",
    "\n",
    "Examples\n",
    "showdown(\n",
    "  \"   Bang!        \",\n",
    "  \"        Bang!   \"\n",
    ") ➞ \"p1\"\n",
    "\n",
    "#p1 draws his gun sooner than p2\n",
    "\n",
    "showdown(\n",
    "  \"               Bang! \",\n",
    "  \"             Bang!   \"\n",
    ") ➞ \"p2\"\n",
    "\n",
    "showdown(\n",
    "  \"     Bang!   \",\n",
    "  \"     Bang!   \"\n",
    ") ➞ \"tie\"\n",
    "Notes\n",
    "Both strings are the same length."
   ]
  },
  {
   "cell_type": "code",
   "execution_count": 45,
   "id": "cf114345",
   "metadata": {},
   "outputs": [],
   "source": [
    "def showdown(p1,p2):\n",
    "    if p1.index(\"B\")<p2.index(\"B\"):\n",
    "        return \"p1\"\n",
    "    elif p1.index(\"B\")>p2.index(\"B\"):\n",
    "        return \"p2\"\n",
    "    else:\n",
    "        return 'tie'"
   ]
  },
  {
   "cell_type": "code",
   "execution_count": 46,
   "id": "a71f7803",
   "metadata": {},
   "outputs": [
    {
     "data": {
      "text/plain": [
       "'tie'"
      ]
     },
     "execution_count": 46,
     "metadata": {},
     "output_type": "execute_result"
    }
   ],
   "source": [
    "showdown( \" Bang! \", \" Bang! \" ) "
   ]
  },
  {
   "cell_type": "code",
   "execution_count": 48,
   "id": "31a64496",
   "metadata": {},
   "outputs": [
    {
     "data": {
      "text/plain": [
       "'p2'"
      ]
     },
     "execution_count": 48,
     "metadata": {},
     "output_type": "execute_result"
    }
   ],
   "source": [
    "showdown(\"  Bang!\",\"Bang!\")"
   ]
  },
  {
   "cell_type": "code",
   "execution_count": 49,
   "id": "c428d127",
   "metadata": {},
   "outputs": [
    {
     "data": {
      "text/plain": [
       "'p1'"
      ]
     },
     "execution_count": 49,
     "metadata": {},
     "output_type": "execute_result"
    }
   ],
   "source": [
    "showdown(\"  Bang!\",\"     Bang!\")"
   ]
  },
  {
   "cell_type": "markdown",
   "id": "ec8c4a62",
   "metadata": {},
   "source": [
    "11.Is the Number Symmetrical?\n",
    "Create a function that takes a number as an argument and returns True or False depending on whether the number is symmetrical or not. A number is symmetrical when it is the same as its reverse.\n",
    "\n",
    "Examples\n",
    "is_symmetrical(7227) ➞ True\n",
    "\n",
    "is_symmetrical(12567) ➞ False\n",
    "\n",
    "is_symmetrical(44444444) ➞ True\n",
    "\n",
    "is_symmetrical(9939) ➞ False\n",
    "\n",
    "is_symmetrical(1112111) ➞ True\n",
    "Notes\n",
    "N/A"
   ]
  },
  {
   "cell_type": "code",
   "execution_count": 54,
   "id": "4eb82dd0",
   "metadata": {},
   "outputs": [],
   "source": [
    "def is_symmetrical(num):\n",
    "    return str(num)==str(num)[::-1]"
   ]
  },
  {
   "cell_type": "code",
   "execution_count": 55,
   "id": "b9f121f2",
   "metadata": {},
   "outputs": [
    {
     "data": {
      "text/plain": [
       "True"
      ]
     },
     "execution_count": 55,
     "metadata": {},
     "output_type": "execute_result"
    }
   ],
   "source": [
    "is_symmetrical(7227)"
   ]
  },
  {
   "cell_type": "code",
   "execution_count": 56,
   "id": "3e8659ed",
   "metadata": {},
   "outputs": [
    {
     "data": {
      "text/plain": [
       "False"
      ]
     },
     "execution_count": 56,
     "metadata": {},
     "output_type": "execute_result"
    }
   ],
   "source": [
    "is_symmetrical(12567)"
   ]
  },
  {
   "cell_type": "markdown",
   "id": "98b2e800",
   "metadata": {},
   "source": [
    "12.Minimal VI: Ternary Operator\n",
    "Check the principles of minimalist code in the intro to the first challenge.\n",
    "\n",
    "In the Code tab you will find a code that is missing a single character in order to pass the tests. However, your goal is to submit a function as minimalist as possible. Use the tips in the tips section below.\n",
    "\n",
    "Write a function that returns the strings:\n",
    "\n",
    "\"both\" if both given booleans a and b are True.\n",
    "\"first\" if only a is True.\n",
    "\"second\" if only b is True .\n",
    "\"neither\" if both a and b are False.\n",
    "Tips\n",
    "If-else statements can be written as a oneliner using Python's ternary operator.\n",
    "\n",
    "For example, the code:def startswith(name):\n",
    "  if name[0] in \"AEIOU\":\n",
    "    return \"vowel\"\n",
    "  else:\n",
    "    return \"consonant\"\n",
    "Can be simplified to:\n",
    "\n",
    "def startswith(name):\n",
    "  return \"vowel\" if name[0] in \"AEIOU\" else \"consonant\"\n",
    "Bonus\n",
    "You can concatenate as many ternary operators as you want. However, concatenating too many will definitely diminish the readability of your code.\n",
    "\n",
    "\"majority\" if  x > 50 else \"minority\" if x < 50 else \"draw\"\n",
    "Notes\n",
    "This is an open series: there isn't a definite list of features for the challenges. Please, do not hesitate to leave your suggestions in the Comments.\n",
    "Readability is indeed a subjective concept. Let's discuss it! Feel free to leave your opinion in the Comments.\n",
    "You can find all the exercises in this series over here."
   ]
  },
  {
   "cell_type": "code",
   "execution_count": 57,
   "id": "39ba3220",
   "metadata": {},
   "outputs": [],
   "source": [
    "def are_true(a,b):\n",
    "    return 'both' if a and b else \"first\" if a else \"second\" if b else \"neither\""
   ]
  },
  {
   "cell_type": "code",
   "execution_count": 58,
   "id": "b38e457a",
   "metadata": {},
   "outputs": [
    {
     "data": {
      "text/plain": [
       "'both'"
      ]
     },
     "execution_count": 58,
     "metadata": {},
     "output_type": "execute_result"
    }
   ],
   "source": [
    "are_true(True,True)"
   ]
  },
  {
   "cell_type": "code",
   "execution_count": 59,
   "id": "e7f261f3",
   "metadata": {},
   "outputs": [
    {
     "data": {
      "text/plain": [
       "'second'"
      ]
     },
     "execution_count": 59,
     "metadata": {},
     "output_type": "execute_result"
    }
   ],
   "source": [
    "are_true(False,True)"
   ]
  },
  {
   "cell_type": "code",
   "execution_count": 62,
   "id": "3e71821e",
   "metadata": {},
   "outputs": [
    {
     "data": {
      "text/plain": [
       "'neither'"
      ]
     },
     "execution_count": 62,
     "metadata": {},
     "output_type": "execute_result"
    }
   ],
   "source": [
    "are_true(False,False)"
   ]
  },
  {
   "cell_type": "markdown",
   "id": "02baa7f7",
   "metadata": {},
   "source": [
    "13.Hot Pics of Danny DeVito!\n",
    "I'm trying to watch some lectures to study for my next exam but I keep getting distracted by meme compilations, vine compilations, anime, and more on my favorite video platform.\n",
    "\n",
    "Your job is to help me create a function that takes a string and checks to see if it contains the following words or phrases:\n",
    "\n",
    "\"anime\"\n",
    "\"meme\"\n",
    "\"vines\"\n",
    "\"roasts\"\n",
    "\"Danny DeVito\"\n",
    "If it does, return \"NO!\". Otherwise, return \"Safe watching!\".\n",
    "\n",
    "Examples\n",
    "prevent_distractions(\"vines that butter my eggroll\") ➞ \"NO!\"\n",
    "\n",
    "prevent_distractions(\"Hot pictures of Danny DeVito\") ➞ \"NO!\"\n",
    "\n",
    "prevent_distractions(\"How to ace BC Calculus in 5 Easy Steps\") ➞ \"Safe watching!\"\n",
    "Notes\n",
    "N/A"
   ]
  },
  {
   "cell_type": "code",
   "execution_count": 63,
   "id": "2d04de6c",
   "metadata": {},
   "outputs": [],
   "source": [
    "def prevent_distractions(txt):\n",
    "    return \"NO!\" if \"annime\" in txt or \"meme\" in txt or \"vines\" in txt or \"roasts\" in txt or \"Danny DeVito\" in txt else \"Safe Watching\""
   ]
  },
  {
   "cell_type": "code",
   "execution_count": 64,
   "id": "51792eda",
   "metadata": {},
   "outputs": [
    {
     "data": {
      "text/plain": [
       "'NO!'"
      ]
     },
     "execution_count": 64,
     "metadata": {},
     "output_type": "execute_result"
    }
   ],
   "source": [
    "prevent_distractions(\"vines that butter my eggroll\") "
   ]
  },
  {
   "cell_type": "code",
   "execution_count": 65,
   "id": "e2971c86",
   "metadata": {},
   "outputs": [
    {
     "data": {
      "text/plain": [
       "'Safe Watching'"
      ]
     },
     "execution_count": 65,
     "metadata": {},
     "output_type": "execute_result"
    }
   ],
   "source": [
    "prevent_distractions(\"How to ace BC Calculus in 5 Easy Steps\")"
   ]
  },
  {
   "cell_type": "markdown",
   "id": "cf1c2bf8",
   "metadata": {},
   "source": [
    "14.Equality of 3 Values\n",
    "Create a function that takes three integer arguments (a, b, c) and returns the amount of integers which are of equal value.\n",
    "\n",
    "Examples\n",
    "equal(3, 4, 3) ➞ 2\n",
    "\n",
    "equal(1, 1, 1) ➞ 3\n",
    "\n",
    "equal(3, 4, 1) ➞ 0 \n",
    "Notes\n",
    "Your function must return 0, 2 or 3."
   ]
  },
  {
   "cell_type": "code",
   "execution_count": 66,
   "id": "f046914d",
   "metadata": {},
   "outputs": [],
   "source": [
    "def equal(a,b,c):\n",
    "    return 3 if a==b==c else 2 if a==b or b==c or c==a else 0"
   ]
  },
  {
   "cell_type": "code",
   "execution_count": 67,
   "id": "7796675c",
   "metadata": {},
   "outputs": [
    {
     "data": {
      "text/plain": [
       "2"
      ]
     },
     "execution_count": 67,
     "metadata": {},
     "output_type": "execute_result"
    }
   ],
   "source": [
    "equal(3, 4, 3)"
   ]
  },
  {
   "cell_type": "code",
   "execution_count": 68,
   "id": "28335bb1",
   "metadata": {},
   "outputs": [
    {
     "data": {
      "text/plain": [
       "3"
      ]
     },
     "execution_count": 68,
     "metadata": {},
     "output_type": "execute_result"
    }
   ],
   "source": [
    "equal(1, 1, 1)"
   ]
  },
  {
   "cell_type": "markdown",
   "id": "fb7d7711",
   "metadata": {},
   "source": [
    "15.Vowel Sandwich\n",
    "Create a function which validates whether a 3 character string is a vowel sandwich. In order to have a valid sandwich, the string must satisfy the following rules:\n",
    "\n",
    "The first and last characters must be a consonant.\n",
    "The character in the middle must be a vowel.\n",
    "Examples\n",
    "is_vowel_sandwich(\"cat\") ➞ True\n",
    "\n",
    "is_vowel_sandwich(\"ear\") ➞ False\n",
    "\n",
    "is_vowel_sandwich(\"bake\") ➞ False\n",
    "\n",
    "is_vowel_sandwich(\"try\") ➞ False\n",
    "Notes\n",
    "Return False if the word is not 3 characters in length.\n",
    "All words will be given in lowercase.\n",
    "y is not considered a vowel."
   ]
  },
  {
   "cell_type": "code",
   "execution_count": 72,
   "id": "6536cc8c",
   "metadata": {},
   "outputs": [],
   "source": [
    "def is_vowel_sandwich(txt):\n",
    "    vowels=\"aeiou\"\n",
    "    return len(txt)==3 and txt[0] not in vowels and txt[1] in vowels and txt[2] not in vowels"
   ]
  },
  {
   "cell_type": "code",
   "execution_count": 73,
   "id": "6a9c2c15",
   "metadata": {},
   "outputs": [
    {
     "data": {
      "text/plain": [
       "False"
      ]
     },
     "execution_count": 73,
     "metadata": {},
     "output_type": "execute_result"
    }
   ],
   "source": [
    "is_vowel_sandwich(\"ear\")"
   ]
  },
  {
   "cell_type": "code",
   "execution_count": 74,
   "id": "daa53760",
   "metadata": {},
   "outputs": [
    {
     "data": {
      "text/plain": [
       "True"
      ]
     },
     "execution_count": 74,
     "metadata": {},
     "output_type": "execute_result"
    }
   ],
   "source": [
    "is_vowel_sandwich(\"cat\")"
   ]
  },
  {
   "cell_type": "code",
   "execution_count": 75,
   "id": "db19b826",
   "metadata": {},
   "outputs": [
    {
     "data": {
      "text/plain": [
       "False"
      ]
     },
     "execution_count": 75,
     "metadata": {},
     "output_type": "execute_result"
    }
   ],
   "source": [
    "is_vowel_sandwich(\"bake\")"
   ]
  },
  {
   "cell_type": "markdown",
   "id": "e098c637",
   "metadata": {},
   "source": [
    "16.Split a String Based on Vowels and Consonants\n",
    "Write a function that takes a string, breaks it up and returns it with vowels first, consonants second. For any character that's not a vowel (like special characters or spaces), treat them like consonants.\n",
    "\n",
    "Examples\n",
    "split(\"abcde\") ➞ \"aebcd\"\n",
    "\n",
    "split(\"Hello!\") ➞ \"eoHll!\"\n",
    "\n",
    "split(\"What's the time?\") ➞ \"aeieWht's th tm?\"\n",
    "Notes\n",
    "Vowels are a, e, i, o, u.\n",
    "Define a separate is_vowel() function for easier to read code (recommendation)."
   ]
  },
  {
   "cell_type": "code",
   "execution_count": 77,
   "id": "867b336e",
   "metadata": {},
   "outputs": [],
   "source": [
    "def vowel_consonant_sort(txt):\n",
    "    vowels=\"\"\n",
    "    consonants=\"\"\n",
    "    for char in txt:\n",
    "        if char.lower() in \"aeiou\":\n",
    "            vowels+=char\n",
    "        elif char.isalpha():\n",
    "            consonants+=char\n",
    "    return vowels+consonants"
   ]
  },
  {
   "cell_type": "code",
   "execution_count": 78,
   "id": "023ea9d0",
   "metadata": {},
   "outputs": [
    {
     "data": {
      "text/plain": [
       "'aebcd'"
      ]
     },
     "execution_count": 78,
     "metadata": {},
     "output_type": "execute_result"
    }
   ],
   "source": [
    "vowel_consonant_sort(\"abcde\")"
   ]
  },
  {
   "cell_type": "code",
   "execution_count": 79,
   "id": "e695b7cb",
   "metadata": {},
   "outputs": [
    {
     "data": {
      "text/plain": [
       "'eoHll'"
      ]
     },
     "execution_count": 79,
     "metadata": {},
     "output_type": "execute_result"
    }
   ],
   "source": [
    "vowel_consonant_sort(\"Hello\")"
   ]
  },
  {
   "cell_type": "markdown",
   "id": "a80f1d73",
   "metadata": {},
   "source": [
    "17.Count the Letters and Digits\n",
    "Write a function that takes a string and calculates the number of letters and digits within it. Return the result in a dictionary.\n",
    "\n",
    "Examples\n",
    "count_all(\"Hello World\") ➞ { \"LETTERS\":  10, \"DIGITS\": 0 }\n",
    "\n",
    "count_all(\"H3ll0 Wor1d\") ➞ { \"LETTERS\":  7, \"DIGITS\": 3 }\n",
    "\n",
    "count_all(\"149990\") ➞ { \"LETTERS\": 0, \"DIGITS\": 6 }\n",
    "Notes\n",
    "Tests contain only alphanumeric characters.\n",
    "Spaces are not letters.\n",
    "All tests contain valid strings."
   ]
  },
  {
   "cell_type": "code",
   "execution_count": 82,
   "id": "65fcfe9a",
   "metadata": {},
   "outputs": [],
   "source": [
    "def count_letters_digits(txt):\n",
    "    count={\"letters\":0,\"digits\":0}\n",
    "    for char in txt:\n",
    "        if char.isalpha():\n",
    "            count[\"letters\"]+=1\n",
    "        elif char.isdigit():\n",
    "            count[\"digits\"]+=1\n",
    "    return count"
   ]
  },
  {
   "cell_type": "markdown",
   "id": "cd4dc1de",
   "metadata": {},
   "source": [
    "count_letters_digits(\"hello world\")"
   ]
  },
  {
   "cell_type": "code",
   "execution_count": 84,
   "id": "df2fcd3b",
   "metadata": {},
   "outputs": [
    {
     "data": {
      "text/plain": [
       "{'letters': 7, 'digits': 3}"
      ]
     },
     "execution_count": 84,
     "metadata": {},
     "output_type": "execute_result"
    }
   ],
   "source": [
    "count_letters_digits(\"H3ll0 Wor1d\")"
   ]
  },
  {
   "cell_type": "markdown",
   "id": "b69927bd",
   "metadata": {},
   "source": [
    "18.Sum of Number Elements in a List\n",
    "Lists can be mixed with various types. Your task for this challenge is to sum all the number elements in the given list. Create a function that takes a list and returns the sum of all numbers in the list.\n",
    "\n",
    "Examples\n",
    "numbers_sum([1, 2, \"13\", \"4\", \"645\"]) ➞ 3\n",
    "\n",
    "numbers_sum([True, False, \"123\", \"75\"]) ➞ 0\n",
    "\n",
    "numbers_sum([1, 2, 3, 4, 5, True]) ➞ 15\n",
    "Notes\n",
    "Check the Resources tab for help."
   ]
  },
  {
   "cell_type": "code",
   "execution_count": 85,
   "id": "facb0ed9",
   "metadata": {},
   "outputs": [],
   "source": [
    "def sum_numbers(lst):\n",
    "    total=0\n",
    "    for item in lst:\n",
    "        if type(item)==int or type(item)==float:\n",
    "            total+=item\n",
    "    return total"
   ]
  },
  {
   "cell_type": "code",
   "execution_count": 86,
   "id": "107cb60a",
   "metadata": {},
   "outputs": [
    {
     "data": {
      "text/plain": [
       "3"
      ]
     },
     "execution_count": 86,
     "metadata": {},
     "output_type": "execute_result"
    }
   ],
   "source": [
    "sum_numbers([1, 2, \"13\", \"4\", \"645\"])"
   ]
  },
  {
   "cell_type": "code",
   "execution_count": 87,
   "id": "0b5a076f",
   "metadata": {},
   "outputs": [
    {
     "data": {
      "text/plain": [
       "15"
      ]
     },
     "execution_count": 87,
     "metadata": {},
     "output_type": "execute_result"
    }
   ],
   "source": [
    "sum_numbers([1, 2, 3, 4, 5, True])"
   ]
  },
  {
   "cell_type": "markdown",
   "id": "f6fa3be8",
   "metadata": {},
   "source": [
    "19.Older Than Me\n",
    "Create a method in the Person class which returns how another person's age compares. Given the objects p1, p2 and p3, which will be initialised with the attributes name and age, return a sentence in the following format:\n",
    "\n",
    "{other_person} is {older than / younger than / the same age as} me.\n",
    "\n",
    "Examples\n",
    "p1 = Person(\"Samuel\", 24)\n",
    "p2 = Person(\"Joel\", 36)\n",
    "p3 = Person(\"Lily\", 24)\n",
    "p1.compare_age(p2) ➞ \"Joel is older than me.\"\n",
    "\n",
    "p2.compare_age(p1) ➞ \"Samuel is younger than me.\"\n",
    "\n",
    "p1.compare_age(p3) ➞ \"Lily is the same age as me.\"\n",
    "Notes\n",
    "Check out the Resources tab for some helpful tutorials on Python classes!\n",
    "If you're really stuck, check out the Solutions tab for answers."
   ]
  },
  {
   "cell_type": "code",
   "execution_count": 102,
   "id": "960625bc",
   "metadata": {},
   "outputs": [],
   "source": [
    "class person:\n",
    "    def __init__(self,name,age):\n",
    "        self.name=name\n",
    "        self.age=age\n",
    "    def compare_age(self,other_person):\n",
    "        if self.age<other_person.age:\n",
    "            comparison=\"younger than\"\n",
    "        elif self.age>other_person.age:\n",
    "            comparison=\"older than\"\n",
    "        else:\n",
    "            comparison=\"the same age as\"\n",
    "        return f\"{other_person.name} is {comparison} me\""
   ]
  },
  {
   "cell_type": "code",
   "execution_count": 103,
   "id": "b2e845d9",
   "metadata": {},
   "outputs": [
    {
     "name": "stdout",
     "output_type": "stream",
     "text": [
      "Joel is younger than me\n",
      "Samuel is older than me\n",
      "Lily is the same age as me\n"
     ]
    }
   ],
   "source": [
    "p1 = person(\"Samuel\", 24)\n",
    "p2 = person(\"Joel\", 36)\n",
    "p3 = person(\"Lily\", 24)\n",
    "\n",
    "print(p1.compare_age(p2))\n",
    "print(p2.compare_age(p1))\n",
    "print(p1.compare_age(p3)) "
   ]
  },
  {
   "cell_type": "markdown",
   "id": "19677087",
   "metadata": {},
   "source": [
    "20.Minimal V: Membership Operator\n",
    "Check the principles of minimalist code in the intro to the first challenge.\n",
    "\n",
    "In the Code tab you will find a code that is missing a single character in order to pass the tests. However, your goal is to submit a function as minimalist as possible. Use the tips in the tips section below.\n",
    "\n",
    "Write a function that returns the boolean True if the given two lists do not share any numbers, and False otherwise.\n",
    "\n",
    "Tips\n",
    "The operators in and not in test for membership. x in s evaluates to True if x is a member of s, and False otherwise.\n",
    "\n",
    "For example, the code:\n",
    "\n",
    "def startswithvowel(word):\n",
    "    for vowel in \"aeiou\":\n",
    "        if word[0] == vowel:\n",
    "            return True\n",
    "    return False\n",
    "Can be simplified to:\n",
    "\n",
    "def startswithvowel(word):\n",
    "    return word[0] in \"aeiou\"\n",
    "Bonus\n",
    "Here are more examples:\n",
    "\n",
    "12 in [1, 50, 12, 43, 7] ➞ True\n",
    "1 in [12, 111111, \"x\"] ➞ False\n",
    "[3, 4] in [1, 2, 3, 4, 5] ➞ False\n",
    "3 in (True, 3, [\"odd\", \"even\"]) ➞ True\n",
    "\"odd\" in (True, 3, [\"odd\", \"even\"]) ➞ False\n",
    "\"hello\" in \"hellomyfriend\" ➞ True\n",
    "\n",
    "\"myfriend\" not in \"hello my friend\" ➞ True\n",
    "\"bye\" not in \"bye my friend\" ➞ False\n",
    "2 not in {0: \"even\", 1: \"odd\"} ➞ True\n",
    "1 not in {0: \"even\", 1: \"odd\"} ➞ False\n",
    "Notes\n",
    "This is an open series: there isn't a definite list of features for the challenges. Please, do not hesitate to leave your suggestions in the Comments.\n",
    "Readability is indeed a subjective concept. Let's discuss it! Feel free to leave your opinion in the Comments.\n",
    "You can find all the exercises in this series over here."
   ]
  },
  {
   "cell_type": "code",
   "execution_count": 104,
   "id": "16cd1c81",
   "metadata": {},
   "outputs": [],
   "source": [
    "def no_shared_numbers(list1,list2):\n",
    "    return not any(number in list1 for number in list2)"
   ]
  },
  {
   "cell_type": "code",
   "execution_count": 105,
   "id": "901280c2",
   "metadata": {},
   "outputs": [
    {
     "data": {
      "text/plain": [
       "True"
      ]
     },
     "execution_count": 105,
     "metadata": {},
     "output_type": "execute_result"
    }
   ],
   "source": [
    "no_shared_numbers([1, 2, 3], [4, 5, 6])"
   ]
  },
  {
   "cell_type": "code",
   "execution_count": 106,
   "id": "7748d8a1",
   "metadata": {},
   "outputs": [
    {
     "data": {
      "text/plain": [
       "False"
      ]
     },
     "execution_count": 106,
     "metadata": {},
     "output_type": "execute_result"
    }
   ],
   "source": [
    "no_shared_numbers([1,2,3,5,6,7], [4,5,6,8,7,9])"
   ]
  },
  {
   "cell_type": "markdown",
   "id": "67eab7ea",
   "metadata": {},
   "source": [
    "21.H4ck3r Sp34k\n",
    "Create a function that takes a string as an argument and returns a coded (h4ck3r 5p34k) version of the string.\n",
    "\n",
    "Examples\n",
    "hacker_speak(\"javascript is cool\") ➞ \"j4v45cr1pt 15 c00l\"\n",
    "\n",
    "hacker_speak(\"programming is fun\") ➞ \"pr0gr4mm1ng 15 fun\"\n",
    "\n",
    "hacker_speak(\"become a coder\") ➞ \"b3c0m3 4 c0d3r\"\n",
    "Notes\n",
    "In order to work properly, the function should replace all \"a\"s with 4, \"e\"s with 3, \"i\"s with 1, \"o\"s with 0, and \"s\"s with 5."
   ]
  },
  {
   "cell_type": "code",
   "execution_count": 117,
   "id": "ffe8e935",
   "metadata": {},
   "outputs": [],
   "source": [
    "def hacker_speak(string):\n",
    "    hacker_speak_dict={\"a\":\"4\",\"e\":\"3\",\"i\":\"1\",\"o\":\"0\",\"s\":\"5\"}\n",
    "    hacker_string=\"\"\n",
    "    \n",
    "    for char in string:\n",
    "        if char.lower() in hacker_speak_dict:\n",
    "            hacker_string+= hacker_speak_dict[char.lower()]\n",
    "        else:\n",
    "            hacker_string+=char\n",
    "    return hacker_string"
   ]
  },
  {
   "cell_type": "code",
   "execution_count": 118,
   "id": "4b970f7a",
   "metadata": {},
   "outputs": [
    {
     "data": {
      "text/plain": [
       "'j4v45cr1pt 15 c00l'"
      ]
     },
     "execution_count": 118,
     "metadata": {},
     "output_type": "execute_result"
    }
   ],
   "source": [
    "hacker_speak(\"javascript is cool\")"
   ]
  },
  {
   "cell_type": "code",
   "execution_count": 119,
   "id": "00f46e7b",
   "metadata": {},
   "outputs": [
    {
     "data": {
      "text/plain": [
       "'pr0gr4mm1ng 15 fun'"
      ]
     },
     "execution_count": 119,
     "metadata": {},
     "output_type": "execute_result"
    }
   ],
   "source": [
    "hacker_speak(\"programming is fun\")"
   ]
  },
  {
   "cell_type": "markdown",
   "id": "6f4ab334",
   "metadata": {},
   "source": [
    "22.Positive Count / Negative Sum\n",
    "Create a function that takes a list of positive and negative numbers. Return a list where the first element is the count of positive numbers and the second element is the sum of negative numbers.\n",
    "\n",
    "Examples\n",
    "sum_neg([1, 2, 3, 4, 5, 6, 7, 8, 9, 10, -11, -12, -13, -14, -15]) ➞ [10, -65]\n",
    "#There are a total of 10 positive numbers.\n",
    "#The sum of all negative numbers equals -65.\n",
    "\n",
    "sum_neg([92, 6, 73, -77, 81, -90, 99, 8, -85, 34]) ➞ [7, -252]\n",
    "\n",
    "sum_neg([91, -4, 80, -73, -28]) ➞ [2, -105]\n",
    "\n",
    "sum_neg([]) ➞ []\n",
    "Notes\n",
    "If given an empty list, return an empty list: []\n",
    "0 is not positive."
   ]
  },
  {
   "cell_type": "code",
   "execution_count": 120,
   "id": "cdae095d",
   "metadata": {},
   "outputs": [],
   "source": [
    "def sum_neg(numbers):\n",
    "    positive_count=sum_negative=0\n",
    "    \n",
    "    for num in numbers:\n",
    "        if num>0:\n",
    "            positive_count+=1\n",
    "        elif num<0:\n",
    "            sum_negative+=num\n",
    "    return [positive_count,sum_negative]"
   ]
  },
  {
   "cell_type": "code",
   "execution_count": 121,
   "id": "c25b0b2a",
   "metadata": {},
   "outputs": [
    {
     "data": {
      "text/plain": [
       "[10, -65]"
      ]
     },
     "execution_count": 121,
     "metadata": {},
     "output_type": "execute_result"
    }
   ],
   "source": [
    "sum_neg([1, 2, 3, 4, 5, 6, 7, 8, 9, 10, -11, -12, -13, -14, -15])"
   ]
  },
  {
   "cell_type": "code",
   "execution_count": 122,
   "id": "b5ac2094",
   "metadata": {},
   "outputs": [
    {
     "data": {
      "text/plain": [
       "[7, -252]"
      ]
     },
     "execution_count": 122,
     "metadata": {},
     "output_type": "execute_result"
    }
   ],
   "source": [
    "sum_neg([92, 6, 73, -77, 81, -90, 99, 8, -85, 34])"
   ]
  },
  {
   "cell_type": "markdown",
   "id": "71b43ebb",
   "metadata": {},
   "source": [
    "23.Switcharoo\n",
    "Create a function that takes a string and returns a new string with its first and last characters swapped, except under three conditions:\n",
    "\n",
    "If the length of the string is less than two, return \"Incompatible.\".\n",
    "If the argument is not a string, return \"Incompatible.\".\n",
    "If the first and last characters are the same, return \"Two's a pair.\".\n",
    "Examples\n",
    "flip_end_chars(\"Cat, dog, and mouse.\") ➞ \".at, dog, and mouseC\"\n",
    "\n",
    "flip_end_chars(\"ada\") ➞ \"Two's a pair.\"\n",
    "\n",
    "flip_end_chars(\"Ada\") ➞ \"adA\"\n",
    "\n",
    "flip_end_chars(\"z\") ➞ \"Incompatible.\"\n",
    "\n",
    "flip_end_chars([1, 2, 3]) ➞ \"Incompatible.\"\n",
    "Notes\n",
    "Tests are case sensitive (e.g. \"A\" and \"a\" are not the same character)."
   ]
  },
  {
   "cell_type": "code",
   "execution_count": 124,
   "id": "2ee15cf2",
   "metadata": {},
   "outputs": [],
   "source": [
    "def swap_first_last(string):\n",
    "    if not isinstance(string,str):\n",
    "        return \"incompatible\"\n",
    "    elif len(string)<2:\n",
    "        return \"incompatible\"\n",
    "    elif string[0]==string[-1]:\n",
    "        return \"Two's a pair\"\n",
    "    else:\n",
    "        return string[-1]+ string[1:-1]+string[0]"
   ]
  },
  {
   "cell_type": "code",
   "execution_count": 125,
   "id": "39db047c",
   "metadata": {},
   "outputs": [
    {
     "data": {
      "text/plain": [
       "'.at, dog, and mouseC'"
      ]
     },
     "execution_count": 125,
     "metadata": {},
     "output_type": "execute_result"
    }
   ],
   "source": [
    "swap_first_last(\"Cat, dog, and mouse.\") "
   ]
  },
  {
   "cell_type": "code",
   "execution_count": 126,
   "id": "8e64ede6",
   "metadata": {},
   "outputs": [
    {
     "data": {
      "text/plain": [
       "\"Two's a pair\""
      ]
     },
     "execution_count": 126,
     "metadata": {},
     "output_type": "execute_result"
    }
   ],
   "source": [
    "swap_first_last(\"ada\") "
   ]
  },
  {
   "cell_type": "markdown",
   "id": "ea060406",
   "metadata": {},
   "source": [
    "24.Error Messages\n",
    "Create a function that takes a number as an argument and returns the appropriate error message. You should do this without using the switch or if statements.\n",
    "\n",
    "The input error will be 1 to 5:\n",
    "\n",
    "1 >> \"Check the fan: e1\"\n",
    "2 >> \"Emergency stop: e2\"\n",
    "3 >> \"Pump Error: e3\"\n",
    "4 >> \"c: e4\"\n",
    "5 >> \"Temperature Sensor Error: e5\"\n",
    "For any other value, return 101 (you can use an if statement here).\n",
    "\n",
    "Examples\n",
    "error(1) ➞ \"Check the fan: e1\"\n",
    "\n",
    "error(2) ➞ \"Emergency stop: e2\"\n",
    "\n",
    "error(3) ➞ \"Pump Error: e3\"\n",
    "Notes\n",
    "Do this without using the switch or if statements."
   ]
  },
  {
   "cell_type": "code",
   "execution_count": 137,
   "id": "fe164591",
   "metadata": {},
   "outputs": [],
   "source": [
    "def error(error_number):\n",
    "    error_messages={1:\"check the fan:e1\",2:\"emergency stop:e2\",3:\"pump error:e3\",4:\"c:e4\",5:\"temperature sensor error: e5\"}\n",
    "    return error_messages.get(error_number,101)"
   ]
  },
  {
   "cell_type": "code",
   "execution_count": 138,
   "id": "f34edb03",
   "metadata": {},
   "outputs": [
    {
     "data": {
      "text/plain": [
       "'check the fan:e1'"
      ]
     },
     "execution_count": 138,
     "metadata": {},
     "output_type": "execute_result"
    }
   ],
   "source": [
    "error(1) "
   ]
  },
  {
   "cell_type": "code",
   "execution_count": 139,
   "id": "702e8f91",
   "metadata": {},
   "outputs": [
    {
     "data": {
      "text/plain": [
       "'emergency stop:e2'"
      ]
     },
     "execution_count": 139,
     "metadata": {},
     "output_type": "execute_result"
    }
   ],
   "source": [
    "error(2)"
   ]
  },
  {
   "cell_type": "code",
   "execution_count": 140,
   "id": "8fe811f9",
   "metadata": {},
   "outputs": [
    {
     "data": {
      "text/plain": [
       "101"
      ]
     },
     "execution_count": 140,
     "metadata": {},
     "output_type": "execute_result"
    }
   ],
   "source": [
    "error(6)"
   ]
  },
  {
   "cell_type": "markdown",
   "id": "0c3f1f47",
   "metadata": {},
   "source": [
    "25.Balancing Scales\n",
    "Given a list with an odd number of elements, return whether the scale will tip \"left\" or \"right\" based on the sum of the numbers. The scale will tip on the direction of the largest total. If both sides are equal, return \"balanced\".\n",
    "\n",
    "Examples\n",
    "scale_tip([0, 0, \"I\", 1, 1]) ➞ \"right\"\n",
    "#0 < 2 so it will tip right\n",
    "\n",
    "scale_tip([1, 2, 3, \"I\", 4, 0, 0]) ➞ \"left\"\n",
    "#6 > 4 so it will tip left\n",
    "\n",
    "scale_tip([5, 5, 5, 0, \"I\", 10, 2, 2, 1]) ➞ \"balanced\"\n",
    "#15 = 15 so it will stay balanced\n",
    "Notes\n",
    "The middle element will always be \"I\" so you can just ignore it.\n",
    "Assume the numbers all represent the same unit.\n",
    "Both sides will have the same number of elements.\n",
    "There are no such things as negative weights in both real life and the tests!"
   ]
  },
  {
   "cell_type": "code",
   "execution_count": 141,
   "id": "71e01a73",
   "metadata": {},
   "outputs": [],
   "source": [
    "def scale_tip(lst):\n",
    "    left_sum=sum(lst[:len(lst)//2])\n",
    "    right_sum=sum(lst[len(lst)//2+1:])\n",
    "    \n",
    "    if left_sum>right_sum:\n",
    "        return \"left\"\n",
    "    elif left_sum<right_sum:\n",
    "        return \"right\"\n",
    "    else:\n",
    "        return \"balaned\""
   ]
  },
  {
   "cell_type": "code",
   "execution_count": 142,
   "id": "ac68cc16",
   "metadata": {},
   "outputs": [
    {
     "data": {
      "text/plain": [
       "'right'"
      ]
     },
     "execution_count": 142,
     "metadata": {},
     "output_type": "execute_result"
    }
   ],
   "source": [
    "scale_tip([0, 0, \"I\", 1, 1])"
   ]
  },
  {
   "cell_type": "code",
   "execution_count": 143,
   "id": "5e50f21a",
   "metadata": {},
   "outputs": [
    {
     "data": {
      "text/plain": [
       "'left'"
      ]
     },
     "execution_count": 143,
     "metadata": {},
     "output_type": "execute_result"
    }
   ],
   "source": [
    "scale_tip([1, 2, 3, \"I\", 4, 0, 0])"
   ]
  },
  {
   "cell_type": "code",
   "execution_count": 144,
   "id": "bfdacb31",
   "metadata": {},
   "outputs": [
    {
     "data": {
      "text/plain": [
       "'balaned'"
      ]
     },
     "execution_count": 144,
     "metadata": {},
     "output_type": "execute_result"
    }
   ],
   "source": [
    "scale_tip([5, 5, 5, 0, \"I\", 10, 2, 2, 1])"
   ]
  },
  {
   "cell_type": "markdown",
   "id": "377e7cee",
   "metadata": {},
   "source": [
    "26.Emotify the Sentence\n",
    "Create a function that changes specific words into emoticons. Given a sentence as a string, replace the words smile, grin, sad and mad with their corresponding emoticons.\n",
    "\n",
    "word\temoticon\n",
    "smile\t:D\n",
    "grin\t:)\n",
    "sad\t:(\n",
    "mad\t:P\n",
    "Examples\n",
    "emotify(\"Make me smile\") ➞ \"Make me :D\"\n",
    "\n",
    "emotify(\"Make me grin\") ➞ \"Make me :)\"\n",
    "\n",
    "emotify(\"Make me sad\") ➞ \"Make me :(\"\n",
    "Notes\n",
    "The sentence always starts with \"Make me\".\n",
    "Try to solve this without using conditional statements like if/else."
   ]
  },
  {
   "cell_type": "code",
   "execution_count": 152,
   "id": "3846ef49",
   "metadata": {},
   "outputs": [],
   "source": [
    "def replace_emoticons(sentence):\n",
    "    emoticon_dict = {'smile': ':D','grin': ':)','sad': ':(','mad': \":P\"}\n",
    "    words=sentence.split()\n",
    "    replaced_words = [emoticon_dict.get(word, word)for word in words]\n",
    "    replaced_sentence =\" \".join(replaced_words)\n",
    "\n",
    "    return replaced_sentence"
   ]
  },
  {
   "cell_type": "code",
   "execution_count": 154,
   "id": "99932059",
   "metadata": {},
   "outputs": [
    {
     "data": {
      "text/plain": [
       "'make me :D'"
      ]
     },
     "execution_count": 154,
     "metadata": {},
     "output_type": "execute_result"
    }
   ],
   "source": [
    "replace_emoticons(\"make me smile\")"
   ]
  },
  {
   "cell_type": "markdown",
   "id": "6331d85f",
   "metadata": {},
   "source": [
    "27.Days in a Month\n",
    "Create a function that takes the month and year (as integers) and returns the number of days in that month.\n",
    "\n",
    "Examples\n",
    "day_amount(2, 2018) ➞ 28\n",
    "\n",
    "day_amount(4, 654) ➞ 30\n",
    "\n",
    "day_amount(2, 200) ➞ 28\n",
    "\n",
    "day_amount(2, 1000) ➞ 28\n",
    "Notes\n",
    "Don't forget about leap years!"
   ]
  },
  {
   "cell_type": "code",
   "execution_count": 160,
   "id": "189c7105",
   "metadata": {},
   "outputs": [],
   "source": [
    "def get_days_in_month(month, year):\n",
    "    days_in_month= {1:31,2:28,3:31,4:30,5:31,6:30,7:31,8:31,9:30,10:31,11:30,12:31}\n",
    "    \n",
    "    if month==2 and is_leap_year(year):\n",
    "        return 29\n",
    "    return days_in_month.get(month, None)\n",
    "\n",
    "def is_leap_year(year):\n",
    "    if year % 4==0:\n",
    "        if year% 100==0:\n",
    "            if year % 400==0:\n",
    "                return True\n",
    "            else:\n",
    "                return False\n",
    "        else:\n",
    "            return True\n",
    "    else:\n",
    "        return False"
   ]
  },
  {
   "cell_type": "code",
   "execution_count": 161,
   "id": "d94a4b3f",
   "metadata": {},
   "outputs": [
    {
     "data": {
      "text/plain": [
       "28"
      ]
     },
     "execution_count": 161,
     "metadata": {},
     "output_type": "execute_result"
    }
   ],
   "source": [
    "get_days_in_month(2,2018)"
   ]
  },
  {
   "cell_type": "code",
   "execution_count": 163,
   "id": "885188b5",
   "metadata": {},
   "outputs": [
    {
     "data": {
      "text/plain": [
       "31"
      ]
     },
     "execution_count": 163,
     "metadata": {},
     "output_type": "execute_result"
    }
   ],
   "source": [
    "get_days_in_month(3,1000)"
   ]
  },
  {
   "cell_type": "markdown",
   "id": "72609ead",
   "metadata": {},
   "source": [
    "28.Changing Mixed Types\n",
    "Create a function that changes all the elements in a list as follows:\n",
    "\n",
    "Add 1 to all even integers, nothing to odd integers.\n",
    "Concatenates \"!\" to all strings and make the first letter of the word a capital letter.\n",
    "Changes all boolean values to its opposite.\n",
    "Examples\n",
    "change_types([\"a\", 12, True]) ➞ [\"A!\", 13, False]\n",
    "\n",
    "change_types([13, \"13\", \"12\", \"twelve\"]) ➞ [13, \"13!\", \"12!\", \"Twelve!\"]\n",
    "\n",
    "change_types([False, \"False\", \"true\"]) ➞ [True, \"False!\", \"True!\"]\n",
    "Notes\n",
    "There won't be any float values.\n",
    "You won't get strings with both numbers and letters in them.\n",
    "Although the task may be easy, try keeping your code as clean and as readable as possible!"
   ]
  },
  {
   "cell_type": "code",
   "execution_count": 170,
   "id": "fea2b3f8",
   "metadata": {},
   "outputs": [],
   "source": [
    "def modify_list(lst):\n",
    "    modified_lst = []\n",
    "    for element in lst:\n",
    "        if isinstance (element, int):\n",
    "            modified_lst.append(element + 1 if element % 2 ==0 else element)\n",
    "        elif isinstance (element, str):\n",
    "            modified_lst.append(element.capitalize() + \"!\")\n",
    "                                \n",
    "        elif isinstance (element, bool):\n",
    "            modified-lst.append(not element)\n",
    "        else:\n",
    "            modified_lst.append(element)\n",
    "    return modified_lst"
   ]
  },
  {
   "cell_type": "code",
   "execution_count": 171,
   "id": "98a43d67",
   "metadata": {},
   "outputs": [
    {
     "data": {
      "text/plain": [
       "['A!', 13, True]"
      ]
     },
     "execution_count": 171,
     "metadata": {},
     "output_type": "execute_result"
    }
   ],
   "source": [
    "modify_list([\"a\", 12, True])"
   ]
  },
  {
   "cell_type": "code",
   "execution_count": 172,
   "id": "c7e3caa8",
   "metadata": {},
   "outputs": [
    {
     "data": {
      "text/plain": [
       "[13, '13!', '12!', 'Twelve!']"
      ]
     },
     "execution_count": 172,
     "metadata": {},
     "output_type": "execute_result"
    }
   ],
   "source": [
    "modify_list([13, \"13\", \"12\", \"twelve\"])"
   ]
  },
  {
   "cell_type": "markdown",
   "id": "d4ab0aa2",
   "metadata": {},
   "source": [
    "29.Minimal VIII: This and That\n",
    "Check the principles of minimalist code in the intro to the first challenge.\n",
    "\n",
    "In the Code tab you will find a code that is missing a single character in order to pass the tests. However, your goal is to submit a function as minimalist as possible. Use the tips in the tips section below.\n",
    "\n",
    "Write a function that returns the third character of the third string in a given list of strings. Return False if it can't be found.\n",
    "\n",
    "Tips\n",
    "The operator and can be used to assign or return the first falsy value among two or more elements. If no falsy value is found, the last element will be returned.\n",
    "\n",
    "For example, the code:\n",
    "\n",
    "def all_of_these(a, b, c):\n",
    "    return a if not a else b if not b else c\n",
    "Can be simplified to:\n",
    "\n",
    "def all_of_these(a, b, c):\n",
    "    return a and b and c\n",
    "Bonus\n",
    "Once a falsy value is found, the rest of the elements will not be checked. For example, if we wanted to access the first element of a list, but the list happened to be empty, we would get an error. We can use and to work around this issue:\n",
    "\n",
    "lst1 = [1, 2, 3]\n",
    "lst2 = []\n",
    "\n",
    "lst1 and lst1[0] ➞ 1\n",
    "lst2 and lst2[0] ➞ []\n",
    "Notes\n",
    "This is an open series: there isn't a definite list of features for the challenges. Please, do not hesitate to leave your suggestions in the Comments.\n",
    "Readability is indeed a subjective concept. Let's discuss it! Feel free to leave your opinion in the Comments.\n",
    "You can find all the exercises in this series over here."
   ]
  },
  {
   "cell_type": "code",
   "execution_count": 173,
   "id": "f3392ea6",
   "metadata": {},
   "outputs": [],
   "source": [
    "def get_third_char(strings):\n",
    "    return strings[2][2] if len(strings) >= 3 and len(strings[2]) >= 3 else False"
   ]
  },
  {
   "cell_type": "code",
   "execution_count": 176,
   "id": "d8a339f8",
   "metadata": {},
   "outputs": [
    {
     "data": {
      "text/plain": [
       "'a'"
      ]
     },
     "execution_count": 176,
     "metadata": {},
     "output_type": "execute_result"
    }
   ],
   "source": [
    "get_third_char(['eda', 'bit', 'edabit', 'bit', 'eda'])"
   ]
  },
  {
   "cell_type": "markdown",
   "id": "877ba202",
   "metadata": {},
   "source": [
    "30.String Pairs\n",
    "Create a function that takes a string s and returns a list of two-paired characters. If the string has an odd number of characters, add an asterisk * in the final pair.\n",
    "\n",
    "See the below examples for a better understanding:\n",
    "\n",
    "Examples\n",
    "string_pairs(\"mubashir\") ➞ [\"mu\", \"ba\", \"sh\", \"ir\"]\n",
    "\n",
    "string_pairs(\"edabit\") ➞ [\"ed\", \"ab\", \"it\"]\n",
    "\n",
    "string_pairs(\"airforces\") ➞ [\"ai\", \"rf\", \"or\", \"ce\", \"s*\"]\n",
    "Notes\n",
    "Return [] if the given string is empty."
   ]
  },
  {
   "cell_type": "code",
   "execution_count": 177,
   "id": "86edf24e",
   "metadata": {},
   "outputs": [
    {
     "name": "stdout",
     "output_type": "stream",
     "text": [
      "['ab', 'cd', 'ef', 'gh']\n",
      "['ab', 'cd', 'e*']\n"
     ]
    }
   ],
   "source": [
    "def pair_characters(string):\n",
    "    pairs = [string[i:i+2] for i in range(0, len(string), 2)]\n",
    "    if len(string) % 2 != 0:\n",
    "        pairs[-1] += \"*\"\n",
    "    return pairs\n",
    "print(pair_characters(\"abcdefgh\"))  \n",
    "print(pair_characters(\"abcde\"))  "
   ]
  },
  {
   "cell_type": "markdown",
   "id": "70c5b762",
   "metadata": {},
   "source": [
    "31.Malthusian Catastrophe\n",
    "A man named Thomas Malthus described what is now called a Malthusian Catastrophe. According to him, food production grows by a fixed amount, but population grows by a percentage. So, the food supply would soon be insufficient for the population.\n",
    "\n",
    "Your job is to find out when that will occur. For this challenge, assume 1 population needs 1 unit of food production. Food production and population both start at 100. The year starts at 0.\n",
    "\n",
    "The catastrophe happens when the population is larger than food production.\n",
    "\n",
    "The function will pass:\n",
    "\n",
    "food_growth ⁠— an integer ⁠— food production increase per year.\n",
    "pop_mult ⁠— a floating-point number ⁠— population growth multiplier per year.\n",
    "Examples\n",
    "malthusian(4255, 1.41) ➞ 20\n",
    "#{ food_prod: 85,200, pop: 96,467.77..., year: 20 }\n",
    "\n",
    "malthusian(9433, 1.09) ➞ 107\n",
    "#{ food_prod: 1,009,431, pop: 1,010,730.28..., year: 107 }\n",
    "\n",
    "malthusian(5879, 1.77) ➞ 12\n",
    "#{ food_prod: 70,648, pop: 94,553.84..., year: 12 }\n",
    "Notes\n",
    "Return the year that the overtake happens, not the next year.\n",
    "Make sure you don't make the mistake of adding a year, then calculating the changes to food and population. That way, you miss year 0.\n",
    "If the population and food production are equal, that is not a catastrophe."
   ]
  },
  {
   "cell_type": "code",
   "execution_count": 1,
   "id": "b8111997",
   "metadata": {},
   "outputs": [],
   "source": [
    "def malthusian_catastrophe(food_growth,pop_mult):\n",
    "    population=100\n",
    "    food_production=100\n",
    "    year=0\n",
    "    \n",
    "    while population<=food_production:\n",
    "        food_production+=food_growth\n",
    "        population*=pop_mult\n",
    "        year+=1\n",
    "        \n",
    "    return year"
   ]
  },
  {
   "cell_type": "code",
   "execution_count": 3,
   "id": "1fc2474d",
   "metadata": {},
   "outputs": [
    {
     "data": {
      "text/plain": [
       "20"
      ]
     },
     "execution_count": 3,
     "metadata": {},
     "output_type": "execute_result"
    }
   ],
   "source": [
    "malthusian_catastrophe(4255, 1.41)"
   ]
  },
  {
   "cell_type": "code",
   "execution_count": 7,
   "id": "a8b6dbf6",
   "metadata": {},
   "outputs": [
    {
     "data": {
      "text/plain": [
       "12"
      ]
     },
     "execution_count": 7,
     "metadata": {},
     "output_type": "execute_result"
    }
   ],
   "source": [
    "malthusian_catastrophe(5879, 1.77)"
   ]
  },
  {
   "cell_type": "markdown",
   "id": "1b5588eb",
   "metadata": {},
   "source": [
    "32.Special Lists\n",
    "A list is special if every even index contains an even number and every odd index contains an odd number. Create a function that returns True if an array is special, and False otherwise.\n",
    "\n",
    "Examples\n",
    "is_special_array([2, 7, 4, 9, 6, 1, 6, 3]) ➞ True\n",
    "#Even indices: [2, 4, 6, 6]; Odd indices: [7, 9, 1, 3]\n",
    "\n",
    "is_special_array([2, 7, 9, 1, 6, 1, 6, 3]) ➞ False\n",
    "#Index 2 has an odd number 9.\n",
    "\n",
    "is_special_array([2, 7, 8, 8, 6, 1, 6, 3]) ➞ False\n",
    "#Index 3 has an even number 8.\n",
    "Notes\n",
    "N/A"
   ]
  },
  {
   "cell_type": "code",
   "execution_count": 9,
   "id": "b8c01300",
   "metadata": {},
   "outputs": [],
   "source": [
    "def is_special_array(lst):\n",
    "    for i in range(len(lst)):\n",
    "        if i %2==0 and lst[i]%2!=0:\n",
    "            return False\n",
    "        if i%2!=0 and lst[i]%2==0:\n",
    "            return False\n",
    "    return True"
   ]
  },
  {
   "cell_type": "code",
   "execution_count": 10,
   "id": "14f6b1b0",
   "metadata": {},
   "outputs": [
    {
     "data": {
      "text/plain": [
       "True"
      ]
     },
     "execution_count": 10,
     "metadata": {},
     "output_type": "execute_result"
    }
   ],
   "source": [
    "is_special_array([2, 7, 4, 9, 6, 1, 6, 3])"
   ]
  },
  {
   "cell_type": "code",
   "execution_count": 11,
   "id": "e5966a7f",
   "metadata": {},
   "outputs": [
    {
     "data": {
      "text/plain": [
       "False"
      ]
     },
     "execution_count": 11,
     "metadata": {},
     "output_type": "execute_result"
    }
   ],
   "source": [
    "is_special_array([2, 7, 9, 1, 6, 1, 6, 3])"
   ]
  },
  {
   "cell_type": "markdown",
   "id": "6e35381f",
   "metadata": {},
   "source": [
    "33.Minimal III: You're a Boolean Now\n",
    "Check the principles of minimalist code in the intro to the first challenge.\n",
    "\n",
    "In the Code tab you will find code that is missing a single character in order to pass the tests. However, your goal is to submit a function that is as minimalist as possible. Use the tips in the tips section below.\n",
    "\n",
    "Write a function that returns True if the given positive integer is a prime number and False if it's not.\n",
    "\n",
    "Tips\n",
    "Everything you write after if, not, while or around and, or, is, in is interpreted as a boolean.\n",
    "\n",
    "A function that prints a countdown from the absolute value of x and also prints \"hey\" if the number is a multiple of 3 and contains the digit \"3\", could be written as:\n",
    "\n",
    "def countdown(x):\n",
    "    if x < 0:\n",
    "        x = x * -1\n",
    "    while x > 0:\n",
    "        if x % 3 == 0:\n",
    "            if \"3\" in str(x):\n",
    "                print(x)\n",
    "                print(\"hey\")\n",
    "        else:\n",
    "            print(x)\n",
    "        x = x - 1\n",
    "This can be simplified to:\n",
    "\n",
    "def countdown(x):\n",
    "    x = abs(x)\n",
    "    while x:\n",
    "        print(x)\n",
    "        if not x % 3 and \"3\" in str(x):\n",
    "            print(\"hey\")\n",
    "        x -= 1\n",
    "abs() gets the absolute value of a number.\n",
    "while will interpret x as a boolean, exiting the loop after reaching zero.\n",
    "print(x) needs to be called whether x is a \"hey number\" or not. This can be done outside of any if statement, instead of in both.\n",
    "Both conditions x % 3 == 0 and \"3\" in str(x) need to be True, so they can be joined with an and.\n",
    "Bonus\n",
    "A more Pythonistic approach:\n",
    "\n",
    "def countdown(x):\n",
    "    for i in range(abs(x), -1, -1):\n",
    "        print(x)\n",
    "        if not x % 3 and \"3\" in str(x):\n",
    "            print(\"hey\")\n",
    "Notes\n",
    "This is an open series: there isn't a definite list of features for the challenges. Please, do not hesitate to leave your suggestions in the Comment tab.\n",
    "Readability is indeed a subjective concept. Let's discuss it! Feel free to leave your opinion in the Comments tab.\n",
    "You can find all the exercises in this series over here."
   ]
  },
  {
   "cell_type": "code",
   "execution_count": 12,
   "id": "8f761068",
   "metadata": {},
   "outputs": [
    {
     "name": "stdout",
     "output_type": "stream",
     "text": [
      "True\n",
      "False\n",
      "False\n"
     ]
    }
   ],
   "source": [
    "def is_prime(n):\n",
    "    return n > 1 and all(n % i != 0 for i in range(2, int(n ** 0.5) + 1))\n",
    "print(is_prime(17)) \n",
    "print(is_prime(25))  \n",
    "print(is_prime(1))"
   ]
  },
  {
   "cell_type": "code",
   "execution_count": null,
   "id": "3c6fa5ea",
   "metadata": {},
   "outputs": [],
   "source": []
  }
 ],
 "metadata": {
  "kernelspec": {
   "display_name": "Python 3 (ipykernel)",
   "language": "python",
   "name": "python3"
  },
  "language_info": {
   "codemirror_mode": {
    "name": "ipython",
    "version": 3
   },
   "file_extension": ".py",
   "mimetype": "text/x-python",
   "name": "python",
   "nbconvert_exporter": "python",
   "pygments_lexer": "ipython3",
   "version": "3.9.12"
  }
 },
 "nbformat": 4,
 "nbformat_minor": 5
}
