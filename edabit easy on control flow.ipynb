{
 "cells": [
  {
   "cell_type": "markdown",
   "id": "411f57f2",
   "metadata": {},
   "source": [
    "1.Chat Room Status\n",
    "Write a function that returns the number of users in a chatroom based on the following rules:\n",
    "\n",
    "If there is no one, return \"no one online\".\n",
    "If there is 1 person, return \"user1 online\".\n",
    "If there are 2 people, return \"user1 and user2 online\".\n",
    "If there are n>2 people, return the first two names and add \"and n-2 more online\".\n",
    "For example, if there are 5 users, return:\n",
    "\n",
    "\"user1, user2 and 3 more online\"\n",
    "Examples\n",
    "chatroom_status([]) ➞ \"no one online\"\n",
    "\n",
    "chatroom_status([\"paRIE_to\"]) ➞ \"paRIE_to online\"\n",
    "\n",
    "chatroom_status([\"s234f\", \"mailbox2\"]) ➞ \"s234f and mailbox2 online\"\n",
    "\n",
    "chatroom_status([\"pap_ier44\", \"townieBOY\", \"panda321\", \"motor_bike5\", \"sandwichmaker833\", \"violinist91\"])\n",
    "➞ \"pap_ier44, townieBOY and 4 more online\"\n",
    "Notes\n",
    "N/A"
   ]
  },
  {
   "cell_type": "code",
   "execution_count": 1,
   "id": "7657e49b",
   "metadata": {},
   "outputs": [
    {
     "name": "stdout",
     "output_type": "stream",
     "text": [
      "no one online\n",
      "Alice online\n",
      "Alice and Bob online\n",
      "Alice and Bob and 2 more online\n"
     ]
    }
   ],
   "source": [
    "def chatroom_status(users):\n",
    "    count = len(users)\n",
    "\n",
    "    if count == 0:\n",
    "        return \"no one online\"\n",
    "    elif count == 1:\n",
    "        return f\"{users[0]} online\"\n",
    "    elif count == 2:\n",
    "        return f\"{users[0]} and {users[1]} online\"\n",
    "    else:\n",
    "        return f\"{users[0]} and {users[1]} and {count - 2} more online\"\n",
    "print(chatroom_status([]))                     \n",
    "print(chatroom_status([\"Alice\"]))            \n",
    "print(chatroom_status([\"Alice\", \"Bob\"]))         \n",
    "print(chatroom_status([\"Alice\", \"Bob\", \"Charlie\", \"Dave\"]))"
   ]
  },
  {
   "cell_type": "markdown",
   "id": "155515f0",
   "metadata": {},
   "source": [
    "2.Count Palindrome Numbers in a Range\n",
    "Create a function that returns the number of palindrome numbers in a specified range (inclusive).\n",
    "\n",
    "For example, between 8 and 34, there are 5 palindromes: 8, 9, 11, 22 and 33. Between 1550 and 1552 there is exactly one palindrome: 1551.\n",
    "\n",
    "Examples\n",
    "count_palindromes(1, 10) ➞ 9\n",
    "\n",
    "count_palindromes(555, 556) ➞ 1\n",
    "\n",
    "count_palindromes(878, 898) ➞ 3\n",
    "Notes\n",
    "A palindrome number is a number which remains the same when its digits are reversed. For example, 2552 reversed is still 2552. The reflectional symmetry of this number makes it a palindromic number.\n",
    "Single-digit numbers are trivially palindrome numbers."
   ]
  },
  {
   "cell_type": "code",
   "execution_count": 8,
   "id": "088c3e64",
   "metadata": {},
   "outputs": [],
   "source": [
    "def count_palindromes(start,end):\n",
    "    count=0\n",
    "    for num in range(start,end+1):\n",
    "        if str(num)==str(num)[::-1]:\n",
    "            count+=1\n",
    "    return count\n",
    "    "
   ]
  },
  {
   "cell_type": "code",
   "execution_count": 9,
   "id": "e81b603d",
   "metadata": {},
   "outputs": [
    {
     "data": {
      "text/plain": [
       "9"
      ]
     },
     "execution_count": 9,
     "metadata": {},
     "output_type": "execute_result"
    }
   ],
   "source": [
    "count_palindromes(1, 10)"
   ]
  },
  {
   "cell_type": "markdown",
   "id": "815edc8c",
   "metadata": {},
   "source": [
    "3.Sum of all Evens in a Matrix\n",
    "Create a function that returns the sum of all even elements in a 2D matrix.\n",
    "\n",
    "Examples\n",
    "sum_of_evens([\n",
    "  [1, 0, 2],\n",
    "  [5, 5, 7],\n",
    "  [9, 4, 3]\n",
    "]) ➞ 6\n",
    "\n",
    "// 2 + 4 = 6\n",
    "\n",
    "sum_of_evens([\n",
    "  [1, 1],\n",
    "  [1, 1]\n",
    "]) ➞ 0\n",
    "\n",
    "sum_of_evens([\n",
    "  [42, 9],\n",
    "  [16, 8]\n",
    "]) ➞ 66\n",
    "\n",
    "sum_of_evens([\n",
    "  [],\n",
    "  [],\n",
    "  []\n",
    "]) ➞ 0\n",
    "Notes\n",
    "Submatrices will be of equal length.\n",
    "Return 0 if the 2D matrix only consists of empty submatrices."
   ]
  },
  {
   "cell_type": "code",
   "execution_count": 12,
   "id": "432d0e14",
   "metadata": {},
   "outputs": [
    {
     "name": "stdout",
     "output_type": "stream",
     "text": [
      "6\n",
      "4\n",
      "66\n"
     ]
    }
   ],
   "source": [
    "def sum_of_evens(matrix):\n",
    "    total_sum = 0\n",
    "    for row in matrix:\n",
    "        for num in row:\n",
    "            if num % 2 == 0:\n",
    "                total_sum += num\n",
    "    return total_sum\n",
    "matrix1 = [[1, 0, 2],[5, 5, 7],[19, 4, 31]]\n",
    "print(sum_of_evens(matrix1))\n",
    "\n",
    "matrix2 = [[1, 4],[1, 1]]\n",
    "print(sum_of_evens(matrix2))\n",
    "\n",
    "matrix3 = [[42, 91], [16, 8],[11, 11]]\n",
    "print(sum_of_evens(matrix3))"
   ]
  },
  {
   "cell_type": "markdown",
   "id": "bf22e53b",
   "metadata": {},
   "source": [
    "4.Split a String Based on Vowels and Consonants\n",
    "Write a function that takes a string, breaks it up and returns it with vowels first, consonants second. For any character that's not a vowel (like special characters or spaces), treat them like consonants.\n",
    "\n",
    "Examples\n",
    "split(\"abcde\") ➞ \"aebcd\"\n",
    "\n",
    "split(\"Hello!\") ➞ \"eoHll!\"\n",
    "\n",
    "split(\"What's the time?\") ➞ \"aeieWht's th tm?\"\n",
    "Notes\n",
    "Vowels are a, e, i, o, u.\n",
    "Define a separate is_vowel() function for easier to read code (recommendation)."
   ]
  },
  {
   "cell_type": "code",
   "execution_count": 14,
   "id": "e21f73c2",
   "metadata": {},
   "outputs": [
    {
     "name": "stdout",
     "output_type": "stream",
     "text": [
      "aebcd\n",
      "opythn\n",
      "aeoaeppl rng\n"
     ]
    }
   ],
   "source": [
    "def vowel_consonant_separator(string):\n",
    "    vowels = ''\n",
    "    consonants = ''\n",
    "    for char in string:\n",
    "        if char.isalpha():\n",
    "            if char.lower() in 'aeiou':\n",
    "                vowels += char\n",
    "            else:\n",
    "                consonants += char\n",
    "        else:\n",
    "            consonants += char\n",
    "    return vowels + consonants\n",
    "print(vowel_consonant_separator(\"abcde\"))   \n",
    "print(vowel_consonant_separator(\"python\"))        \n",
    "print(vowel_consonant_separator(\"apple orange\"))  "
   ]
  },
  {
   "cell_type": "markdown",
   "id": "2a31f5ba",
   "metadata": {},
   "source": [
    "5.H4ck3r Sp34k\n",
    "Create a function that takes a string as an argument and returns a coded (h4ck3r 5p34k) version of the string.\n",
    "\n",
    "Examples\n",
    "hacker_speak(\"javascript is cool\") ➞ \"j4v45cr1pt 15 c00l\"\n",
    "\n",
    "hacker_speak(\"programming is fun\") ➞ \"pr0gr4mm1ng 15 fun\"\n",
    "\n",
    "hacker_speak(\"become a coder\") ➞ \"b3c0m3 4 c0d3r\"\n",
    "Notes\n",
    "In order to work properly, the function should replace all \"a\"s with 4, \"e\"s with 3, \"i\"s with 1, \"o\"s with 0, and \"s\"s with 5."
   ]
  },
  {
   "cell_type": "code",
   "execution_count": 28,
   "id": "895351a0",
   "metadata": {},
   "outputs": [
    {
     "name": "stdout",
     "output_type": "stream",
     "text": [
      "H3ll0, W0rld!\n",
      "Py7h0n 15 c00l\n",
      "0p3n41 15 4w350m3\n"
     ]
    }
   ],
   "source": [
    "def hacker_speak(string):\n",
    "    hacker_speak_dict= {'a': '4','e': '3','i': '1','o': '0','s': '5','t': '7'}\n",
    "    hacker_string = \"\"\n",
    "    for char in string:\n",
    "        if char.lower() in  hacker_speak_dict:\n",
    "            hacker_string += hacker_speak_dict[char.lower()]\n",
    "        else:\n",
    "            hacker_string += char\n",
    "    return hacker_string\n",
    "print(hacker_speak(\"Hello, World!\"))  \n",
    "print(hacker_speak(\"Python is cool\"))\n",
    "print(hacker_speak(\"OpenAI is awesome\"))"
   ]
  },
  {
   "cell_type": "markdown",
   "id": "33a30839",
   "metadata": {},
   "source": [
    "6.Get the Century\n",
    "Create a function that takes in a year and returns the correct century.\n",
    "\n",
    "Examples\n",
    "century(1756) ➞ \"18th century\"\n",
    "\n",
    "century(1555) ➞ \"16th century\"\n",
    "\n",
    "century(1000) ➞ \"10th century\"\n",
    "\n",
    "century(1001) ➞ \"11th century\"\n",
    "\n",
    "century(2005) ➞ \"21st century\"\n",
    "Notes\n",
    "All years will be between 1000 and 2010.\n",
    "The 11th century is between 1001 and 1100.\n",
    "The 18th century is between 1701-1800."
   ]
  },
  {
   "cell_type": "code",
   "execution_count": 29,
   "id": "0bc0e6e7",
   "metadata": {},
   "outputs": [],
   "source": [
    "def find_centuary(year):\n",
    "    centuary=(year-1)//100+1\n",
    "    return centuary"
   ]
  },
  {
   "cell_type": "code",
   "execution_count": 30,
   "id": "a24560e0",
   "metadata": {},
   "outputs": [
    {
     "data": {
      "text/plain": [
       "21"
      ]
     },
     "execution_count": 30,
     "metadata": {},
     "output_type": "execute_result"
    }
   ],
   "source": [
    "find_centuary(2023)"
   ]
  },
  {
   "cell_type": "code",
   "execution_count": 31,
   "id": "26125299",
   "metadata": {},
   "outputs": [
    {
     "data": {
      "text/plain": [
       "16"
      ]
     },
     "execution_count": 31,
     "metadata": {},
     "output_type": "execute_result"
    }
   ],
   "source": [
    "find_centuary(1555)"
   ]
  },
  {
   "cell_type": "code",
   "execution_count": null,
   "id": "e85a535d",
   "metadata": {},
   "outputs": [],
   "source": []
  }
 ],
 "metadata": {
  "kernelspec": {
   "display_name": "Python 3 (ipykernel)",
   "language": "python",
   "name": "python3"
  },
  "language_info": {
   "codemirror_mode": {
    "name": "ipython",
    "version": 3
   },
   "file_extension": ".py",
   "mimetype": "text/x-python",
   "name": "python",
   "nbconvert_exporter": "python",
   "pygments_lexer": "ipython3",
   "version": "3.9.12"
  }
 },
 "nbformat": 4,
 "nbformat_minor": 5
}
