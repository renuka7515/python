{
 "cells": [
  {
   "cell_type": "markdown",
   "id": "b5eded47",
   "metadata": {},
   "source": [
    "1. Adding Numbers\n",
    "Create a function that takes two number strings and returns their sum as a string.\n",
    "\n",
    "Examples\n",
    "add(\"111\", \"111\") ➞ \"222\"\n",
    "\n",
    "add(\"10\", \"80\") ➞ \"90\"\n",
    "\n",
    "add(\"\", \"20\") ➞ \"Invalid Operation\"\n",
    "Notes\n",
    "If any input is \"\" or None, return \"Invalid Operation\"."
   ]
  },
  {
   "cell_type": "code",
   "execution_count": 1,
   "id": "69e0ab48",
   "metadata": {},
   "outputs": [],
   "source": [
    "def add(num1,num2):\n",
    "    num1_int=int(num1)\n",
    "    num2_int=int(num2)\n",
    "    \n",
    "    sum_int=num1_int+num2_int\n",
    "    \n",
    "    return str(sum_int)"
   ]
  },
  {
   "cell_type": "code",
   "execution_count": 2,
   "id": "4041b762",
   "metadata": {},
   "outputs": [
    {
     "data": {
      "text/plain": [
       "'222'"
      ]
     },
     "execution_count": 2,
     "metadata": {},
     "output_type": "execute_result"
    }
   ],
   "source": [
    "add(\"111\", \"111\")"
   ]
  },
  {
   "cell_type": "markdown",
   "id": "86a42181",
   "metadata": {},
   "source": [
    "2.Quadratic Equation\n",
    "Create a function to find only the root value of x in any quadratic equation ax^2 + bx + c. The function will take three arguments:\n",
    "\n",
    "a as the coefficient of x^2\n",
    "b as the coefficient of x\n",
    "c as the constant term\n",
    "Examples\n",
    "quadratic_equation(1, 2, -3) ➞ 1\n",
    "\n",
    "quadratic_equation(2, -7, 3) ➞ 3\n",
    "\n",
    "quadratic_equation(1, -12, -28) ➞ 14\n",
    "Notes\n",
    "Quadratic equation is always guaranteed to have a root.\n",
    "Check the Resources tab for more information on quadratic equations.\n",
    "Calculate only the root that sums the square root of the discriminant, not the one that subtracts it.\n",
    "Round the value / return only integer value."
   ]
  },
  {
   "cell_type": "code",
   "execution_count": 15,
   "id": "fc2ab16c",
   "metadata": {},
   "outputs": [],
   "source": [
    "def find_root(a,b,c):\n",
    "    discriminant=b**2 - 4*a*c\n",
    "    \n",
    "    if discriminant<0:\n",
    "        return \"no real roots exist\"\n",
    "    elif discriminant==0:\n",
    "        root= -b/(2*a)\n",
    "        return root\n",
    "    else:\n",
    "        sqrt_discriminant=math.sqrt(discriminant)\n",
    "        root1=(-b+sqrt_discriminant) / (2*a)\n",
    "        root2=(-b-sqrt_discriminant) / (2*a)\n",
    "        return root1,root2"
   ]
  },
  {
   "cell_type": "code",
   "execution_count": 16,
   "id": "1f516f81",
   "metadata": {},
   "outputs": [
    {
     "data": {
      "text/plain": [
       "(3.0, 1.0)"
      ]
     },
     "execution_count": 16,
     "metadata": {},
     "output_type": "execute_result"
    }
   ],
   "source": [
    "find_root(1,-4,3)"
   ]
  },
  {
   "cell_type": "markdown",
   "id": "67ab47cf",
   "metadata": {},
   "source": [
    "3.Two Distinct Elements\n",
    "In each input list, every number repeats at least once, except for two. Write a function that returns the two unique numbers.\n",
    "\n",
    "Examples\n",
    "return_unique([1, 9, 8, 8, 7, 6, 1, 6]) ➞ [9, 7]\n",
    "\n",
    "return_unique([5, 5, 2, 4, 4, 4, 9, 9, 9, 1]) ➞ [2, 1]\n",
    "\n",
    "return_unique([9, 5, 6, 8, 7, 7, 1, 1, 1, 1, 1, 9, 8]) ➞ [5, 6]\n",
    "Notes\n",
    "Keep the same ordering in the output."
   ]
  },
  {
   "cell_type": "code",
   "execution_count": 17,
   "id": "d629814f",
   "metadata": {},
   "outputs": [],
   "source": [
    "def find_unique_numbers(nums):\n",
    "    xor_result = 0\n",
    "    \n",
    "    \n",
    "    for num in nums:\n",
    "        xor_result ^= num\n",
    "    \n",
    "  \n",
    "    rightmost_set_bit = xor_result & -xor_result\n",
    "    \n",
    "\n",
    "    unique1 = 0\n",
    "    unique2 = 0\n",
    "    \n",
    "\n",
    "    for num in nums:\n",
    "        if num & rightmost_set_bit:\n",
    "            unique1 ^= num\n",
    "        else:\n",
    "            unique2 ^= num\n",
    "    \n",
    "    return unique1, unique2\n"
   ]
  },
  {
   "cell_type": "code",
   "execution_count": 20,
   "id": "81fe8d00",
   "metadata": {},
   "outputs": [
    {
     "data": {
      "text/plain": [
       "(7, 9)"
      ]
     },
     "execution_count": 20,
     "metadata": {},
     "output_type": "execute_result"
    }
   ],
   "source": [
    "find_unique_numbers([1, 9, 8, 8, 7, 6, 1, 6])"
   ]
  },
  {
   "cell_type": "markdown",
   "id": "8d55c938",
   "metadata": {},
   "source": [
    "4.Stupid Addition\n",
    "Create a function that takes two parameters and, if both parameters are strings, add them as if they were integers or if the two parameters are integers, concatenate them.\n",
    "\n",
    "Examples\n",
    "stupid_addition(1, 2) ➞ \"12\"\n",
    "\n",
    "stupid_addition(\"1\", \"2\") ➞ 3\n",
    "\n",
    "stupid_addition(\"1\", 2) ➞ None\n",
    "Notes\n",
    "If the two parameters are different data types, return None.\n",
    "All parameters will either be strings or integers."
   ]
  },
  {
   "cell_type": "code",
   "execution_count": 21,
   "id": "5f4c8b79",
   "metadata": {},
   "outputs": [],
   "source": [
    "def combine_strings_or_concatenate_integers(param1, param2):\n",
    "    if isinstance(param1, str) and isinstance(param2, str):\n",
    "        return str(int(param1) + int(param2))\n",
    "    elif isinstance(param1, int) and isinstance(param2, int):\n",
    "        return str(param1) + str(param2)\n",
    "    else:\n",
    "        return \"Invalid input types.\""
   ]
  },
  {
   "cell_type": "code",
   "execution_count": 22,
   "id": "d29de746",
   "metadata": {},
   "outputs": [
    {
     "name": "stdout",
     "output_type": "stream",
     "text": [
      "30\n"
     ]
    }
   ],
   "source": [
    "result1 = combine_strings_or_concatenate_integers(\"10\", \"20\")\n",
    "print(result1) "
   ]
  },
  {
   "cell_type": "markdown",
   "id": "b7a11c81",
   "metadata": {},
   "source": [
    "5.A Long Long Time\n",
    "Create a function that takes three values:\n",
    "\n",
    "h hours\n",
    "m minutes\n",
    "s seconds\n",
    "Return the value that's the longest duration.\n",
    "\n",
    "Examples\n",
    "longest_time(1, 59, 3598) ➞ 1\n",
    "\n",
    "longest_time(2, 300, 15000) ➞ 300\n",
    "\n",
    "longest_time(15, 955, 59400) ➞ 59400\n",
    "Notes\n",
    "No two durations will be the same."
   ]
  },
  {
   "cell_type": "code",
   "execution_count": 23,
   "id": "9f581415",
   "metadata": {},
   "outputs": [],
   "source": [
    "def longest_duration(h, m, s):\n",
    "    # Convert hours and minutes to seconds\n",
    "    duration_h = h * 3600\n",
    "    duration_m = m * 60\n",
    "\n",
    "    # Calculate total duration in seconds\n",
    "    total_seconds = duration_h + duration_m + s\n",
    "\n",
    "    # Compare durations and return the longest one\n",
    "    if total_seconds >= duration_h and total_seconds >= duration_m and total_seconds >= s:\n",
    "        return total_seconds\n",
    "    elif duration_h >= total_seconds and duration_h >= duration_m and duration_h >= s:\n",
    "        return duration_h\n",
    "    elif duration_m >= total_seconds and duration_m >= duration_h and duration_m >= s:\n",
    "        return duration_m\n",
    "    else:\n",
    "        return s"
   ]
  },
  {
   "cell_type": "code",
   "execution_count": 24,
   "id": "24b2cb18",
   "metadata": {},
   "outputs": [
    {
     "data": {
      "text/plain": [
       "10738"
      ]
     },
     "execution_count": 24,
     "metadata": {},
     "output_type": "execute_result"
    }
   ],
   "source": [
    "longest_duration(1,59,3598)"
   ]
  },
  {
   "cell_type": "code",
   "execution_count": 25,
   "id": "fc1b08e3",
   "metadata": {},
   "outputs": [
    {
     "data": {
      "text/plain": [
       "40200"
      ]
     },
     "execution_count": 25,
     "metadata": {},
     "output_type": "execute_result"
    }
   ],
   "source": [
    "longest_duration(2, 300, 15000)"
   ]
  },
  {
   "cell_type": "markdown",
   "id": "6353597d",
   "metadata": {},
   "source": [
    "6.Likes vs. Dislikes\n",
    "YouTube currently displays a like and a dislike button, allowing you to express your opinions about particular content. It's set up in such a way that you cannot like and dislike a video at the same time.\n",
    "\n",
    "There are two other interesting rules to be noted about the interface:\n",
    "\n",
    "Pressing a button, which is already active, will undo your press.\n",
    "If you press the like button after pressing the dislike button, the like button overwrites the previous \"dislike\" state. The same is true for the other way round.\n",
    "Create a function that takes in a list of button inputs and returns the final state.\n",
    "\n",
    "Examples\n",
    "like_or_dislike([\"Dislike\"]) ➞ \"Dislike\"\n",
    "\n",
    "like_or_dislike([\"Like\", \"Like\"]) ➞ \"Nothing\"\n",
    "\n",
    "like_or_dislike([\"Dislike\", \"Like\"]) ➞ \"Like\"\n",
    "\n",
    "like_or_dislike([\"Like\", \"Dislike\", \"Dislike\"]) ➞ \"Nothing\"\n",
    "Notes\n",
    "If no button is currently active, return \"Nothing\".\n",
    "If the list is empty, return \"Nothing\"."
   ]
  },
  {
   "cell_type": "code",
   "execution_count": 30,
   "id": "8fcc992e",
   "metadata": {},
   "outputs": [],
   "source": [
    "def like_or_dislike(buttons):\n",
    "    state = None\n",
    "    for button in buttons:\n",
    "        if button == 'Like':\n",
    "            if state == 'Dislike':\n",
    "                state = 'Like'\n",
    "            else:\n",
    "                state = 'Like' if state != 'Like' else None\n",
    "        elif button == 'Dislike':\n",
    "            if state == 'Like':\n",
    "                state = 'Dislike'\n",
    "            else:\n",
    "                state = 'Dislike' if state != 'Dislike' else None\n",
    "    return state if state else 'Nothing'\n"
   ]
  },
  {
   "cell_type": "code",
   "execution_count": 31,
   "id": "adb3bb97",
   "metadata": {},
   "outputs": [
    {
     "data": {
      "text/plain": [
       "'Dislike'"
      ]
     },
     "execution_count": 31,
     "metadata": {},
     "output_type": "execute_result"
    }
   ],
   "source": [
    "like_or_dislike([\"Dislike\"])"
   ]
  },
  {
   "cell_type": "markdown",
   "id": "507e3379",
   "metadata": {},
   "source": [
    "7.Oddish vs. Evenish\n",
    "Create a function that determines whether a number is Oddish or Evenish. A number is Oddish if the sum of all of its digits is odd, and a number is Evenish if the sum of all of its digits is even. If a number is Oddish, return \"Oddish\". Otherwise, return \"Evenish\".\n",
    "\n",
    "For example, oddish_or_evenish(121) should return \"Evenish\", since 1 + 2 + 1 = 4. oddish_or_evenish(41) should return \"Oddish\", since 4 + 1 = 5.\n",
    "\n",
    "Examples\n",
    "oddish_or_evenish(43) ➞ \"Oddish\"\n",
    "#4 + 3 = 7\n",
    "#7 % 2 = 1\n",
    "\n",
    "oddish_or_evenish(373) ➞ \"Oddish\"\n",
    "#3 + 7 + 3 = 13\n",
    "#13 % 2 = 1\n",
    "\n",
    "oddish_or_evenish(4433) ➞ \"Evenish\"\n",
    "#4 + 4 + 3 + 3 = 14\n",
    "#14 % 2 = 0\n",
    "Notes\n",
    "N/A"
   ]
  },
  {
   "cell_type": "code",
   "execution_count": 33,
   "id": "a3972ee3",
   "metadata": {},
   "outputs": [],
   "source": [
    "def oddish_or_evenish(num):\n",
    "    digit_sum = sum(int(d) for d in str(num))\n",
    "    return 'Oddish' if digit_sum % 2 == 1 else 'Evenish'"
   ]
  },
  {
   "cell_type": "code",
   "execution_count": 34,
   "id": "fc3ab2bc",
   "metadata": {},
   "outputs": [
    {
     "data": {
      "text/plain": [
       "'Evenish'"
      ]
     },
     "execution_count": 34,
     "metadata": {},
     "output_type": "execute_result"
    }
   ],
   "source": [
    "oddish_or_evenish(121)"
   ]
  },
  {
   "cell_type": "markdown",
   "id": "3c86705c",
   "metadata": {},
   "source": [
    "8.The Fifth Argument\n",
    "Create a function (named fifth) that takes some arguments and returns the type of the fifth argument. In case the arguments were less than 5, return \"Not enough arguments\".\n",
    "\n",
    "Examples\n",
    "fifth(1, 2, 3, 4, 5) ➞ int\n",
    "\n",
    "fifth(\"a\", 2, 3, [1, 2, 3], \"five\") ➞ str\n",
    "\n",
    "fifth() ➞ \"Not enough arguments\"\n",
    "Notes\n",
    "Don't get confused between zero-indexing and one-indexing.\n",
    "If you get stuck check the Resources tab."
   ]
  },
  {
   "cell_type": "code",
   "execution_count": 35,
   "id": "30a496ca",
   "metadata": {},
   "outputs": [],
   "source": [
    "def fifth(*args):\n",
    "    if len(args) < 5:\n",
    "        return 'Not enough arguments'\n",
    "    else:\n",
    "        return type(args[4])\n"
   ]
  },
  {
   "cell_type": "code",
   "execution_count": 36,
   "id": "661cfacf",
   "metadata": {},
   "outputs": [
    {
     "data": {
      "text/plain": [
       "int"
      ]
     },
     "execution_count": 36,
     "metadata": {},
     "output_type": "execute_result"
    }
   ],
   "source": [
    " fifth(1, 2, 3, 4, 5)"
   ]
  },
  {
   "cell_type": "code",
   "execution_count": 37,
   "id": "99987420",
   "metadata": {},
   "outputs": [
    {
     "data": {
      "text/plain": [
       "str"
      ]
     },
     "execution_count": 37,
     "metadata": {},
     "output_type": "execute_result"
    }
   ],
   "source": [
    "fifth(\"a\", 2, 3, [1, 2, 3], \"five\")"
   ]
  },
  {
   "cell_type": "markdown",
   "id": "44976ca9",
   "metadata": {},
   "source": [
    "9.Censor Words Longer Than Four Characters\n",
    "Create a function that takes a string and censors words over four characters with *.\n",
    "\n",
    "Examples\n",
    "censor(\"The code is fourty\") ➞ \"The code is ******\"\n",
    "\n",
    "censor(\"Two plus three is five\") ➞ \"Two plus ***** is five\"\n",
    "\n",
    "censor(\"aaaa aaaaa 1234 12345\") ➞ \"aaaa ***** 1234 *****\"\n",
    "Notes\n",
    "Don't censor words with exactly four characters.\n",
    "If all words have four characters or less, return the original string.\n",
    "The amount of * is the same as the length of the word.the `join` method."
   ]
  },
  {
   "cell_type": "code",
   "execution_count": 38,
   "id": "d68f49d6",
   "metadata": {},
   "outputs": [],
   "source": [
    "def censor(string):\n",
    "    words = string.split()\n",
    "    censored_words = []\n",
    "    for word in words:\n",
    "        if len(word) > 4:\n",
    "            censored_words.append('*' * len(word))\n",
    "        else:\n",
    "            censored_words.append(word)\n",
    "    return ' '.join(censored_words)\n"
   ]
  },
  {
   "cell_type": "code",
   "execution_count": 39,
   "id": "c942a52f",
   "metadata": {},
   "outputs": [
    {
     "data": {
      "text/plain": [
       "'The code is ******'"
      ]
     },
     "execution_count": 39,
     "metadata": {},
     "output_type": "execute_result"
    }
   ],
   "source": [
    "censor(\"The code is fourty\")"
   ]
  },
  {
   "cell_type": "markdown",
   "id": "c3fa637a",
   "metadata": {},
   "source": [
    "10.Neutralisation\n",
    "Given two strings comprised of + and -, return a new string which shows how the two strings interact in the following way:\n",
    "\n",
    "When positives and positives interact, they remain positive.\n",
    "When negatives and negatives interact, they remain negative.\n",
    "But when negatives and positives interact, they become neutral, and are shown as the number 0.\n",
    "Worked Example\n",
    "neutralise(\"+-+\", \"+--\") ➞ \"+-0\"\n",
    "#Compare the first characters of each string, then the next in turn.\n",
    "#\"+\" against a \"+\" returns another \"+\".\n",
    "#\"-\" against a \"-\" returns another \"-\".\n",
    "#\"+\" against a \"-\" returns \"0\".\n",
    "#Return the string of characters.\n",
    "Examples\n",
    "neutralise(\"--++--\", \"++--++\") ➞ \"000000\"\n",
    "\n",
    "neutralise(\"-+-+-+\", \"-+-+-+\") ➞ \"-+-+-+\"\n",
    "\n",
    "neutralise(\"-++-\", \"-+-+\") ➞ \"-+00\"\n",
    "Notes\n",
    "The two strings will be the same length."
   ]
  },
  {
   "cell_type": "code",
   "execution_count": 40,
   "id": "8c23232e",
   "metadata": {},
   "outputs": [],
   "source": [
    "def neutralise(s1, s2):\n",
    "    result = ''\n",
    "    for c1, c2 in zip(s1, s2):\n",
    "        if c1 == c2:\n",
    "            result += c1\n",
    "        else:\n",
    "            result += '0'\n",
    "    return result"
   ]
  },
  {
   "cell_type": "code",
   "execution_count": 41,
   "id": "da257e8f",
   "metadata": {},
   "outputs": [
    {
     "data": {
      "text/plain": [
       "'000000'"
      ]
     },
     "execution_count": 41,
     "metadata": {},
     "output_type": "execute_result"
    }
   ],
   "source": [
    "neutralise(\"--++--\", \"++--++\") "
   ]
  },
  {
   "cell_type": "markdown",
   "id": "d0166757",
   "metadata": {},
   "source": [
    "11.Are the Sum of Digits in the Numbers Equal?\n",
    "Write a function that takes a list of two numbers and determines if the sum of the digits in each number are equal to each other.\n",
    "\n",
    "Examples\n",
    "is_equal([105, 42]) ➞ True\n",
    "#1 + 0 + 5 = 6\n",
    "#4 + 2 = 6\n",
    "\n",
    "is_equal([21, 35]) ➞ False\n",
    "\n",
    "is_equal([0, 0]) ➞ True\n",
    "Notes\n",
    "N/A"
   ]
  },
  {
   "cell_type": "code",
   "execution_count": 42,
   "id": "da3376e1",
   "metadata": {},
   "outputs": [],
   "source": [
    "def is_equal(lst):\n",
    "    return sum(int(d) for d in str(lst[0])) == sum(int(d) for d in str(lst[1]))"
   ]
  },
  {
   "cell_type": "code",
   "execution_count": 43,
   "id": "8b42f205",
   "metadata": {},
   "outputs": [
    {
     "data": {
      "text/plain": [
       "True"
      ]
     },
     "execution_count": 43,
     "metadata": {},
     "output_type": "execute_result"
    }
   ],
   "source": [
    "is_equal([105, 42])"
   ]
  },
  {
   "cell_type": "markdown",
   "id": "86ccd5e3",
   "metadata": {},
   "source": [
    "12.Hold Your Breath!\n",
    "You will be given a list of numbers which represent your character's altitude above sea level at regular intervals:\n",
    "\n",
    "Positive numbers represent height above the water.\n",
    "0 is sea level.\n",
    "Negative numbers represent depth below the water's surface.\n",
    "Create a function which returns whether your character survives their unsupervised diving experience, given a list of integers.\n",
    "\n",
    "Your character starts with a breath meter of 10, which is the maximum. When diving underwater, your breath meter decreases by 2 per item in the array. Watch out! If your breath diminishes to 0, your character dies!\n",
    "\n",
    "To prevent this, you can replenish your breath by 4 (up to the maximum of 10) for each item in the array where you are at or above sea level.\n",
    "\n",
    "Your function should return True if your character survives, and False if not.\n",
    "\n",
    "Worked Example\n",
    "diving_minigame([-5, -15, -4, 0, 5]) ➞ True\n",
    "\n",
    "#Breath meter starts at 10.\n",
    "#-5 is below water, so breath meter decreases to 8.\n",
    "#-15 is below water, so breath meter decreases to 6.\n",
    "#-4 is below water, so breath meter decreases to 4.\n",
    "#0 is at sea level, so breath meter increases to 8.\n",
    "#5 is above sea level and breath meter is capped at 10 (would've been 12 otherwise).\n",
    "#Character survives!\n",
    "Examples\n",
    "diving_minigame([1, 2, 3, 4, 5, 6, 7, 8, 9, 10]) ➞ True\n",
    "\n",
    "diving_minigame([-3, -6, -2, -6, -2]) ➞ False\n",
    "\n",
    "diving_minigame([2, 1, 2, 1, -3, -4, -5, -3, -4]) ➞ False\n",
    "Notes\n",
    "Lists may be of any length.\n",
    "All lists are valid."
   ]
  },
  {
   "cell_type": "code",
   "execution_count": 44,
   "id": "4cc6e2be",
   "metadata": {},
   "outputs": [],
   "source": [
    "def diving_minigame(lst):\n",
    "    breath = 10\n",
    "    for altitude in lst:\n",
    "        if altitude >= 0:\n",
    "            breath = min(breath + 4, 10)\n",
    "        else:\n",
    "            breath -= 2\n",
    "        if breath <= 0:\n",
    "            return False\n",
    "    return True"
   ]
  },
  {
   "cell_type": "code",
   "execution_count": 45,
   "id": "03da232f",
   "metadata": {},
   "outputs": [
    {
     "data": {
      "text/plain": [
       "True"
      ]
     },
     "execution_count": 45,
     "metadata": {},
     "output_type": "execute_result"
    }
   ],
   "source": [
    "diving_minigame([1, 2, 3, 4, 5, 6, 7, 8, 9, 10]) "
   ]
  },
  {
   "cell_type": "markdown",
   "id": "91425984",
   "metadata": {},
   "source": [
    "13.Operations\n",
    "Write a function that does the following operations: adding, subtracting, dividing, or multiplying values. It is simply referred to as variable operation variable. Of course, the variables have to be defined, but in this challenge the variables will be defined for you. All you have to do is look at the variables, do some string to integer conversions, use some if conditionals, and combine them based on the operation.\n",
    "\n",
    "The numbers and operation will be given as strings, and you should return the value as a string as well.\n",
    "\n",
    "Examples\n",
    "operation(\"1\", \"2\", \"add\" ) ➞ \"3\"\n",
    "\n",
    "operation(\"4\", \"5\", \"subtract\") ➞ \"-1\"\n",
    "\n",
    "operation(\"6\", \"3\", \"divide\") ➞ \"2\""
   ]
  },
  {
   "cell_type": "code",
   "execution_count": 46,
   "id": "9c7cfd5a",
   "metadata": {},
   "outputs": [],
   "source": [
    "def operation(num1, num2, op):\n",
    "    num1 = int(num1)\n",
    "    num2 = int(num2)\n",
    "    if op == \"add\":\n",
    "        result = num1 + num2\n",
    "    elif op == \"subtract\":\n",
    "        result = num1 - num2\n",
    "    elif op == \"multiply\":\n",
    "        result = num1 * num2\n",
    "    elif op == \"divide\":\n",
    "        result = num1 // num2\n",
    "    return str(result)"
   ]
  },
  {
   "cell_type": "code",
   "execution_count": 47,
   "id": "5f5c8481",
   "metadata": {},
   "outputs": [
    {
     "data": {
      "text/plain": [
       "'3'"
      ]
     },
     "execution_count": 47,
     "metadata": {},
     "output_type": "execute_result"
    }
   ],
   "source": [
    "operation(\"1\", \"2\", \"add\" )"
   ]
  },
  {
   "cell_type": "markdown",
   "id": "291fa6c2",
   "metadata": {},
   "source": [
    "14.Balanced List\n",
    "Given a list of even length, copy the half with the higher sum of numbers to the other half of the list. If the sum of the first half equals the sum of the second half, return the original list.\n",
    "\n",
    "Examples\n",
    "balanced([1, 2, 4, 6, 3, 1]) ➞ [6, 3, 1, 6, 3, 1]\n",
    "#1 + 2 + 4 < 6 + 3 + 1  sol = [6, 3, 1, 6, 3, 1]\n",
    "\n",
    "balanced([88, 3, 27, 5, 9, 0, 13, 10]) ➞ [88, 3, 27, 5, 88, 3, 27, 5]\n",
    "#88 + 3 + 27 + 5 > 9 + 0 + 13 + 10  sol = [88, 3, 27, 5, 88, 3, 27, 5]\n",
    "\n",
    "balanced([7, 5, 2, 6, 1, 0, 1, 5, 2, 7, 0, 6]) ➞ [7, 5, 2, 6, 1, 0, 1, 5, 2, 7, 0, 6]\n",
    "#7 + 5 + 2 + 6 + 1 + 0 = 1 + 5 + 2 + 7 + 0 + 6  sol =  [7, 5, 2, 6, 1, 0, 1, 5, 2, 7, 0, 6]\n",
    "Notes\n",
    "The length of the list is even."
   ]
  },
  {
   "cell_type": "code",
   "execution_count": 48,
   "id": "acf5d4a6",
   "metadata": {},
   "outputs": [],
   "source": [
    "def balanced(lst):\n",
    "    mid = len(lst) // 2\n",
    "    left_sum = sum(lst[:mid])\n",
    "    right_sum = sum(lst[mid:])\n",
    "    if left_sum >= right_sum:\n",
    "        lst[mid:] = lst[:mid]\n",
    "    else:\n",
    "        lst[:mid] = lst[mid:]\n",
    "    return lst"
   ]
  },
  {
   "cell_type": "code",
   "execution_count": 49,
   "id": "13e71887",
   "metadata": {},
   "outputs": [
    {
     "data": {
      "text/plain": [
       "[6, 3, 1, 6, 3, 1]"
      ]
     },
     "execution_count": 49,
     "metadata": {},
     "output_type": "execute_result"
    }
   ],
   "source": [
    "balanced([1, 2, 4, 6, 3, 1]) "
   ]
  },
  {
   "cell_type": "markdown",
   "id": "745a6448",
   "metadata": {},
   "source": [
    "15.Car Timer 🏎️\n",
    "A built-in timer inside your car can count the length of your ride in minutes and you have started your ride at 00:00.\n",
    "\n",
    "Given the number of minutes n at the end of the ride, calculate the current time. Return the sum of digits that the digital timer in the format hh:mm will show at the end of the ride.\n",
    "\n",
    "Examples\n",
    "car_timer(240) ➞ 4\n",
    "#240 minutes have passed since 00:00, the current time is 04:00\n",
    "#Digits sum up is 0 + 4 + 0 + 0 = 4\n",
    "\n",
    "car_timer(14) ➞ 5\n",
    "#Digits sum up is 0 + 0 + 1 + 4\n",
    "\n",
    "car_timer(808) ➞ 14\n",
    "Notes\n",
    "N/A"
   ]
  },
  {
   "cell_type": "code",
   "execution_count": 50,
   "id": "74769e99",
   "metadata": {},
   "outputs": [],
   "source": [
    "def car_timer(n):\n",
    "    hours = n // 60\n",
    "    minutes = n % 60\n",
    "    digit_sum = sum(map(int, str(hours) + str(minutes)))\n",
    "    return digit_sum"
   ]
  },
  {
   "cell_type": "code",
   "execution_count": 51,
   "id": "5ee40063",
   "metadata": {},
   "outputs": [
    {
     "data": {
      "text/plain": [
       "4"
      ]
     },
     "execution_count": 51,
     "metadata": {},
     "output_type": "execute_result"
    }
   ],
   "source": [
    "car_timer(240)"
   ]
  },
  {
   "cell_type": "markdown",
   "id": "cede948c",
   "metadata": {},
   "source": [
    "16.Letters Only\n",
    "Check if the given string consists of only letters and spaces and if every letter is in lower case.\n",
    "\n",
    "Examples\n",
    "letters_only(\"PYTHON\") ➞ False\n",
    "\n",
    "letters_only(\"python\") ➞ True\n",
    "\n",
    "letters_only(\"12321313\") ➞ False\n",
    "\n",
    "letters_only(\"i have spaces\") ➞ True\n",
    "\n",
    "letters_only(\"i have numbers(1-10)\") ➞ False\n",
    "\n",
    "letters_only(\"\") ➞ False"
   ]
  },
  {
   "cell_type": "code",
   "execution_count": 54,
   "id": "d1f162fe",
   "metadata": {},
   "outputs": [],
   "source": [
    "def letters_only(txt):\n",
    "    return all(c.isalpha() or c==\" \" for c in txt) and all(c.islower() or c==\" \" for c in txt)"
   ]
  },
  {
   "cell_type": "code",
   "execution_count": 55,
   "id": "2d544405",
   "metadata": {},
   "outputs": [
    {
     "data": {
      "text/plain": [
       "False"
      ]
     },
     "execution_count": 55,
     "metadata": {},
     "output_type": "execute_result"
    }
   ],
   "source": [
    "letters_only(\"PYTHON\")"
   ]
  },
  {
   "cell_type": "code",
   "execution_count": 56,
   "id": "db7c49bc",
   "metadata": {},
   "outputs": [
    {
     "data": {
      "text/plain": [
       "True"
      ]
     },
     "execution_count": 56,
     "metadata": {},
     "output_type": "execute_result"
    }
   ],
   "source": [
    "letters_only(\"i have spaces\")"
   ]
  },
  {
   "cell_type": "markdown",
   "id": "0ed5a22d",
   "metadata": {},
   "source": [
    "17.Find the Shared Letters between Two Strings\n",
    "Given two strings, return a string containing only the letters shared between the two.\n",
    "\n",
    "Examples\n",
    "shared_letters(\"house\", \"home\") ➞ \"eho\"\n",
    "\n",
    "shared_letters(\"Micky\", \"mouse\") ➞ \"m\"\n",
    "\n",
    "shared_letters(\"house\", \"villa\") ➞ \"\"\n",
    "Notes\n",
    "If none of the letters are shared, return an empty string.\n",
    "The function should be case insensitive (e.g. comparing A and a should return a).\n",
    "Sort the resulting string alphabetically before returning it."
   ]
  },
  {
   "cell_type": "code",
   "execution_count": 57,
   "id": "9dc65f17",
   "metadata": {},
   "outputs": [],
   "source": [
    "def shared_letters(txt1, txt2):\n",
    "    set1 = set(txt1.lower())\n",
    "    set2 = set(txt2.lower())\n",
    "    intersection = set1 & set2\n",
    "    return ''.join(sorted(intersection))"
   ]
  },
  {
   "cell_type": "code",
   "execution_count": 58,
   "id": "04970a1d",
   "metadata": {},
   "outputs": [
    {
     "data": {
      "text/plain": [
       "'eho'"
      ]
     },
     "execution_count": 58,
     "metadata": {},
     "output_type": "execute_result"
    }
   ],
   "source": [
    "shared_letters(\"house\", \"home\")"
   ]
  },
  {
   "cell_type": "markdown",
   "id": "798d1d9c",
   "metadata": {},
   "source": [
    "18.List Chunking\n",
    "Given a list and chunk size \"n\", create a function such that it divides the list into many sublists where each sublist is of length size \"n\".\n",
    "\n",
    "Examples\n",
    "chunk([1, 2, 3, 4], 2) ➞ [\n",
    "  [1, 2], [3, 4]\n",
    "]\n",
    "\n",
    "chunk([1, 2, 3, 4, 5, 6, 7], 3) ➞ [\n",
    "  [1, 2, 3], [4, 5, 6], [7]\n",
    "]\n",
    "\n",
    "chunk([1, 2, 3, 4 ,5], 10) ➞ [\n",
    "  [1, 2, 3, 4, 5]\n",
    "]\n",
    "Notes\n",
    "Remember that number of sublists may not be equal to chunk size."
   ]
  },
  {
   "cell_type": "code",
   "execution_count": 59,
   "id": "dd799a48",
   "metadata": {},
   "outputs": [],
   "source": [
    "def chunk(lst, n):\n",
    "    return [lst[i:i+n] for i in range(0, len(lst), n)]"
   ]
  },
  {
   "cell_type": "code",
   "execution_count": 60,
   "id": "b1fa3d14",
   "metadata": {},
   "outputs": [
    {
     "data": {
      "text/plain": [
       "[[1, 2], [3, 4]]"
      ]
     },
     "execution_count": 60,
     "metadata": {},
     "output_type": "execute_result"
    }
   ],
   "source": [
    "chunk([1, 2, 3, 4], 2)"
   ]
  },
  {
   "cell_type": "markdown",
   "id": "5b93025f",
   "metadata": {},
   "source": [
    "19.Flash Cards\n",
    "Create a function that outputs the results of a flashcard. A flashcard is a list of three elements: a number, an operator symbol, and another number. Return the mathematical result of that expression.\n",
    "\n",
    "There are 4 operators: + (addition), - (subtraction), x (multiplication), and / (division). If the flashcard displays a number being divided by zero, e.g. [3, \"/\", 0], then return None. For division, round to the hundredths place. So [10, \"/\", 3] should return 3.33.\n",
    "\n",
    "Examples\n",
    "flash([3, \"x\", 7]) ➞ 21\n",
    "\n",
    "flash([5, \"+\", 7]) ➞ 12\n",
    "\n",
    "flash([10, \"-\", 9]) ➞ 1\n",
    "\n",
    "flash([10, \"/\", 0]) ➞ None\n",
    "\n",
    "flash([10, \"/\", 3]) ➞ 3.33\n",
    "Notes\n",
    "Flash cards contain only zero or positive numbers."
   ]
  },
  {
   "cell_type": "code",
   "execution_count": 61,
   "id": "bb917f88",
   "metadata": {},
   "outputs": [],
   "source": [
    "def flash(card):\n",
    "    num1, op, num2 = card\n",
    "    if num2 == 0 and op == '/':\n",
    "        return None\n",
    "    elif op == '+':\n",
    "        return num1 + num2\n",
    "    elif op == '-':\n",
    "        return num1 - num2\n",
    "    elif op == 'x':\n",
    "        return num1 * num2\n",
    "    elif op == '/':\n",
    "        return round(num1 / num2, 2)"
   ]
  },
  {
   "cell_type": "code",
   "execution_count": 62,
   "id": "df1c48cc",
   "metadata": {},
   "outputs": [
    {
     "data": {
      "text/plain": [
       "21"
      ]
     },
     "execution_count": 62,
     "metadata": {},
     "output_type": "execute_result"
    }
   ],
   "source": [
    "flash([3, \"x\", 7])"
   ]
  },
  {
   "cell_type": "markdown",
   "id": "ca20d549",
   "metadata": {},
   "source": [
    "20.What's My Golf Score?\n",
    "A standard-sized golf course has 18 holes. Each hole is given a par, which is the expected number of strokes (hits) that a good player would use to complete a hole. Golf also uses different terms for a player being over/under par for a particular hole:\n",
    "\n",
    "\"eagle\" = 2 under par (-2)\n",
    "\"birdie\" = 1 under par (-1)\n",
    "\"bogey\" = 1 over par (+1)\n",
    "\"double-bogey\" = 2 over par (+2)\n",
    "Example scores:\n",
    "\n",
    "\"birdie\" on a par 3 hole = 2\n",
    "\"eagle\" on a par 5 hole = 3\n",
    "\"par\" on a par 3 hole = 3\n",
    "\"bogey\" on a par 4 hole = 5\n",
    "Given a list of pars for an 18-hole golf course, and another list containing the player result for each hole, return the total score for the round of golf.\n",
    "\n",
    "Example\n",
    "course = [4, 4, 5, 3, 4, 4, 3, 5, 5, 3, 5, 4, 4, 4, 4, 3, 4, 4]\n",
    "\n",
    "result = [\"eagle\", \"bogey\", \"par\", \"bogey\", \"double-bogey\", \"birdie\", \"bogey\", \"par\", \"birdie\", \"par\", \"par\", \"par\", \"par\", \"par\", \"bogey\", \"eagle\", \"bogey\", \"par\"]\n",
    "\n",
    "score = 2+5+5+4+6+3+4+5+4+3+5+4+4+4+5+1+5+4 = 73\n",
    "Notes\n",
    "For this challenge, there will be no holes-in-one, albatrosses (-3), or anything worse than a double-bogey.20."
   ]
  },
  {
   "cell_type": "code",
   "execution_count": 66,
   "id": "c6d79e35",
   "metadata": {},
   "outputs": [],
   "source": [
    "def golf_score(course, result):\n",
    "    score = 0\n",
    "    for i in range(len(course)):\n",
    "        if result[i] == 'eagle':\n",
    "            score -= 2\n",
    "        elif result[i] == 'birdie':\n",
    "            score -= 1\n",
    "        elif result[i] == 'par':\n",
    "            score += 0\n",
    "        elif result[i] == 'bogey':\n",
    "            score += 1\n",
    "        elif result[i] == 'double-bogey':\n",
    "            score += 2\n",
    "        score += course[i]\n",
    "    return score"
   ]
  },
  {
   "cell_type": "code",
   "execution_count": 68,
   "id": "98b1e389",
   "metadata": {},
   "outputs": [
    {
     "data": {
      "text/plain": [
       "73"
      ]
     },
     "execution_count": 68,
     "metadata": {},
     "output_type": "execute_result"
    }
   ],
   "source": [
    "course = [4, 4, 5, 3, 4, 4, 3, 5, 5, 3, 5, 4, 4, 4, 4, 3, 4, 4]\n",
    "result = [\"eagle\", \"bogey\", \"par\", \"bogey\", \"double-bogey\", \"birdie\", \"bogey\", \"par\", \"birdie\", \"par\", \"par\", \"par\", \"par\", \"par\", \"bogey\", \"eagle\", \"bogey\", \"par\"]\n",
    "golf_score(course,result)"
   ]
  },
  {
   "cell_type": "markdown",
   "id": "3697d9d9",
   "metadata": {},
   "source": [
    "21.The Major Sum\n",
    "Create a function that takes an integer list and return the biggest between positive sum, negative sum, or 0s count. The major is understood as the greatest absolute.\n",
    "\n",
    "l = [1,2,3,4,0,0,-3,-2], the function has to return 10, because:\n",
    "\n",
    "Positive sum = 1+2+3+4 = 10\n",
    "Negative sum = (-3)+(-2) = -5\n",
    "0s count = 2 (there are two zeros in list)\n",
    "Examples\n",
    "major_sum([1, 2, 3, 4, 0, 0, -3, -2]) ➞ 10\n",
    "\n",
    "major_sum([-4, -8, -12, -3, 4, 7, 1, 3, 0, 0, 0, 0]) ➞ -27\n",
    "\n",
    "major_sum([0, 0, 0, 0, 0, 1, 2, -3]) ➞ 5\n",
    "#Because -3 < 1+2 < 0sCount = 5\n",
    "Notes\n",
    "All numbers are integers.\n",
    "There aren't empty lists.\n",
    "All tests are made to return only one value."
   ]
  },
  {
   "cell_type": "code",
   "execution_count": 69,
   "id": "1ef6174a",
   "metadata": {},
   "outputs": [],
   "source": [
    "def major_sum(lst):\n",
    "    pos_sum = sum(filter(lambda x: x > 0, lst))\n",
    "    neg_sum = sum(filter(lambda x: x < 0, lst))\n",
    "    zero_count = lst.count(0)\n",
    "    return max(pos_sum, abs(neg_sum), zero_count)"
   ]
  },
  {
   "cell_type": "code",
   "execution_count": 70,
   "id": "cdb09e66",
   "metadata": {},
   "outputs": [
    {
     "data": {
      "text/plain": [
       "27"
      ]
     },
     "execution_count": 70,
     "metadata": {},
     "output_type": "execute_result"
    }
   ],
   "source": [
    "major_sum([-4, -8, -12, -3, 4, 7, 1, 3, 0, 0, 0, 0]) "
   ]
  },
  {
   "cell_type": "code",
   "execution_count": 71,
   "id": "c3b598fa",
   "metadata": {},
   "outputs": [
    {
     "data": {
      "text/plain": [
       "5"
      ]
     },
     "execution_count": 71,
     "metadata": {},
     "output_type": "execute_result"
    }
   ],
   "source": [
    "major_sum([0, 0, 0, 0, 0, 1, 2, -3])"
   ]
  },
  {
   "cell_type": "markdown",
   "id": "d398cf35",
   "metadata": {},
   "source": [
    "22.Numerical Morphisms\n",
    "A number num, that elevated to the power of another number k \"ends\" with the same num, it's automorphic.\n",
    "\n",
    "5² = 25\n",
    "#It's automorphic because \"25\" ends with \"5\"\n",
    "\n",
    "5³  = 125\n",
    "#It's automorphic because \"125\" ends with \"5\"\n",
    "\n",
    "76⁴ = 33362176\n",
    "#It's automorphic because \"33362176\" ends with \"76\"\n",
    "A number can have various powers that make it automorphic (i.e. look at number 5 in the above example). In this challenge, you have to verify if the given number is automorphic for each power from 2 up to 10.\n",
    "\n",
    "Given a non-negative integer num, implement a function that returns the string:\n",
    "\n",
    "\"Polymorphic\" if num is automorphic for every power from 2 up to 10.\n",
    "\"Quadrimorphic\" if num is automorphic for only four powers (any from 2 up to 10).\n",
    "\"Dimorphic\" if num is automorphic for only two powers (any from 2 up to 10).\n",
    "\"Enamorphic\" if num is automorphic for only one power (any from 2 up to 10).\n",
    "\"Amorphic\" if num is not automorphic for for any powers from 2 up to 10.\n",
    "Examples\n",
    "power_morphic(5) ➞ \"Polymorphic\"\n",
    "#From 2 up to 10, every power of 5 ends with 5\n",
    "\n",
    "power_morphic(21) ➞ \"Enamorphic\"\n",
    "#21⁶ = 85766121\n",
    "\n",
    "power_morphic(7) ➞ \"Dimorphic\"\n",
    "#7⁵ = 716807\n",
    "#7⁹ = 40353607\n",
    "\n",
    "power_morphic(4) ➞ \"Quadrimorphic\"\n",
    "#4³ = 64\n",
    "#4 = 1024\n",
    " 4⁷ = 16384\n",
    "#4⁹ = 262144\n",
    "\n",
    "power_morphic(10) ➞ \"Amorphic\"\n",
    "#There are no powers that make it automorphic\n",
    "Notes\n",
    "You can do a complete loop cycle to check if num is automorphic for each power, or you can try to spot the discriminants that permit you to shorten the logic of your code.\n",
    "Despite being inspired by the OEIS sequence A003226, the assertions of this challenge are to be considered properly valid only in the specific context."
   ]
  },
  {
   "cell_type": "code",
   "execution_count": 72,
   "id": "5b918f4d",
   "metadata": {},
   "outputs": [],
   "source": [
    "def power_morphic(num):\n",
    "    count = 0\n",
    "    for i in range(2, 11):\n",
    "        if str(num ** i)[-len(str(num)):] == str(num):\n",
    "            count += 1\n",
    "    if count == 0:\n",
    "        return \"Amorphic\"\n",
    "    elif count == 1:\n",
    "        return \"Enamorphic\"\n",
    "    elif count == 2:\n",
    "        return \"Dimorphic\"\n",
    "    elif count == 4:\n",
    "        return \"Quadrimorphic\"\n",
    "    else:\n",
    "        return \"Polymorphic\""
   ]
  },
  {
   "cell_type": "code",
   "execution_count": 73,
   "id": "9f5d375c",
   "metadata": {},
   "outputs": [
    {
     "data": {
      "text/plain": [
       "'Enamorphic'"
      ]
     },
     "execution_count": 73,
     "metadata": {},
     "output_type": "execute_result"
    }
   ],
   "source": [
    "power_morphic(21) "
   ]
  },
  {
   "cell_type": "markdown",
   "id": "24be9263",
   "metadata": {},
   "source": [
    "23.Order by Length First\n",
    "Graded lexicographic order (grlex order for short) is a way of ordering words that:\n",
    "\n",
    "First orders words by length.\n",
    "Then orders words of the same size by their dictionary order.\n",
    "For example, in grlex order:\n",
    "\n",
    "\"tray\" < \"trapped\" since \"tray\" has length 4 while \"trapped\" has length 7.\n",
    "\"trap\" < \"tray\" since both have length 4, but \"trap\" comes before \"tray\" in the dictionary.\n",
    "Given a list of words, return that list in grlex order.\n",
    "\n",
    "Examples\n",
    "make_grlex([\"small\", \"big\"]) ➞ [\"big\", \"small\"]\n",
    "\n",
    "make_grlex([\"cat\", \"ran\", \"for\", \"the\", \"rat\"]) ➞ [\"cat\", \"for\", \"ran\", \"rat\", \"the\"]\n",
    "\n",
    "make_grlex([\"this\", \"is\", \"a\", \"small\", \"test\"]) ➞ [\"a\", \"is\", \"test\", \"this\", \"small\"]\n",
    "Notes\n",
    "N/A"
   ]
  },
  {
   "cell_type": "code",
   "execution_count": 74,
   "id": "7a5f394c",
   "metadata": {},
   "outputs": [],
   "source": [
    "def make_grlex(lst):\n",
    "    return sorted(lst, key=lambda x: (len(x), x))"
   ]
  },
  {
   "cell_type": "code",
   "execution_count": 75,
   "id": "813bca82",
   "metadata": {},
   "outputs": [
    {
     "data": {
      "text/plain": [
       "['big', 'small']"
      ]
     },
     "execution_count": 75,
     "metadata": {},
     "output_type": "execute_result"
    }
   ],
   "source": [
    "make_grlex([\"small\", \"big\"]) "
   ]
  },
  {
   "cell_type": "markdown",
   "id": "64fdda49",
   "metadata": {},
   "source": [
    "24.Anti-Divisors of a Number\n",
    "The anti-divisors are numbers that do not divide a given number by the largest possible margin, and they can be found following a simple set of rules:\n",
    "\n",
    "Every number greater than 1 and lower than n is checked.\n",
    "Every checked number must not be a divisor of n.\n",
    "If the checked number is odd and it is a divisor of n * 2 - 1 or n * 2 + 1 it's an anti-divisor.\n",
    "If the checked number is even and it is a divisor of n * 2, it's an anti-divisor.\n",
    "Given an integer n, implement a function that returns a list containing the anti-divisors of n sorted in ascending order.\n",
    "\n",
    "Examples\n",
    "anti_divisors(10) ➞ [3, 4, 7]\n",
    "#3 is a divisor of 21 (10 * 2 + 1)\n",
    "#4 is a divisor of 20 (10 * 2)\n",
    "#7 is a divisor of 21\n",
    "\n",
    "anti_divisors(12) ➞ [5, 8]\n",
    "#5 is a divisor of 25 (12 * 2 + 1)\n",
    "#8 is a divisor of 24 (12 * 2)\n",
    "\n",
    "anti_divisors(20) ➞ [3, 8, 13]\n",
    "#3 is a divisor of 39 (20 * 2 - 1)\n",
    "#8 is a divisor of 40 (20 * 2)\n",
    "#13 is a divisor of 39\n",
    "Notes\n",
    "The given n can be any integer, either positive, negative or 0."
   ]
  },
  {
   "cell_type": "code",
   "execution_count": 76,
   "id": "da76fd53",
   "metadata": {},
   "outputs": [],
   "source": [
    "def anti_divisors(n):\n",
    "    res = []\n",
    "    for i in range(2, n):\n",
    "        if n % i != 0:\n",
    "            if i % 2 == 0 and (n * 2) % i == 0:\n",
    "                res.append(i)\n",
    "            elif i % 2 == 1 and ((n * 2 - 1) % i == 0 or (n * 2 + 1) % i == 0):\n",
    "                res.append(i)\n",
    "    return sorted(res)"
   ]
  },
  {
   "cell_type": "code",
   "execution_count": 77,
   "id": "d2c91ec4",
   "metadata": {},
   "outputs": [
    {
     "data": {
      "text/plain": [
       "[3, 4, 7]"
      ]
     },
     "execution_count": 77,
     "metadata": {},
     "output_type": "execute_result"
    }
   ],
   "source": [
    "anti_divisors(10)"
   ]
  },
  {
   "cell_type": "markdown",
   "id": "641f51eb",
   "metadata": {},
   "source": [
    "25.Dice Gambling\n",
    "Create a function that takes a list consisting of dice rolls from 1-6. Return the sum of your rolls with the following conditions:\n",
    "\n",
    "If a 1 is rolled, that is bad luck. The next roll counts as 0.\n",
    "If a 6 is rolled, that is good luck. The next roll is multiplied by 2.\n",
    "The list length will always be 3 or higher.\n",
    "Examples\n",
    "rolls([1, 2, 3]) ➞ 4\n",
    "#The second roll, 2, counts as 0 as a result of rolling 1.\n",
    "\n",
    "rolls([2, 6, 2, 5]) ➞ 17\n",
    "#The 2 following the 6 was multiplied by 2.\n",
    "\n",
    "rolls([6, 1, 1]) ➞ 8\n",
    "#The first roll makes the second roll worth 2, but the\n",
    "#second roll was still 1 so the third roll doesn't count.\n",
    "Notes\n",
    "Even if a 6 is rolled after a 1, 6 isn't summed but the 6's \"effect\" still takes place."
   ]
  },
  {
   "cell_type": "code",
   "execution_count": 78,
   "id": "93c41d49",
   "metadata": {},
   "outputs": [],
   "source": [
    "def rolls(lst):\n",
    "    res = 0\n",
    "    i = 0\n",
    "    while i < len(lst):\n",
    "        if lst[i] == 1:\n",
    "            i += 1\n",
    "        elif lst[i] == 6:\n",
    "            res += lst[i] * 2\n",
    "            i += 2\n",
    "        else:\n",
    "            res += lst[i]\n",
    "            i += 1\n",
    "    return res"
   ]
  },
  {
   "cell_type": "code",
   "execution_count": 80,
   "id": "5ec9b84e",
   "metadata": {},
   "outputs": [
    {
     "data": {
      "text/plain": [
       "19"
      ]
     },
     "execution_count": 80,
     "metadata": {},
     "output_type": "execute_result"
    }
   ],
   "source": [
    "rolls([2, 6, 2, 5]) "
   ]
  },
  {
   "cell_type": "markdown",
   "id": "3a0b0d0d",
   "metadata": {},
   "source": [
    "26.No Good Numbers\n",
    "A positive number's population is the sum of 1's in its binary representation.\n",
    "\n",
    "An evil number has an even numbered population.\n",
    "An odious number has an odd numbered population.\n",
    "A number is pernicious if its population is a prime number.\n",
    "Create a function that takes a number as an argument and returns a sorted list of all its descriptors (\"Evil\", \"Odious\", or \"Pernicious\").\n",
    "\n",
    "Examples\n",
    "how_bad(7) ➞ [\"Odious\", \"Pernicious\"]\n",
    "#7 in binary is \"111\".\n",
    "#1 + 1 + 1 = 3 in \"111\" means \"Odious\" should be added to the list answer.\n",
    "#3 is a prime number, meaning \"Pernicious\" should also be added.\n",
    "\n",
    "how_bad(17) ➞ [\"Evil\", \"Pernicious\"]\n",
    "#17 in binary is \"10001\".\n",
    "#1 + 1 = 2 in \"10001\" means \"Evil\" should be added to the list answer.\n",
    "#2 is a prime number, meaning \"Pernicious\" should also be added.\n",
    "\n",
    "how_bad(23) ➞ [\"Evil\"]\n",
    "#23 in binary is \"10111\".\n",
    "#Four 1's in \"10111\" means \"Evil\" should be added to the list answer.\n",
    "#4 is not a prime number, meaning \"Pernicious\" should not be added.\n",
    "Notes\n",
    "N/A"
   ]
  },
  {
   "cell_type": "code",
   "execution_count": 81,
   "id": "3528c6c9",
   "metadata": {},
   "outputs": [],
   "source": [
    "def how_bad(n):\n",
    "    binary = bin(n)[2:]\n",
    "    population = binary.count('1')\n",
    "    descriptors = []\n",
    "    if population % 2 == 0:\n",
    "        descriptors.append('Evil')\n",
    "    else:\n",
    "        descriptors.append('Odious')\n",
    "    if is_prime(population):\n",
    "        descriptors.append('Pernicious')\n",
    "    return sorted(descriptors)\n",
    "\n",
    "def is_prime(n):\n",
    "    if n < 2:\n",
    "        return False\n",
    "    for i in range(2, int(n ** 0.5) + 1):\n",
    "        if n % i == 0:\n",
    "            return False\n",
    "    return True"
   ]
  },
  {
   "cell_type": "code",
   "execution_count": 82,
   "id": "744cf06b",
   "metadata": {},
   "outputs": [
    {
     "data": {
      "text/plain": [
       "['Odious', 'Pernicious']"
      ]
     },
     "execution_count": 82,
     "metadata": {},
     "output_type": "execute_result"
    }
   ],
   "source": [
    "how_bad(7)"
   ]
  },
  {
   "cell_type": "markdown",
   "id": "f98373db",
   "metadata": {},
   "source": [
    "27.Correct My Sentence\n",
    "Mubashir is not so good with the English language. He needs your help to correct his sentences.\n",
    "\n",
    "Start each sentence with an uppercase alphabet.\n",
    "For every uppercase letter (other than the first alphabet), you have to place a fullstop(.) followed by an empty space.\n",
    "There must be only one space between the words and sentences.\n",
    "Sentence must end with a full stop(.)\n",
    "Two continuous spaces are not allowed.\n",
    "correct_sentences (\"  mubashir loves  edabit  Matt  loves  edabit  \") ➞ \"Mubashir loves edabit. Matt loves edabit.\"\n",
    "\n",
    "#Remove extra spaces.\n",
    "#Capitalise first character.\n",
    "#Dot followed by an empty space before \"Matt\".\n",
    "#A dot at the end.\n",
    "Examples\n",
    "correct_sentences (\"  mubashir loves  edabit  Matt  loves  edabit  \") ➞ \"Mubashir loves edabit. Matt loves edabit.\"\n",
    "\n",
    "correct_sentences (\"  he is an engineer He sleeps a lot\") ➞ \"He is an engineer. He sleeps a lot.\"\n",
    "\n",
    "correct_sentences (\" his english is not good Help him     Thank you\") ➞ \"His english is not good. Help him. Thank you.\"\n",
    "Notes\n",
    "N/A"
   ]
  },
  {
   "cell_type": "code",
   "execution_count": 111,
   "id": "6e5e99d0",
   "metadata": {},
   "outputs": [],
   "source": [
    "def correct_sentences(s):\n",
    "    s = s.strip()\n",
    "    s = s[0].upper()+ s[1:]\n",
    "    for i in range(1, len(s)):\n",
    "        if s[i].isupper():\n",
    "            s = s[:i] + s[i:]\n",
    "    s += '.'\n",
    "    return s"
   ]
  },
  {
   "cell_type": "code",
   "execution_count": 112,
   "id": "1dbdf627",
   "metadata": {},
   "outputs": [
    {
     "data": {
      "text/plain": [
       "'He is an engineer He sleeps a lot.'"
      ]
     },
     "execution_count": 112,
     "metadata": {},
     "output_type": "execute_result"
    }
   ],
   "source": [
    "correct_sentences (\" he is an engineer He sleeps a lot\") "
   ]
  },
  {
   "cell_type": "markdown",
   "id": "9a2d0222",
   "metadata": {},
   "source": [
    "28.An Absolute\n",
    "Given a sentence, create a function that replaces every \"a\" as an article with \"an absolute\". It should return the same string without any change if it doesn't have any \"a\".\n",
    "\n",
    "Examples\n",
    "absolute(\"I am a champion!!!\") ➞ \"I am an absolute champion!!!\"\n",
    "\n",
    "absolute(\"Such an amazing bowler.\") ➞ \"Such an amazing bowler.\"\n",
    "\n",
    "absolute(\"A man with no haters.\") ➞ \"An absolute man with no haters.\"\n",
    "Notes\n",
    "Watch for uppercase letters as shown in example #3."
   ]
  },
  {
   "cell_type": "code",
   "execution_count": 113,
   "id": "4f6a2c29",
   "metadata": {},
   "outputs": [],
   "source": [
    "def absolute(s):\n",
    "    words = s.split()\n",
    "    for i in range(len(words)):\n",
    "        if words[i].lower() == 'a':\n",
    "            words[i] = 'an absolute'\n",
    "        elif words[i].lower() == 'a,':\n",
    "            words[i] = 'an absolute,'\n",
    "    return ' '.join(words)"
   ]
  },
  {
   "cell_type": "code",
   "execution_count": 114,
   "id": "53c6ddcc",
   "metadata": {},
   "outputs": [
    {
     "data": {
      "text/plain": [
       "'I am an absolute champion!!!'"
      ]
     },
     "execution_count": 114,
     "metadata": {},
     "output_type": "execute_result"
    }
   ],
   "source": [
    "absolute(\"I am a champion!!!\")"
   ]
  },
  {
   "cell_type": "markdown",
   "id": "2189d466",
   "metadata": {},
   "source": [
    "29.Pokemon Damage Calculator\n",
    "It's a Pokemon battle! Your task is to calculate the damage that a particular move would do using the following formula (not the actual one from the game):\n",
    "\n",
    "damage = 50 * (attack / defense) * effectiveness\n",
    "attack = your attack power\n",
    "defense = the opponent's defense\n",
    "effectiveness = the effectiveness of the attack based on the matchup (see explanation below)\n",
    "Effectiveness:\n",
    "\n",
    "Attacks can be super effective, neutral, or not very effective depending on the matchup. For example, water would be super effective against fire, but not very effective against grass.\n",
    "\n",
    "Super effective: 2x damage\n",
    "Neutral: 1x damage\n",
    "Not very effective: 0.5x damage\n",
    "To prevent this challenge from being tedious, you'll only be dealing with four types: fire, water, grass, and electric. Here is the effectiveness of each matchup:\n",
    "\n",
    "fire > grass\n",
    "fire < water\n",
    "fire = electric\n",
    "water < grass\n",
    "water < electric\n",
    "grass = electric\n",
    "The function you must implement takes in:\n",
    "\n",
    "your type\n",
    "the opponent's type\n",
    "your attack power\n",
    "the opponent's defense\n",
    "Examples\n",
    "calculate_damage(\"fire\", \"water\", 100, 100) ➞ 25\n",
    "\n",
    "calculate_damage(\"grass\", \"fire\", 35, 5) ➞ 175\n",
    "\n",
    "calculate_damage(\"electric\", \"fire\", 100, 100) ➞ 50\n",
    "Notes\n",
    "Any type against itself is not very effective. Also, assume that the relationships between different types are symmetric (if A is super effective against B, then B is not very effective against A)."
   ]
  },
  {
   "cell_type": "code",
   "execution_count": 115,
   "id": "68ebaaf4",
   "metadata": {},
   "outputs": [],
   "source": [
    "def calculate_damage(your_type, opponent_type, attack_power, opponent_defense):\n",
    "    effectiveness = 1\n",
    "    if your_type == \"fire\":\n",
    "        if opponent_type == \"grass\":\n",
    "            effectiveness = 2\n",
    "        elif opponent_type == \"water\":\n",
    "            effectiveness = 0.5\n",
    "        elif opponent_type == \"electric\":\n",
    "            effectiveness = 1\n",
    "    elif your_type == \"water\":\n",
    "        if opponent_type == \"grass\":\n",
    "            effectiveness = 0.5\n",
    "        elif opponent_type == \"electric\":\n",
    "            effectiveness = 0.5\n",
    "        elif opponent_type == \"fire\":\n",
    "            effectiveness = 2\n",
    "    elif your_type == \"grass\":\n",
    "        if opponent_type == \"electric\":\n",
    "            effectiveness = 1\n",
    "        elif opponent_type == \"water\":\n",
    "            effectiveness = 2\n",
    "        elif opponent_type == \"fire\":\n",
    "            effectiveness = 0.5\n",
    "    elif your_type == \"electric\":\n",
    "        if opponent_type == \"fire\":\n",
    "            effectiveness = 1\n",
    "        elif opponent_type == \"grass\":\n",
    "            effectiveness = 1\n",
    "        elif opponent_type == \"water\":\n",
    "            effectiveness = 2\n",
    "    return int(50 * (attack_power / opponent_defense) * effectiveness)"
   ]
  },
  {
   "cell_type": "code",
   "execution_count": 116,
   "id": "3ba34d9e",
   "metadata": {},
   "outputs": [
    {
     "data": {
      "text/plain": [
       "175"
      ]
     },
     "execution_count": 116,
     "metadata": {},
     "output_type": "execute_result"
    }
   ],
   "source": [
    "calculate_damage(\"grass\", \"fire\", 35, 5)"
   ]
  },
  {
   "cell_type": "markdown",
   "id": "b3066ea8",
   "metadata": {},
   "source": [
    "30.Blackjack\n",
    "Create a function that takes a list of card numbers and checks if the sum of their value exceeds 21. If the sum exceeds 21, return True and if the sum is under or equal to 21, return False. Values of the cards are as follows:\n",
    "\n",
    "2-10 are their value.\n",
    "J-K (face cards) count as 10.\n",
    "Aces count either as 1 or 11 - play conservatively, so that if giving an ace a value of 11 causes you to lose and 1 allows you to win, then go with 1.\n",
    "Examples\n",
    "over_twenty_one([2, 8, \"J\"]) ➞ False\n",
    "\n",
    "over_twenty_one([\"A\", \"J\", \"K\"]) ➞ False\n",
    "\n",
    "over_twenty_one([5, 5, 3, 9]) ➞ True\n",
    "\n",
    "over_twenty_one([2, 6, 4, 4, 5]) ➞ False\n",
    "\n",
    "over_twenty_one([\"J\", \"Q\", \"K\"]) ➞ True\n",
    "Notes\n",
    "There will be a maximum of one ace in each hand."
   ]
  },
  {
   "cell_type": "code",
   "execution_count": 117,
   "id": "da381667",
   "metadata": {},
   "outputs": [],
   "source": [
    "def over_twenty_one(cards):\n",
    "    total = 0\n",
    "    for card in cards:\n",
    "        if card == \"A\":\n",
    "            total += 1\n",
    "        elif card in [\"J\", \"Q\", \"K\"]:\n",
    "            total += 10\n",
    "        else:\n",
    "            total += card\n",
    "    if total > 21:\n",
    "        return True\n",
    "    else:\n",
    "        return False"
   ]
  },
  {
   "cell_type": "code",
   "execution_count": 118,
   "id": "cda39375",
   "metadata": {},
   "outputs": [
    {
     "data": {
      "text/plain": [
       "False"
      ]
     },
     "execution_count": 118,
     "metadata": {},
     "output_type": "execute_result"
    }
   ],
   "source": [
    "over_twenty_one([\"A\", \"J\", \"K\"])"
   ]
  },
  {
   "cell_type": "markdown",
   "id": "b81e0136",
   "metadata": {},
   "source": [
    "31.AlTeRnAtInG cApS\n",
    "Create a function that alternates the case of the letters in a string (known as Spongecase).\n",
    "\n",
    "Examples\n",
    "alternating_caps(\"Hello\") ➞ \"HeLlO\"\n",
    "\n",
    "alternating_caps(\"How are you?\") ➞ \"HoW aRe YoU?\"\n",
    "\n",
    "alternating_caps(\"OMG this website is awesome!\") ➞ \"OmG tHiS wEbSiTe Is AwEsOmE!\"\n",
    "Notes\n",
    "The first letter should always be UPPERCASE.\n",
    "Ignore spaces."
   ]
  },
  {
   "cell_type": "code",
   "execution_count": 119,
   "id": "a79c6bc3",
   "metadata": {},
   "outputs": [],
   "source": [
    "def alternating_caps(txt):\n",
    "    result = \"\"\n",
    "    for i in range(len(txt)):\n",
    "        if i % 2 == 0:\n",
    "            result += txt[i].upper()\n",
    "        else:\n",
    "            result += txt[i].lower()\n",
    "    return result"
   ]
  },
  {
   "cell_type": "code",
   "execution_count": 120,
   "id": "2188c129",
   "metadata": {},
   "outputs": [
    {
     "data": {
      "text/plain": [
       "'HoW ArE YoU?'"
      ]
     },
     "execution_count": 120,
     "metadata": {},
     "output_type": "execute_result"
    }
   ],
   "source": [
    "alternating_caps(\"How are you?\")"
   ]
  },
  {
   "cell_type": "markdown",
   "id": "e4acc137",
   "metadata": {},
   "source": [
    "32.Check If the Brick Fits through the Hole\n",
    "Write the function that takes three dimensions of a brick: height(a), width(b) and depth(c) and returns True if this brick can fit into a hole with the width(w) and height(h).\n",
    "\n",
    "Examples\n",
    "does_brick_fit(1, 1, 1, 1, 1) ➞ True\n",
    "\n",
    "does_brick_fit(1, 2, 1, 1, 1) ➞ True\n",
    "\n",
    "does_brick_fit(1, 2, 2, 1, 1) ➞ False\n",
    "Notes\n",
    "You can turn the brick with any side towards the hole.\n",
    "We assume that the brick fits if its sizes equal the ones of the hole (i.e. brick size should be less than or equal to the size of the hole, not strictly less).\n",
    "You can't put a brick in at a non-orthogonal angle."
   ]
  },
  {
   "cell_type": "code",
   "execution_count": 121,
   "id": "a506ee6b",
   "metadata": {},
   "outputs": [],
   "source": [
    "def does_brick_fit(a, b, c, w, h):\n",
    "    if a <= w and b <= h or a <= h and b <= w:\n",
    "        return True\n",
    "    elif a <= w and c <= h or a <= h and c <= w:\n",
    "        return True\n",
    "    elif b <= w and c <= h or b <= h and c <= w:\n",
    "        return True\n",
    "    else:\n",
    "        return False"
   ]
  },
  {
   "cell_type": "code",
   "execution_count": 122,
   "id": "b23c628d",
   "metadata": {},
   "outputs": [
    {
     "data": {
      "text/plain": [
       "True"
      ]
     },
     "execution_count": 122,
     "metadata": {},
     "output_type": "execute_result"
    }
   ],
   "source": [
    "does_brick_fit(1, 1, 1, 1, 1)"
   ]
  },
  {
   "cell_type": "markdown",
   "id": "0a26942a",
   "metadata": {},
   "source": [
    "33.Chemical Reactions\n",
    "Mubashir was testing how atoms can react in their ionic state during nuclear fusion. He observed that atoms can introduce different elements with Hydrogen at high temperatures and inside a pressurized chamber. During his experiment, elements started precipitating inside the chamber. Help him find the total number of molecules of Water H2O, Carbon Dioxide CO2 and Methane CH4 generated during this process.\n",
    "\n",
    "Given the number of atoms of carbon, hydrogen and oxygen, calculate the molecules in the following order:\n",
    "\n",
    "1. Hydrogen reacts with Oxygen = H2O\n",
    "2. Carbon reacts with Oxygen   = CO2\n",
    "3. Carbon reacts with Hydrogen = CH4\n",
    "Examples\n",
    "chemical_reactions(45, 11, 100) ➞ [5, 45, 0]\n",
    "#10 atoms of hydrogen + 5 atoms of oxygen = 5 molecules of H2O\n",
    "#45 atoms of carbon + 90 atoms of oxygen = 45 molecules of CO2\n",
    "#1 hydrogen atom + 0 carbon atoms = 0 molecules of CH4\n",
    "\n",
    "chemical_reactions(113, 0, 52) ➞ [0, 26, 0]\n",
    "\n",
    "chemical_reactions(939, 3, 694) ➞ [1, 346, 0]\n",
    "Notes\n",
    "N/A"
   ]
  },
  {
   "cell_type": "code",
   "execution_count": 123,
   "id": "d6595bc8",
   "metadata": {},
   "outputs": [],
   "source": [
    "def chemical_reactions(carbon, hydrogen, oxygen):\n",
    "    water = min(hydrogen // 2, oxygen)\n",
    "    hydrogen -= water * 2\n",
    "    oxygen -= water\n",
    "    carbon_dioxide = min(carbon, oxygen // 2)\n",
    "    carbon -= carbon_dioxide\n",
    "    oxygen -= carbon_dioxide * 2\n",
    "    methane = min(carbon, hydrogen // 4)\n",
    "    return [water, carbon_dioxide, methane]"
   ]
  },
  {
   "cell_type": "code",
   "execution_count": 124,
   "id": "634f6e1c",
   "metadata": {},
   "outputs": [
    {
     "data": {
      "text/plain": [
       "[0, 26, 0]"
      ]
     },
     "execution_count": 124,
     "metadata": {},
     "output_type": "execute_result"
    }
   ],
   "source": [
    "chemical_reactions(113, 0, 52)"
   ]
  },
  {
   "cell_type": "markdown",
   "id": "8720c71b",
   "metadata": {},
   "source": [
    "34.Pronouncing the Xs\n",
    "Create a function which replaces all the x's in the string in the following ways:\n",
    "\n",
    "Replace all x's with \"cks\" UNLESS:\n",
    "\n",
    "The word begins with \"x\", therefore replace it with \"z\".\n",
    "The word is just the letter \"x\", therefore replace it with \"ecks\".\n",
    "Examples\n",
    "x_pronounce(\"Inside the box was a xylophone\") ➞ \"Inside the bocks was a zylophone\"\n",
    "\n",
    "x_pronounce(\"The x ray is excellent\") ➞ \"The ecks ray is eckscellent\"\n",
    "\n",
    "x_pronounce(\"OMG x box unboxing video x D\") ➞ \"OMG ecks bocks unbocksing video ecks D\"\n",
    "Notes\n",
    "All x's are lowercase.\n",
    "I know that not all words with x's follow this rule, but there are too many edge cases to count!"
   ]
  },
  {
   "cell_type": "code",
   "execution_count": 125,
   "id": "d247e656",
   "metadata": {},
   "outputs": [],
   "source": [
    "def x_pronounce(sentence):\n",
    "    words = sentence.split()\n",
    "    for i in range(len(words)):\n",
    "        if words[i] == \"x\":\n",
    "            words[i] = \"ecks\"\n",
    "        elif words[i].startswith(\"x\"):\n",
    "            words[i] = \"z\" + words[i][1:].replace(\"x\", \"cks\")\n",
    "        else:\n",
    "            words[i] = words[i].replace(\"x\", \"cks\")\n",
    "    return \" \".join(words)"
   ]
  },
  {
   "cell_type": "code",
   "execution_count": 126,
   "id": "d8b8039a",
   "metadata": {},
   "outputs": [
    {
     "data": {
      "text/plain": [
       "'The ecks ray is eckscellent'"
      ]
     },
     "execution_count": 126,
     "metadata": {},
     "output_type": "execute_result"
    }
   ],
   "source": [
    "x_pronounce(\"The x ray is excellent\") "
   ]
  },
  {
   "cell_type": "markdown",
   "id": "9f5bc102",
   "metadata": {},
   "source": [
    "35.Can You Spare a Square?\n",
    "Try to imagine a world in which you might have to stay home for 14 days at any given time. Do you have enough TP to make it through?\n",
    "\n",
    "Although the number of squares per roll of TP varies significantly, we'll assume each roll has 500 sheets, and the average person uses 57 sheets per day.\n",
    "\n",
    "Create a function that will receive a dictionary with two key/values:\n",
    "\n",
    "\"people\" ⁠— Number of people in the household.\n",
    "\"tp\" ⁠— Number of rolls.\n",
    "Return a statement telling the user if they need to buy more TP!\n",
    "\n",
    "Examples\n",
    "tp_checker({ \"people\": 4, \"tp\": 1 }) ➞ \"Your TP will only last 2 days, buy more!\"\n",
    "\n",
    "tp_checker({ \"people\": 3, \"tp\": 20 }) ➞ \"Your TP will last 58 days, no need to panic!\"\n",
    "\n",
    "tp_checker({ \"people\": 4, \"tp\": 12 }) ➞ \"Your TP will last 26 days, no need to panic!\"\n",
    "Notes\n",
    "Stay safe, and happy coding!"
   ]
  },
  {
   "cell_type": "code",
   "execution_count": 127,
   "id": "04c40424",
   "metadata": {},
   "outputs": [],
   "source": [
    "def tp_checker(info):\n",
    "    sheets_per_roll = 500\n",
    "    sheets_per_day = 57\n",
    "    total_sheets = info[\"tp\"] * sheets_per_roll\n",
    "    days = total_sheets // (info[\"people\"] * sheets_per_day)\n",
    "    if days < 14:\n",
    "        return \"Your TP will only last {} days, buy more!\".format(days)\n",
    "    else:\n",
    "        return \"Your TP will last {} days, no need to panic!\".format(days)"
   ]
  },
  {
   "cell_type": "code",
   "execution_count": 128,
   "id": "b4476a40",
   "metadata": {},
   "outputs": [
    {
     "data": {
      "text/plain": [
       "'Your TP will only last 2 days, buy more!'"
      ]
     },
     "execution_count": 128,
     "metadata": {},
     "output_type": "execute_result"
    }
   ],
   "source": [
    "tp_checker({ \"people\": 4, \"tp\": 1 })"
   ]
  },
  {
   "cell_type": "markdown",
   "id": "aa60309a",
   "metadata": {},
   "source": [
    "36.Perimeters with a Catch\n",
    "Write a function that takes a number and returns the perimeter of either a circle or a square. The input will be in the form (letter l, number num) where the letter will be either \"s\" for square, or \"c\" for circle, and the number will be the side of the square or the radius of the circle.\n",
    "\n",
    "Use the following formulas:\n",
    "\n",
    "Perimeter of a square: 4 * side.\n",
    "Perimeter of a circle: 6.28 * radius.\n",
    "The catch is you can only use arithmetic or comparison operators, which means:\n",
    "\n",
    "No if... else statements.\n",
    "No dictionaries.\n",
    "No lambdas.\n",
    "No formatting methods, etc.\n",
    "The goal is to write a short, branch-free piece of code.\n",
    "\n",
    "Examples\n",
    "perimeter(\"s\", 7) ➞ 28\n",
    "\n",
    "perimeter(\"c\", 4) ➞ 25.12\n",
    "\n",
    "perimeter(\"c\", 9) ➞ 56.52\n",
    "Notes\n",
    "No rounding is needed.\n",
    "Hint: The Boolean True, used with arithmetic operators, counts as 1, while False counts as 0. That means (a>b)+1 will return 1 or 2, depending on the values of a and b."
   ]
  },
  {
   "cell_type": "code",
   "execution_count": 129,
   "id": "0a374a12",
   "metadata": {},
   "outputs": [],
   "source": [
    "def perimeter(l, num):\n",
    "    return (4 * num) * (l == \"s\") + (6.28 * num) * (l == \"c\")"
   ]
  },
  {
   "cell_type": "code",
   "execution_count": 130,
   "id": "392e3148",
   "metadata": {},
   "outputs": [
    {
     "data": {
      "text/plain": [
       "28.0"
      ]
     },
     "execution_count": 130,
     "metadata": {},
     "output_type": "execute_result"
    }
   ],
   "source": [
    "perimeter(\"s\", 7)"
   ]
  },
  {
   "cell_type": "markdown",
   "id": "bb16565a",
   "metadata": {},
   "source": [
    "37.Powerful Numbers\n",
    "Given a positive number x:\n",
    "\n",
    "p = (p1, p2, …)\n",
    "#Set of *prime* factors of x\n",
    "If the square of every item in p is also a factor of x, then x is said to be a powerful number.\n",
    "\n",
    "Create a function that takes a number and returns True if it's powerful, False if it's not.\n",
    "\n",
    "Examples\n",
    "is_powerful(36) ➞ True\n",
    "#p = (2, 3) (prime factors of 36)\n",
    "#2^2 = 4 (factor of 36)\n",
    "#3^2 = 9 (factor of 36)\n",
    "\n",
    "is_powerful(27) ➞ True\n",
    "\n",
    "is_powerful(674) ➞ False\n",
    "Notes\n",
    "N/A"
   ]
  },
  {
   "cell_type": "code",
   "execution_count": 131,
   "id": "b6648d00",
   "metadata": {},
   "outputs": [],
   "source": [
    "def is_powerful(n):\n",
    "    factors = []\n",
    "    for i in range(2, n + 1):\n",
    "        while n % i == 0:\n",
    "            factors.append(i)\n",
    "            n //= i\n",
    "    return all(factors.count(i**2) > 0 for i in set(factors))"
   ]
  },
  {
   "cell_type": "code",
   "execution_count": 132,
   "id": "909d89c2",
   "metadata": {},
   "outputs": [
    {
     "data": {
      "text/plain": [
       "False"
      ]
     },
     "execution_count": 132,
     "metadata": {},
     "output_type": "execute_result"
    }
   ],
   "source": [
    "is_powerful(36)"
   ]
  }
 ],
 "metadata": {
  "kernelspec": {
   "display_name": "Python 3 (ipykernel)",
   "language": "python",
   "name": "python3"
  },
  "language_info": {
   "codemirror_mode": {
    "name": "ipython",
    "version": 3
   },
   "file_extension": ".py",
   "mimetype": "text/x-python",
   "name": "python",
   "nbconvert_exporter": "python",
   "pygments_lexer": "ipython3",
   "version": "3.9.12"
  }
 },
 "nbformat": 4,
 "nbformat_minor": 5
}
