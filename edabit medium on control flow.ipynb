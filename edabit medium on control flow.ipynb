{
 "cells": [
  {
   "cell_type": "markdown",
   "id": "fda2953e",
   "metadata": {},
   "source": [
    "1.Odd Up, Even Down — N Times\n",
    "Create a function that performs an even-odd transform to a list, n times. Each even-odd transformation:\n",
    "\n",
    "Adds two (+2) to each odd integer.\n",
    "Subtracts two (-2) from each even integer.\n",
    "Examples\n",
    "even_odd_transform([3, 4, 9], 3) ➞ [9, -2, 15]\n",
    "#Since [3, 4, 9] => [5, 2, 11] => [7, 0, 13] => [9, -2, 15]\n",
    "\n",
    "even_odd_transform([0, 0, 0], 10) ➞ [-20, -20, -20]\n",
    "\n",
    "even_odd_transform([1, 2, 3], 1) ➞ [3, 0, 5]\n",
    "Notes\n",
    "N/A"
   ]
  },
  {
   "cell_type": "code",
   "execution_count": 54,
   "id": "f884ff8b",
   "metadata": {},
   "outputs": [],
   "source": [
    "def even_odd_transform(lst, n):\n",
    "    new_list=[]\n",
    "    for num in lst:\n",
    "        if num%2==0:\n",
    "            new_list.append(num-2*n)\n",
    "        elif num%2==1:\n",
    "             new_list.append(num+2*n)\n",
    "    return new_list"
   ]
  },
  {
   "cell_type": "code",
   "execution_count": 55,
   "id": "ef7ffc1c",
   "metadata": {},
   "outputs": [
    {
     "name": "stdout",
     "output_type": "stream",
     "text": [
      "[-20, -20, -20]\n"
     ]
    }
   ],
   "source": [
    "print(even_odd_transform([0,0,0],10))"
   ]
  },
  {
   "cell_type": "code",
   "execution_count": 56,
   "id": "31d37188",
   "metadata": {},
   "outputs": [
    {
     "data": {
      "text/plain": [
       "[3, 0, 5]"
      ]
     },
     "execution_count": 56,
     "metadata": {},
     "output_type": "execute_result"
    }
   ],
   "source": [
    "even_odd_transform([1, 2, 3], 1) "
   ]
  },
  {
   "cell_type": "markdown",
   "id": "4cd9e2a2",
   "metadata": {},
   "source": [
    "2.Collatz Conjecture\n",
    "A Collatz sequence is generated like this. Start with a positive number. If it's even, halve it. If it's odd, multiply it by three and add one. Repeat the process with the resulting number. The Collatz Conjecture is that every sequence eventually reaches 1 (continuing past 1 just results in an endless repeat of the sequence: 4, 2, 1).\n",
    "\n",
    "The length of the sequence from starting number to 1 varies widely.\n",
    "\n",
    "Create a function that takes a number as an argument and returns an array of two elements — the number of steps in the Collatz sequence of the number, and the highest number reached.\n",
    "\n",
    "Examples\n",
    "collatz(2) ➞ [2, 2]\n",
    "// seq = [2, 1]\n",
    "\n",
    "collatz(3) ➞ [8, 16]\n",
    "// seq = [3, 10, 5, 16, 8, 4, 2, 1]\n",
    "\n",
    "collatz(7) ➞ [17, 52]\n",
    "// seq = [7, 22, 11, 34, 17, 52, 26, 13, 40, 20, 10, 5, 16, 8, 4, 2, 1]\n",
    "\n",
    "collatz(8) ➞ [4, 8]\n",
    "// seq = [8, 4, 2, 1]\n",
    "Notes\n",
    "(Improbable) Bonus: Find a positive starting number that doesn't reach 1, and score a place in Math history plus a cash prize."
   ]
  },
  {
   "cell_type": "code",
   "execution_count": 3,
   "id": "91a4a7b9",
   "metadata": {},
   "outputs": [],
   "source": [
    "def collatz(n):\n",
    "    steps=0\n",
    "    highest=n\n",
    "    \n",
    "    while n!=1:\n",
    "        if n%2==0:\n",
    "            n=n//2\n",
    "        else:\n",
    "            n=n*3+1\n",
    "        steps+=1\n",
    "        highest=max(highest,n)\n",
    "    return steps,highest"
   ]
  },
  {
   "cell_type": "code",
   "execution_count": 4,
   "id": "17b2c904",
   "metadata": {},
   "outputs": [
    {
     "data": {
      "text/plain": [
       "(1, 2)"
      ]
     },
     "execution_count": 4,
     "metadata": {},
     "output_type": "execute_result"
    }
   ],
   "source": [
    "collatz(2)"
   ]
  },
  {
   "cell_type": "code",
   "execution_count": 7,
   "id": "47b6db62",
   "metadata": {},
   "outputs": [
    {
     "data": {
      "text/plain": [
       "(3, 8)"
      ]
     },
     "execution_count": 7,
     "metadata": {},
     "output_type": "execute_result"
    }
   ],
   "source": [
    "collatz(8)"
   ]
  },
  {
   "cell_type": "markdown",
   "id": "0e3a4f8e",
   "metadata": {},
   "source": [
    "3.The Most Brilliant Exciting Fantastic Number\n",
    "Given a number n, return a sentence which describes the number in the following ways.\n",
    "\n",
    "Always start the string with \"The most \".\n",
    "If n is evenly divisible by 1, add \"brilliant \" to the sentence.\n",
    "If n is evenly divisible by 2, add \"exciting \" to the sentence.\n",
    "... 3, add \"fantastic \" to the sentence.\n",
    "... 4, add \"virtuous \" to the sentence.\n",
    "... 5, add \"heart-warming \" ...\n",
    "... 6, add \"tear-jerking \" ...\n",
    "... 7, add \"beautiful \" ...\n",
    "... 8, add \"exhilarating \" ...\n",
    "... 9, add \"emotional \" ...\n",
    "If n is evenly divisible by 10, add \"inspiring \" to the sentence.\n",
    "Always end the string with \"number is n!\".\n",
    "Examples\n",
    "describeNum(13) ➞ \"The most brilliant number is 13!\"\n",
    "// 13 is evenly divisble by 1 only\n",
    "\n",
    "describeNum(4) ➞ \"The most brilliant exciting virtuous number is 4!\"\n",
    "// 4 is evenly divisible by 1, 2 and 4\n",
    "\n",
    "describeNum(21) ➞ \"The most brilliant fantastic beautiful number is 21!\"\n",
    "// 21 is evenly divisible by 1, 3 and 7\n",
    "\n",
    "describeNum(60) ➞ \"The most brilliant exciting fantastic virtuous heart-warming tear-jerking inspiring number is 60!\"\n",
    "// 60 is evenly divisible by 1, 2, 3, 4, 5, 6 and 10\n",
    "Notes\n",
    "Add words to the sentence in the order going down the list.\n",
    "Remember to add a space between each word.\n",
    "BONUS: Try to find the lowest number which uses all possible words in the sentence!"
   ]
  },
  {
   "cell_type": "code",
   "execution_count": 33,
   "id": "da4d2dc4",
   "metadata": {},
   "outputs": [],
   "source": [
    "def describe_number (n):\n",
    "    description= \"The most\"\n",
    "    if n % 1 == 0:\n",
    "        description += \" brilliant\"\n",
    "    if n % 2 == 0:\n",
    "        description += \" exciting\"\n",
    "    if n % 3 == 0:\n",
    "        description += \" fantastic\"\n",
    "    if n % 4 == 0:\n",
    "        description += \" virtuous\"\n",
    "    if n % 5 == 0:\n",
    "        description += \" heart-warming\"\n",
    "    if n % 6 == 0:\n",
    "        description += \" tear-jerking\"\n",
    "    if n % 7 == 0:\n",
    "        description += \" beautiful\"\n",
    "    if n % 8 == 0:\n",
    "        description += \" exhilarating\"\n",
    "    if n % 9 == 0:\n",
    "        description += \" emotional\"\n",
    "    if n % 10 == 0:\n",
    "        description += \" inspiring\"\n",
    "    description += \" number is\"\n",
    "\n",
    "\n",
    "    return description,n"
   ]
  },
  {
   "cell_type": "code",
   "execution_count": 34,
   "id": "0d4f1ba0",
   "metadata": {},
   "outputs": [
    {
     "data": {
      "text/plain": [
       "('The most brilliant heart-warming number is', 5)"
      ]
     },
     "execution_count": 34,
     "metadata": {},
     "output_type": "execute_result"
    }
   ],
   "source": [
    "describe_number (5)"
   ]
  },
  {
   "cell_type": "code",
   "execution_count": 36,
   "id": "c8e78b38",
   "metadata": {},
   "outputs": [
    {
     "data": {
      "text/plain": [
       "('The most brilliant exciting fantastic virtuous heart-warming tear-jerking inspiring number is',\n",
       " 60)"
      ]
     },
     "execution_count": 36,
     "metadata": {},
     "output_type": "execute_result"
    }
   ],
   "source": [
    "describe_number (60)"
   ]
  },
  {
   "cell_type": "markdown",
   "id": "dc653d15",
   "metadata": {},
   "source": [
    "4.Strictly Increasing or Decreasing\n",
    "Write a function that takes a list and determines whether it's strictly increasing, strictly decreasing, or neither.\n",
    "\n",
    "Examples\n",
    "check([1, 2, 3]) ➞ \"increasing\"\n",
    "\n",
    "check([3, 2, 1]) ➞ \"decreasing\"\n",
    "\n",
    "check([1, 2, 1]) ➞ \"neither\"\n",
    "\n",
    "check([1, 1, 2]) ➞ \"neither\"\n",
    "Notes\n",
    "The last example does NOT count as strictly increasing, since 1-indexed 1 is not strictly greater than the 0-indexed 1.\n",
    "Input lists have a minimum length of 2."
   ]
  },
  {
   "cell_type": "code",
   "execution_count": 40,
   "id": "219f1684",
   "metadata": {},
   "outputs": [],
   "source": [
    "def check(lst):\n",
    "    increasing=decreasing=True\n",
    "    \n",
    "    for i in range(1,len(lst)):\n",
    "        if lst[i]<=lst[i-1]:\n",
    "            increasing=False\n",
    "        if lst[i]>=lst[i-1]:\n",
    "            decreasing=False\n",
    "            \n",
    "    if increasing:\n",
    "        return \"increasing\"\n",
    "    elif increasing:\n",
    "        return \"decreasing\"\n",
    "    else:\n",
    "        return \"neither\""
   ]
  },
  {
   "cell_type": "code",
   "execution_count": 41,
   "id": "9b915704",
   "metadata": {},
   "outputs": [
    {
     "data": {
      "text/plain": [
       "'increasing'"
      ]
     },
     "execution_count": 41,
     "metadata": {},
     "output_type": "execute_result"
    }
   ],
   "source": [
    "check([1, 2, 3])"
   ]
  },
  {
   "cell_type": "markdown",
   "id": "7d0c4fe5",
   "metadata": {},
   "source": [
    "5.Directionally Challenged\n",
    "Suppose you are directionally challenged, and get lost easily. As a result, sometimes you walk in circles or make U-turns. You might take a sub-optimal route. Create a function that returns the difference in length between your path and the optimal path. Both paths reach the same destination.\n",
    "\n",
    "You start at (0,0) and reach your destination by the end of the input list.\n",
    "\n",
    "A demonstration:\n",
    "\n",
    "Your route: [\"N\", \"S\", \"E\", \"W\", \"E\", \"E\", \"E\", \"N\"]  // 8\n",
    "Optimal route: [\"E\", \"E\", \"E\", \"N\"] (or [\"N\", \"E\", \"E\", \"E\"], etc.) // 4\n",
    "#Difference in length: 8 - 4 = 4\n",
    "\n",
    "#Explanation: Your \"S\" cancels out your \"N\" and your \"W\" cancels out your \"E\" leaving you back at (0,0)\n",
    "Examples\n",
    "route_diff([\"N\", \"E\", \"S\", \"W\"]) ➞ 4\n",
    "#You\"ve just walked in a circle! You are back at the origin. Your optimal path was `[]`.\n",
    "\n",
    "route_diff([\"N\", \"N\", \"N\", \"E\", \"N\", \"E\"]) ➞ 0\n",
    "#No improvements here!\n",
    "\n",
    "route_diff([\"N\", \"S\", \"N\", \"S\", \"E\", \"W\", \"E\", \"E\"]) ➞ 6\n",
    "Notes\n",
    "Remember that a N cancels out a S, and an E cancels out a W."
   ]
  },
  {
   "cell_type": "code",
   "execution_count": 42,
   "id": "f908051e",
   "metadata": {},
   "outputs": [],
   "source": [
    "def path_length_difference(path):\n",
    "    optimal_path = []\n",
    "    for direction in path:\n",
    "        if direction == \"N\":\n",
    "            if \"S\" in optimal_path:\n",
    "                optimal_path.remove(\"S\")\n",
    "            else:\n",
    "                optimal_path.append(\"N\")\n",
    "        elif direction == \"S\":\n",
    "            if \"N\" in optimal_path:\n",
    "                optimal_path.remove(\"N\")\n",
    "            else:\n",
    "                optimal_path.append(\"S\")\n",
    "        elif direction == \"E\":\n",
    "            if \"W\" in optimal_path:\n",
    "                optimal_path.remove(\"W\")\n",
    "            else:\n",
    "                optimal_path.append(\"E\")\n",
    "        elif direction == \"W\":\n",
    "            if \"E\" in optimal_path:\n",
    "                optimal_path.remove(\"E\")\n",
    "            else:\n",
    "                optimal_path.append(\"W\")\n",
    "\n",
    "    return len(path) - len(optimal_path)"
   ]
  },
  {
   "cell_type": "code",
   "execution_count": 43,
   "id": "9dbce637",
   "metadata": {},
   "outputs": [
    {
     "name": "stdout",
     "output_type": "stream",
     "text": [
      "4\n",
      "2\n",
      "6\n"
     ]
    }
   ],
   "source": [
    "print(path_length_difference([\"N\", \"S\", \"E\", \"W\", \"E\", \"E\", \"E\", \"N\"]))\n",
    "print(path_length_difference([\"N\", \"E\", \"E\", \"W\"]))\n",
    "print(path_length_difference([\"N\", \"N\", \"N\", \"S\", \"S\", \"E\", \"W\"]))"
   ]
  },
  {
   "cell_type": "markdown",
   "id": "aa6c997b",
   "metadata": {},
   "source": [
    "6.Rock, Paper, Scissors!\n",
    "Abigail and Benson are playing Rock, Paper, Scissors.\n",
    "\n",
    "Each game is represented by an array of length 2, where the first element represents what Abigail played and the second element represents what Benson played.\n",
    "\n",
    "Given a sequence of games, determine who wins the most number of matches. If they tie, output \"Tie\".\n",
    "\n",
    "R stands for Rock\n",
    "P stands for Paper\n",
    "S stands for Scissors\n",
    "Examples\n",
    "calculate_score([[\"R\", \"P\"], [\"R\", \"S\"], [\"S\", \"P\"]]) ➞ \"Abigail\"\n",
    "\n",
    "#Benson wins the first game (Paper beats Rock).\n",
    "#Abigail wins the second game (Rock beats Scissors).\n",
    "#Abigail wins the third game (Scissors beats Paper). \n",
    "#Abigail wins 2/3.\n",
    "\n",
    "calculate_score([[\"R\", \"R\"], [\"S\", \"S\"]]) ➞ \"Tie\"\n",
    "\n",
    "calculate_score([[\"S\", \"R\"], [\"R\", \"S\"], [\"R\", \"R\"]]) ➞ \"Tie\"\n",
    "Notes\n",
    "N/A"
   ]
  },
  {
   "cell_type": "code",
   "execution_count": 7,
   "id": "aaa4c4db",
   "metadata": {},
   "outputs": [],
   "source": [
    "def determine_winner(games):\n",
    "    abigail_wins = 0\n",
    "    benson_wins = 0\n",
    "    for game in games:\n",
    "        abigail_play = game[0]\n",
    "        benson_play =game[1]\n",
    "        \n",
    "        if abigail_play ==\"R\":\n",
    "            if  benson_play == \"S\":\n",
    "                abigail_wins+=1\n",
    "            elif benson_play == \"P\":\n",
    "                benson_wins+=1\n",
    "        elif abigail_play == \"P\":\n",
    "            if benson_play == \"R\":\n",
    "                abigail_wins+=1\n",
    "            elif benson_play ==\"S\":\n",
    "                benson_wins+=1\n",
    "        elif abigail_play == \"S\":\n",
    "            if benson_play == \"P\":\n",
    "                abigail_wins += 1\n",
    "            elif benson_play == \"R\":\n",
    "                benson_wins +=1\n",
    "    if abigail_wins > benson_wins:\n",
    "        return \"Abigail wing\"\n",
    "    elif abigail_wins<benson_wins:\n",
    "        return \"Benson wins\"\n",
    "    else:\n",
    "        return \"Tie\""
   ]
  },
  {
   "cell_type": "code",
   "execution_count": 8,
   "id": "174e7843",
   "metadata": {},
   "outputs": [
    {
     "data": {
      "text/plain": [
       "'Tie'"
      ]
     },
     "execution_count": 8,
     "metadata": {},
     "output_type": "execute_result"
    }
   ],
   "source": [
    "determine_winner([[\"R\", \"R\"], [\"S\", \"S\"]])"
   ]
  },
  {
   "cell_type": "markdown",
   "id": "6ad51e9a",
   "metadata": {},
   "source": [
    "7.Find the Bugs: Returning Valid Prices\n",
    "There has been a masterdata issue which affected the prices of the products. Check if each product has a valid price (integer or float, and greater than or equal to zero). Products with a price of 0 are free and count as a valid price.\n",
    "\n",
    "The return value should be a Boolean.\n",
    "\n",
    "Examples\n",
    "has_valid_price({ \"product\": \"Milk\", \"price\": 1.50 }) ➞ True\n",
    "\n",
    "has_valid_price({ \"product\": \"Cheese\", \"price\": -1 }) ➞ False\n",
    "\n",
    "has_valid_price({ \"product\": \"Eggs\", \"price\": 0 }) ➞ True\n",
    "\n",
    "has_valid_price({ \"product\": \"Cereals\", \"price\": \"3.0\" }) ➞ False\n",
    "\n",
    "has_valid_price(None) ➞ False\n",
    "Notes\n",
    "Type of the price should be an integer/float. If it's anything else, you should return False."
   ]
  },
  {
   "cell_type": "code",
   "execution_count": 9,
   "id": "c6fd2eca",
   "metadata": {},
   "outputs": [],
   "source": [
    "def has_valid_price(products):\n",
    "    for price in products:\n",
    "        if not isinstance(price,(int,float)) or price<0:\n",
    "            return False\n",
    "    return True"
   ]
  },
  {
   "cell_type": "code",
   "execution_count": 10,
   "id": "cdde7f98",
   "metadata": {},
   "outputs": [
    {
     "data": {
      "text/plain": [
       "False"
      ]
     },
     "execution_count": 10,
     "metadata": {},
     "output_type": "execute_result"
    }
   ],
   "source": [
    "has_valid_price({ \"product\": \"Milk\", \"price\": 1.50 })"
   ]
  },
  {
   "cell_type": "code",
   "execution_count": 11,
   "id": "e8e2de76",
   "metadata": {},
   "outputs": [
    {
     "data": {
      "text/plain": [
       "False"
      ]
     },
     "execution_count": 11,
     "metadata": {},
     "output_type": "execute_result"
    }
   ],
   "source": [
    "has_valid_price({ \"product\": \"Cheese\", \"price\": -1 }) "
   ]
  },
  {
   "cell_type": "markdown",
   "id": "11aacb15",
   "metadata": {},
   "source": [
    "8. The Conquering Queen\n",
    "In chess, queens can move any number of squares horizontally, vertically or diagonally.\n",
    "\n",
    "Given the location of your queen and your opponents' queen, determine whether or not you're able to capture your opponent's queen. Your location and your opponents' location are the first and second elements of the list, respectively.\n",
    "\n",
    "Examples\n",
    "can_capture([\"A1\", \"H8\"]) ➞ True\n",
    "#Your queen can move diagonally to capture opponents' piece.\n",
    "\n",
    "can_capture([\"A1\", \"C2\"]) ➞ False\n",
    "#Your queen cannot reach C2 from A1 (although a knight could).\n",
    "\n",
    "can_capture([\"G3\", \"E5\"]) ➞ True\n",
    "Notes\n",
    "Assume there are no blocking pieces."
   ]
  },
  {
   "cell_type": "code",
   "execution_count": 12,
   "id": "8ac9f960",
   "metadata": {},
   "outputs": [],
   "source": [
    "def can_capture(your_location, opponent_location):\n",
    "    if your_location[0] == opponent_location[0] or your_location[1] == opponent_location[1]:\n",
    "        return True\n",
    "    \n",
    " \n",
    "    if abs(your_location[0] - opponent_location[0]) == abs(your_location[1] - opponent_location[1]):\n",
    "        return True\n",
    "    \n",
    "  \n",
    "    return False"
   ]
  },
  {
   "cell_type": "code",
   "execution_count": 15,
   "id": "db9277e7",
   "metadata": {},
   "outputs": [
    {
     "name": "stdout",
     "output_type": "stream",
     "text": [
      "True\n",
      "True\n"
     ]
    }
   ],
   "source": [
    "your_queen = [4, 2]\n",
    "opponent_queen = [6, 4]\n",
    "print(can_capture(your_queen, opponent_queen))\n",
    "\n",
    "\n",
    "your_queen = [1, 1]\n",
    "opponent_queen = [8, 8]\n",
    "print(can_capture(your_queen, opponent_queen))\n"
   ]
  },
  {
   "cell_type": "markdown",
   "id": "dc80e9a7",
   "metadata": {},
   "source": [
    "9.Temperature Converter\n",
    "Create a function that converts Celsius to Fahrenheit and vice versa.\n",
    "\n",
    "Examples\n",
    "convert(\"35*C\") ➞ \"95*F\"\n",
    "\n",
    "convert(\"19*F\") ➞ \"-7*C\"\n",
    "\n",
    "convert(\"33\") ➞ \"Error\"\n",
    "Notes\n",
    "Round to the nearest integer.\n",
    "If the input is incorrect, return \"Error\".\n",
    "For the formulae to convert back and forth, check the Resources tab."
   ]
  },
  {
   "cell_type": "code",
   "execution_count": 23,
   "id": "04da6862",
   "metadata": {},
   "outputs": [],
   "source": [
    "def celsius_to_fahrenheit(celsius):\n",
    "    fahrenheit=(celsius*9/5)+32\n",
    "    return fahrenheit\n",
    "def fahrenheit_to_celsius(fahrenheit):\n",
    "    celsius=(fahrenheit-32)*(5/9)\n",
    "    return celsius"
   ]
  },
  {
   "cell_type": "code",
   "execution_count": 24,
   "id": "6d5a6aa2",
   "metadata": {},
   "outputs": [
    {
     "data": {
      "text/plain": [
       "95.0"
      ]
     },
     "execution_count": 24,
     "metadata": {},
     "output_type": "execute_result"
    }
   ],
   "source": [
    "celsius_to_fahrenheit(35)"
   ]
  },
  {
   "cell_type": "markdown",
   "id": "bf596c9a",
   "metadata": {},
   "source": [
    "10.Return the End Letters of Numbers\n",
    "Create a function that takes an integer and returns it as an ordinal number. An Ordinal Number is a number that tells the position of something in a list, such as 1st, 2nd, 3rd, 4th, 5th, etc.\n",
    "\n",
    "Examples\n",
    "return_end_of_number(553) ➞ \"553-RD\"\n",
    "\n",
    "return_end_of_number(34) ➞ \"34-TH\"\n",
    "\n",
    "return_end_of_number(1231) ➞ \"1231-ST\"\n",
    "\n",
    "return_end_of_number(22) ➞ \"22-ND\"\n",
    "\n",
    "return_end_of_number(412) ➞ \"412-TH\"\n",
    "Notes\n",
    "Check the Resources tab for more info on ordinal numbers."
   ]
  },
  {
   "cell_type": "code",
   "execution_count": 26,
   "id": "374385ce",
   "metadata": {},
   "outputs": [],
   "source": [
    "def return_end_of_number(number):\n",
    "    if 10 < number%100<20:\n",
    "        ordinal=str(number)+\"th\"\n",
    "    else:\n",
    "        last_digit=number%10\n",
    "        if last_digit==1:\n",
    "            ordinal=str(number)+\"st\" \n",
    "        elif last_digit==2:\n",
    "            ordinal=str(number)+\"nd\"\n",
    "        elif last_digit==3:\n",
    "            ordinal=str(number)+\"rd\"\n",
    "        else:\n",
    "            ordinal=str(number)+\"th\"\n",
    "    return ordinal"
   ]
  },
  {
   "cell_type": "code",
   "execution_count": 27,
   "id": "8f4fadaf",
   "metadata": {},
   "outputs": [
    {
     "data": {
      "text/plain": [
       "'553rd'"
      ]
     },
     "execution_count": 27,
     "metadata": {},
     "output_type": "execute_result"
    }
   ],
   "source": [
    "return_end_of_number(553) "
   ]
  },
  {
   "cell_type": "markdown",
   "id": "1b78830b",
   "metadata": {},
   "source": [
    "11. RNA Reverse Complement\n",
    "Create a function that finds the reverse complement of a ribonucleic acid (RNA) strand. The RNA will be represented as a string containing only the characters \"A\", \"C\", \"G\" and \"U\". Since RNA can only (canonically) allow pairings of A/U and G/C, the complement of an RNA would be as follows:\n",
    "\n",
    "Original\tComplement\n",
    "\"AAA\"\t\"UUU\"\n",
    "\"UUU\"\t\"AAA\"\n",
    "\"GGG\"\t\"CCC\"\n",
    "\"CCC\"\t\"GGG\"\n",
    "Your function should find the complement on the right AND also reverse the resulting string.\n",
    "\n",
    "Examples\n",
    "reverse_complement(\"GUGU\") ➞ \"ACAC\"\n",
    "\n",
    "reverse_complement(\"UCUCG\") ➞ \"CGAGA\"\n",
    "\n",
    "reverse_complement(\"CAGGU\") ➞ \"ACCUG\"\n",
    "Notes\n",
    "You can assume all input seqeuences will be valid."
   ]
  },
  {
   "cell_type": "code",
   "execution_count": 28,
   "id": "96b675a7",
   "metadata": {},
   "outputs": [],
   "source": [
    "def reverse_complement(rna):\n",
    "    complement = {'A': 'U', 'U': 'A', 'G': 'C', 'C': 'G'}\n",
    "    reverse = rna[::-1]\n",
    "    reverse_complement = ''.join(complement[base] for base in reverse)\n",
    "    return reverse_complement"
   ]
  },
  {
   "cell_type": "code",
   "execution_count": 30,
   "id": "5cf588df",
   "metadata": {},
   "outputs": [
    {
     "name": "stdout",
     "output_type": "stream",
     "text": [
      "ACAC\n"
     ]
    }
   ],
   "source": [
    "print(reverse_complement(\"GUGU\"))"
   ]
  },
  {
   "cell_type": "code",
   "execution_count": null,
   "id": "c4d52f69",
   "metadata": {},
   "outputs": [],
   "source": []
  }
 ],
 "metadata": {
  "kernelspec": {
   "display_name": "Python 3 (ipykernel)",
   "language": "python",
   "name": "python3"
  },
  "language_info": {
   "codemirror_mode": {
    "name": "ipython",
    "version": 3
   },
   "file_extension": ".py",
   "mimetype": "text/x-python",
   "name": "python",
   "nbconvert_exporter": "python",
   "pygments_lexer": "ipython3",
   "version": "3.9.12"
  }
 },
 "nbformat": 4,
 "nbformat_minor": 5
}
