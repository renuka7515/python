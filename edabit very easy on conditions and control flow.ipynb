{
 "cells": [
  {
   "cell_type": "code",
   "execution_count": 2,
   "id": "e3ca4261",
   "metadata": {},
   "outputs": [
    {
     "name": "stdout",
     "output_type": "stream",
     "text": [
      "False\n"
     ]
    }
   ],
   "source": [
    "# 1. Goal\n",
    "#In the Code tab you will find a code that is missing a single character in order to pass the tests. However, YOUR GOAL is to submit a function as minimalist as possible. Use the tips in the Tips section down below.\n",
    "\n",
    "#Write a function that returns True if the given integer is even, and False if it's odd.\n",
    "\n",
    "#Tips\n",
    "#Using an if statement in order to return boolean or to set a variable to a boolean is redundant.\n",
    "\n",
    "#A function that returns True if a person's age is 18 or greater and False otherwise, could be written as:\n",
    "\n",
    "#def legal_age(age):\n",
    "  #if age >= 18:\n",
    "    #return True\n",
    "  #else:\n",
    "    #return False\n",
    "#Notice that age >= 18 will already give us a boolean (True or False). This means that the function can be written in a much simpler and cleaner way:\n",
    "\n",
    "#def legal_age(age):\n",
    " # return age >= 18\n",
    "#Notes\n",
    "#This is an open series: there isn't a definite list of features for the challenges. Please, do not hesitate to leave your suggestions in the Comment tab.\n",
    "#Readability is indeed a subjective concept. Let's discuss it! Feel free to leave your opinion in the Comments tab.\n",
    "#You can find all the exercises in this series over here.\n",
    "\n",
    "\n",
    "def is_even(n):\n",
    "    return n % 2 == 0\n",
    "print(is_even(5))"
   ]
  },
  {
   "cell_type": "code",
   "execution_count": 5,
   "id": "049cd591",
   "metadata": {},
   "outputs": [
    {
     "name": "stdout",
     "output_type": "stream",
     "text": [
      "bag\n"
     ]
    }
   ],
   "source": [
    "# 2. The packaging system is running wild! The candy is lying loose all over in the warehouse, the cereal is missing, and bread is stuffed in a bottle. What is going on here? The candy should be in plastic and the bread should be in a bag.\n",
    "\n",
    "#The packaging machine is running the get_container() function to retrieve the container of a product. But something is not right...\n",
    "\n",
    "#Examples\n",
    "#get_container(\"Bread\") ➞ \"bag\"\n",
    "\n",
    "#get_container(\"Beer\") ➞ \"bottle\"\n",
    "\n",
    "#get_container(\"Candy\") ➞ \"plastic\"\n",
    "\n",
    "#get_container(\"Cheese\") ➞ None\n",
    "#Notes\n",
    "#Think about what the object's packaging should be.\n",
    "\n",
    "def get_container(product):\n",
    "    matches = {\"Bread\" : \"bag\",\"Milk\" : \"bottle\",\"Beer\" : \"bottle\",\"Eggs\" : \"carton\",\"Cerials\" : \"box\",\"Candy\" : \"plastic\",\"Cheese\" : None}\n",
    "    return matches[product]\n",
    "\n",
    "\n",
    "print(get_container(\"Bread\"))"
   ]
  },
  {
   "cell_type": "code",
   "execution_count": 11,
   "id": "484ec032",
   "metadata": {},
   "outputs": [
    {
     "name": "stdout",
     "output_type": "stream",
     "text": [
      "0\n",
      "1\n",
      "0\n",
      "1\n",
      "0\n"
     ]
    }
   ],
   "source": [
    "# 3. Flip the Boolean\n",
    "# Due to a programming concept known as truthiness, certain values can be evaluated to (i.e. take the place of) booleans. For example, 1 (or any number other than 0) is often equivalent to True, and 0 is often equivalent to False.\n",
    "\n",
    "# Create a function that returns the opposite of the given boolean, as a number.\n",
    "\n",
    "# Examples\n",
    "# flip_bool(True) ➞ 0\n",
    "\n",
    "# flip_bool(False) ➞ 1\n",
    "\n",
    "# flip_bool(1) ➞ 0\n",
    "\n",
    "# flip_bool(0) ➞ 1\n",
    "\n",
    "\n",
    "\n",
    "\n",
    "def flip_bool(a):\n",
    "    return 0 if a==True or a>=1 else 1\n",
    "\n",
    "print(flip_bool(True))\n",
    "print(flip_bool(False))\n",
    "print(flip_bool(1))\n",
    "print(flip_bool(0))\n",
    "print(flip_bool(2))"
   ]
  },
  {
   "cell_type": "code",
   "execution_count": 13,
   "id": "0fa0974b",
   "metadata": {},
   "outputs": [
    {
     "name": "stdout",
     "output_type": "stream",
     "text": [
      "even\n",
      "odd\n"
     ]
    }
   ],
   "source": [
    "# 4.Minimal II: Boolean Redundancy\n",
    "# Check the principles of minimalist code in the intro to the first challenge.\n",
    "\n",
    "# In the Code tab you will find a code that is missing a single character in order to pass the tests. However, your goal is to submit a function as minimalist as possible. Use the tips in the tips section down below.\n",
    "\n",
    "# Write a function that returns the string \"even\" if the given integer is even, and the string \"odd\" if it's odd.\n",
    "\n",
    "# Tips\n",
    "# Converting a boolean, or something that will ultimately be interpreted as a boolean, into a boolean is redundant.\n",
    "\n",
    "# For example, the code:\n",
    "\n",
    "# boolean = bool(x < 4)\n",
    "# return boolean == True\n",
    "# Is equivalent to simply:\n",
    "\n",
    "# return x < 4\n",
    "# A comparison with <, <=, ==, !=, >=, > will always result in a boolean, therefore using the function bool() is totally unnecessary.\n",
    "# boolean == True is redundant, as it will always return boolean.\n",
    "# To obtain the opposite of boolean we could use boolean == False. However, a much cleaner way of doing this is simply not boolean.\n",
    "# While preserving readability, avoid declaring unnecessary variables.\n",
    "# Notes\n",
    "# This is an open series: there isn't a definite list of features for the challenges. Please, do not hesitate to leave your suggestions in Comments.\n",
    "# Readability is indeed a subjective concept. Let's discuss it! Feel free to leave your opinion in Comments.\n",
    "# You can find all the exercises in this series over here.\n",
    "\n",
    "\n",
    "def parity(n):\n",
    "    return \"even\" if n%2==0 else \"odd\"\n",
    "\n",
    "print(parity(2))\n",
    "print(parity(5))\n"
   ]
  },
  {
   "cell_type": "code",
   "execution_count": 3,
   "id": "bbd9c0c0",
   "metadata": {},
   "outputs": [
    {
     "name": "stdout",
     "output_type": "stream",
     "text": [
      "first class lever\n",
      "second class lever\n",
      "third class lever\n"
     ]
    }
   ],
   "source": [
    "# 5.First Class, Second Class and Third Class Levers\n",
    "# Levers are simple machines with a rigid beam and a fulcrum. From the picture below, you can see that there are 3-types of levers: first class, second class and third class.\n",
    "\n",
    "# In a first class lever, the fulcrum is situated in the middle with the effort and the load being positioned opposite of each other.\n",
    "# In a second class lever, the fulcrum is situated in the right with the effort on the left and the load in the middle.\n",
    "# In a third class lever, the fulcrum is situated in the left with the effort being in the middle and the load being on the right.\n",
    "\n",
    "\n",
    "# Given a list that contains the fulcrum \"f\", the effort \"e\", and the load \"l\", write a function that determines whether or not the list shows a first class lever, second class lever, or a third class lever.\n",
    "\n",
    "# Examples\n",
    "# determine_lever([\"e\", \"f\", \"l\"]) ➞ \"first class lever\"\n",
    "\n",
    "# determine_lever([\"e\", \"l\", \"f\"]) ➞ \"second class lever\"\n",
    "\n",
    "# determine_lever([\"f\", \"e\", \"l\"]) ➞ \"third class lever\"\n",
    "# Notes\n",
    "# A pair of scissors is a first class lever, a nutcracker is a second class lever and a broom is a third class lever.\n",
    "\n",
    "\n",
    "def determine_lever(l):\n",
    "    if l[0]==\"e\" and l[1]==\"f\" and l[2]==\"l\":\n",
    "        return \"first class lever\"\n",
    "    elif l[0]==\"e\" and l[1]==\"l\" and l[2]==\"f\":\n",
    "        return \"second class lever\"\n",
    "    elif l[0]==\"f\" and l[1]==\"e\" and l[2]==\"l\":\n",
    "        return \"third class lever\"\n",
    "    else:\n",
    "        return \n",
    "print(determine_lever([\"e\", \"f\", \"l\"]))    \n",
    "print(determine_lever([\"e\", \"l\", \"f\"]))\n",
    "print(determine_lever([\"f\", \"e\", \"l\"]))"
   ]
  },
  {
   "cell_type": "code",
   "execution_count": 18,
   "id": "4941e9ab",
   "metadata": {},
   "outputs": [
    {
     "name": "stdout",
     "output_type": "stream",
     "text": [
      "True\n",
      "False\n",
      "True\n",
      "False\n"
     ]
    }
   ],
   "source": [
    "# 6. Movie Theatre Admittance\n",
    "#Write a function that checks whether a person can watch an MA15+ rated movie. One of the following two conditions is required for admittance:\n",
    "\n",
    "#The person is at least 15 years old.\n",
    "#They have parental supervision.\n",
    "#The function accepts two parameters, age and is_supervised. Return a boolean.\n",
    "\n",
    "#Examples\n",
    "#accept_into_movie(14, True) ➞ True\n",
    "\n",
    "#accept_into_movie(14, False) ➞ False\n",
    "\n",
    "#accept_into_movie(16, False) ➞ True\n",
    "#Notes\n",
    "#age is a decimal.\n",
    "#is_supervised is a boolean.\n",
    "\n",
    "\n",
    "def accept_into_movie(age,is_supervised):\n",
    "    return (age<=15 and is_supervised==True) or (age>15 and (is_supervised==True or is_supervised==False))\n",
    "\n",
    "print(accept_into_movie(14, True))\n",
    "print(accept_into_movie(14, False))\n",
    "print(accept_into_movie(16, False))\n",
    "print(accept_into_movie(14.9999,False))"
   ]
  },
  {
   "cell_type": "code",
   "execution_count": 36,
   "id": "1c00f787",
   "metadata": {},
   "outputs": [
    {
     "name": "stdout",
     "output_type": "stream",
     "text": [
      "hellohellohello\n",
      "Not A String !!\n"
     ]
    }
   ],
   "source": [
    "# 7. Repeat String\n",
    "#Create a function that takes a string txt and a number n and returns the repeated string n number of times.\n",
    "\n",
    "#If given argument txt is not a string, return Not A String !!\n",
    "\n",
    "#Examples\n",
    "#repeat_string(\"Mubashir\", 2) ➞ \"MubashirMubashir\"\n",
    "\n",
    "#repeat_string(\"Matt\", 3) ➞ \"MattMattMatt\"\n",
    "\n",
    "#repeat_string(1990, 7) ➞ \"Not A String !!\"\n",
    "#Notes\n",
    "#Don't forget to return the result.\n",
    "#If you get stuck on a challenge, find help in the Resources tab.\n",
    "#If you're really stuck, unlock solutions in the Solutions tab.\n",
    "\n",
    "\n",
    "\n",
    "\n",
    "def repeat_string(txt,n):\n",
    "     return txt*n if type(txt)==str else \"Not A String !!\"\n",
    "print(repeat_string(\"hello\", 3))\n",
    "print(repeat_string(1990, 7))"
   ]
  },
  {
   "cell_type": "code",
   "execution_count": 41,
   "id": "b8700c90",
   "metadata": {},
   "outputs": [
    {
     "name": "stdout",
     "output_type": "stream",
     "text": [
      "5518.0\n",
      "1.0\n",
      "4.0\n"
     ]
    }
   ],
   "source": [
    "# 8. Taxi Journey\n",
    "#A taxi journey costs $3 for the first kilometer travelled. However, all kilometers travelled after that will cost $2 each.\n",
    "\n",
    "#Create a function which returns the distance that the taxi must've travelled, given the cost as a parameter.\n",
    "\n",
    "#Examples\n",
    "#journey_distance(3) ➞ 1\n",
    "# The first kilometer costs $3\n",
    "\n",
    "#journey_distance(9) ➞ 4\n",
    "# The first kilometer costs $3 plus the other three kilometers (costing $2 each)\n",
    "\n",
    "#journey_distance(5) ➞ 2\n",
    "#Notes\n",
    "#The input tests are valid integers >= 0.\n",
    "#The output will always be a whole number.\n",
    "#Remember that you are calculating the distance from the cost, not the other way around!\n",
    "\n",
    "\n",
    "\n",
    "\n",
    "def journey_distance(cost):\n",
    "        return 1+(cost-3)/2 \n",
    "    \n",
    "print(journey_distance(11037))\n",
    "print(journey_distance(3))\n",
    "print(journey_distance(9))"
   ]
  },
  {
   "cell_type": "code",
   "execution_count": 54,
   "id": "3a1f35a8",
   "metadata": {},
   "outputs": [
    {
     "name": "stdout",
     "output_type": "stream",
     "text": [
      "1\n",
      "3\n",
      "9\n"
     ]
    }
   ],
   "source": [
    "# 9. Word Numbers!\n",
    "# Create a function that returns a number, based on the string provided. Here is a list of all digits:\n",
    "\n",
    "#String\tNumber\n",
    "#\"one\"\t1\n",
    "#\"two\"\t2\n",
    "#\"three\"\t3\n",
    "#\"four\"\t4\n",
    "#\"five\"\t5\n",
    "#\"six\"\t6\n",
    "#\"seven\"\t7\n",
    "#\"eight\"\t8\n",
    "#\"nine\"\t9\n",
    "#\"zero\"\t0\n",
    "#Examples\n",
    "#word(\"one\") ➞ 1\n",
    "\n",
    "#word(\"two\") ➞ 2\n",
    "\n",
    "#word(\"nine\") ➞ 9\n",
    "\n",
    "\n",
    "\n",
    "def word(n):\n",
    "    string_number={\"one\":1,\"two\":2,\"three\":3,\"four\":4,\"five\":5,\"six\":6,\"seven\":7,\"eight\":8,\"nine\":9,\"zero\":0}\n",
    "    return string_number.get(n)\n",
    "print(word(\"one\"))\n",
    "print(word(\"three\"))\n",
    "print(word(\"nine\"))\n"
   ]
  },
  {
   "cell_type": "code",
   "execution_count": 63,
   "id": "18ad7cdb",
   "metadata": {},
   "outputs": [
    {
     "name": "stdout",
     "output_type": "stream",
     "text": [
      "yeah\n",
      "nope\n"
     ]
    }
   ],
   "source": [
    "# 10.Using Ternary Operators\n",
    "#The ternary operator (sometimes called Conditional Expressions) in Python is an alternative to the if... else... statement.\n",
    "\n",
    "#It is written in the format:\n",
    "\n",
    "#result_if_true if condition else result_if_false\n",
    "#Ternary operators are often more compact than multi-line if statements, and are useful for simple conditional tests.\n",
    "\n",
    "#For example:\n",
    "\n",
    "#is_nice = True\n",
    "\n",
    "# Using ternary operator.\n",
    "#state = \"nice\" if is_nice else \"not nice\"\n",
    "\n",
    "# Equivalent code using multi-line if statements.\n",
    "#if is_nice:\n",
    "    #state = \"nice\"\n",
    "#else:\n",
    "    #state = \"not nice\"\n",
    "#Write a function that uses the ternary operator to return \"yeah\" if b is True, and \"nope\" otherwise.\n",
    "\n",
    "#Examples\n",
    "#yeah_nope(True) ➞ \"yeah\"\n",
    "\n",
    "#yeah_nope(False) ➞ \"nope\"\n",
    "\n",
    "\n",
    "b=True\n",
    "def yeah_nope(b):\n",
    "    return \"yeah\" if b else \"nope\"\n",
    "\n",
    "\n",
    "print(yeah_nope(True))\n",
    "print(yeah_nope(False))"
   ]
  },
  {
   "cell_type": "code",
   "execution_count": 72,
   "id": "33d14c8f",
   "metadata": {
    "scrolled": true
   },
   "outputs": [],
   "source": [
    "# 11. Which Generation Are You?\n",
    "#Try finding your ancestors and offspring with code.\n",
    "\n",
    "#Create a function that takes a number x and a character y (\"m\" for male, \"f\" for female), and returns the name of an ancestor (m/f) or descendant (m/f).\n",
    "\n",
    "#If the number is negative, return the related ancestor.\n",
    "#If positive, return the related descendant.\n",
    "#You are generation 0. In the case of 0 (male or female), return \"me!\".\n",
    "#Examples\n",
    "#generation(2, \"f\") ➞ \"granddaughter\"\n",
    "\n",
    "#generation(-3, \"m\") ➞ \"great grandfather\"\n",
    "\n",
    "#generation(1, \"f\") ➞ \"daughter\"\n",
    "#Notes\n",
    "#Check the Resources tab for helpful hints.\n",
    "\n",
    "#Generation\tMale\tFemale\n",
    "#-3\tgreat grandfather\tgreat grandmother\n",
    "#-2\tgrandfather\tgrandmother\n",
    "#-1\tfather\tmother\n",
    "#0\tme!\tme!\n",
    "#1\tson\tdaughter\n",
    "#2\tgrandson\tgranddaughter\n",
    "#3\tgreat grandson\tgreat granddaughter\n",
    "\n",
    "\n",
    "\n",
    "\n",
    "def generation(x, y):\n",
    "    g = {-3: {\"m\": \"great grandfather\",\"f\": \"great grandmother\",},-2: {\"m\": \"grandfather\",\"f\": \"grandmother\",},-1: {\"m\": \"father\",\"f\": \"mother\",},0: {\"m\": \"me!\",\"f\": \"me!\",},1: {\"m\": \"son\",\"f\": \"daughter\",},2: {\"m\": \"grandson\",\"f\": \"granddaughter\",},3: {\"m\": \"great grandson\",\"f\": \"great granddaughter\",}}\n",
    "    \n",
    "    "
   ]
  },
  {
   "cell_type": "code",
   "execution_count": 94,
   "id": "758636a9",
   "metadata": {},
   "outputs": [
    {
     "name": "stdout",
     "output_type": "stream",
     "text": [
      "Bill\n",
      "Will\n",
      "Tie\n"
     ]
    }
   ],
   "source": [
    "# 12.A Day at the Market\n",
    "#Backpack Bill and Wallet Will set off for the annual festival. As they approach the stalls, Bill retorts that he'll be able to bring home more stuff than Will. Taking this as a challenge, Will refutes and a competition spurs into action.\n",
    "\n",
    "#Backpack Bill has an infinite inventory space, but a limited number of coins.\n",
    "#Wallet Will has an infinite number of coins, but a limited inventory space.\n",
    "#Create a function that returns the name of the man who can bring home the most items. The parameters are given as follows:\n",
    "\n",
    "#Bill's amount of money.\n",
    "#Will's amount of inventory space.\n",
    "#The item's price.\n",
    "#The item's size.\n",
    "#Worked Example\n",
    "#who_wins_tonight(40, 95, 5, 10) ➞ \"Will\"\n",
    "\n",
    "# The item costs 5 coins and takes up 10 inventory spaces.\n",
    "# Bill can only buy a maximum of 8 items (40 coins DIV 5 = 8).\n",
    "# Will can only bring home a maximum of 9 items. (95 inventory spaces DIV 10 = 9).\n",
    "# Will is the winner.\n",
    "#Examples\n",
    "#who_wins_tonight(20, 20, 5, 10) ➞ \"Bill\"\n",
    "\n",
    "#who_wins_tonight(10, 2, 20, 1) ➞ \"Will\"\n",
    "\n",
    "#who_wins_tonight(3, 7, 2, 5) ➞ \"Tie\"\n",
    "#Notes\n",
    "#DIV means a floored division. That means you round down after dividing.\n",
    "#Return \"Tie\" if both men can afford the same amount of stuff.\n",
    "#All numbers will be positive integers.\n",
    "\n",
    "\n",
    "\n",
    "\n",
    "\n",
    "who_wins_tonight = lambda c,s,p,z:'Tie' if c//p == s//z else'Bill' if c//p > s//z else 'Will'\n",
    "\n",
    "\n",
    "print(who_wins_tonight(20,20,5,10))\n",
    "print(who_wins_tonight(10,2,20,1))\n",
    "print(who_wins_tonight(20,24,65,30))"
   ]
  },
  {
   "cell_type": "code",
   "execution_count": 92,
   "id": "c4709581",
   "metadata": {},
   "outputs": [
    {
     "name": "stdout",
     "output_type": "stream",
     "text": [
      "True\n",
      "False\n"
     ]
    }
   ],
   "source": [
    "# 13. Integer in Range?\n",
    "#Create a function that validates whether a number n is within the bounds of lower and upper. Return False if n is not an integer.\n",
    "\n",
    "#Examples\n",
    "#int_within_bounds(3, 1, 9) ➞ True\n",
    "\n",
    "#int_within_bounds(6, 1, 6) ➞ False\n",
    "\n",
    "#int_within_bounds(4.5, 3, 8) ➞ False\n",
    "#Notes\n",
    "#The term \"within bounds\" means a number is considered equal or greater than a lower bound and lesser (but not equal) to an upper bound, (see example #2).\n",
    "#Bounds will be always given as integers.\n",
    "\n",
    "def int_within_bounds(n,lower,upper):\n",
    "    return True if type(n)==int and n>=lower and n<upper else False\n",
    "print(int_within_bounds(63,50,70))\n",
    "print(int_within_bounds(6, 1, 6))"
   ]
  },
  {
   "cell_type": "code",
   "execution_count": 95,
   "id": "3b67158e",
   "metadata": {},
   "outputs": [
    {
     "name": "stdout",
     "output_type": "stream",
     "text": [
      "negative\n",
      "positive\n",
      "True\n"
     ]
    }
   ],
   "source": [
    "# 14. Minimal IV: if-elif-else Inferno\n",
    "#Check the principles of minimalist code in the intro to the first challenge.\n",
    "\n",
    "#In the Code tab you will find a code that is missing a single character in order to pass the tests. However, your goal is to submit a function as minimalist as possible. Use the tips in the tips section below.\n",
    "\n",
    "#Write a function that returns the boolean True if the given number is zero, the string \"positive\" if the number is greater than zero or the string \"negative\" if it's smaller than zero.\n",
    "\n",
    "#Tips\n",
    "#Executing a return will effectively end your function.\n",
    "\n",
    "#For example, the code:\n",
    "\n",
    "#def compare_to_100(x):\n",
    "    #if x > 100:\n",
    "        #return \"greater\"\n",
    "    #elif x < 100:\n",
    "        #return \"smaller\"\n",
    "    #else:\n",
    "        #return \"equal\"\n",
    "#Can be simplified to:\n",
    "\n",
    "#def compare_to_100(x):\n",
    "    #if x > 100:\n",
    "        #return \"greater\"\n",
    "    #if x < 100:\n",
    "        #return \"smaller\"\n",
    "    #return \"equal\"\n",
    "#If x is greater than 100, Python will not execute the code past the first return.\n",
    "#If x is smaller than 100, Python will not execute the code inside the first if statement or past the second return.\n",
    "#If x is equal to 100, Python will not execute the code inside the two if statements.\n",
    "#This can only be used if you have a return inside your if statement.\n",
    "#Bonus\n",
    "#Further simplification of the code above:\n",
    "\n",
    "#def compare_to_100(x):\n",
    "    #return \"greater\" if x > 100 else \"smaller\" if x < 100 else \"equal\"\n",
    "#Notes\n",
    "#This is an open series: there isn't a definite list of features for the challenges. Please, do not hesitate to leave your suggestions in the Comments.\n",
    "#Readability is indeed a subjective concept. Let's discuss it! Feel free to leave your opinion in the Comments.\n",
    "#You can find all the exercises in this series over here.\n",
    "\n",
    "\n",
    "\n",
    "var=lambda x:True if x==0 else \"positive\" if x>0 else \"negative\"\n",
    "\n",
    "print(var(-9879789676))\n",
    "print(var(47658778))\n",
    "print(var(0))\n"
   ]
  },
  {
   "cell_type": "code",
   "execution_count": 96,
   "id": "e71c3bd4",
   "metadata": {},
   "outputs": [
    {
     "data": {
      "text/plain": [
       "True"
      ]
     },
     "execution_count": 96,
     "metadata": {},
     "output_type": "execute_result"
    }
   ],
   "source": [
    "#15. Create a function that determines if the temp of the water is considered boiling or not. temp will be measured in Fahrenheit and Celsius.\n",
    "#Examples\n",
    "#is_boiling(\"212F\") ➞ True\n",
    "#is_boiling(\"100C\") ➞ True\n",
    "#is_boiling(\"0F\") ➞ False\n",
    "#Note:The boiling point of water is 212F in Fahrenheit and 100C in Celsius\n",
    "\n",
    "var1=lambda y:True if y==\"212F\" or y==\"100C\" else False\n",
    "var1(\"212F\")\n"
   ]
  },
  {
   "cell_type": "code",
   "execution_count": 97,
   "id": "2f8f9e72",
   "metadata": {},
   "outputs": [
    {
     "name": "stdout",
     "output_type": "stream",
     "text": [
      "[5, 4, 3]\n",
      "[50]\n"
     ]
    }
   ],
   "source": [
    "#16 Create a function that takes two arguments of a list of numbers lst and a constant number n and returns the n largest numbers from the given list.\n",
    "\n",
    "def f3(a,n):\n",
    "    x=sorted(a,reverse=True)\n",
    "    return x[:n]\n",
    "print(f3([3,5,2,4],3))\n",
    "print(f3([34,12,50],1))"
   ]
  },
  {
   "cell_type": "code",
   "execution_count": 98,
   "id": "b0b4aadf",
   "metadata": {},
   "outputs": [
    {
     "data": {
      "text/plain": [
       "[2, 2]"
      ]
     },
     "execution_count": 98,
     "metadata": {},
     "output_type": "execute_result"
    }
   ],
   "source": [
    "#17  Create a function that takes a range object r, index i, and returns a list where the first element is the number of elements in the range object, and the second element is the element of the range object at the given index.\n",
    "\n",
    "def obj(r,i):\n",
    "    x = list(r)\n",
    "    num_elements = len(x)\n",
    "    if i < num_elements:\n",
    "        return [num_elements,x[i]]\n",
    "    else:\n",
    "        return []\n",
    "\n",
    "obj(range(2,4),0)"
   ]
  },
  {
   "cell_type": "code",
   "execution_count": 99,
   "id": "22897d37",
   "metadata": {},
   "outputs": [
    {
     "data": {
      "text/plain": [
       "3"
      ]
     },
     "execution_count": 99,
     "metadata": {},
     "output_type": "execute_result"
    }
   ],
   "source": [
    "#18 Write a function that returns the first truthy argument passed to the function. If all arguments are falsy, return the string \"not found\". The function will be called with a minimum of one and a maximum of four arguments: a, b, c, d.\n",
    "\n",
    "def fn(a,b,c):\n",
    "     return a or b or c\n",
    "fn(3,8,6)"
   ]
  },
  {
   "cell_type": "code",
   "execution_count": 100,
   "id": "8257dd93",
   "metadata": {},
   "outputs": [
    {
     "name": "stdout",
     "output_type": "stream",
     "text": [
      "False\n",
      "True\n"
     ]
    }
   ],
   "source": [
    "#19 Create a function that takes three numbers as arguments and returns True if it's a triangle and False if not.\n",
    "\n",
    "def triangle(a,b,c):\n",
    "    if a+b>c:\n",
    "        return \"True\"\n",
    "    else:\n",
    "        return \"False\"\n",
    "    \n",
    "    \n",
    "print(triangle(4,3,8))\n",
    "print(triangle(5,6,8))"
   ]
  },
  {
   "cell_type": "code",
   "execution_count": 101,
   "id": "97616555",
   "metadata": {},
   "outputs": [
    {
     "name": "stdout",
     "output_type": "stream",
     "text": [
      "0\n",
      "1\n"
     ]
    }
   ],
   "source": [
    "#20 Create a function that takes an argument of any data type and returns 1 if it's truthy and 0 if it's falsy.\n",
    "\n",
    "def data(x):\n",
    "    if x==False or x==None or x==0 or x==[] or x=={} or x==\"\":\n",
    "        return 0\n",
    "    else:\n",
    "        return 1\n",
    "    \n",
    "    \n",
    "print(data(False))\n",
    "print(data(\"False\"))"
   ]
  },
  {
   "cell_type": "code",
   "execution_count": 103,
   "id": "6769d504",
   "metadata": {},
   "outputs": [
    {
     "name": "stdout",
     "output_type": "stream",
     "text": [
      "True\n",
      "True\n",
      "False\n"
     ]
    }
   ],
   "source": [
    "#21 Write a function that returns True if both numbers are:\n",
    "#Smaller than 0, OR ...\n",
    "#Greater than 0, OR ...\n",
    "#Exactly 0\n",
    "#Otherwise, return False.\n",
    "\n",
    "def number(x,y):\n",
    "    if (x<0 and y<0):\n",
    "        return \"True\"\n",
    "    elif(x>0 and y>0): \n",
    "        return \"True\"\n",
    "    elif(x==0 and y==0):\n",
    "        return \"True\"\n",
    "    else:\n",
    "        return \"False\"\n",
    "    \n",
    "print(number(-7,-4))\n",
    "print(number(0,0))\n",
    "print(number(-1,2))"
   ]
  },
  {
   "cell_type": "code",
   "execution_count": 104,
   "id": "2e4ca787",
   "metadata": {},
   "outputs": [
    {
     "data": {
      "text/plain": [
       "[[34, 76], [33, 45, 83]]"
      ]
     },
     "execution_count": 104,
     "metadata": {},
     "output_type": "execute_result"
    }
   ],
   "source": [
    "#22 Create a function that takes a list. This list will contain numbers represented as strings.\n",
    "#Your function should split this list into two new lists. The first list should contain only even numbers. The second only odd. Then, wrap these two lists in one main list and return it.\n",
    "#Return an empty list if there are no even numbers, or odd.\n",
    "\n",
    "def a_list(lst):\n",
    "    x= [[],[]]\n",
    "    for i in lst:\n",
    "        if i % 2 == 0:\n",
    "            x[0].append(i)\n",
    "        else:\n",
    "            x[1].append(i)\n",
    "    return x\n",
    "\n",
    "\n",
    "a_list([34,33,45,76,83])"
   ]
  },
  {
   "cell_type": "code",
   "execution_count": 105,
   "id": "a6561c52",
   "metadata": {},
   "outputs": [
    {
     "name": "stdout",
     "output_type": "stream",
     "text": [
      "True\n",
      "True\n",
      "False\n"
     ]
    }
   ],
   "source": [
    "#23 When creating variables, the variable name must always start with a letter and cannot contain spaces, though numbers and underscores are allowed to be contained in it also\n",
    "#Create a function which returns True if a given variable name is valid, otherwise return False.\n",
    "\n",
    "def var(x):\n",
    "    if x[0]==\"_\" or x[0].isalpha():\n",
    "        return \"True\"\n",
    "    else:\n",
    "        return \"False\"\n",
    "\n",
    "print(var(\"_varshini\"))\n",
    "print(var(\"shiny\"))\n",
    "print(var(\"23var\"))"
   ]
  },
  {
   "cell_type": "code",
   "execution_count": 106,
   "id": "1850f937",
   "metadata": {},
   "outputs": [
    {
     "name": "stdout",
     "output_type": "stream",
     "text": [
      "True\n",
      "False\n",
      "False\n"
     ]
    }
   ],
   "source": [
    "#24 In a board game, a piece may advance 1-6 tiles forward depending on the number rolled on a six-sided die. If you advance your piece onto the same tile as another player's piece, both of you earn a bonus.\n",
    "#Can you reach your friend's tile number in the next roll? Create a function that returns if it's possible to earn a bonus when you roll the die.\n",
    "\n",
    "def num(a,b):\n",
    "    for x in range(1,7):\n",
    "        y=a+x\n",
    "        if y==b:\n",
    "            return \"True\"\n",
    "    return \"False\"\n",
    "\n",
    "\n",
    "\n",
    "print(num(1,3))\n",
    "print(num(1,9))\n",
    "print(num(5,3))"
   ]
  },
  {
   "cell_type": "code",
   "execution_count": 107,
   "id": "79ca0eea",
   "metadata": {},
   "outputs": [
    {
     "name": "stdout",
     "output_type": "stream",
     "text": [
      "True\n",
      "False\n"
     ]
    }
   ],
   "source": [
    "#25 Create a function that takes two integers and checks if they are equal\n",
    "\n",
    "def f1(x,y):\n",
    "    if x==y:\n",
    "        return \"True\"\n",
    "    else:\n",
    "        return \"False\"\n",
    "    \n",
    "    \n",
    "print(f1(1,1))\n",
    "print(f1(168168,8258702))"
   ]
  },
  {
   "cell_type": "code",
   "execution_count": 108,
   "id": "03645e74",
   "metadata": {},
   "outputs": [
    {
     "name": "stdout",
     "output_type": "stream",
     "text": [
      "Hello renuka\n",
      "bye renuka\n"
     ]
    }
   ],
   "source": [
    "#26 Write a function that takes a string name and a number num (either 0 or 1) and return \"Hello\" + name if num is 1, otherwise return \"Bye\" + name.\n",
    "\n",
    "def s(name,num):\n",
    "    if num==1:\n",
    "        return \"Hello \"+ name\n",
    "    elif num==0:\n",
    "        return \"bye \"+ name\n",
    "    \n",
    "    \n",
    "print(s(\"renuka\",1))\n",
    "print(s(\"renuka\",0))"
   ]
  },
  {
   "cell_type": "code",
   "execution_count": 109,
   "id": "7ab832b7",
   "metadata": {},
   "outputs": [
    {
     "name": "stdout",
     "output_type": "stream",
     "text": [
      "-1\n",
      "5\n",
      "100\n"
     ]
    }
   ],
   "source": [
    "#27 Create a function that takes three number arguments — one number as an input and two additional numbers representing the endpoints of a closed range — and return the number limited to this range.\n",
    "#If the number falls within the range, the number should be returned.\n",
    "#If the number is less than the lower limit of the range, the lower limit should be returned.\n",
    "#If the number is greater than the upper limit of the range, the upper limit should be returned.\n",
    "\n",
    "def three(a,b,c):\n",
    "    if b<a:\n",
    "        return a\n",
    "    elif b>c:\n",
    "        return c\n",
    "    else:\n",
    "        return b\n",
    "\n",
    "    \n",
    "print(three(-1,-5,10))\n",
    "print(three(1,5,10))\n",
    "print(three(-100,200,100))"
   ]
  },
  {
   "cell_type": "code",
   "execution_count": 110,
   "id": "82b6ab4c",
   "metadata": {},
   "outputs": [
    {
     "name": "stdout",
     "output_type": "stream",
     "text": [
      "Hello \n",
      "World\n",
      "Hello World\n"
     ]
    }
   ],
   "source": [
    "#28 Write a function that takes an integer and:\n",
    "#If the number is a multiple of 3, return \"Hello\".\n",
    "#If the number is a multiple of 5, return \"World\".\n",
    "#If the number is a multiple of both 3 and 5, return \"Hello World\".\n",
    "\n",
    "def mul(x):\n",
    "    if x%3==0 and x%5==0:\n",
    "        return \"Hello World\"\n",
    "    elif x%5==0:\n",
    "        return \"World\"\n",
    "    elif x%3==0:\n",
    "        return \"Hello \"\n",
    "print(mul(9))\n",
    "print(mul(20))\n",
    "print(mul(30))"
   ]
  },
  {
   "cell_type": "code",
   "execution_count": 111,
   "id": "d482cfa3",
   "metadata": {},
   "outputs": [
    {
     "name": "stdout",
     "output_type": "stream",
     "text": [
      "**renu**\n",
      "_renuka_\n",
      "`sri`\n",
      "~~renuka sri~~\n"
     ]
    }
   ],
   "source": [
    "#29 Edabit allows for markdown formatting, meaning that it's possible to format words by surrounding text with special characters. For example, to get bold text, you surround the text with double asterisks, like this **bold**.\n",
    "#Here is a list of the possible formatting options in Edabit and how to apply them:\n",
    "#**bold**\n",
    "#_italics_\n",
    "#`inline code`\n",
    "#~~strikethrough~~\n",
    "#Given a string and a style character, return the newly formatted string. Style characters are single letters that represent the different types of formatting.\n",
    "#For the purposes of this challenge, the style characters are as follows:\n",
    "#\"b\" is for bold\n",
    "#\"i\" is for italics\n",
    "#\"c\" is for inline code\n",
    "#\"s\" is for strikethrough\n",
    "\n",
    "def f1(style,char):\n",
    "    if char==\"b\":\n",
    "        return \"**\"+style+\"**\"\n",
    "    elif char==\"i\":\n",
    "        return \"_\"+style+\"_\"\n",
    "    elif char==\"c\":\n",
    "        return \"`\"+style+\"`\"\n",
    "    elif char==\"s\": \n",
    "        return \"~~\"+style+\"~~\"\n",
    "    \n",
    "    \n",
    "print(f1(\"renu\",\"b\"))\n",
    "print(f1(\"renuka\",\"i\"))\n",
    "print(f1(\"sri\",\"c\"))\n",
    "print(f1(\"renuka sri\",\"s\"))"
   ]
  },
  {
   "cell_type": "code",
   "execution_count": 112,
   "id": "cb85d805",
   "metadata": {},
   "outputs": [
    {
     "name": "stdout",
     "output_type": "stream",
     "text": [
      "acidic\n",
      "invalid\n",
      "neutral\n",
      "alkaline\n"
     ]
    }
   ],
   "source": [
    "#30 Given a pH value, return whether that value is \"alkaline\" (greater than 7), \"acidic\" (less than 7), or \"neutral\" (7). Return \"invalid\" if the value given is less than 0 or greater than 14.\n",
    "\n",
    "def ph(x):\n",
    "    if x>7 and x<=14:\n",
    "        return \"alkaline\"\n",
    "    elif x<7 and x>=0:\n",
    "        return \"acidic\"\n",
    "    elif x==7:\n",
    "        return \"neutral\"\n",
    "    elif x<0 or x>14:\n",
    "        return \"invalid\"\n",
    "print(ph(3))\n",
    "print(ph(-6))\n",
    "print(ph(7))\n",
    "print(ph(10))"
   ]
  },
  {
   "cell_type": "code",
   "execution_count": 113,
   "id": "ad9f424d",
   "metadata": {},
   "outputs": [
    {
     "name": "stdout",
     "output_type": "stream",
     "text": [
      "scalene\n",
      "isosceles\n",
      "equilateral\n",
      "not a triangle\n"
     ]
    }
   ],
   "source": [
    "#31 Create a function which returns the type of triangle, given the side lengths. Return the following values if they match the criteria.\n",
    "#No sides equal: \"scalene\"\n",
    "#Two sides equal: \"isosceles\"\n",
    "#All sides equal: \"equilateral\"\n",
    "#Less or more than 3 sides given: \"not a triangle\"\n",
    "\n",
    "\n",
    "def sides(a):\n",
    "    if len(a)<0 or len(a)>3:\n",
    "        return \"not a triangle\"\n",
    "    elif a[0]!=a[1]!=a[2]:\n",
    "        return \"scalene\"\n",
    "    elif a[0]==a[1]==a[2]:\n",
    "        return \"equilateral\"\n",
    "    elif a[0]==a[1] or a[1]==a[2] or a[2]==a[0]:\n",
    "        return \"isosceles\"\n",
    "\n",
    "\n",
    "print(sides([2,6,5]))\n",
    "print(sides([4,4,7]))\n",
    "print(sides([8,8,8]))\n",
    "print(sides([1,2,3,8]))"
   ]
  },
  {
   "cell_type": "code",
   "execution_count": 114,
   "id": "7e13ee87",
   "metadata": {},
   "outputs": [
    {
     "name": "stdout",
     "output_type": "stream",
     "text": [
      "True\n",
      "False\n",
      "True\n",
      "False\n"
     ]
    }
   ],
   "source": [
    "#32 Write a function that returns True if two rooks can attack each other, and False otherwise.\n",
    "#Examples\n",
    "#can_capture([\"A8\", \"E8\"]) ➞ True\n",
    "#can_capture([\"A1\", \"B2\"]) ➞ False\n",
    "#can_capture([\"H4\", \"H3\"]) ➞ True\n",
    "#can_capture([\"F5\", \"C8\"]) ➞ False\n",
    "\n",
    "def rooks(x,y):\n",
    "    if x[0]==y[0] or x[1]==y[1]:\n",
    "        return(\"True\")\n",
    "    else:  \n",
    "        return \"False\"\n",
    "    \n",
    "    \n",
    "    \n",
    "print(rooks(\"A8\",\"E8\"))\n",
    "print(rooks(\"A1\",\"B2\"))\n",
    "print(rooks(\"H4\",\"H3\"))\n",
    "print(rooks(\"F5\",\"C8\"))"
   ]
  },
  {
   "cell_type": "code",
   "execution_count": 115,
   "id": "9663cb8d",
   "metadata": {},
   "outputs": [
    {
     "name": "stdout",
     "output_type": "stream",
     "text": [
      "3\n",
      "1\n",
      "6\n"
     ]
    }
   ],
   "source": [
    "#33 Given an integer n. Your task is to find how many digits this integer contains without using str or len methods!\n",
    "\n",
    "def digits(n):\n",
    "    if n == 0:\n",
    "        return 1\n",
    "\n",
    "    count = 0\n",
    "    while n != 0:\n",
    "        n //= 10\n",
    "        count += 1\n",
    "\n",
    "    return count\n",
    "\n",
    "\n",
    "\n",
    "print(digits(100))\n",
    "print(digits(0))\n",
    "print(digits(235564))"
   ]
  },
  {
   "cell_type": "code",
   "execution_count": 116,
   "id": "b8ba4764",
   "metadata": {},
   "outputs": [
    {
     "name": "stdout",
     "output_type": "stream",
     "text": [
      "['bat', 'break']\n",
      "['triplet', 'tries', 'trip']\n",
      "[]\n"
     ]
    }
   ],
   "source": [
    "#34 Create a function that takes an initial word and extracts any words that start with the same letters as the initial word\n",
    "\n",
    "def word(x,y):\n",
    "    z=[]\n",
    "    for a in y:\n",
    "        if a.startswith(x):\n",
    "            z.append(a) \n",
    "    return z\n",
    "print(word(\"b\",[\"bat\",\"break\",\"cat\"]))\n",
    "print(word(\"tri\", [\"triplet\", \"tries\", \"trip\", \"piano\", \"tree\"]))\n",
    "print(word(\"r\",[\"bat\",\"break\",\"cat\"]))"
   ]
  },
  {
   "cell_type": "code",
   "execution_count": 120,
   "id": "52859729",
   "metadata": {},
   "outputs": [
    {
     "name": "stdout",
     "output_type": "stream",
     "text": [
      "['ball']\n",
      "['ball', 'dogs']\n",
      "[]\n"
     ]
    }
   ],
   "source": [
    "#35 Create a function that takes a list of strings and returns the words that are exactly four letters.\n",
    "\n",
    "\n",
    "def words(x):\n",
    "    y=[]\n",
    "    for z in x:\n",
    "        if len(z)==4:\n",
    "            y.append(z)\n",
    "    return y\n",
    "\n",
    "\n",
    "print(words([\"apple\",\"ball\"]))\n",
    "print(words([\"ant\",\"ball\",\"bat\",\"cat\",\"dogs\"]))\n",
    "print(words([\"a\",\"b\"]))"
   ]
  },
  {
   "cell_type": "code",
   "execution_count": 121,
   "id": "5278fe50",
   "metadata": {},
   "outputs": [
    {
     "data": {
      "text/plain": [
       "'Ox'"
      ]
     },
     "execution_count": 121,
     "metadata": {},
     "output_type": "execute_result"
    }
   ],
   "source": [
    "#36 Create a function that takes a year as an argument and returns the corresponding Chinese zodiac.\n",
    "\n",
    "def f1(year):\n",
    "    zodiac_animals = ['Monkey', 'Rooster', 'Dog', 'Pig', 'Rat', 'Ox', 'Tiger', 'Rabbit', 'Dragon', 'Snake', 'Horse', 'Sheep']\n",
    "    start_year = 1900 \n",
    "    zodiac_index = (year - start_year) % 12\n",
    "    zodiac = zodiac_animals[zodiac_index]\n",
    "    \n",
    "    return zodiac\n",
    "\n",
    "\n",
    "\n",
    "f1(2001)"
   ]
  },
  {
   "cell_type": "code",
   "execution_count": 122,
   "id": "84cbb388",
   "metadata": {},
   "outputs": [
    {
     "data": {
      "text/plain": [
       "True"
      ]
     },
     "execution_count": 122,
     "metadata": {},
     "output_type": "execute_result"
    }
   ],
   "source": [
    "#37 Two sisters are eating chocolate, whose pieces are represented as subarrays of [l x w].\n",
    "#Write a function that returns True if the total area of chocolate is the same for each sister.\n",
    "#To illustrate:\n",
    "#test_fairness([[4, 3], [2, 4], [1, 2]],\n",
    "#[[6, 2], [4, 2], [1, 1], [1, 1]])\n",
    "#➞ True\n",
    "#// Agatha's pieces: [4, 3], [2, 4], [1, 2]\n",
    "#// Bertha's pieces: [6, 2], [4, 2], [1, 1], [1, 1]\n",
    "#// Total area of Agatha's chocolate\n",
    "#// 4x3 + 2x4 + 1x2 = 12 + 8 + 2 = 22\n",
    "#// Total area of Bertha's chocolate is:\n",
    "#// 6x2 + 4x2 + 1x1 + 1x1 = 12 + 8 + 1 + 1 = 22\n",
    "\n",
    "\n",
    "def f2(agatha, bertha):\n",
    "    sumA = sum(x*y for x,y in agatha)\n",
    "    sumB = sum(x*y for x,y in bertha)\n",
    "    return sumA == sumB\n",
    "\n",
    "\n",
    "\n",
    "f2([[1,2],[2,1]],[[2,2]])"
   ]
  },
  {
   "cell_type": "code",
   "execution_count": 123,
   "id": "e82e2a68",
   "metadata": {
    "scrolled": true
   },
   "outputs": [
    {
     "name": "stdout",
     "output_type": "stream",
     "text": [
      "You PASSED the exam\n",
      "You PASSED the exam\n",
      "You FAILED the exam\n"
     ]
    }
   ],
   "source": [
    "#38 Here is a trainwreck of a photo:\n",
    "#your score 85%\n",
    "#you FAILEDPASSED the exam\n",
    "#required score 85%\n",
    "\n",
    "\n",
    "#The challenge is to fix all of the bugs in this incredibly messy code, which the code in the image might've actually looked like (probably not)! The code given will output the same middle two lines as in the image shown above.\n",
    "#First parameter is the user's score.\n",
    "#Second parameter is the required score.\n",
    "\n",
    "def score(your_score,required_score):\n",
    "    if your_score[0:2]>=required_score[0:2]:\n",
    "        return \"You PASSED the exam\"\n",
    "    else:\n",
    "        return \"You FAILED the exam\"\n",
    "        \n",
    "        \n",
    "        \n",
    "        \n",
    "print(score(\"85%\",\"85%\"))\n",
    "print(score(\"90%\",\"85%\"))\n",
    "print(score(\"65%\", \"90%\"))"
   ]
  },
  {
   "cell_type": "code",
   "execution_count": 125,
   "id": "0e51c09b",
   "metadata": {},
   "outputs": [
    {
     "data": {
      "text/plain": [
       "'True'"
      ]
     },
     "execution_count": 125,
     "metadata": {},
     "output_type": "execute_result"
    }
   ],
   "source": [
    "# 39. Create a function that takes a boolean variable flag and returns it as a string.\n",
    "# Examples\n",
    "# bool_to_string(True) ➞ \"True\"\n",
    "\n",
    "# bool_to_string(False) ➞ \"False\"\n",
    "\n",
    "\n",
    "\n",
    "def bool_to_string(flag):\n",
    "    return str(flag)\n",
    "bool_to_string(True)"
   ]
  },
  {
   "cell_type": "code",
   "execution_count": 127,
   "id": "9a680be2",
   "metadata": {},
   "outputs": [],
   "source": [
    "# 40. Create a function that returns True when num1 is equal to num2; otherwise return False.\n",
    "# Examples\n",
    "# is_same_num(4, 8) ➞ False\n",
    "\n",
    "# is_same_num(2, 2) ➞  True\n",
    "\n",
    "# is_same_num(2, \"2\") ➞ False\n",
    "\n",
    "\n",
    "def is_same_num(num1,num2):\n",
    "    return (num1==num2)"
   ]
  },
  {
   "cell_type": "code",
   "execution_count": 128,
   "id": "455803b5",
   "metadata": {},
   "outputs": [
    {
     "data": {
      "text/plain": [
       "False"
      ]
     },
     "execution_count": 128,
     "metadata": {},
     "output_type": "execute_result"
    }
   ],
   "source": [
    "is_same_num(1,2)"
   ]
  },
  {
   "cell_type": "code",
   "execution_count": 129,
   "id": "41f84467",
   "metadata": {},
   "outputs": [
    {
     "data": {
      "text/plain": [
       "True"
      ]
     },
     "execution_count": 129,
     "metadata": {},
     "output_type": "execute_result"
    }
   ],
   "source": [
    "is_same_num(2,2)"
   ]
  },
  {
   "cell_type": "code",
   "execution_count": 130,
   "id": "51bcf250",
   "metadata": {},
   "outputs": [
    {
     "data": {
      "text/plain": [
       "False"
      ]
     },
     "execution_count": 130,
     "metadata": {},
     "output_type": "execute_result"
    }
   ],
   "source": [
    "# 41.Create a function that takes a number as its only argument and returns True if it's less than or equal to zero, \n",
    "# otherwise return False.\n",
    "# Examples\n",
    "# less_than_or_equal_to_zero(5) ➞ False\n",
    "\n",
    "# less_than_or_equal_to_zero(0) ➞ True\n",
    "\n",
    "# less_than_or_equal_to_zero(-2) ➞ True\n",
    "\n",
    "def less_than_or_equal_to_zero(num):\n",
    "    if num<=0:\n",
    "        return True\n",
    "    else:\n",
    "        return False\n",
    "\n",
    "less_than_or_equal_to_zero(5)\n"
   ]
  },
  {
   "cell_type": "code",
   "execution_count": 131,
   "id": "7f397976",
   "metadata": {},
   "outputs": [
    {
     "data": {
      "text/plain": [
       "True"
      ]
     },
     "execution_count": 131,
     "metadata": {},
     "output_type": "execute_result"
    }
   ],
   "source": [
    "less_than_or_equal_to_zero(0)"
   ]
  },
  {
   "cell_type": "code",
   "execution_count": 133,
   "id": "96d3d2a4",
   "metadata": {},
   "outputs": [
    {
     "data": {
      "text/plain": [
       "'Hello, maya!'"
      ]
     },
     "execution_count": 133,
     "metadata": {},
     "output_type": "execute_result"
    }
   ],
   "source": [
    "#42.Emmy has written a function that returns a greeting to users. However, she's in love with Mubashir, \n",
    "# and would like to greet him slightly differently. She added a special case in her function, but she made a mistake.\n",
    "# Can you help her?\n",
    "# Examples\n",
    "# greeting(\"Matt\") ➞ \"Hello, Matt!\"\n",
    "\n",
    "# greeting(\"Helen\") ➞ \"Hello, Helen!\"\n",
    "\n",
    "# greeting(\"Mubashir\") ➞ \"Hello, my Love!\"\n",
    "\n",
    "\n",
    "def greeting(name):\n",
    "    if name == \"Mubashir\":\n",
    "        return \"Hello, my Love!\"\n",
    "    else:\n",
    "        return \"Hello, \" + name + \"!\"\n",
    "greeting(\"maya\")\n"
   ]
  },
  {
   "cell_type": "code",
   "execution_count": 134,
   "id": "d21d886d",
   "metadata": {},
   "outputs": [
    {
     "data": {
      "text/plain": [
       "'Hello, my Love!'"
      ]
     },
     "execution_count": 134,
     "metadata": {},
     "output_type": "execute_result"
    }
   ],
   "source": [
    "greeting(\"Mubashir\")"
   ]
  },
  {
   "cell_type": "code",
   "execution_count": 136,
   "id": "9f476f7a",
   "metadata": {},
   "outputs": [
    {
     "name": "stdout",
     "output_type": "stream",
     "text": [
      "True\n",
      "True\n",
      "False\n"
     ]
    }
   ],
   "source": [
    "# 43. Create a function that takes two arguments. Both arguments are integers, a and b. \n",
    "# Return True if one of them is 10 or if their sum is 10.\n",
    "# Examples\n",
    "# makes10(9, 10) ➞ True\n",
    "\n",
    "# makes10(9, 9) ➞ False\n",
    "\n",
    "# makes10(1, 9) ➞ True\n",
    "\n",
    "\n",
    "def makes10(a, b):\n",
    "    if a==10 or b==10 or a+b==10:\n",
    "        return True\n",
    "    else:\n",
    "        return False\n",
    "print(makes10(10,5))\n",
    "print(makes10(5,5))\n",
    "print(makes10(2,5))"
   ]
  },
  {
   "cell_type": "code",
   "execution_count": 137,
   "id": "83270b1b",
   "metadata": {},
   "outputs": [
    {
     "name": "stdout",
     "output_type": "stream",
     "text": [
      "False\n",
      "True\n"
     ]
    }
   ],
   "source": [
    "# 44. Create a function that takes three arguments prob, prize, pay and returns True if prob * prize > pay; \n",
    "# otherwise return False.\n",
    "# To illustrate:\n",
    "# profitable_gamble(0.2, 50, 9)\n",
    "# ... should yield True, since the net profit is 1 (0.2 * 50 - 9), and 1 > 0.\n",
    "\n",
    "def profitable_gamble(prob,prize,pay):\n",
    "    return (prob*prize) > pay\n",
    "\n",
    "print(profitable_gamble(2,5,20))\n",
    "print(profitable_gamble(2,20,20))"
   ]
  },
  {
   "cell_type": "code",
   "execution_count": 138,
   "id": "dbb787c2",
   "metadata": {},
   "outputs": [
    {
     "name": "stdout",
     "output_type": "stream",
     "text": [
      "False\n",
      "True\n",
      "True\n",
      "False\n"
     ]
    }
   ],
   "source": [
    "# 45. Create a function that takes an integer and returns True if it's divisible by 100, otherwise return False.\n",
    "# Examples\n",
    "# divisible(1) ➞ False\n",
    "\n",
    "# divisible(1000) ➞ True\n",
    "\n",
    "# divisible(100) ➞ True\n",
    "\n",
    "\n",
    "def divisible(num):\n",
    "    return int(num)%100==0\n",
    "print(divisible(1))\n",
    "print(divisible(200))\n",
    "print(divisible(1000))\n",
    "print(divisible(5050))\n"
   ]
  },
  {
   "cell_type": "code",
   "execution_count": 139,
   "id": "dbe88962",
   "metadata": {},
   "outputs": [
    {
     "name": "stdout",
     "output_type": "stream",
     "text": [
      "True\n",
      "False\n"
     ]
    }
   ],
   "source": [
    "# 46.Create a function that takes two strings as arguments and return either True or False depending on whether the total number of characters in the first string is equal to the total number of characters in the second string.\n",
    "#Examples\n",
    "#comp(\"AB\", \"CD\") ➞ True\n",
    "\n",
    "#comp(\"ABC\", \"DE\") ➞ False\n",
    "\n",
    "#comp(\"hello\", \"edabit\") ➞ False\n",
    "\n",
    "\n",
    "def comp(str1,str2):\n",
    "    return len(str1)==len(str2)\n",
    "print(comp(\"abc\",\"abc\"))\n",
    "print(comp(\"hi\",\"bye\"))"
   ]
  },
  {
   "cell_type": "code",
   "execution_count": 140,
   "id": "aa05aa2c",
   "metadata": {},
   "outputs": [
    {
     "name": "stdout",
     "output_type": "stream",
     "text": [
      "True\n",
      "False\n"
     ]
    }
   ],
   "source": [
    "# 47 Given a string, return True if its length is even or False if the length is odd.\n",
    "# Examples\n",
    "#odd_or_even(\"apples\") ➞ True\n",
    "# The word \"apples\" has 6 characters.\n",
    "# 6 is an even number, so the program outputs True.\n",
    "\n",
    "# odd_or_even(\"pears\") ➞ False\n",
    "# \"pears\" has 5 letters, and 5 is odd.\n",
    "# Therefore the program outputs False.\n",
    "\n",
    "# odd_or_even(\"cherry\") ➞ True\n",
    "\n",
    "\n",
    "def odd_or_even(string):\n",
    "    return len(string)%2==0\n",
    "print(odd_or_even(\"python\"))\n",
    "print(odd_or_even(\"world\"))"
   ]
  },
  {
   "cell_type": "code",
   "execution_count": 141,
   "id": "c7fcaac3",
   "metadata": {},
   "outputs": [
    {
     "name": "stdout",
     "output_type": "stream",
     "text": [
      "byebyebye\n",
      "pytpytpyt\n",
      "hi\n"
     ]
    }
   ],
   "source": [
    "# 48. Create a function that takes a string; we'll say that the front is the first three characters of the string. If the string length is less than three characters, the front is whatever is there. Return a new string, which is three copies of the front.\n",
    "#Examples\n",
    "#front3(\"Python\") ➞ \"PytPytPyt\"\n",
    "\n",
    "#front3(\"Cucumber\") ➞ \"CucCucCuc\"\n",
    "\n",
    "\n",
    "def front3(string):\n",
    "    if len(string)<3:\n",
    "         return string*3\n",
    "    else:\n",
    "        return string[0:3]*3\n",
    "print(front3(\"bye\"))\n",
    "print(front3(\"python\"))\n",
    "print(\"hi\")"
   ]
  },
  {
   "cell_type": "code",
   "execution_count": 142,
   "id": "bcab52f3",
   "metadata": {},
   "outputs": [
    {
     "data": {
      "text/plain": [
       "5"
      ]
     },
     "execution_count": 142,
     "metadata": {},
     "output_type": "execute_result"
    }
   ],
   "source": [
    "# 49. Darts is a target game played by throwing feathered darts at a circular board with numbered spaces. Our darts game is the simplest of all games. The score of a single turn is calculated based on the distance from the middle. You need to create a function that takes the dart location as two cartesian coordinates (x, y) and returns a score based on the distance from the middle, aka Bullseye (x=0, y=0).\n",
    "# ●Bullseye and inner circle scores = 10 points\n",
    "# ●Middle ring scores = 5 points\n",
    "# ●Outer ring scores = 1 point\n",
    "# ●Outside the target = 0 points\n",
    "# We play it simple so a dart in the double or treble ring counts as usual and does not affect the segment score.\n",
    "# Board and circle radius is as follows:\n",
    "# ●Board radius and outer circle radius = 10 units\n",
    "# ●Middle circle radius = 5 units\n",
    "# ●Inner circle radius = 1 unit\n",
    "# Short Description\n",
    "# Convert cartesian coordinates (x, y) to polar coordinates (R, phi) and return the score based on the R value. R > 10 gives 0 points, 10 >= R > 5 gives 1 point, 5 >= R > 1 gives 5 points, R <= 1 gives 10 points.\n",
    "# Examples\n",
    "# darts_scoring(0, 0) ➞ 10\n",
    "\n",
    "# darts_scoring(3, 2) ➞ 5\n",
    "\n",
    "# darts_scoring(0, -0.8) ➞ 10\n",
    "\n",
    "\n",
    "def darts(x, y):\n",
    "    result_r= (x ** 2 + y ** 2) ** 0.5\n",
    "    if result_r <= 1:\n",
    "        return 10\n",
    "    elif result_r <= 5:\n",
    "        return 5\n",
    "    elif result_r <= 10:\n",
    "        return 1\n",
    "    else:\n",
    "        return 0\n",
    "    \n",
    "darts(2,2)"
   ]
  },
  {
   "cell_type": "code",
   "execution_count": 143,
   "id": "ecd97ae4",
   "metadata": {},
   "outputs": [
    {
     "name": "stdout",
     "output_type": "stream",
     "text": [
      "False\n",
      "True\n"
     ]
    }
   ],
   "source": [
    "# 50. Write a function that returns True if a year is a leap, otherwise return False.\n",
    "# A year is a \"leap year\" if it lasts 366 days, instead of 365 in a typical year. That extra day is added to the end of the shortest month, creating February 29.\n",
    "# A leap year occurs every four years, and will take place if the year is a multiple of four. The exception to this is a year at the beginning of a century (for example, 1900 or 2000), where the year must be divisible by 400 to be a leap year.\n",
    "# Look at the examples, and if you need help, look at the resources panel.\n",
    "# Examples\n",
    "\n",
    "# leap_year(1990) ➞ False\n",
    "\n",
    "# leap_year(1924) ➞ True\n",
    "\n",
    "# leap_year(2021) ➞ False\n",
    "\n",
    "def leap_year(year):\n",
    "    return year%400==0 or year%100!=0 and year%4==0\n",
    "\n",
    "print(leap_year(1900))\n",
    "print(leap_year(2000))\n"
   ]
  },
  {
   "cell_type": "code",
   "execution_count": 144,
   "id": "effa9a1d",
   "metadata": {},
   "outputs": [
    {
     "name": "stdout",
     "output_type": "stream",
     "text": [
      "True\n",
      "False\n",
      "True\n"
     ]
    }
   ],
   "source": [
    "# 51. Create a function that takes an array of hurdle heights and a jumper's jump height, and determine whether or not the hurdler can clear all the hurdles.\n",
    "# A hurdler can clear a hurdle if their jump height is greater than or equal to the hurdle height.\n",
    "# Examples\n",
    "# hurdle_jump([1, 2, 3, 4, 5], 5) ➞ True\n",
    "\n",
    "# hurdle_jump([5, 5, 3, 4, 5], 3) ➞ False\n",
    "\n",
    "# hurdle_jump([5, 4, 5, 6], 10) ➞ True\n",
    "\n",
    "# hurdle_jump([1, 2, 1], 1) ➞ False\n",
    "\n",
    "def hurdle_jump(hurdle_heights,jumper_height):\n",
    "    for heights in hurdle_heights:\n",
    "        if jumper_height>=heights:\n",
    "            return True\n",
    "        else:\n",
    "            return False\n",
    "    return hurdle_heights==[]\n",
    "print(hurdle_jump([1,2,3,4,5],5))\n",
    "print(hurdle_jump([5, 5, 3, 4, 5],3))\n",
    "print(hurdle_jump([],3))"
   ]
  },
  {
   "cell_type": "code",
   "execution_count": 145,
   "id": "3e649885",
   "metadata": {},
   "outputs": [
    {
     "name": "stdout",
     "output_type": "stream",
     "text": [
      "January\n",
      "None\n"
     ]
    }
   ],
   "source": [
    "# 52.Create a function that takes a number (from 1 to 12) and returns its corresponding month name as a string. For example, if you're given 3 as input, your function should return \"March\", because March is the 3rd month.\n",
    "\n",
    "def month_name(num):\n",
    "    months=[\"January\",\"February\",\"March\",\"April\",\"May\",\"June\",\"July\",\"August\",\"September\",\"October\",\"November\",\"December\"]\n",
    "    if 1<=num<=12:\n",
    "        return months[num-1]\n",
    "    else:\n",
    "        return\n",
    "print(month_name(1))\n",
    "print(month_name(13))"
   ]
  },
  {
   "cell_type": "code",
   "execution_count": 146,
   "id": "5d76468b",
   "metadata": {},
   "outputs": [
    {
     "name": "stdout",
     "output_type": "stream",
     "text": [
      "4\n",
      "1\n",
      "3\n"
     ]
    }
   ],
   "source": [
    "#53 Create a function that takes in a two-dimensional list and returns the number of sub-lists with only identical elements.\n",
    "\n",
    "def identical(lst):\n",
    "    count = 0\n",
    "    for sub_lst in lst:\n",
    "        if len(set(sub_lst)) == 1:\n",
    "            count += 1\n",
    "    return count\n",
    "print(identical([[1], [2], [3], [4]]))           \n",
    "print(identical([[1, 2], [2, 3], [3, 4], [4, 4]]))             \n",
    "print(identical([[True, True, True], [False, False], [True]]))"
   ]
  },
  {
   "cell_type": "code",
   "execution_count": 147,
   "id": "37aeacbf",
   "metadata": {},
   "outputs": [
    {
     "name": "stdout",
     "output_type": "stream",
     "text": [
      "False\n",
      "True\n"
     ]
    }
   ],
   "source": [
    "#54 A bartender is writing a simple program to determine whether he should serve drinks to someone. He only serves drinks to people 18 and older and when he's not on break. Given the person's age, and whether break time is in session, create a function which returns whether he should serve drinks.\n",
    "\n",
    "def should_serve_drinks(age,on_break):\n",
    "    if age>=18 and on_break==False:\n",
    "        return True\n",
    "    else:\n",
    "        return False\n",
    "\n",
    "print(should_serve_drinks(20,True))\n",
    "print(should_serve_drinks(18,False))"
   ]
  },
  {
   "cell_type": "code",
   "execution_count": 148,
   "id": "fe4e5429",
   "metadata": {},
   "outputs": [
    {
     "name": "stdout",
     "output_type": "stream",
     "text": [
      "1\n",
      "0\n",
      "0\n",
      "1\n",
      "0\n",
      "1\n",
      "1\n"
     ]
    }
   ],
   "source": [
    "# 55 You will need to write three unfinished logic gates. Continue to write the three logic gates: AND, OR, and NOT.\n",
    "# Examples\n",
    "# AND(1, 1) ➞ 1\n",
    "# AND(0, 0) ➞ 0\n",
    "\n",
    "# OR(1, 0) ➞ 1\n",
    "# OR(1, 1) ➞ 1\n",
    "\n",
    "# NOT(0) ➞ 1\n",
    "# NOT(1) ➞ 0\n",
    "\n",
    "def NOT(num):\n",
    "    return (1 if num==0 else 0)\n",
    "\n",
    "def AND(num,num2):\n",
    "    return (1 if num==1 and num2==1 else 0)\n",
    "\n",
    "def OR(num,num2):\n",
    "    return (1 if num==1 or num2==1 else 0)\n",
    "\n",
    "print(NOT(0))\n",
    "print(NOT(1))\n",
    "print(AND(0,0))\n",
    "print(AND(1,1))\n",
    "print(AND(0,1))\n",
    "print(OR(1,1))\n",
    "print(OR(1,0))"
   ]
  },
  {
   "cell_type": "code",
   "execution_count": 149,
   "id": "7ed7a975",
   "metadata": {},
   "outputs": [
    {
     "name": "stdout",
     "output_type": "stream",
     "text": [
      "3.77\n",
      "48\n",
      "3.0\n"
     ]
    }
   ],
   "source": [
    "#  56 Write a function that accepts base (decimal), height (decimal) and shape (\"triangle\", \"parallelogram\") as input and calculates the area of that shape.\n",
    "# Examples\n",
    "# area_shape(2, 3, \"triangle\") ➞ 3\n",
    "\n",
    "# area_shape(8, 6, \"parallelogram\") ➞ 48\n",
    "\n",
    "# area_shape(2.9, 1.3, \"parallelogram\") ➞ 3.77\n",
    "\n",
    "\n",
    "def area_shape(base,height,shape):\n",
    "    return 1/2*base*height if shape==\"triangle\" else base*height\n",
    "print(area_shape(2.9,1.3,\"parellelogram\"))\n",
    "print(area_shape(8, 6, \"parallelogram\"))\n",
    "print(area_shape(2, 3, \"triangle\"))"
   ]
  },
  {
   "cell_type": "code",
   "execution_count": 150,
   "id": "bc6be377",
   "metadata": {},
   "outputs": [
    {
     "name": "stdout",
     "output_type": "stream",
     "text": [
      "False\n",
      "True\n"
     ]
    }
   ],
   "source": [
    "# 57. Create a function that takes a string (a random name). If the last character of the name is an \"n\", return True, otherwise return False.\n",
    "# Examples\n",
    "# is_last_character_n(\"Aiden\") ➞ True\n",
    "\n",
    "# is_last_character_n(\"Piet\") ➞ False\n",
    "\n",
    "# is_last_character_n(\"Bert\") ➞ False\n",
    "\n",
    "# is_last_character_n(\"Dean\") ➞ True\n",
    "\n",
    "\n",
    "def is_last_character_n(string):\n",
    "    return string[-1]==\"n\"\n",
    "print(is_last_character_n(\"Piet\"))\n",
    "print(is_last_character_n(\"Aiden\"))"
   ]
  },
  {
   "cell_type": "code",
   "execution_count": 151,
   "id": "8c1b9a5c",
   "metadata": {},
   "outputs": [
    {
     "name": "stdout",
     "output_type": "stream",
     "text": [
      "True\n",
      "False\n"
     ]
    }
   ],
   "source": [
    "# 58. Create a function that takes in a word and determines whether or not it is plural. A plural word is one that ends in \"s\".\n",
    "# Examples\n",
    "# is_plural(\"changes\") ➞ True\n",
    "\n",
    "# is_plural(\"change\") ➞ False\n",
    "\n",
    "# is_plural(\"dudes\") ➞ True\n",
    "\n",
    "# is_plural(\"magic\") ➞ False\n",
    "\n",
    "\n",
    "def is_plural(word):\n",
    "    return word[-1]==\"s\"\n",
    "\n",
    "print(is_plural(\"changes\"))\n",
    "print(is_plural(\"change\"))"
   ]
  },
  {
   "cell_type": "code",
   "execution_count": 152,
   "id": "303ff20b",
   "metadata": {},
   "outputs": [
    {
     "name": "stdout",
     "output_type": "stream",
     "text": [
      "even\n",
      "odd\n",
      "even\n",
      "odd\n"
     ]
    }
   ],
   "source": [
    "# 59. Create a function that takes a number as an argument and returns \"even\" for even numbers and \"odd\" for odd numbers.\n",
    "# Examples\n",
    "# isEvenOrOdd(3) ➞ \"odd\"\n",
    "\n",
    "# isEvenOrOdd(146) ➞ \"even\"\n",
    "\n",
    "# isEvenOrOdd(19) ➞ \"odd\"\n",
    "\n",
    "\n",
    "def is_even_or_odd(num):\n",
    "    return (\"even\" if num%2==0 else \"odd\")\n",
    "\n",
    "print(is_even_or_odd(2))\n",
    "print(is_even_or_odd(21))\n",
    "print(is_even_or_odd(450))\n",
    "print(is_even_or_odd(147))"
   ]
  },
  {
   "cell_type": "code",
   "execution_count": 157,
   "id": "0ecdc2b7",
   "metadata": {},
   "outputs": [
    {
     "name": "stdout",
     "output_type": "stream",
     "text": [
      "100\n",
      "450\n"
     ]
    }
   ],
   "source": [
    "                                        #control flow questions\n",
    "\n",
    "#1 A vehicle needs 10 times the amount of fuel than the distance it travels. However, it must always carry a minimum of 100 fuel before setting off.\n",
    "#Create a function which calculates the amount of fuel it needs, given the distance.\n",
    "\n",
    "def fuel(x):\n",
    "    mini_fuel=100\n",
    "    amount_of_fuel=10*x\n",
    "    if amount_of_fuel<mini_fuel:\n",
    "        amount_of_fuel=mini_fuel\n",
    "    return amount_of_fuel\n",
    "print(fuel(3))\n",
    "print(fuel(45))   "
   ]
  },
  {
   "cell_type": "code",
   "execution_count": 158,
   "id": "c6e2edbe",
   "metadata": {},
   "outputs": [
    {
     "name": "stdout",
     "output_type": "stream",
     "text": [
      "bag\n",
      "bottle\n",
      "plastic\n",
      "None\n"
     ]
    }
   ],
   "source": [
    "#2 The packaging system is running wild! The candy is lying loose all over in the warehouse, the cereal is missing, and bread is stuffed in a bottle. What is going on here? The candy should be in plastic and the bread should be in a bag.\n",
    "#The packaging machine is running the get_container() function to retrieve the container of a product. But something is not right...\n",
    " \n",
    "def container(x):\n",
    "    if x==\"bread\":\n",
    "        return \"bag\"\n",
    "    elif x==\"beer\":\n",
    "        return \"bottle\"\n",
    "    elif x==\"candy\":\n",
    "        return \"plastic\"\n",
    "    else:\n",
    "        return\n",
    "    \n",
    "print(container(\"bread\"))\n",
    "print(container(\"beer\"))\n",
    "print(container(\"candy\"))\n",
    "print(container(\"cheese\"))"
   ]
  },
  {
   "cell_type": "code",
   "execution_count": 159,
   "id": "d5c0f4d1",
   "metadata": {},
   "outputs": [
    {
     "data": {
      "text/plain": [
       "1"
      ]
     },
     "execution_count": 159,
     "metadata": {},
     "output_type": "execute_result"
    }
   ],
   "source": [
    "#3 Write a function that returns 0 if the input is 1, and returns 1 if the input is 0\n",
    "\n",
    "def f1(x):\n",
    "    if x==1:\n",
    "        return 0\n",
    "    elif x==0:\n",
    "        return 1\n",
    "    \n",
    "f1(0)"
   ]
  },
  {
   "cell_type": "code",
   "execution_count": 160,
   "id": "18354eba",
   "metadata": {},
   "outputs": [
    {
     "name": "stdout",
     "output_type": "stream",
     "text": [
      "0\n",
      "1\n",
      "1\n"
     ]
    }
   ],
   "source": [
    "#4 A \"truthy\" value is a value that translates to True when evaluated in a Boolean context. All values are truthy unless they're defined as falsy.\n",
    "#All falsy values are as follows:\n",
    "#False\n",
    "#None\n",
    "#0\n",
    "#[]\n",
    "#{}\n",
    "#\"\"\n",
    "#Create a function that takes an argument of any data type and returns 1 if it's truthy and 0 if it's falsy.\n",
    "\n",
    "def f1(x):\n",
    "    if x==False or x==\"None\"or x==0 or x==[] or x=={} or x==\"\":\n",
    "        return 0\n",
    "    else:\n",
    "        return 1\n",
    "print(f1(\"\"))\n",
    "print(f1(True))\n",
    "print(f1(\"False\"))    "
   ]
  },
  {
   "cell_type": "code",
   "execution_count": 161,
   "id": "4854a679",
   "metadata": {},
   "outputs": [
    {
     "name": "stdout",
     "output_type": "stream",
     "text": [
      "Hello renuka\n",
      "Bye renuka\n"
     ]
    }
   ],
   "source": [
    "#5 Write a function that takes a string name and a number num (either 0 or 1) and return \"Hello\" + name if num is 1, otherwise return \"Bye\" + name.\n",
    "\n",
    "def n(name,num):\n",
    "    if num==1:\n",
    "        return \"Hello \"+name\n",
    "    elif num==0:\n",
    "        return \"Bye \"+name\n",
    "    \n",
    "print(n(\"renuka\",1))\n",
    "print(n(\"renuka\",0))"
   ]
  },
  {
   "cell_type": "code",
   "execution_count": 162,
   "id": "94ce0f68",
   "metadata": {},
   "outputs": [
    {
     "name": "stdout",
     "output_type": "stream",
     "text": [
      "10\n",
      "5\n",
      "10\n"
     ]
    }
   ],
   "source": [
    "#6 Darts is a target game played by throwing feathered darts at a circular board with numbered spaces. Our darts game is the simplest of all games. The score of a single turn is calculated based on the distance from the middle. You need to create a function that takes the dart location as two cartesian coordinates (x, y) and returns a score based on the distance from the middle, aka Bullseye (x=0, y=0).\n",
    "#Bullseye and inner circle scores = 10 points\n",
    "#Middle ring scores = 5 points\n",
    "#Outer ring scores = 1 point\n",
    "#Outside the target = 0 points\n",
    "#We play it simple so a dart in the double or treble ring counts as usual and does not affect the segment score.\n",
    "#Board and circle radius is as follows:\n",
    "#Board radius and outer circle radius = 10 units\n",
    "#Middle circle radius = 5 units\n",
    "#Inner circle radius = 1 unit\n",
    "#Short Description\n",
    "#Convert cartesian coordinates (x, y) to polar coordinates (R, phi) and return the score based on the R value. R > 10 gives 0 points, 10 >= R > 5 gives 1 point, 5 >= R > 1 gives 5 points, R <= 1 gives 10 points.\n",
    "\n",
    "def game(x, y):\n",
    "    distance = (x ** 2 + y ** 2) ** 0.5\n",
    "    if distance <= 1:\n",
    "        return 10\n",
    "    elif distance <= 5:\n",
    "        return 5\n",
    "    elif distance <= 10:\n",
    "        return 1\n",
    "    else:\n",
    "        return 0\n",
    "    \n",
    "print(game(0,0))\n",
    "print(game(3,2))\n",
    "print(game(0,-0.5))  "
   ]
  },
  {
   "cell_type": "code",
   "execution_count": 163,
   "id": "c9ac44d4",
   "metadata": {},
   "outputs": [
    {
     "name": "stdout",
     "output_type": "stream",
     "text": [
      "True\n",
      "False\n",
      "False\n",
      "True\n",
      "False\n"
     ]
    }
   ],
   "source": [
    "#7 Create a function that takes a list (slot machine outcome) and returns True if all elements in the list are identical, and False otherwise. The list will contain 4 elements.\n",
    "def identical(x):\n",
    "    if len(x)==4:\n",
    "        if x[0]==x[1]==x[2]==x[3]:\n",
    "            return \"True\"\n",
    "    return \"False\"\n",
    "print(identical([\"ss\",\"ss\",\"ss\",\"ss\"]))\n",
    "print(identical([\"Ss\",\"ss\",\"ss\",\"ss\"]))\n",
    "print(identical([\"ss\",\"ss\",\"ss\"]))\n",
    "print(identical([\"abc\",\"abc\",\"abc\",\"abc\"]))\n",
    "print(identical([\"#\",\"##\",\"###\",\"####\"]))"
   ]
  },
  {
   "cell_type": "code",
   "execution_count": 164,
   "id": "3413630f",
   "metadata": {},
   "outputs": [
    {
     "name": "stdout",
     "output_type": "stream",
     "text": [
      "True\n",
      "False\n",
      "True\n",
      "False\n"
     ]
    }
   ],
   "source": [
    "#8 Create a function that takes an array of hurdle heights and a jumper's jump height, and determine whether or not the hurdler can clear all the hurdles.\n",
    "#A hurdler can clear a hurdle if their jump height is greater than or equal to the hurdle height.\n",
    "\n",
    "def hurdle(hurdle_height,jump_height):\n",
    "    for i in hurdle_height:\n",
    "        if i>jump_height:\n",
    "             return \"False\"\n",
    "    return \"True\"\n",
    "print(hurdle([1,2,3,4,5],5))\n",
    "print(hurdle([5, 5, 3, 4, 5], 3))\n",
    "print(hurdle([5, 4, 5, 6], 10))\n",
    "print(hurdle([1, 2, 1], 1) )"
   ]
  },
  {
   "cell_type": "code",
   "execution_count": 166,
   "id": "567c8515",
   "metadata": {},
   "outputs": [
    {
     "data": {
      "text/plain": [
       "[1, 17]"
      ]
     },
     "execution_count": 166,
     "metadata": {},
     "output_type": "execute_result"
    }
   ],
   "source": [
    "#9 Create a function that takes a number as its argument and returns a list of all its factors.\n",
    "\n",
    "def factorial(num):\n",
    "    x=[]\n",
    "    for y in range(1,num+1):\n",
    "        if num%y==0:\n",
    "            x.append(y)\n",
    "    return x\n",
    "factorial(17)"
   ]
  },
  {
   "cell_type": "code",
   "execution_count": 167,
   "id": "1e65bd15",
   "metadata": {},
   "outputs": [
    {
     "data": {
      "text/plain": [
       "[2, 1, 4, 3, 6, 5, 8, 7]"
      ]
     },
     "execution_count": 167,
     "metadata": {},
     "output_type": "execute_result"
    }
   ],
   "source": [
    "#10 Create a function that goes through the array, incrementing (+1) for each odd-valued number and decrementing (-1) for each even-valued number.\n",
    "\n",
    "def value(x):\n",
    "    y=[]\n",
    "    for num in x:\n",
    "        if num%2==0:\n",
    "            y.append(num-1)\n",
    "        else:\n",
    "            y.append(num+1)\n",
    "        \n",
    "    return y\n",
    "value([1,2,3,4,5,6,7,8])"
   ]
  },
  {
   "cell_type": "code",
   "execution_count": null,
   "id": "08592223",
   "metadata": {},
   "outputs": [],
   "source": []
  }
 ],
 "metadata": {
  "kernelspec": {
   "display_name": "Python 3 (ipykernel)",
   "language": "python",
   "name": "python3"
  },
  "language_info": {
   "codemirror_mode": {
    "name": "ipython",
    "version": 3
   },
   "file_extension": ".py",
   "mimetype": "text/x-python",
   "name": "python",
   "nbconvert_exporter": "python",
   "pygments_lexer": "ipython3",
   "version": "3.9.12"
  }
 },
 "nbformat": 4,
 "nbformat_minor": 5
}
