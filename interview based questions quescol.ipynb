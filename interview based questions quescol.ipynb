{
 "cells": [
  {
   "cell_type": "code",
   "execution_count": 1,
   "id": "10ed1013",
   "metadata": {},
   "outputs": [
    {
     "name": "stdout",
     "output_type": "stream",
     "text": [
      "2654\n"
     ]
    }
   ],
   "source": [
    "# 1.write a python program to return a given integer into reverse\n",
    "\n",
    "x=4562\n",
    "ans=0\n",
    "while x>0:\n",
    "    r=x%10\n",
    "    ans=(ans*10)+r\n",
    "    x=x//10\n",
    "print(ans)"
   ]
  },
  {
   "cell_type": "code",
   "execution_count": 2,
   "id": "18448d96",
   "metadata": {},
   "outputs": [
    {
     "name": "stdout",
     "output_type": "stream",
     "text": [
      "153\n",
      "the given integer is a armstrong\n"
     ]
    }
   ],
   "source": [
    "# 2. write a funtion to check whether a given integer is armstrong or not\n",
    "\n",
    "x=153\n",
    "count=0\n",
    "ans=0\n",
    "#r=0\n",
    "y=x\n",
    "z=y\n",
    "while x>0:\n",
    "    count=count+1\n",
    "    x=x//10\n",
    "while y>0:\n",
    "    r=y%10\n",
    "    ans=ans+r**count\n",
    "    y=y//10\n",
    "print(ans)\n",
    "if ans==z:\n",
    "    print(\"the given integer is a armstrong\")\n",
    "else:\n",
    "    print(\"not a armstrong\")"
   ]
  },
  {
   "cell_type": "code",
   "execution_count": 3,
   "id": "6f259d0a",
   "metadata": {},
   "outputs": [
    {
     "name": "stdout",
     "output_type": "stream",
     "text": [
      "enter a number: 1664\n",
      "not a armstrong\n"
     ]
    }
   ],
   "source": [
    "x=int(input(\"enter a number: \"))\n",
    "r=0\n",
    "def counting(y):\n",
    "    count=0\n",
    "    while y>0:\n",
    "        count=count+1\n",
    "        y=y//10\n",
    "    return count\n",
    "def adding(z):\n",
    "    ans=0\n",
    "    while z>0:\n",
    "        r=z%10\n",
    "        ans=ans+r**counting(x)\n",
    "        z=z//10\n",
    "    return ans\n",
    "if adding(x)==x:\n",
    "    print(\"the given integer is a armstrong\")\n",
    "else:\n",
    "    print(\"not a armstrong\")"
   ]
  },
  {
   "cell_type": "code",
   "execution_count": 18,
   "id": "b5374292",
   "metadata": {},
   "outputs": [
    {
     "name": "stdout",
     "output_type": "stream",
     "text": [
      "please give a number : 25\n",
      "25 is not a prime number\n"
     ]
    }
   ],
   "source": [
    "# 3. Write a program in Python to check given number is prime or not.\n",
    "\n",
    "n= int(input(\"please give a number : \"))\n",
    "count=0\n",
    "if n>1:\n",
    "    for i in range(2,n//2):\n",
    "        if n%i == 0:\n",
    "            count=1\n",
    "            break\n",
    "    if count==1:\n",
    "        print(n,\"is not a prime number\")\n",
    "    else:\n",
    "        print(n,\"is a prime number\") \n",
    "else:\n",
    "    print(\"is not a prime number\")"
   ]
  },
  {
   "cell_type": "code",
   "execution_count": 10,
   "id": "a432f165",
   "metadata": {},
   "outputs": [
    {
     "name": "stdout",
     "output_type": "stream",
     "text": [
      "enter a number for fibonacci series : 5\n",
      "fibonacci series are : \n",
      "0\n",
      "1\n",
      "1\n",
      "2\n",
      "3\n"
     ]
    }
   ],
   "source": [
    "# 4. Write a program in Python to print the Fibonacci series using iterative method.\n",
    "\n",
    "n = int(input(\"enter a number for fibonacci series : \"))\n",
    "first,second=0,1\n",
    "print(\"fibonacci series are : \")\n",
    "for i in range(0,n):\n",
    "    if i<=1:\n",
    "        result=i\n",
    "    else:\n",
    "        result = first + second;\n",
    "        first = second;\n",
    "        second = result;\n",
    "    print(result)"
   ]
  },
  {
   "cell_type": "code",
   "execution_count": 11,
   "id": "160276ce",
   "metadata": {},
   "outputs": [
    {
     "name": "stdout",
     "output_type": "stream",
     "text": [
      "enter a number for fibonacci series : 5\n",
      "0\n",
      "1\n",
      "1\n",
      "2\n",
      "3\n"
     ]
    }
   ],
   "source": [
    "# 5. Write a program in Python to print the Fibonacci series using recursive method.\n",
    "n= int(input(\"enter a number for fibonacci series : \"))\n",
    "def f1(x):\n",
    "    if x<=1:\n",
    "        return x\n",
    "    else:\n",
    "        return f1(x-2)+f1(x-1)\n",
    "for y in range(0,n):\n",
    "    print(f1(y))    "
   ]
  },
  {
   "cell_type": "code",
   "execution_count": 2,
   "id": "2cfdd422",
   "metadata": {},
   "outputs": [
    {
     "name": "stdout",
     "output_type": "stream",
     "text": [
      "Enter a number: 121\n",
      "It's a palindrome!\n"
     ]
    }
   ],
   "source": [
    "# 6. Write a program in Python to check whether a number is palindrome or not using iterative method.\n",
    "number = input(\"Enter a number: \")\n",
    "reversed_number = number[::-1]\n",
    "\n",
    "if number == reversed_number:\n",
    "    print(\"It's a palindrome!\")\n",
    "else:\n",
    "    print(\"It's not a palindrome.\")"
   ]
  },
  {
   "cell_type": "code",
   "execution_count": 5,
   "id": "51effe7d",
   "metadata": {},
   "outputs": [
    {
     "name": "stdout",
     "output_type": "stream",
     "text": [
      "Enter a number: 1231\n",
      "It's not a palindrome.\n"
     ]
    }
   ],
   "source": [
    "# 7. Write a program in Python to check whether a number is palindrome or not using recursive method.\n",
    "def is_palindrome(number):\n",
    "    if len(number) <= 1:\n",
    "        return True\n",
    "    elif number[0] != number[-1]:\n",
    "        return False\n",
    "    else:\n",
    "        return is_palindrome(number[1:-1])\n",
    "\n",
    "number = input(\"Enter a number: \")\n",
    "\n",
    "if is_palindrome(number):\n",
    "    print(\"It's a palindrome!\")\n",
    "else:\n",
    "    print(\"It's not a palindrome.\")"
   ]
  },
  {
   "cell_type": "code",
   "execution_count": 3,
   "id": "70819eea",
   "metadata": {},
   "outputs": [
    {
     "name": "stdout",
     "output_type": "stream",
     "text": [
      "enter a number 10\n",
      "enter a number 65\n",
      "enter a number 2\n",
      "greatest among three is 65\n"
     ]
    }
   ],
   "source": [
    "# 8. Write a program in Python to find greatest among three integers.\n",
    "\n",
    "a=int(input(\"enter a number \"))\n",
    "b=int(input(\"enter a number \"))\n",
    "c=int(input(\"enter a number \"))\n",
    "\n",
    "if a>b and a>c:\n",
    "    print(\"greatest among three is\",a)\n",
    "elif b>a and b>c:\n",
    "     print(\"greatest among three is\",b)\n",
    "else:\n",
    "     print(\"greatest among three is\",c)\n",
    "    "
   ]
  },
  {
   "cell_type": "code",
   "execution_count": 2,
   "id": "46283695",
   "metadata": {},
   "outputs": [
    {
     "name": "stdout",
     "output_type": "stream",
     "text": [
      "enter a number : 0101100\n",
      "0101100 is a binary number\n"
     ]
    }
   ],
   "source": [
    "# 9.Write a program in Python to check if a number is binary?\n",
    "\n",
    "num=input(\"enter a number : \")\n",
    "for digit in str(num):\n",
    "    if digit!=\"0\" and digit!=\"1\":\n",
    "        print(num,\"is not a binary number\")\n",
    "        break\n",
    "else:\n",
    "    print(num,\"is a binary number\")"
   ]
  },
  {
   "cell_type": "code",
   "execution_count": 3,
   "id": "f47e749c",
   "metadata": {},
   "outputs": [],
   "source": [
    "# 10. Write a program in Python to find sum of digits of a number using recursion?\n"
   ]
  },
  {
   "cell_type": "code",
   "execution_count": 13,
   "id": "05b62bb9",
   "metadata": {},
   "outputs": [
    {
     "name": "stdout",
     "output_type": "stream",
     "text": [
      "enter a number 1\n",
      "enter a number 2\n",
      "2 and 1 are values after swaping\n"
     ]
    }
   ],
   "source": [
    "# 11. Write a program in Python to swap two numbers without using third variable?\n",
    "\n",
    "a=int(input(\"enter a number \"))\n",
    "b=int(input(\"enter a number \"))\n",
    "\n",
    "a=a-b\n",
    "b=a+b\n",
    "a=b-a\n",
    "print(a,\"and\",b,\"are values after swaping\")"
   ]
  },
  {
   "cell_type": "code",
   "execution_count": 12,
   "id": "6b6a18b9",
   "metadata": {},
   "outputs": [
    {
     "name": "stdout",
     "output_type": "stream",
     "text": [
      "enter a number 9\n",
      "enter a number 16\n",
      "16 and 9 are values after swaping\n"
     ]
    }
   ],
   "source": [
    "# 12. Write a program in Python to swap two numbers using third variable?\n",
    "a=int(input(\"enter a number \"))\n",
    "b=int(input(\"enter a number \"))\n",
    "c=b\n",
    "b=a\n",
    "a=c\n",
    "\n",
    "print(a,\"and\",b,\"are values after swaping\")"
   ]
  },
  {
   "cell_type": "code",
   "execution_count": 6,
   "id": "701360f9",
   "metadata": {},
   "outputs": [
    {
     "name": "stdout",
     "output_type": "stream",
     "text": [
      "Please enter a number: 6\n",
      "Prime factors of 6 are: [2, 3]\n"
     ]
    }
   ],
   "source": [
    "# 13. Write a program in Python to find prime factors of a given integer.\n",
    "def prime_factors(n):\n",
    "    i = 2\n",
    "    factors = []\n",
    "    while i * i <= n:\n",
    "        if n % i:\n",
    "            i += 1\n",
    "        else:\n",
    "            n //= i\n",
    "            factors.append(i)\n",
    "    if n > 1:\n",
    "        factors.append(n)\n",
    "    return factors\n",
    "\n",
    "num = int(input(\"Please enter a number: \"))\n",
    "print(\"Prime factors of\", num, \"are:\", prime_factors(num))"
   ]
  },
  {
   "cell_type": "code",
   "execution_count": 7,
   "id": "a615fa53",
   "metadata": {},
   "outputs": [],
   "source": [
    "# 14.Write a program in Python to add two integer without using arithmetic operator?\n",
    "def add(x, y):\n",
    "    while y != 0:\n",
    "        carry = x & y\n",
    "        x = x ^ y\n",
    "        y = carry << 1\n",
    "    return x"
   ]
  },
  {
   "cell_type": "code",
   "execution_count": 3,
   "id": "765578bf",
   "metadata": {},
   "outputs": [
    {
     "data": {
      "text/plain": [
       "7"
      ]
     },
     "execution_count": 3,
     "metadata": {},
     "output_type": "execute_result"
    }
   ],
   "source": [
    "add(5,2)"
   ]
  },
  {
   "cell_type": "code",
   "execution_count": 15,
   "id": "803324cb",
   "metadata": {},
   "outputs": [
    {
     "name": "stdout",
     "output_type": "stream",
     "text": [
      "Enter a number: 6\n",
      "6 is a perfect number.\n"
     ]
    }
   ],
   "source": [
    "# 15.Write a program in Python to find given number is perfect or not?\n",
    "number = int(input(\"Enter a number: \"))\n",
    "divisors = []\n",
    "for i in range(1, number):\n",
    "    if number % i == 0:\n",
    "        divisors.append(i)\n",
    "if sum(divisors) == number:\n",
    "    print(number, \"is a perfect number.\")\n",
    "else:\n",
    "    print(number, \"is not a perfect number.\")"
   ]
  },
  {
   "cell_type": "code",
   "execution_count": 18,
   "id": "07a7b1f7",
   "metadata": {},
   "outputs": [
    {
     "name": "stdout",
     "output_type": "stream",
     "text": [
      "Enter a list of numbers separated by spaces: 1 2 3 4 5\n",
      "The average of the numbers is: 3.0\n"
     ]
    }
   ],
   "source": [
    "# 16.Python Program to find the Average of numbers with explanations.\n",
    "\n",
    "# Get a list of numbers from the user\n",
    "numbers = input(\"Enter a list of numbers separated by spaces: \").split()\n",
    "\n",
    "# Convert the list of strings to a list of floats\n",
    "numbers = [float(num) for num in numbers]\n",
    "\n",
    "# Calculate the average of the numbers\n",
    "average = sum(numbers) / len(numbers)\n",
    "\n",
    "# Print the average\n",
    "print(\"The average of the numbers is:\", average)"
   ]
  },
  {
   "cell_type": "code",
   "execution_count": 20,
   "id": "7154c18b",
   "metadata": {},
   "outputs": [
    {
     "name": "stdout",
     "output_type": "stream",
     "text": [
      "Enter a number: 5\n",
      "The factorial of 5 is 120\n"
     ]
    }
   ],
   "source": [
    "# 17. Python Program to calculate factorial using iterative method.\n",
    "\n",
    "number = int(input(\"Enter a number: \"))\n",
    "factorial = 1\n",
    "for i in range(1, number + 1):\n",
    "    factorial *= i\n",
    "print(\"The factorial of\", number, \"is\", factorial)"
   ]
  },
  {
   "cell_type": "code",
   "execution_count": 21,
   "id": "fc5ff981",
   "metadata": {},
   "outputs": [
    {
     "name": "stdout",
     "output_type": "stream",
     "text": [
      "Enter a number: 5\n",
      "The factorial of 5 is 120\n"
     ]
    }
   ],
   "source": [
    "# 18.Python Program to calculate factorial using recursion.\n",
    "def factorial(n):\n",
    "    if n == 0:\n",
    "        return 1\n",
    "    else:\n",
    "        return n * factorial(n - 1)\n",
    "\n",
    "number = int(input(\"Enter a number: \"))\n",
    "print(\"The factorial of\", number, \"is\", factorial(number))"
   ]
  },
  {
   "cell_type": "code",
   "execution_count": 22,
   "id": "ee6d80ca",
   "metadata": {},
   "outputs": [
    {
     "name": "stdout",
     "output_type": "stream",
     "text": [
      "Enter a number: 2\n",
      "2 is even\n"
     ]
    }
   ],
   "source": [
    "# 19. Python Program to check a given number is even or odd.\n",
    "number = int(input(\"Enter a number: \"))\n",
    "if number % 2 == 0:\n",
    "    print(number, \"is even\")\n",
    "else:\n",
    "    print(number, \"is odd\")"
   ]
  },
  {
   "cell_type": "code",
   "execution_count": 23,
   "id": "075c57f4",
   "metadata": {},
   "outputs": [
    {
     "name": "stdout",
     "output_type": "stream",
     "text": [
      "Enter the value of n: 6\n",
      "2\n",
      "3\n",
      "5\n",
      "7\n",
      "11\n",
      "13\n"
     ]
    }
   ],
   "source": [
    "# 20.Python program to print first n Prime Number with explanation.\n",
    "\n",
    "n = int(input(\"Enter the value of n: \"))\n",
    "count = 0\n",
    "number = 2\n",
    "while count < n:\n",
    "    is_prime = True\n",
    "    for i in range(2, number):\n",
    "        if number % i == 0:\n",
    "            is_prime = False\n",
    "            break\n",
    "    if is_prime:\n",
    "        print(number)\n",
    "        count += 1\n",
    "    number += 1"
   ]
  },
  {
   "cell_type": "code",
   "execution_count": 1,
   "id": "78854e90",
   "metadata": {},
   "outputs": [
    {
     "name": "stdout",
     "output_type": "stream",
     "text": [
      "Enter the start of the range: 5\n",
      "Enter the end of the range: 10\n",
      "5\n",
      "7\n"
     ]
    }
   ],
   "source": [
    "# 21.Python Program to print Prime Number in a given range.\n",
    "\n",
    "start = int(input(\"Enter the start of the range: \"))\n",
    "end = int(input(\"Enter the end of the range: \"))\n",
    "\n",
    "for number in range(start, end + 1):\n",
    "\n",
    "    is_prime = True\n",
    "    for i in range(2, number):\n",
    "        if number % i == 0:\n",
    "            is_prime = False\n",
    "            break\n",
    "    if is_prime and number > 1:\n",
    "        print(number)"
   ]
  },
  {
   "cell_type": "code",
   "execution_count": 2,
   "id": "5e8bcd29",
   "metadata": {},
   "outputs": [
    {
     "name": "stdout",
     "output_type": "stream",
     "text": [
      "Enter the first number: 1\n",
      "Enter the second number: 2\n",
      "Enter the third number: 3\n",
      "The smallest number is: 1\n"
     ]
    }
   ],
   "source": [
    "# 22.Python Program to find Smallest number among three.\n",
    "\n",
    "num1 = int(input(\"Enter the first number: \"))\n",
    "num2 = int(input(\"Enter the second number: \"))\n",
    "num3 = int(input(\"Enter the third number: \"))\n",
    "\n",
    "if num1 < num2 and num1 < num3:\n",
    "    smallest = num1\n",
    "elif num2 < num1 and num2 < num3:\n",
    "    smallest = num2\n",
    "else:\n",
    "    smallest = num3\n",
    "\n",
    "print(\"The smallest number is:\", smallest)"
   ]
  },
  {
   "cell_type": "code",
   "execution_count": 4,
   "id": "15521bcf",
   "metadata": {},
   "outputs": [
    {
     "name": "stdout",
     "output_type": "stream",
     "text": [
      "Enter the base: 2\n",
      "Enter the exponent: 3\n",
      "2 raised to the power of 3 is 8\n"
     ]
    }
   ],
   "source": [
    "# 23.Python program to calculate the power using the POW method.\n",
    "base = int(input(\"Enter the base: \"))\n",
    "exponent = int(input(\"Enter the exponent: \"))\n",
    "\n",
    "\n",
    "result = pow(base, exponent)\n",
    "\n",
    "print(base, \"raised to the power of\", exponent, \"is\", result)"
   ]
  },
  {
   "cell_type": "code",
   "execution_count": 5,
   "id": "bde2a725",
   "metadata": {},
   "outputs": [
    {
     "name": "stdout",
     "output_type": "stream",
     "text": [
      "Enter the base: 2\n",
      "Enter the exponent: 2\n",
      "2 raised to the power of 2 is 4\n"
     ]
    }
   ],
   "source": [
    "# 24.Python Program to calculate the power without using POW function.(using for loop).\n",
    "\n",
    "base = int(input(\"Enter the base: \"))\n",
    "exponent = int(input(\"Enter the exponent: \"))\n",
    "\n",
    "result = 1\n",
    "\n",
    "for i in range(exponent):\n",
    "    result *= base\n",
    "\n",
    "print(base, \"raised to the power of\", exponent, \"is\", result)"
   ]
  },
  {
   "cell_type": "code",
   "execution_count": 6,
   "id": "4ddfae62",
   "metadata": {},
   "outputs": [
    {
     "name": "stdout",
     "output_type": "stream",
     "text": [
      "Enter the base: 6\n",
      "Enter the exponent: 2\n",
      "6 raised to the power of 0 is 36\n"
     ]
    }
   ],
   "source": [
    "# 25.Python Program to calculate the power without using POW function.(using while loop).\n",
    "\n",
    "base = int(input(\"Enter the base: \"))\n",
    "exponent = int(input(\"Enter the exponent: \"))\n",
    "\n",
    "result = 1\n",
    "\n",
    "\n",
    "while exponent > 0:\n",
    "    result *= base\n",
    "    exponent -= 1\n",
    "\n",
    "print(base, \"raised to the power of\", exponent, \"is\", result)"
   ]
  },
  {
   "cell_type": "code",
   "execution_count": 2,
   "id": "48ecbb41",
   "metadata": {},
   "outputs": [
    {
     "name": "stdout",
     "output_type": "stream",
     "text": [
      "Enter a number: 5\n",
      "square of 5 is 25.0\n"
     ]
    }
   ],
   "source": [
    "# 26.Python Program to calculate the square of a given number.\n",
    "num=input(\"Enter a number: \")\n",
    "sq=float(num)** 2\n",
    "print(\"square of\",num,\"is\",sq)"
   ]
  },
  {
   "cell_type": "code",
   "execution_count": 3,
   "id": "ce67bd6e",
   "metadata": {},
   "outputs": [
    {
     "name": "stdout",
     "output_type": "stream",
     "text": [
      "Enter a number: 2\n",
      "cube of 2 is 8.0\n"
     ]
    }
   ],
   "source": [
    "# 27.Python Program to calculate the cube of a given number.\n",
    "num=input(\"Enter a number: \")\n",
    "cube=float(num)**3\n",
    "print(\"cube of\",num,\"is\",cube )"
   ]
  },
  {
   "cell_type": "code",
   "execution_count": 10,
   "id": "84c3656b",
   "metadata": {},
   "outputs": [
    {
     "name": "stdout",
     "output_type": "stream",
     "text": [
      "Enter a number: 81\n",
      "square root of 81 is 9.0\n"
     ]
    }
   ],
   "source": [
    "# 28. Python Program to calculate the square root of a given number.\n",
    "num=input(\"Enter a number: \")\n",
    "sqrt=float(num)**(1/2)\n",
    "print(\"square root of\",num,\"is\",sqrt)"
   ]
  },
  {
   "cell_type": "code",
   "execution_count": null,
   "id": "fdc3b3fe",
   "metadata": {},
   "outputs": [],
   "source": [
    "# 29.Python program to calculate LCM of given two numbers.\n"
   ]
  },
  {
   "cell_type": "code",
   "execution_count": null,
   "id": "98447a82",
   "metadata": {},
   "outputs": [],
   "source": [
    "# 30.Python Program to find GCD or HCF of two numbers.\n"
   ]
  },
  {
   "cell_type": "code",
   "execution_count": 6,
   "id": "3a99fba1",
   "metadata": {},
   "outputs": [],
   "source": [
    "# 31.Python Program to find GCD of two numbers using recursion.\n"
   ]
  },
  {
   "cell_type": "code",
   "execution_count": 16,
   "id": "7f8c69e0",
   "metadata": {
    "scrolled": true
   },
   "outputs": [
    {
     "name": "stdout",
     "output_type": "stream",
     "text": [
      "Enter a decimal number: 23\n",
      "The binary representation of 23 is 0b10111\n"
     ]
    }
   ],
   "source": [
    "# 32. Python Program to Convert Decimal Number into Binary.\n",
    "decimal_num = int(input(\"Enter a decimal number: \"))\n",
    "binary_num = bin(decimal_num)\n",
    "print(\"The binary representation of\", decimal_num, \"is\", binary_num)"
   ]
  },
  {
   "cell_type": "code",
   "execution_count": 20,
   "id": "a0f62de3",
   "metadata": {},
   "outputs": [
    {
     "name": "stdout",
     "output_type": "stream",
     "text": [
      "Enter a decimal number: 1\n",
      "The octal representation of 1 is 0o1\n"
     ]
    }
   ],
   "source": [
    "# 33. Python Program to convert Decimal number to Octal number.\n",
    "decimal_num = int(input(\"Enter a decimal number: \"))\n",
    "octal_num = oct(decimal_num)\n",
    "print(\"The octal representation of\", decimal_num, \"is\", octal_num)"
   ]
  },
  {
   "cell_type": "code",
   "execution_count": 5,
   "id": "881258fb",
   "metadata": {},
   "outputs": [
    {
     "name": "stdout",
     "output_type": "stream",
     "text": [
      "enter a year: 2001\n"
     ]
    },
    {
     "data": {
      "text/plain": [
       "'not a leap year'"
      ]
     },
     "execution_count": 5,
     "metadata": {},
     "output_type": "execute_result"
    }
   ],
   "source": [
    "# 34.Python Program to check the given year is a leap year or not.\n",
    "\n",
    "def leap_year(year):\n",
    "    return \"leap year\" if year%400==0 or year%100!=0 and year%4==0 else \"not a leap year\"\n",
    "year=int(input(\"enter a year: \"))\n",
    "leap_year(year)"
   ]
  },
  {
   "cell_type": "code",
   "execution_count": 12,
   "id": "decbaddf",
   "metadata": {},
   "outputs": [
    {
     "name": "stdout",
     "output_type": "stream",
     "text": [
      "enter celsius to convert to fahrenheit: 35\n"
     ]
    },
    {
     "data": {
      "text/plain": [
       "95.0"
      ]
     },
     "execution_count": 12,
     "metadata": {},
     "output_type": "execute_result"
    }
   ],
   "source": [
    "# 35.Python Program to convert Celsius to Fahrenheit.\n",
    "def celsius_to_fahrenheit(celsius):\n",
    "    fahrenheit=(celsius*9/5)+32\n",
    "    return fahrenheit\n",
    "celsius=float(input(\"enter celsius to convert to fahrenheit: \"))\n",
    "celsius_to_fahrenheit(celsius)"
   ]
  },
  {
   "cell_type": "code",
   "execution_count": 13,
   "id": "d810840d",
   "metadata": {},
   "outputs": [
    {
     "name": "stdout",
     "output_type": "stream",
     "text": [
      "enter fahrenheit to convert to celsius: 95\n"
     ]
    },
    {
     "data": {
      "text/plain": [
       "35.0"
      ]
     },
     "execution_count": 13,
     "metadata": {},
     "output_type": "execute_result"
    }
   ],
   "source": [
    "# 36.Python Program to convert Fahrenheit to Celsius.\n",
    "def fahrenheit_to_celsius(fahrenheit):\n",
    "    celsius=(fahrenheit-32)*(5/9)\n",
    "    return celsius\n",
    "fahrenheit=float(input(\"enter fahrenheit to convert to celsius: \"))\n",
    "fahrenheit_to_celsius(fahrenheit)"
   ]
  },
  {
   "cell_type": "code",
   "execution_count": null,
   "id": "7dbe1011",
   "metadata": {},
   "outputs": [],
   "source": [
    "# 37.Python program to calculate Simple Interest with explanation"
   ]
  },
  {
   "cell_type": "code",
   "execution_count": 21,
   "id": "92213612",
   "metadata": {},
   "outputs": [
    {
     "name": "stdout",
     "output_type": "stream",
     "text": [
      "enter a string: hello\n",
      "enter a character to remove from a given string: l\n",
      "heo\n"
     ]
    }
   ],
   "source": [
    "# 38.Python program to remove given character from String.\n",
    "str1=input(\"enter a string: \")\n",
    "str2=input(\"enter a character to remove from a given string: \")\n",
    "print(str1.replace(str2,\"\"))"
   ]
  },
  {
   "cell_type": "code",
   "execution_count": 3,
   "id": "8d9d3a25",
   "metadata": {},
   "outputs": [
    {
     "name": "stdout",
     "output_type": "stream",
     "text": [
      "Please enter String : hello world\n",
      "Please enter a Character : l\n",
      "3\n"
     ]
    }
   ],
   "source": [
    "#39.Python Program to count occurrence of a given characters in string.\n",
    "string = input(\"Please enter String : \")\n",
    "char = input(\"Please enter a Character : \")\n",
    "count=string.count(char)\n",
    "print(count)"
   ]
  },
  {
   "cell_type": "code",
   "execution_count": 5,
   "id": "84e4dcf6",
   "metadata": {
    "scrolled": true
   },
   "outputs": [
    {
     "name": "stdout",
     "output_type": "stream",
     "text": [
      "Enter the first string: abcg\n",
      "Enter the second string: gbca\n",
      "The strings are anagrams.\n"
     ]
    }
   ],
   "source": [
    "# 40.Python Program to check if two Strings are Anagram.\n",
    "string1 = input(\"Enter the first string: \")\n",
    "string2 = input(\"Enter the second string: \")\n",
    "\n",
    "string1 = string1.lower().replace(\" \", \"\")\n",
    "string2 = string2.lower().replace(\" \", \"\")\n",
    "\n",
    "if len(string1) != len(string2):\n",
    "    print(\"The strings are not anagrams.\")\n",
    "else:\n",
    "    \n",
    "    sorted_string1 = sorted(string1)\n",
    "    sorted_string2 = sorted(string2)\n",
    "\n",
    "    if sorted_string1 == sorted_string2:\n",
    "        print(\"The strings are anagrams.\")\n",
    "    else:\n",
    "        print(\"The strings are not anagrams.\")"
   ]
  },
  {
   "cell_type": "code",
   "execution_count": 11,
   "id": "bf48dfaa",
   "metadata": {},
   "outputs": [
    {
     "name": "stdout",
     "output_type": "stream",
     "text": [
      "enter a string: sis\n",
      "given string is a palindrome\n"
     ]
    }
   ],
   "source": [
    "# 41.Python program to check a String is palindrome or not.\n",
    "str1=input(\"enter a string: \")\n",
    "if str1==str1[::-1]:\n",
    "    print(\"given string is a palindrome\")\n",
    "else:\n",
    "    print(\"not a palindrome\")"
   ]
  },
  {
   "cell_type": "code",
   "execution_count": 8,
   "id": "4a20dc62",
   "metadata": {},
   "outputs": [
    {
     "name": "stdout",
     "output_type": "stream",
     "text": [
      "enter a char: E\n",
      "given char is a vowel\n"
     ]
    }
   ],
   "source": [
    "# 42.Python program to check given character is vowel or consonant.\n",
    "char=input(\"enter a char: \")\n",
    "if (char==\"a\" or char==\"e\" or char==\"i\" or char==\"o\" or char==\"u\" or char==\"A\" or char==\"E\" or char==\"I\" or char==\"O\" or char==\"U\"):\n",
    "    print(\"given char is a vowel\")\n",
    "          \n",
    "else:\n",
    "    print(\"given char is a consonant\")"
   ]
  },
  {
   "cell_type": "code",
   "execution_count": 12,
   "id": "91476b83",
   "metadata": {},
   "outputs": [
    {
     "name": "stdout",
     "output_type": "stream",
     "text": [
      "enter a char: 15\n",
      "given char is digit\n"
     ]
    }
   ],
   "source": [
    "# 43.Python program to check given character is digit or not.\n",
    "char=input(\"enter a char: \")\n",
    "if char>=\"0\" and char<=\"9\":\n",
    "    print(\"given char is digit\")\n",
    "else:\n",
    "    print(\"given char is not a digit\")"
   ]
  },
  {
   "cell_type": "code",
   "execution_count": 15,
   "id": "527c2412",
   "metadata": {},
   "outputs": [
    {
     "name": "stdout",
     "output_type": "stream",
     "text": [
      "enter a char: 132\n",
      "given char is digit\n"
     ]
    }
   ],
   "source": [
    "# 44.Python program to check given character is digit or not using isdigit() method.\n",
    "char=input(\"enter a char: \")\n",
    "if char.isdigit():\n",
    "    print(\"given char is digit\")\n",
    "else:\n",
    "    print(\"given char is not a digit\")"
   ]
  },
  {
   "cell_type": "code",
   "execution_count": 19,
   "id": "2e22eebe",
   "metadata": {},
   "outputs": [
    {
     "name": "stdout",
     "output_type": "stream",
     "text": [
      "Enter a String : hello world\n",
      "Enter a Character : @\n",
      "String after removing space is: hello@world\n"
     ]
    }
   ],
   "source": [
    "# 45.Python program to replace the string space with a given character.\n",
    "string = input(\"Enter a String : \")\n",
    "result = '' \n",
    "ch = input(\"Enter a Character : \")\n",
    "for i in string:  \n",
    "        if i == ' ':  \n",
    "            i = ch   \n",
    "        result += i  \n",
    "print(\"String after removing space is:\",result)\n"
   ]
  },
  {
   "cell_type": "code",
   "execution_count": 26,
   "id": "81e15bfb",
   "metadata": {},
   "outputs": [
    {
     "name": "stdout",
     "output_type": "stream",
     "text": [
      "Enter a String : h i\n",
      "Enter a Character : @\n",
      "h@i\n"
     ]
    }
   ],
   "source": [
    "# 46.Python program to replace the string space with a given character.\n",
    "string = input(\"Enter a String : \")\n",
    "char= input(\"Enter a Character : \")\n",
    "string=string.replace(\" \",char)\n",
    "print(string)"
   ]
  },
  {
   "cell_type": "code",
   "execution_count": 27,
   "id": "1d504563",
   "metadata": {},
   "outputs": [
    {
     "name": "stdout",
     "output_type": "stream",
     "text": [
      "Enter a String : hi\n"
     ]
    },
    {
     "data": {
      "text/plain": [
       "'HI'"
      ]
     },
     "execution_count": 27,
     "metadata": {},
     "output_type": "execute_result"
    }
   ],
   "source": [
    "# 47.Python program to convert lowercase char to uppercase of string.\n",
    "string = input(\"Enter a String : \")\n",
    "string.upper()"
   ]
  },
  {
   "cell_type": "code",
   "execution_count": 44,
   "id": "2ecfe96b",
   "metadata": {},
   "outputs": [
    {
     "name": "stdout",
     "output_type": "stream",
     "text": [
      "Enter a String : apple\n",
      "ApplE\n"
     ]
    }
   ],
   "source": [
    "# 48.Python program to convert lowercase vowel to uppercase in string.\n",
    "string = input(\"Enter a String : \")\n",
    "result=\"\"\n",
    "for char in string:\n",
    "    if (char==\"a\" or char==\"e\" or char==\"i\" or char==\"o\" or char==\"u\"):\n",
    "        char=char.upper()\n",
    "    result+=char\n",
    "print(result)"
   ]
  },
  {
   "cell_type": "code",
   "execution_count": 45,
   "id": "4ac7d541",
   "metadata": {},
   "outputs": [
    {
     "name": "stdout",
     "output_type": "stream",
     "text": [
      "Enter a string: apple\n",
      "ppl\n"
     ]
    }
   ],
   "source": [
    "# 49.Python program to delete vowels in a given string.\n",
    "string = input(\"Enter a string: \")\n",
    "result = \"\"\n",
    "for char in string:\n",
    "    if char not in \"aeiouAEIOU\":\n",
    "        result += char\n",
    "print(result)"
   ]
  },
  {
   "cell_type": "code",
   "execution_count": 51,
   "id": "577caaeb",
   "metadata": {},
   "outputs": [
    {
     "name": "stdout",
     "output_type": "stream",
     "text": [
      "Enter a string: hello world\n",
      "hello world\n",
      "3 vowels 7 consonants\n"
     ]
    }
   ],
   "source": [
    "# 50.Python program to count the Occurrence Of Vowels & Consonants in a String.\n",
    "string = input(\"Enter a string: \")\n",
    "count_v=0\n",
    "count_c=0\n",
    "for char in string:\n",
    "    if (char==\"a\" or char==\"e\" or char==\"i\" or char==\"o\" or char==\"u\" or char==\"A\" or char==\"E\" or char==\"I\" or char==\"O\" or char==\"U\"):\n",
    "        count_v+=1\n",
    "    elif char.isdigit() or char==\" \":\n",
    "        print(string)\n",
    "    else:\n",
    "        count_c+=1\n",
    "print(count_v,\"vowels\" ,count_c,\"consonants\")"
   ]
  },
  {
   "cell_type": "code",
   "execution_count": 53,
   "id": "4fe270a5",
   "metadata": {},
   "outputs": [
    {
     "name": "stdout",
     "output_type": "stream",
     "text": [
      "Enter a string: hello python\n",
      "The highest frequency character is 'h' with a count of 2.\n"
     ]
    }
   ],
   "source": [
    "# 51.Python program to print the highest frequency character in a String.\n",
    "\n",
    "string = input(\"Enter a string: \")\n",
    "\n",
    "char_counts = {}\n",
    "\n",
    "for char in string:\n",
    "   \n",
    "    if char in char_counts:\n",
    "        char_counts[char] += 1\n",
    "  \n",
    "    else:\n",
    "        char_counts[char] = 1\n",
    "\n",
    "max_count = 0\n",
    "max_char = \"\"\n",
    "for char in char_counts:\n",
    "    if char_counts[char] > max_count:\n",
    "        max_count = char_counts[char]\n",
    "        max_char = char\n",
    "\n",
    "print(\"The highest frequency character is '{}' with a count of {}.\".format(max_char, max_count))"
   ]
  },
  {
   "cell_type": "code",
   "execution_count": 57,
   "id": "a902cf4b",
   "metadata": {},
   "outputs": [
    {
     "name": "stdout",
     "output_type": "stream",
     "text": [
      "Enter a string: apple\n",
      "The new string is: -pple\n"
     ]
    }
   ],
   "source": [
    "# 52.Python program to Replace First Occurrence Of Vowel With ‘-‘ in String.\n",
    "string = input(\"Enter a string: \")\n",
    "vowel_found = False\n",
    "for i in range(len(string)):\n",
    "    if string[i] in \"aeiouAEIOU\" and not vowel_found:\n",
    "        string = string[:i] + \"-\" + string[i+1:]\n",
    "        vowel_found = True\n",
    "print(\"The new string is:\", string)"
   ]
  },
  {
   "cell_type": "code",
   "execution_count": 58,
   "id": "3d458cdd",
   "metadata": {},
   "outputs": [
    {
     "name": "stdout",
     "output_type": "stream",
     "text": [
      "Enter a string: hello world 123\n",
      "Alphabets: 10\n",
      "Digits: 3\n",
      "Special Characters: 2\n"
     ]
    }
   ],
   "source": [
    "# 53.Python program to count alphabets, digits and special characters.\n",
    "\n",
    "string = input(\"Enter a string: \")\n",
    "\n",
    "alphabets = 0\n",
    "digits = 0\n",
    "special_chars = 0\n",
    "for char in string:\n",
    "    if char.isalpha():\n",
    "        alphabets += 1\n",
    "    elif char.isdigit():\n",
    "        digits += 1\n",
    "    else:\n",
    "        special_chars += 1\n",
    "\n",
    "print(\"Alphabets:\", alphabets)\n",
    "print(\"Digits:\", digits)\n",
    "print(\"Special Characters:\", special_chars)"
   ]
  },
  {
   "cell_type": "code",
   "execution_count": 59,
   "id": "bceb303f",
   "metadata": {},
   "outputs": [
    {
     "name": "stdout",
     "output_type": "stream",
     "text": [
      "Enter a string: hello\n",
      "h\n",
      "e\n",
      "l\n",
      "l\n",
      "o\n"
     ]
    }
   ],
   "source": [
    "# 54.Python program to separate characters in a given string.\n",
    "string = input(\"Enter a string: \")\n",
    "for char in string:\n",
    "    print(char)"
   ]
  },
  {
   "cell_type": "code",
   "execution_count": 60,
   "id": "da33660e",
   "metadata": {},
   "outputs": [
    {
     "name": "stdout",
     "output_type": "stream",
     "text": [
      "Enter a string: hello world\n",
      "String without spaces: helloworld\n"
     ]
    }
   ],
   "source": [
    "# 55.Python program to remove blank space from string.\n",
    "string = input(\"Enter a string: \")\n",
    "string_without_spaces = string.replace(\" \", \"\")\n",
    "print(\"String without spaces:\", string_without_spaces)"
   ]
  },
  {
   "cell_type": "code",
   "execution_count": 2,
   "id": "5c66bb2d",
   "metadata": {},
   "outputs": [
    {
     "name": "stdout",
     "output_type": "stream",
     "text": [
      "Enter the first string: hello\n",
      "Enter the second string: world\n",
      "Concatenated string: helloworld\n"
     ]
    }
   ],
   "source": [
    "# 56.Python program to concatenate two strings using join() method\n",
    "string1 = input(\"Enter the first string: \")\n",
    "string2 = input(\"Enter the second string: \")\n",
    "result = \"\".join([string1, string2])\n",
    "print(\"Concatenated string:\", result)"
   ]
  },
  {
   "cell_type": "code",
   "execution_count": 3,
   "id": "956d48f7",
   "metadata": {},
   "outputs": [
    {
     "name": "stdout",
     "output_type": "stream",
     "text": [
      "Enter the first string: hello\n",
      "Enter the second string: world\n",
      "Concatenated string: helloworld\n"
     ]
    }
   ],
   "source": [
    "# 57.Python program to concatenate two strings without using join() method.\n",
    "\n",
    "string1 = input(\"Enter the first string: \")\n",
    "string2 = input(\"Enter the second string: \")\n",
    "result = string1 + string2\n",
    "print(\"Concatenated string:\", result)"
   ]
  },
  {
   "cell_type": "code",
   "execution_count": 4,
   "id": "5a27674f",
   "metadata": {},
   "outputs": [
    {
     "name": "stdout",
     "output_type": "stream",
     "text": [
      "Enter a string: hello world\n",
      "Unique string: helo wrd\n"
     ]
    }
   ],
   "source": [
    "# 58.Python program to remove repeated character from string.\n",
    "\n",
    "str1= input(\"Enter a string: \")\n",
    "new_str = \"\"\n",
    "for char in str1:\n",
    "    if char not in new_str:\n",
    "        new_str += char\n",
    "print(\"Unique string:\", new_str)"
   ]
  },
  {
   "cell_type": "code",
   "execution_count": 5,
   "id": "a191e84d",
   "metadata": {},
   "outputs": [
    {
     "name": "stdout",
     "output_type": "stream",
     "text": [
      "Enter a string: hello123\n",
      "Sum of integers in the string: 6\n"
     ]
    }
   ],
   "source": [
    "# 59.Python program to calculate sum of integers in string.\n",
    "\n",
    "input_str = input(\"Enter a string: \")\n",
    "sum = 0\n",
    "for char in input_str:\n",
    "    if char.isdigit():\n",
    "        sum += int(char)\n",
    "print(\"Sum of integers in the string:\", sum)"
   ]
  },
  {
   "cell_type": "code",
   "execution_count": 6,
   "id": "94ced25a",
   "metadata": {},
   "outputs": [
    {
     "name": "stdout",
     "output_type": "stream",
     "text": [
      "Enter a string: hello world\n",
      "Non-repeating characters in the string:\n",
      "h\n",
      "e\n",
      " \n",
      "w\n",
      "r\n",
      "d\n"
     ]
    }
   ],
   "source": [
    "# 60.Python program to print all non repeating character in string.\n",
    "\n",
    "input_str = input(\"Enter a string: \")\n",
    "char_freq = {}\n",
    "for char in input_str:\n",
    "    if char in char_freq:\n",
    "        char_freq[char] += 1\n",
    "    else:\n",
    "        char_freq[char] = 1\n",
    "print(\"Non-repeating characters in the string:\")\n",
    "for char in char_freq:\n",
    "    if char_freq[char] == 1:\n",
    "        print(char)"
   ]
  },
  {
   "cell_type": "code",
   "execution_count": 7,
   "id": "0c038f53",
   "metadata": {},
   "outputs": [
    {
     "name": "stdout",
     "output_type": "stream",
     "text": [
      "Please Enter a string: hello\n",
      "New String: hello\n"
     ]
    }
   ],
   "source": [
    "# 61.Python program to copy one string to another string.\n",
    "string = input(\"Please Enter a string: \")\n",
    "new_string = \"\"\n",
    "for char in string:\n",
    "    new_string += char\n",
    "print(\"New String:\", new_string)"
   ]
  },
  {
   "cell_type": "code",
   "execution_count": 11,
   "id": "c9bad297",
   "metadata": {},
   "outputs": [
    {
     "name": "stdout",
     "output_type": "stream",
     "text": [
      "Enter a string: apple\n",
      "The sorted string in ascending order is: aelpp\n"
     ]
    }
   ],
   "source": [
    "# 62.Python Program to sort characters of string in ascending order.\n",
    "\n",
    "input_str = input(\"Enter a string: \")\n",
    "char_list = list(input_str)\n",
    "char_list.sort()\n",
    "sorted_str = \"\".join(char_list)\n",
    "print(\"The sorted string in ascending order is:\", sorted_str)"
   ]
  },
  {
   "cell_type": "code",
   "execution_count": 12,
   "id": "2da8d915",
   "metadata": {},
   "outputs": [
    {
     "name": "stdout",
     "output_type": "stream",
     "text": [
      "Enter a string: apple\n",
      "The sorted string in descending order is: pplea\n"
     ]
    }
   ],
   "source": [
    "# 63.Python Program to sort character of string in descending order.\n",
    "\n",
    "input_str = input(\"Enter a string: \")\n",
    "char_list = list(input_str)\n",
    "char_list.sort(reverse=True)\n",
    "sorted_str = \"\".join(char_list)\n",
    "print(\"The sorted string in descending order is:\", sorted_str)"
   ]
  },
  {
   "cell_type": "code",
   "execution_count": null,
   "id": "df27bc9c",
   "metadata": {},
   "outputs": [],
   "source": []
  }
 ],
 "metadata": {
  "kernelspec": {
   "display_name": "Python 3 (ipykernel)",
   "language": "python",
   "name": "python3"
  },
  "language_info": {
   "codemirror_mode": {
    "name": "ipython",
    "version": 3
   },
   "file_extension": ".py",
   "mimetype": "text/x-python",
   "name": "python",
   "nbconvert_exporter": "python",
   "pygments_lexer": "ipython3",
   "version": "3.9.12"
  }
 },
 "nbformat": 4,
 "nbformat_minor": 5
}
