{
 "cells": [
  {
   "cell_type": "code",
   "execution_count": 11,
   "id": "d7636dcc",
   "metadata": {},
   "outputs": [
    {
     "name": "stdout",
     "output_type": "stream",
     "text": [
      "* * *\n",
      "*   *\n",
      "* * *\n",
      "*   *\n",
      "*   *\n"
     ]
    }
   ],
   "source": [
    "x=0 \n",
    "while x<5:\n",
    "    if x==0 or x==2:\n",
    "        print(\"* * *\")\n",
    "    elif x==1 or x==3 or x==4:\n",
    "        print(\"*   *\")\n",
    "    x=x+1"
   ]
  },
  {
   "cell_type": "code",
   "execution_count": 9,
   "id": "0f741c73",
   "metadata": {},
   "outputs": [
    {
     "name": "stdout",
     "output_type": "stream",
     "text": [
      "* * *\n",
      "*   *\n",
      "* *\n",
      "*   *\n",
      "* * *\n"
     ]
    }
   ],
   "source": [
    "x=0\n",
    "while x<5:\n",
    "    if x==0 or x==4:\n",
    "        print(\"* * *\")\n",
    "    elif x==1 or x==3:\n",
    "        print(\"*   *\")\n",
    "    else:\n",
    "        print(\"* *\")\n",
    "    x=x+1"
   ]
  },
  {
   "cell_type": "code",
   "execution_count": 12,
   "id": "acf31119",
   "metadata": {},
   "outputs": [
    {
     "name": "stdout",
     "output_type": "stream",
     "text": [
      "* * *\n",
      "*\n",
      "*\n",
      "*\n",
      "* * *\n"
     ]
    }
   ],
   "source": [
    "x=0\n",
    "while x<5:\n",
    "    if x==0 or x==4:\n",
    "        print(\"* * *\")\n",
    "    else:\n",
    "        print(\"*\")\n",
    "    x=x+1"
   ]
  },
  {
   "cell_type": "code",
   "execution_count": 15,
   "id": "f8df7055",
   "metadata": {},
   "outputs": [
    {
     "name": "stdout",
     "output_type": "stream",
     "text": [
      "* * *\n",
      "*     *\n",
      "*     *\n",
      "*     *\n",
      "* * *\n"
     ]
    }
   ],
   "source": [
    "x=0\n",
    "while x<5:\n",
    "    if x==0 or x==4:\n",
    "        print(\"* * *\")\n",
    "    else:\n",
    "        print(\"*     *\")\n",
    "    x=x+1"
   ]
  },
  {
   "cell_type": "code",
   "execution_count": 16,
   "id": "4116f482",
   "metadata": {},
   "outputs": [
    {
     "name": "stdout",
     "output_type": "stream",
     "text": [
      "* * *\n",
      "*\n",
      "* * *\n",
      "*\n",
      "* * *\n"
     ]
    }
   ],
   "source": [
    "x=0\n",
    "while x<5:\n",
    "    if x==0 or x==2 or x==4:\n",
    "        print(\"* * *\")\n",
    "    else:\n",
    "        print(\"*\")\n",
    "    x=x+1"
   ]
  },
  {
   "cell_type": "code",
   "execution_count": 18,
   "id": "4fd00f66",
   "metadata": {},
   "outputs": [
    {
     "name": "stdout",
     "output_type": "stream",
     "text": [
      "* * *\n",
      "* * *\n",
      "*\n",
      "*\n",
      "*\n"
     ]
    }
   ],
   "source": [
    "x=0\n",
    "while x<5:\n",
    "    if x==0 or x==1:\n",
    "        print(\"* * *\")\n",
    "    else:\n",
    "        print(\"*\")\n",
    "    x=x+1"
   ]
  },
  {
   "cell_type": "code",
   "execution_count": 19,
   "id": "9e5cac3b",
   "metadata": {},
   "outputs": [
    {
     "name": "stdout",
     "output_type": "stream",
     "text": [
      "* * *\n",
      "*\n",
      "* * * * *\n",
      "*   *   *\n",
      "* * *\n"
     ]
    }
   ],
   "source": [
    "x=0\n",
    "while x<5:\n",
    "    if x==0 or x==4:\n",
    "        print(\"* * *\")\n",
    "    elif x==2:\n",
    "        print(\"* * * * *\")\n",
    "    elif x==3:\n",
    "        print(\"*   *   *\")\n",
    "    else:\n",
    "        print(\"*\")\n",
    "    x=x+1"
   ]
  },
  {
   "cell_type": "code",
   "execution_count": 20,
   "id": "163d4f5e",
   "metadata": {},
   "outputs": [
    {
     "name": "stdout",
     "output_type": "stream",
     "text": [
      "*   *\n",
      "*   *\n",
      "* * *\n",
      "*   *\n",
      "*   *\n"
     ]
    }
   ],
   "source": [
    "x=0\n",
    "while x<5:\n",
    "    if x==0 or x==1 or x==3 or x==4:\n",
    "        print(\"*   *\")\n",
    "    else:\n",
    "        print(\"* * *\")\n",
    "    x=x+1"
   ]
  },
  {
   "cell_type": "code",
   "execution_count": 23,
   "id": "b0c9a6ab",
   "metadata": {},
   "outputs": [
    {
     "name": "stdout",
     "output_type": "stream",
     "text": [
      "* * *\n",
      "  *\n",
      "  *\n",
      "  *\n",
      "* * *\n"
     ]
    }
   ],
   "source": [
    "x=0\n",
    "while x<5:\n",
    "    if x==0 or x==4:\n",
    "        print(\"* * *\")\n",
    "    else:\n",
    "        print(\"  *\")\n",
    "    x=x+1"
   ]
  },
  {
   "cell_type": "code",
   "execution_count": 24,
   "id": "b91c3fc6",
   "metadata": {},
   "outputs": [
    {
     "name": "stdout",
     "output_type": "stream",
     "text": [
      "* * *\n",
      "  *\n",
      "  *\n",
      "  *\n",
      "* *\n"
     ]
    }
   ],
   "source": [
    "x=0\n",
    "while x<5:\n",
    "    if x==0:\n",
    "        print(\"* * *\")\n",
    "    elif x==4:\n",
    "        print(\"* *\")\n",
    "    else:\n",
    "        print(\"  *\")\n",
    "    x=x+1"
   ]
  },
  {
   "cell_type": "code",
   "execution_count": 27,
   "id": "d902c6e8",
   "metadata": {},
   "outputs": [
    {
     "name": "stdout",
     "output_type": "stream",
     "text": [
      "*    *\n",
      "*  *\n",
      "* *\n",
      "*  *\n",
      "*    *\n"
     ]
    }
   ],
   "source": [
    "x=0\n",
    "while x<5:\n",
    "    if x==0 or x==4:\n",
    "        print(\"*    *\")\n",
    "    elif x==1 or x==3:\n",
    "        print(\"*  *\")\n",
    "    else:\n",
    "        print(\"* *\")\n",
    "    x=x+1"
   ]
  },
  {
   "cell_type": "code",
   "execution_count": 29,
   "id": "63453a0b",
   "metadata": {},
   "outputs": [
    {
     "name": "stdout",
     "output_type": "stream",
     "text": [
      "*\n",
      "*\n",
      "*\n",
      "*\n",
      "* * *\n"
     ]
    }
   ],
   "source": [
    "x=0\n",
    "while x<5:\n",
    "    if x==4:\n",
    "        print(\"* * *\")\n",
    "    else:\n",
    "        print(\"*\")\n",
    "    x=x+1"
   ]
  },
  {
   "cell_type": "code",
   "execution_count": 39,
   "id": "cf11a234",
   "metadata": {},
   "outputs": [
    {
     "name": "stdout",
     "output_type": "stream",
     "text": [
      "*     *\n",
      "*  *  *\n",
      "*     *\n",
      "*     *\n",
      "*     *\n"
     ]
    }
   ],
   "source": [
    "x=0\n",
    "while x<5:\n",
    "    if x==1:\n",
    "        print(\"*  *  *\")\n",
    "    else:\n",
    "        print(\"*     *\")\n",
    "    x=x+1"
   ]
  },
  {
   "cell_type": "code",
   "execution_count": 46,
   "id": "c717cfb0",
   "metadata": {},
   "outputs": [
    {
     "name": "stdout",
     "output_type": "stream",
     "text": [
      "*        *\n",
      "*  *     *\n",
      "*     *  *\n",
      "*        *\n",
      "*        *\n"
     ]
    }
   ],
   "source": [
    "x=0\n",
    "while x<5:\n",
    "    if x==0 or x==3 or x==4:\n",
    "        print(\"*        *\")\n",
    "    elif x==1:\n",
    "        print(\"*  *     *\")\n",
    "    elif x==3:\n",
    "        print(\"*    *   *\")\n",
    "    else:\n",
    "        print(\"*     *  *\")\n",
    "    x=x+1"
   ]
  },
  {
   "cell_type": "code",
   "execution_count": 50,
   "id": "f5d6bdb6",
   "metadata": {},
   "outputs": [
    {
     "name": "stdout",
     "output_type": "stream",
     "text": [
      "  * *\n",
      " *   *\n",
      " *   *\n",
      " *   *\n",
      "  * *\n"
     ]
    }
   ],
   "source": [
    "x=0\n",
    "while x<5:\n",
    "    if x==0 or x==4:\n",
    "        print(\"  * *\")\n",
    "    else:\n",
    "        print(\" *   *\")\n",
    "    x=x+1"
   ]
  },
  {
   "cell_type": "code",
   "execution_count": 53,
   "id": "a3c490aa",
   "metadata": {},
   "outputs": [
    {
     "name": "stdout",
     "output_type": "stream",
     "text": [
      "* * *\n",
      "*   *\n",
      "* * *\n",
      "*\n",
      "*\n"
     ]
    }
   ],
   "source": [
    "x=0\n",
    "while x<5:\n",
    "    if x==0 or x==2:\n",
    "        print(\"* * *\")\n",
    "    elif x==1:\n",
    "        print(\"*   *\")\n",
    "    else:\n",
    "        print(\"*\")\n",
    "    x=x+1"
   ]
  },
  {
   "cell_type": "code",
   "execution_count": 62,
   "id": "89d2361e",
   "metadata": {},
   "outputs": [
    {
     "name": "stdout",
     "output_type": "stream",
     "text": [
      "  * *\n",
      " *   *\n",
      " * * *\n",
      " *   *\n",
      "  * *  *\n"
     ]
    }
   ],
   "source": [
    "x=0\n",
    "while x<5:\n",
    "    if x==0:\n",
    "        print(\"  * *\")\n",
    "    elif x==1 or x==3:\n",
    "        print(\" *   *\")\n",
    "    elif x==2:\n",
    "        print(\" * * *\")\n",
    "    else:\n",
    "        print(\"  * *  *\")\n",
    "    x=x+1"
   ]
  },
  {
   "cell_type": "code",
   "execution_count": 5,
   "id": "3f80b176",
   "metadata": {},
   "outputs": [
    {
     "name": "stdout",
     "output_type": "stream",
     "text": [
      "* * *\n",
      "*   *\n",
      "* * *\n",
      "*  *\n",
      "*   *\n"
     ]
    }
   ],
   "source": [
    "x=0\n",
    "while x<5:\n",
    "    if x==0 or x==2:\n",
    "        print(\"* * *\")\n",
    "    elif x==1:\n",
    "        print(\"*   *\")\n",
    "    elif x==3:\n",
    "        print(\"*  *\")\n",
    "    else:\n",
    "        print(\"*   *\")\n",
    "    x=x+1"
   ]
  },
  {
   "cell_type": "code",
   "execution_count": 1,
   "id": "0f9dd03e",
   "metadata": {},
   "outputs": [
    {
     "name": "stdout",
     "output_type": "stream",
     "text": [
      "* * *\n",
      "*\n",
      "* * *\n",
      "    *\n",
      "* * *\n"
     ]
    }
   ],
   "source": [
    "x=0\n",
    "while x<5:\n",
    "    if x==0 or x==2 or x==4:\n",
    "        print(\"* * *\")\n",
    "    elif x==1:\n",
    "        print(\"*\")\n",
    "    else:\n",
    "        print(\"    *\")\n",
    "    x=x+1"
   ]
  },
  {
   "cell_type": "code",
   "execution_count": 2,
   "id": "540e88bb",
   "metadata": {},
   "outputs": [
    {
     "name": "stdout",
     "output_type": "stream",
     "text": [
      "* * *\n",
      "  *\n",
      "  *\n",
      "  *\n",
      "  *\n"
     ]
    }
   ],
   "source": [
    "x=0\n",
    "while x<5:\n",
    "    if x==0:\n",
    "        print(\"* * *\")\n",
    "    else:\n",
    "        print(\"  *\")\n",
    "    x=x+1"
   ]
  },
  {
   "cell_type": "code",
   "execution_count": 3,
   "id": "2995cefd",
   "metadata": {},
   "outputs": [
    {
     "name": "stdout",
     "output_type": "stream",
     "text": [
      "*   *\n",
      "*   *\n",
      "*   *\n",
      "*   *\n",
      "* * *\n"
     ]
    }
   ],
   "source": [
    "x=0\n",
    "while x<5:\n",
    "    if x==4:\n",
    "        print(\"* * *\")\n",
    "    else:\n",
    "        print(\"*   *\")\n",
    "    x=x+1"
   ]
  },
  {
   "cell_type": "code",
   "execution_count": 12,
   "id": "5605ab98",
   "metadata": {},
   "outputs": [
    {
     "name": "stdout",
     "output_type": "stream",
     "text": [
      "*         *\n",
      " *       *\n",
      "  *     *\n",
      "   *   *\n",
      "     *\n"
     ]
    }
   ],
   "source": [
    "x=0\n",
    "while x<5:\n",
    "    if x==0:\n",
    "        print(\"*         *\")\n",
    "    elif x==1:\n",
    "        print(\" *       *\")\n",
    "    elif x==2:\n",
    "        print(\"  *     *\")\n",
    "    elif x==3:\n",
    "        print(\"   *   *\")\n",
    "    else:\n",
    "        print(\"     *\")\n",
    "    x=x+1"
   ]
  },
  {
   "cell_type": "code",
   "execution_count": 22,
   "id": "7b337bde",
   "metadata": {},
   "outputs": [
    {
     "name": "stdout",
     "output_type": "stream",
     "text": [
      "*     *\n",
      "*     *\n",
      "*     *\n",
      "*  *  *\n",
      "*     *\n"
     ]
    }
   ],
   "source": [
    "x=0\n",
    "while x<5:\n",
    "    if x==0 or x==1 or x==2 or x==4:\n",
    "        print(\"*     *\")\n",
    "    else:\n",
    "        print(\"*  *  *\")\n",
    "    x=x+1"
   ]
  },
  {
   "cell_type": "code",
   "execution_count": 40,
   "id": "ac92a04e",
   "metadata": {},
   "outputs": [
    {
     "name": "stdout",
     "output_type": "stream",
     "text": [
      " *       *\n",
      "   *   *\n",
      "     *   \n",
      "   *   *\n",
      " *       *\n"
     ]
    }
   ],
   "source": [
    "x=0\n",
    "while x<5:\n",
    "    if x==0:\n",
    "        print(\" *       *\")\n",
    "    elif x==1:\n",
    "        print(\"   *   *\")\n",
    "    elif x==2:\n",
    "        print(\"     *   \")\n",
    "    elif x==3:\n",
    "        print(\"   *   *\")\n",
    "    else:\n",
    "        print(\" *       *\")\n",
    "    x=x+1"
   ]
  },
  {
   "cell_type": "code",
   "execution_count": 51,
   "id": "e24083df",
   "metadata": {},
   "outputs": [
    {
     "name": "stdout",
     "output_type": "stream",
     "text": [
      "*     *\n",
      " *   *\n",
      "   * \n",
      "   * \n",
      "   * \n"
     ]
    }
   ],
   "source": [
    "x=0\n",
    "while x<5:\n",
    "    if x==0:\n",
    "        print(\"*     *\")\n",
    "    elif x==1:\n",
    "        print(\" *   *\")\n",
    "    else:\n",
    "        print(\"   * \")\n",
    "    x=x+1"
   ]
  },
  {
   "cell_type": "code",
   "execution_count": 60,
   "id": "781599b5",
   "metadata": {},
   "outputs": [
    {
     "name": "stdout",
     "output_type": "stream",
     "text": [
      "* * *\n",
      "   *\n",
      "  *\n",
      " *\n",
      "* * *\n"
     ]
    }
   ],
   "source": [
    "x=0\n",
    "while x<5:\n",
    "    if x==0 or x==4:\n",
    "        print(\"* * *\")\n",
    "    elif x==1:\n",
    "        print(\"   *\")\n",
    "    elif x==2:\n",
    "        print(\"  *\")\n",
    "    else:\n",
    "        print(\" *\")\n",
    "    x=x+1"
   ]
  },
  {
   "cell_type": "code",
   "execution_count": null,
   "id": "6c4d55dd",
   "metadata": {},
   "outputs": [],
   "source": []
  }
 ],
 "metadata": {
  "kernelspec": {
   "display_name": "Python 3 (ipykernel)",
   "language": "python",
   "name": "python3"
  },
  "language_info": {
   "codemirror_mode": {
    "name": "ipython",
    "version": 3
   },
   "file_extension": ".py",
   "mimetype": "text/x-python",
   "name": "python",
   "nbconvert_exporter": "python",
   "pygments_lexer": "ipython3",
   "version": "3.9.12"
  }
 },
 "nbformat": 4,
 "nbformat_minor": 5
}
