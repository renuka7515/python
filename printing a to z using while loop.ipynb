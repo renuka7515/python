{
 "cells": [
  {
   "cell_type": "code",
   "execution_count": 236,
   "id": "00f502f1",
   "metadata": {},
   "outputs": [
    {
     "name": "stdout",
     "output_type": "stream",
     "text": [
      "  * *\n",
      " *   *\n",
      " *   *\n",
      " *   *\n",
      "  * *  *\n"
     ]
    }
   ],
   "source": [
    "x=0\n",
    "while x<5:\n",
    "    if x==0:\n",
    "        print(\"  * *\")\n",
    "    elif x==1 or x==3 or x==2:\n",
    "        print(\" *   *\")\n",
    "    else:\n",
    "        print(\"  * *  *\")\n",
    "    x=x+1"
   ]
  },
  {
   "cell_type": "code",
   "execution_count": 20,
   "id": "52df86da",
   "metadata": {},
   "outputs": [
    {
     "name": "stdout",
     "output_type": "stream",
     "text": [
      "*\n",
      "*\n",
      "* *\n",
      "*  *\n",
      "* *\n"
     ]
    }
   ],
   "source": [
    "x=0\n",
    "while x<5:\n",
    "    if x==0 or x==1:\n",
    "        print(\"*\")\n",
    "    elif x==2 or x==4:\n",
    "        print(\"* *\")\n",
    "    else:\n",
    "        print(\"*  *\")\n",
    "    x=x+1"
   ]
  },
  {
   "cell_type": "code",
   "execution_count": 22,
   "id": "d7b41102",
   "metadata": {},
   "outputs": [
    {
     "name": "stdout",
     "output_type": "stream",
     "text": [
      "  * *\n",
      " *   \n",
      " *   \n",
      " *   \n",
      "  * *\n"
     ]
    }
   ],
   "source": [
    "x=0\n",
    "while x<5:\n",
    "    if x==0 or x==4:\n",
    "        print(\"  * *\")\n",
    "    else:\n",
    "        print(\" *   \")\n",
    "    x=x+1"
   ]
  },
  {
   "cell_type": "code",
   "execution_count": 28,
   "id": "e57bdc57",
   "metadata": {},
   "outputs": [
    {
     "name": "stdout",
     "output_type": "stream",
     "text": [
      "    *\n",
      "    *\n",
      " *  *\n",
      "*   *\n",
      " *  *\n"
     ]
    }
   ],
   "source": [
    "x=0\n",
    "while x<5:\n",
    "    if x==0 or x==1:\n",
    "        print(\"    *\")\n",
    "    elif x==2 or x==4:\n",
    "        print(\" *  *\")\n",
    "    else:\n",
    "        print(\"*   *\")\n",
    "    x=x+1"
   ]
  },
  {
   "cell_type": "code",
   "execution_count": 55,
   "id": "bda9a6ea",
   "metadata": {},
   "outputs": [
    {
     "name": "stdout",
     "output_type": "stream",
     "text": [
      "  * * *\n",
      " *    *\n",
      " * * *\n",
      " *   \n",
      "  * * *\n"
     ]
    }
   ],
   "source": [
    "x=0\n",
    "while x<5:\n",
    "    if x==0 or x==4:\n",
    "        print(\"  * * *\")\n",
    "    elif x==1:\n",
    "        print(\" *    *\")\n",
    "    elif x==2:\n",
    "        print(\" * * *\")\n",
    "    else:\n",
    "        print(\" *   \")\n",
    "    x=x+1"
   ]
  },
  {
   "cell_type": "code",
   "execution_count": 66,
   "id": "4b097505",
   "metadata": {},
   "outputs": [
    {
     "name": "stdout",
     "output_type": "stream",
     "text": [
      "   * * *\n",
      "  *   \n",
      "* * *\n",
      "  *   \n",
      "  *   \n"
     ]
    }
   ],
   "source": [
    "x=0\n",
    "while x<5:\n",
    "    if x==0:\n",
    "        print(\"   * * *\")\n",
    "    elif x==2:\n",
    "        print(\"* * *\")\n",
    "    else:\n",
    "        print(\"  *   \")\n",
    "    x=x+1"
   ]
  },
  {
   "cell_type": "code",
   "execution_count": 119,
   "id": "9a57e35b",
   "metadata": {},
   "outputs": [
    {
     "name": "stdout",
     "output_type": "stream",
     "text": [
      " * * *\n",
      "*    *\n",
      " * * *\n",
      "     *\n",
      " * * *\n"
     ]
    }
   ],
   "source": [
    "x=0\n",
    "while x<5:\n",
    "    if x==0 or x==2 or x==4:\n",
    "        print(\" * * *\")\n",
    "    elif x==1:\n",
    "        print(\"*    *\")\n",
    "    else:\n",
    "        print(\"     *\")\n",
    "    x=x+1"
   ]
  },
  {
   "cell_type": "code",
   "execution_count": 99,
   "id": "25eb37ce",
   "metadata": {},
   "outputs": [
    {
     "name": "stdout",
     "output_type": "stream",
     "text": [
      "*\n",
      "*\n",
      "*  * \n",
      "*   *\n",
      "*   *\n"
     ]
    }
   ],
   "source": [
    "x=0\n",
    "while x<5:\n",
    "    if x==0 or x==1:\n",
    "        print(\"*\")\n",
    "    elif x==3 or x==4:\n",
    "        print(\"*   *\")\n",
    "    else:\n",
    "        print(\"*  * \")\n",
    "    x=x+1"
   ]
  },
  {
   "cell_type": "code",
   "execution_count": 124,
   "id": "085da364",
   "metadata": {},
   "outputs": [
    {
     "name": "stdout",
     "output_type": "stream",
     "text": [
      "*\n",
      "*\n",
      "*\n",
      "*\n",
      "*\n"
     ]
    }
   ],
   "source": [
    "x=0\n",
    "while x<5:\n",
    "    if x==0 or x==1 or x==2 or x==3 or x==4:\n",
    "        print(\"*\")\n",
    "    x=x+1"
   ]
  },
  {
   "cell_type": "code",
   "execution_count": 131,
   "id": "b2f2105c",
   "metadata": {},
   "outputs": [
    {
     "name": "stdout",
     "output_type": "stream",
     "text": [
      "    *\n",
      "    *\n",
      "    *\n",
      "    *\n",
      " * * \n"
     ]
    }
   ],
   "source": [
    "x=0\n",
    "while x<5:\n",
    "    if x==0 or x==1 or x==2 or x==3:\n",
    "        print(\"    *\")\n",
    "    else:\n",
    "        print(\" * * \")\n",
    "    x=x+1"
   ]
  },
  {
   "cell_type": "code",
   "execution_count": 138,
   "id": "2b88104e",
   "metadata": {},
   "outputs": [
    {
     "name": "stdout",
     "output_type": "stream",
     "text": [
      "*    *\n",
      "*  *\n",
      "* *\n",
      "*  *\n",
      "*    *\n"
     ]
    }
   ],
   "source": [
    "x=0\n",
    "while x<5:\n",
    "    if x==0 or x==4:\n",
    "        print(\"*    *\")\n",
    "    elif x==1 or x==3:\n",
    "        print(\"*  *\")\n",
    "    else:\n",
    "        print(\"* *\")\n",
    "    x=x+1"
   ]
  },
  {
   "cell_type": "code",
   "execution_count": 147,
   "id": "ec16797f",
   "metadata": {},
   "outputs": [
    {
     "name": "stdout",
     "output_type": "stream",
     "text": [
      " *\n",
      " *\n",
      " *\n",
      " *\n",
      " *  \n"
     ]
    }
   ],
   "source": [
    "x=0\n",
    "while x<5:\n",
    "    if x==4:\n",
    "        print(\" *  \")\n",
    "    else:\n",
    "        print(\" *\")\n",
    "    x=x+1"
   ]
  },
  {
   "cell_type": "code",
   "execution_count": 240,
   "id": "389334ce",
   "metadata": {},
   "outputs": [
    {
     "name": "stdout",
     "output_type": "stream",
     "text": [
      " *  *   * \n",
      "   *  *  *\n",
      "   *  *  *\n",
      "   *     *\n",
      "   *     *\n"
     ]
    }
   ],
   "source": [
    "x=0\n",
    "while x<5:\n",
    "    if x==0:\n",
    "        print(\" *  *   * \")\n",
    "    elif x==1 or x==2:\n",
    "        print(\"   *  *  *\")\n",
    "    else:\n",
    "        print(\"   *     *\")\n",
    "    x=x+1"
   ]
  },
  {
   "cell_type": "code",
   "execution_count": 241,
   "id": "1e9f7ef0",
   "metadata": {},
   "outputs": [
    {
     "name": "stdout",
     "output_type": "stream",
     "text": [
      "*  *  * \n",
      "  *    *\n",
      "  *    *\n",
      "  *    *\n",
      "  *    *\n"
     ]
    }
   ],
   "source": [
    "x=0\n",
    "while x<5:\n",
    "    if x==0:\n",
    "        print(\"*  *  * \")\n",
    "    else:\n",
    "        print(\"  *    *\")\n",
    "    x=x+1"
   ]
  },
  {
   "cell_type": "code",
   "execution_count": 24,
   "id": "1f4488ce",
   "metadata": {},
   "outputs": [
    {
     "name": "stdout",
     "output_type": "stream",
     "text": [
      "  * *\n",
      " *   *\n",
      " *   *\n",
      " *   *\n",
      "  * *\n"
     ]
    }
   ],
   "source": [
    "x=0\n",
    "while x<5:\n",
    "    if x==0 or x==4:\n",
    "        print(\"  * *\")\n",
    "    else:\n",
    "        print(\" *   *\")\n",
    "    x=x+1"
   ]
  },
  {
   "cell_type": "code",
   "execution_count": 27,
   "id": "6e9baa43",
   "metadata": {},
   "outputs": [
    {
     "name": "stdout",
     "output_type": "stream",
     "text": [
      "* * \n",
      "*  *\n",
      "* * \n",
      "*\n",
      "*\n"
     ]
    }
   ],
   "source": [
    "x=0\n",
    "while x<5:\n",
    "    if x==0 or x==2:\n",
    "        print(\"* * \")\n",
    "    elif x==1:\n",
    "        print(\"*  *\")\n",
    "    else:\n",
    "        print(\"*\")\n",
    "    x=x+1"
   ]
  },
  {
   "cell_type": "code",
   "execution_count": 47,
   "id": "4a4adcfe",
   "metadata": {},
   "outputs": [
    {
     "name": "stdout",
     "output_type": "stream",
     "text": [
      "  *  \n",
      "*   *\n",
      "* * *  *\n",
      "    * *\n",
      "    *\n"
     ]
    }
   ],
   "source": [
    "x=0\n",
    "while x<5:\n",
    "    if x==0:\n",
    "        print(\"  *  \")\n",
    "    elif x==1:\n",
    "        print(\"*   *\")\n",
    "    elif x==2:\n",
    "        print(\"* * *  *\")\n",
    "    elif x==3:\n",
    "        print(\"    * *\")\n",
    "    else:\n",
    "        print(\"    *\")\n",
    "    x=x+1"
   ]
  },
  {
   "cell_type": "raw",
   "id": "b61276cc",
   "metadata": {},
   "source": []
  },
  {
   "cell_type": "code",
   "execution_count": 74,
   "id": "b6ac8743",
   "metadata": {},
   "outputs": [
    {
     "name": "stdout",
     "output_type": "stream",
     "text": [
      "*  * * \n",
      "  *   *\n",
      "  *\n",
      "  *\n",
      "  *\n"
     ]
    }
   ],
   "source": [
    "x=0\n",
    "while x<5:\n",
    "    if x==0:\n",
    "        print(\"*  * * \")\n",
    "    elif x==1:\n",
    "        print(\"  *   *\")\n",
    "    else:\n",
    "        print(\"  *\")\n",
    "    x=x+1"
   ]
  },
  {
   "cell_type": "code",
   "execution_count": 82,
   "id": "5468af90",
   "metadata": {},
   "outputs": [
    {
     "name": "stdout",
     "output_type": "stream",
     "text": [
      "  * * *\n",
      " *\n",
      "  * * *\n",
      "       *\n",
      "  * * *\n"
     ]
    }
   ],
   "source": [
    "x=0\n",
    "while x<5:\n",
    "    if x==0 or x==2 or x==4:\n",
    "        print(\"  * * *\")\n",
    "    elif x==1:\n",
    "        print(\" *\")\n",
    "    else:\n",
    "        print(\"       *\")\n",
    "    x=x+1"
   ]
  },
  {
   "cell_type": "code",
   "execution_count": 103,
   "id": "9912bf76",
   "metadata": {},
   "outputs": [
    {
     "name": "stdout",
     "output_type": "stream",
     "text": [
      "   *\n",
      "   *\n",
      " * * *\n",
      "   *\n",
      "    * *\n"
     ]
    }
   ],
   "source": [
    "x=0\n",
    "while x<5:\n",
    "    if x==4:\n",
    "        print(\"    * *\")\n",
    "    elif x==2:\n",
    "        print(\" * * *\")\n",
    "    else:\n",
    "        print(\"   *\")\n",
    "    x=x+1"
   ]
  },
  {
   "cell_type": "code",
   "execution_count": 129,
   "id": "51af120a",
   "metadata": {},
   "outputs": [
    {
     "name": "stdout",
     "output_type": "stream",
     "text": [
      "*   *\n",
      "*   *\n",
      "*   *\n",
      " * * *\n",
      "      *\n"
     ]
    }
   ],
   "source": [
    "x=0\n",
    "while x<5:\n",
    "    if x==0 or x==1 or x==2:\n",
    "        print(\"*   *\")\n",
    "    elif x==4:\n",
    "        print(\"      *\")\n",
    "    else:\n",
    "        print(\" * * *\")\n",
    "    x=x+1"
   ]
  },
  {
   "cell_type": "code",
   "execution_count": 139,
   "id": "c822188d",
   "metadata": {},
   "outputs": [
    {
     "name": "stdout",
     "output_type": "stream",
     "text": [
      "*       *\n",
      " *     *\n",
      "  *   *\n",
      "   * *\n",
      "    *\n"
     ]
    }
   ],
   "source": [
    "x=0\n",
    "while x<5:\n",
    "    if x==0:\n",
    "        print(\"*       *\")\n",
    "    elif x==1:\n",
    "        print(\" *     *\")\n",
    "    elif x==2:\n",
    "        print(\"  *   *\")\n",
    "    elif x==3:\n",
    "        print(\"   * *\")\n",
    "    else:\n",
    "        print(\"    *\")\n",
    "    x=x+1"
   ]
  },
  {
   "cell_type": "code",
   "execution_count": 152,
   "id": "73c7d915",
   "metadata": {},
   "outputs": [
    {
     "name": "stdout",
     "output_type": "stream",
     "text": [
      "*     *\n",
      "*     *\n",
      "*  *  *\n",
      "*  *  *\n",
      " *   *  *\n"
     ]
    }
   ],
   "source": [
    "x=0\n",
    "while x<5:\n",
    "    if x==0 or x==1:\n",
    "        print(\"*     *\")\n",
    "    elif x==2 or x==3:\n",
    "        print(\"*  *  *\")\n",
    "    else:\n",
    "        print(\" *   *  *\")\n",
    "    x=x+1"
   ]
  },
  {
   "cell_type": "code",
   "execution_count": 177,
   "id": "264f8c19",
   "metadata": {},
   "outputs": [
    {
     "name": "stdout",
     "output_type": "stream",
     "text": [
      "   *   *\n",
      "    * *\n",
      "     *  \n",
      "    * *\n",
      "   *   *\n"
     ]
    }
   ],
   "source": [
    "x=0\n",
    "while x<5:\n",
    "    if x==0:\n",
    "        print(\"   *   *\")\n",
    "    elif x==1:\n",
    "        print(\"    * *\")\n",
    "    elif x==2:\n",
    "        print(\"     *  \")\n",
    "    elif x==3:\n",
    "        print(\"    * *\")\n",
    "    else:\n",
    "        print(\"   *   *\")\n",
    "    x=x+1"
   ]
  },
  {
   "cell_type": "code",
   "execution_count": 188,
   "id": "361fedb5",
   "metadata": {},
   "outputs": [
    {
     "name": "stdout",
     "output_type": "stream",
     "text": [
      " *    *\n",
      "  *  *\n",
      "    * \n",
      "   *\n",
      " *\n"
     ]
    }
   ],
   "source": [
    "x=0\n",
    "while x<5:\n",
    "    if x==0:\n",
    "        print(\" *    *\")\n",
    "    elif x==1:\n",
    "        print(\"  *  *\")\n",
    "    elif x==2:\n",
    "        print(\"    * \")\n",
    "    elif x==3:\n",
    "        print(\"   *\")\n",
    "    else:\n",
    "        print(\" *\")\n",
    "    x=x+1"
   ]
  },
  {
   "cell_type": "code",
   "execution_count": 189,
   "id": "badc53a3",
   "metadata": {},
   "outputs": [
    {
     "name": "stdout",
     "output_type": "stream",
     "text": [
      "* * *\n",
      "   *\n",
      "  *\n",
      " *\n",
      "* * *\n"
     ]
    }
   ],
   "source": [
    "x=0\n",
    "while x<5:\n",
    "    if x==0 or x==4:\n",
    "        print(\"* * *\")\n",
    "    elif x==1:\n",
    "        print(\"   *\")\n",
    "    elif x==2:\n",
    "        print(\"  *\")\n",
    "    else:\n",
    "        print(\" *\")\n",
    "    x=x+1"
   ]
  },
  {
   "cell_type": "code",
   "execution_count": null,
   "id": "eb5da004",
   "metadata": {},
   "outputs": [],
   "source": []
  }
 ],
 "metadata": {
  "kernelspec": {
   "display_name": "Python 3 (ipykernel)",
   "language": "python",
   "name": "python3"
  },
  "language_info": {
   "codemirror_mode": {
    "name": "ipython",
    "version": 3
   },
   "file_extension": ".py",
   "mimetype": "text/x-python",
   "name": "python",
   "nbconvert_exporter": "python",
   "pygments_lexer": "ipython3",
   "version": "3.9.12"
  }
 },
 "nbformat": 4,
 "nbformat_minor": 5
}
