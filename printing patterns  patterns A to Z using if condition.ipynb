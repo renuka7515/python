{
 "cells": [
  {
   "cell_type": "code",
   "execution_count": 5,
   "id": "58f8659b",
   "metadata": {},
   "outputs": [
    {
     "name": "stdout",
     "output_type": "stream",
     "text": [
      "* * *\n",
      "*   *\n",
      "* * *\n",
      "*   *\n",
      "*   *\n"
     ]
    }
   ],
   "source": [
    "x1=1\n",
    "x2=2\n",
    "x3=3\n",
    "x4=4\n",
    "x5=5\n",
    "\n",
    "if x1==1:\n",
    "    print(\"* * *\")\n",
    "if x2==2:\n",
    "    print(\"*   *\")\n",
    "if x3==3:\n",
    "    print(\"* * *\")\n",
    "if x4==4:\n",
    "    print(\"*   *\") \n",
    "if x5==5:\n",
    "    print(\"*   *\")"
   ]
  },
  {
   "cell_type": "code",
   "execution_count": 8,
   "id": "d8f569b9",
   "metadata": {},
   "outputs": [
    {
     "name": "stdout",
     "output_type": "stream",
     "text": [
      "* * *\n",
      "*   *\n",
      "* *\n",
      "*   *\n",
      "* * *\n"
     ]
    }
   ],
   "source": [
    "x1=1\n",
    "x2=2\n",
    "x3=3\n",
    "x4=4\n",
    "x5=5\n",
    "\n",
    "if x1==1:\n",
    "    print(\"* * *\")\n",
    "if x2==2:\n",
    "    print(\"*   *\")\n",
    "if x3==3:\n",
    "    print(\"* *\")\n",
    "if x4==4:\n",
    "    print(\"*   *\") \n",
    "if x5==5:\n",
    "    print(\"* * *\")"
   ]
  },
  {
   "cell_type": "code",
   "execution_count": 10,
   "id": "959aaa94",
   "metadata": {},
   "outputs": [
    {
     "name": "stdout",
     "output_type": "stream",
     "text": [
      "* * *\n",
      "*\n",
      "*\n",
      "*\n",
      "* * *\n"
     ]
    }
   ],
   "source": [
    "x1=1\n",
    "x2=2\n",
    "x3=3\n",
    "x4=4\n",
    "x5=5\n",
    "\n",
    "if x1==1:\n",
    "    print(\"* * *\")\n",
    "if x2==2:\n",
    "    print(\"*\")\n",
    "if x3==3:\n",
    "    print(\"*\")\n",
    "if x4==4:\n",
    "    print(\"*\") \n",
    "if x5==5:\n",
    "    print(\"* * *\")"
   ]
  },
  {
   "cell_type": "code",
   "execution_count": 20,
   "id": "603309cd",
   "metadata": {},
   "outputs": [
    {
     "name": "stdout",
     "output_type": "stream",
     "text": [
      "* * * \n",
      "*     *\n",
      "*     *\n",
      "*     *\n",
      "* * * \n"
     ]
    }
   ],
   "source": [
    "x1=1\n",
    "x2=2\n",
    "x3=3\n",
    "x4=4\n",
    "x5=5\n",
    "\n",
    "if x1==1:\n",
    "    print(\"* * * \")\n",
    "if x2==2:\n",
    "    print(\"*     *\")\n",
    "if x3==3:\n",
    "    print(\"*     *\")\n",
    "if x4==4:\n",
    "    print(\"*     *\") \n",
    "if x5==5:\n",
    "    print(\"* * * \")"
   ]
  },
  {
   "cell_type": "code",
   "execution_count": 21,
   "id": "20594abd",
   "metadata": {},
   "outputs": [
    {
     "name": "stdout",
     "output_type": "stream",
     "text": [
      "* * *\n",
      "*   \n",
      "* * *\n",
      "*   \n",
      "* * *\n"
     ]
    }
   ],
   "source": [
    "x1=1\n",
    "x2=2\n",
    "x3=3\n",
    "x4=4\n",
    "x5=5\n",
    "\n",
    "if x1==1:\n",
    "    print(\"* * *\")\n",
    "if x2==2:\n",
    "    print(\"*   \")\n",
    "if x3==3:\n",
    "    print(\"* * *\")\n",
    "if x4==4:\n",
    "    print(\"*   \") \n",
    "if x5==5:\n",
    "    print(\"* * *\")"
   ]
  },
  {
   "cell_type": "code",
   "execution_count": 24,
   "id": "b018a848",
   "metadata": {},
   "outputs": [
    {
     "name": "stdout",
     "output_type": "stream",
     "text": [
      "* * *\n",
      "* * *\n",
      "*\n",
      "*\n",
      "*\n"
     ]
    }
   ],
   "source": [
    "x1=1\n",
    "x2=2\n",
    "x3=3\n",
    "x4=4\n",
    "x5=5\n",
    "\n",
    "if x1==1:\n",
    "    print(\"* * *\")\n",
    "if x2==2:\n",
    "    print(\"* * *\")\n",
    "if x3==3:\n",
    "    print(\"*\")\n",
    "if x4==4:\n",
    "    print(\"*\") \n",
    "if x5==5:\n",
    "    print(\"*\")"
   ]
  },
  {
   "cell_type": "code",
   "execution_count": 33,
   "id": "e7d1fce9",
   "metadata": {},
   "outputs": [
    {
     "name": "stdout",
     "output_type": "stream",
     "text": [
      "* * *\n",
      "*\n",
      "* * * * *\n",
      "*   *   *\n",
      "* * *\n"
     ]
    }
   ],
   "source": [
    "x1=1\n",
    "x2=2\n",
    "x3=3\n",
    "x4=4\n",
    "x5=5\n",
    "\n",
    "if x1==1:\n",
    "    print(\"* * *\")\n",
    "if x2==2:\n",
    "    print(\"*\")\n",
    "if x3==3:\n",
    "    print(\"* * * * *\")\n",
    "if x4==4:\n",
    "    print(\"*   *   *\") \n",
    "if x5==5:\n",
    "    print(\"* * *\")"
   ]
  },
  {
   "cell_type": "code",
   "execution_count": 36,
   "id": "8e726c2d",
   "metadata": {},
   "outputs": [
    {
     "name": "stdout",
     "output_type": "stream",
     "text": [
      "*   *\n",
      "*   *\n",
      "* * *\n",
      "*   *\n",
      "*   *\n"
     ]
    }
   ],
   "source": [
    "x1=1\n",
    "x2=2\n",
    "x3=3\n",
    "x4=4\n",
    "x5=5\n",
    "\n",
    "if x1==1:\n",
    "    print(\"*   *\")\n",
    "if x2==2:\n",
    "    print(\"*   *\")\n",
    "if x3==3:\n",
    "    print(\"* * *\")\n",
    "if x4==4:\n",
    "    print(\"*   *\") \n",
    "if x5==5:\n",
    "    print(\"*   *\")"
   ]
  },
  {
   "cell_type": "code",
   "execution_count": 39,
   "id": "1a751e7a",
   "metadata": {},
   "outputs": [
    {
     "name": "stdout",
     "output_type": "stream",
     "text": [
      "* * *\n",
      "  *  \n",
      "  *  \n",
      "  *  \n",
      "* * *\n"
     ]
    }
   ],
   "source": [
    "x1=1\n",
    "x2=2\n",
    "x3=3\n",
    "x4=4\n",
    "x5=5\n",
    "\n",
    "if x1==1:\n",
    "    print(\"* * *\")\n",
    "if x2==2:\n",
    "    print(\"  *  \")\n",
    "if x3==3:\n",
    "    print(\"  *  \")\n",
    "if x4==4:\n",
    "    print(\"  *  \") \n",
    "if x5==5:\n",
    "    print(\"* * *\")"
   ]
  },
  {
   "cell_type": "code",
   "execution_count": 41,
   "id": "66a5bd44",
   "metadata": {},
   "outputs": [
    {
     "name": "stdout",
     "output_type": "stream",
     "text": [
      "* * *\n",
      "  *  \n",
      "  *  \n",
      "  *  \n",
      "* *  \n"
     ]
    }
   ],
   "source": [
    "x1=1\n",
    "x2=2\n",
    "x3=3\n",
    "x4=4\n",
    "x5=5\n",
    "\n",
    "if x1==1:\n",
    "    print(\"* * *\")\n",
    "if x2==2:\n",
    "    print(\"  *  \")\n",
    "if x3==3:\n",
    "    print(\"  *  \")\n",
    "if x4==4:\n",
    "    print(\"  *  \") \n",
    "if x5==5:\n",
    "    print(\"* *  \")"
   ]
  },
  {
   "cell_type": "code",
   "execution_count": 50,
   "id": "6f463b2c",
   "metadata": {},
   "outputs": [
    {
     "name": "stdout",
     "output_type": "stream",
     "text": [
      "*     *\n",
      "*   *\n",
      "* *  \n",
      "*   *\n",
      "*    *\n"
     ]
    }
   ],
   "source": [
    "x1=1\n",
    "x2=2\n",
    "x3=3\n",
    "x4=4\n",
    "x5=5\n",
    "\n",
    "if x1==1:\n",
    "    print(\"*     *\")\n",
    "if x2==2:\n",
    "    print(\"*   *\")\n",
    "if x3==3:\n",
    "    print(\"* *  \")\n",
    "if x4==4:\n",
    "    print(\"*   *\") \n",
    "if x5==5:\n",
    "    print(\"*    *\")"
   ]
  },
  {
   "cell_type": "code",
   "execution_count": 52,
   "id": "f4966227",
   "metadata": {},
   "outputs": [
    {
     "name": "stdout",
     "output_type": "stream",
     "text": [
      "*   \n",
      "*   \n",
      "*   \n",
      "*   \n",
      "* * *\n"
     ]
    }
   ],
   "source": [
    "x1=1\n",
    "x2=2\n",
    "x3=3\n",
    "x4=4\n",
    "x5=5\n",
    "\n",
    "if x1==1:\n",
    "    print(\"*   \")\n",
    "if x2==2:\n",
    "    print(\"*   \")\n",
    "if x3==3:\n",
    "    print(\"*   \")\n",
    "if x4==4:\n",
    "    print(\"*   \") \n",
    "if x5==5:\n",
    "    print(\"* * *\")"
   ]
  },
  {
   "cell_type": "code",
   "execution_count": 68,
   "id": "6c2bc4d0",
   "metadata": {},
   "outputs": [
    {
     "name": "stdout",
     "output_type": "stream",
     "text": [
      "*     *\n",
      "*  *  *\n",
      "*     *\n",
      "*     *\n",
      "*     *\n"
     ]
    }
   ],
   "source": [
    "x1=1\n",
    "x2=2\n",
    "x3=3\n",
    "x4=4\n",
    "x5=5\n",
    "\n",
    "if x1==1:\n",
    "    print(\"*     *\")\n",
    "if x2==2:\n",
    "    print(\"*  *  *\")\n",
    "if x3==3:\n",
    "    print(\"*     *\")\n",
    "if x4==4:\n",
    "    print(\"*     *\") \n",
    "if x5==5:\n",
    "    print(\"*     *\")"
   ]
  },
  {
   "cell_type": "code",
   "execution_count": 45,
   "id": "7598d079",
   "metadata": {},
   "outputs": [
    {
     "name": "stdout",
     "output_type": "stream",
     "text": [
      "*       *\n",
      "*  *    *\n",
      "*    *  *\n",
      "*       *\n",
      "*       *\n"
     ]
    }
   ],
   "source": [
    "x1=1\n",
    "x2=2\n",
    "x3=3\n",
    "x4=4\n",
    "x5=5\n",
    "\n",
    "if x1==1:\n",
    "    print(\"*       *\")\n",
    "if x2==2:\n",
    "    print(\"*  *    *\")\n",
    "if x3==3:\n",
    "    print(\"*    *  *\")\n",
    "if x4==4:\n",
    "    print(\"*       *\") \n",
    "if x5==5:\n",
    "    print(\"*       *\")"
   ]
  },
  {
   "cell_type": "code",
   "execution_count": 95,
   "id": "d070c284",
   "metadata": {},
   "outputs": [
    {
     "name": "stdout",
     "output_type": "stream",
     "text": [
      "  * *\n",
      " *   *\n",
      " *   *\n",
      " *   *\n",
      "  * * \n"
     ]
    }
   ],
   "source": [
    "x1=1\n",
    "x2=2\n",
    "x3=3\n",
    "x4=4\n",
    "x5=5\n",
    "\n",
    "if x1==1:\n",
    "    print(\"  * *\")\n",
    "if x2==2:\n",
    "    print(\" *   *\")\n",
    "if x3==3:\n",
    "    print(\" *   *\")\n",
    "if x4==4:\n",
    "    print(\" *   *\") \n",
    "if x5==5:\n",
    "    print(\"  * * \")"
   ]
  },
  {
   "cell_type": "code",
   "execution_count": 102,
   "id": "4c76afd9",
   "metadata": {},
   "outputs": [
    {
     "name": "stdout",
     "output_type": "stream",
     "text": [
      "* * *\n",
      "*   *\n",
      "* * *\n",
      "*    \n",
      "*\n"
     ]
    }
   ],
   "source": [
    "x1=1\n",
    "x2=2\n",
    "x3=3\n",
    "x4=4\n",
    "x5=5\n",
    "\n",
    "if x1==1:\n",
    "    print(\"* * *\")\n",
    "if x2==2:\n",
    "    print(\"*   *\")\n",
    "if x3==3:\n",
    "    print(\"* * *\")\n",
    "if x4==4:\n",
    "    print(\"*    \") \n",
    "if x5==5:\n",
    "    print(\"*\")"
   ]
  },
  {
   "cell_type": "code",
   "execution_count": 110,
   "id": "eb44e85d",
   "metadata": {},
   "outputs": [
    {
     "name": "stdout",
     "output_type": "stream",
     "text": [
      "  * *\n",
      " *   *\n",
      " * * *\n",
      " *   *\n",
      "  * *  *\n"
     ]
    }
   ],
   "source": [
    "x1=1\n",
    "x2=2\n",
    "x3=3\n",
    "x4=4\n",
    "x5=5\n",
    "\n",
    "if x1==1:\n",
    "    print(\"  * *\")\n",
    "if x2==2:\n",
    "    print(\" *   *\")\n",
    "if x3==3:\n",
    "    print(\" * * *\")\n",
    "if x4==4:\n",
    "    print(\" *   *\") \n",
    "if x5==5:\n",
    "    print(\"  * *  *\")"
   ]
  },
  {
   "cell_type": "code",
   "execution_count": 115,
   "id": "41880ce8",
   "metadata": {},
   "outputs": [
    {
     "name": "stdout",
     "output_type": "stream",
     "text": [
      "* * *\n",
      "*   *\n",
      "* * *\n",
      "*  *  \n",
      "*    *\n"
     ]
    }
   ],
   "source": [
    "x1=1\n",
    "x2=2\n",
    "x3=3\n",
    "x4=4\n",
    "x5=5\n",
    "\n",
    "if x1==1:\n",
    "    print(\"* * *\")\n",
    "if x2==2:\n",
    "    print(\"*   *\")\n",
    "if x3==3:\n",
    "    print(\"* * *\")\n",
    "if x4==4:\n",
    "    print(\"*  *  \") \n",
    "if x5==5:\n",
    "    print(\"*    *\")"
   ]
  },
  {
   "cell_type": "code",
   "execution_count": 121,
   "id": "0e726764",
   "metadata": {},
   "outputs": [
    {
     "name": "stdout",
     "output_type": "stream",
     "text": [
      "* * *\n",
      "*    \n",
      "* * *\n",
      "    *\n",
      "* * *\n"
     ]
    }
   ],
   "source": [
    "x1=1\n",
    "x2=2\n",
    "x3=3\n",
    "x4=4\n",
    "x5=5\n",
    "\n",
    "if x1==1:\n",
    "    print(\"* * *\")\n",
    "if x2==2:\n",
    "    print(\"*    \")\n",
    "if x3==3:\n",
    "    print(\"* * *\")\n",
    "if x4==4:\n",
    "    print(\"    *\") \n",
    "if x5==5:\n",
    "    print(\"* * *\")"
   ]
  },
  {
   "cell_type": "code",
   "execution_count": 123,
   "id": "f2d7b2c7",
   "metadata": {},
   "outputs": [
    {
     "name": "stdout",
     "output_type": "stream",
     "text": [
      "* * *\n",
      "  *  \n",
      "  *  \n",
      "  *  \n",
      "  *  \n"
     ]
    }
   ],
   "source": [
    "x1=1\n",
    "x2=2\n",
    "x3=3\n",
    "x4=4\n",
    "x5=5\n",
    "\n",
    "if x1==1:\n",
    "    print(\"* * *\")\n",
    "if x2==2:\n",
    "    print(\"  *  \")\n",
    "if x3==3:\n",
    "    print(\"  *  \")\n",
    "if x4==4:\n",
    "    print(\"  *  \") \n",
    "if x5==5:\n",
    "    print(\"  *  \")"
   ]
  },
  {
   "cell_type": "code",
   "execution_count": 125,
   "id": "577dfbae",
   "metadata": {},
   "outputs": [
    {
     "name": "stdout",
     "output_type": "stream",
     "text": [
      "*     *\n",
      "*     *\n",
      "*     *\n",
      "*     *\n",
      "*  *  *\n"
     ]
    }
   ],
   "source": [
    "x1=1\n",
    "x2=2\n",
    "x3=3\n",
    "x4=4\n",
    "x5=5\n",
    "\n",
    "if x1==1:\n",
    "    print(\"*     *\")\n",
    "if x2==2:\n",
    "    print(\"*     *\")\n",
    "if x3==3:\n",
    "    print(\"*     *\")\n",
    "if x4==4:\n",
    "    print(\"*     *\") \n",
    "if x5==5:\n",
    "    print(\"*  *  *\")"
   ]
  },
  {
   "cell_type": "code",
   "execution_count": 131,
   "id": "89919211",
   "metadata": {},
   "outputs": [
    {
     "name": "stdout",
     "output_type": "stream",
     "text": [
      "*     *\n",
      "*     *\n",
      "*     *\n",
      " *   *\n",
      "   *   \n"
     ]
    }
   ],
   "source": [
    "x1=1\n",
    "x2=2\n",
    "x3=3\n",
    "x4=4\n",
    "x5=5\n",
    "\n",
    "if x1==1:\n",
    "    print(\"*     *\")\n",
    "if x2==2:\n",
    "    print(\"*     *\")\n",
    "if x3==3:\n",
    "    print(\"*     *\")\n",
    "if x4==4:\n",
    "    print(\" *   *\") \n",
    "if x5==5:\n",
    "    print(\"   *   \")"
   ]
  },
  {
   "cell_type": "code",
   "execution_count": 133,
   "id": "d2a7a90c",
   "metadata": {},
   "outputs": [
    {
     "name": "stdout",
     "output_type": "stream",
     "text": [
      "*     *\n",
      "*     *\n",
      "*     *\n",
      "*  *  *\n",
      "*     *\n"
     ]
    }
   ],
   "source": [
    "x1=1\n",
    "x2=2\n",
    "x3=3\n",
    "x4=4\n",
    "x5=5\n",
    "\n",
    "if x1==1:\n",
    "    print(\"*     *\")\n",
    "if x2==2:\n",
    "    print(\"*     *\")\n",
    "if x3==3:\n",
    "    print(\"*     *\")\n",
    "if x4==4:\n",
    "    print(\"*  *  *\") \n",
    "if x5==5:\n",
    "    print(\"*     *\")"
   ]
  },
  {
   "cell_type": "code",
   "execution_count": 27,
   "id": "de486cea",
   "metadata": {},
   "outputs": [
    {
     "name": "stdout",
     "output_type": "stream",
     "text": [
      " *      *\n",
      "  *   *\n",
      "    *   \n",
      "  *   *\n",
      "*       *\n"
     ]
    }
   ],
   "source": [
    "x1=1\n",
    "x2=2\n",
    "x3=3\n",
    "x4=4\n",
    "x5=5\n",
    "\n",
    "if x1==1:\n",
    "    print(\" *      *\")\n",
    "if x2==2:\n",
    "    print(\"  *   *\")\n",
    "if x3==3:\n",
    "    print(\"    *   \")\n",
    "if x4==4:\n",
    "    print(\"  *   *\") \n",
    "if x5==5:\n",
    "    print(\"*       *\")"
   ]
  },
  {
   "cell_type": "code",
   "execution_count": 31,
   "id": "6d0255fa",
   "metadata": {},
   "outputs": [
    {
     "name": "stdout",
     "output_type": "stream",
     "text": [
      " *      *\n",
      "  *   *\n",
      "    *   \n",
      "    * \n",
      "    *  \n"
     ]
    }
   ],
   "source": [
    "x1=1\n",
    "x2=2\n",
    "x3=3\n",
    "x4=4\n",
    "x5=5\n",
    "\n",
    "if x1==1:\n",
    "    print(\" *      *\")\n",
    "if x2==2:\n",
    "    print(\"  *   *\")\n",
    "if x3==3:\n",
    "    print(\"    *   \")\n",
    "if x4==4:\n",
    "    print(\"    * \") \n",
    "if x5==5:\n",
    "    print(\"    *  \")"
   ]
  },
  {
   "cell_type": "code",
   "execution_count": 43,
   "id": "89a3219c",
   "metadata": {},
   "outputs": [
    {
     "name": "stdout",
     "output_type": "stream",
     "text": [
      "*  *  *\n",
      "     *\n",
      "   *  \n",
      "  *   \n",
      "*  *  *\n"
     ]
    }
   ],
   "source": [
    "x1=1\n",
    "x2=2\n",
    "x3=3\n",
    "x4=4\n",
    "x5=5\n",
    "\n",
    "if x1==1:\n",
    "    print(\"*  *  *\")\n",
    "if x2==2:\n",
    "    print(\"     *\")\n",
    "if x3==3:\n",
    "    print(\"   *  \")\n",
    "if x4==4:\n",
    "    print(\"  *   \") \n",
    "if x5==5:\n",
    "    print(\"*  *  *\")"
   ]
  },
  {
   "cell_type": "code",
   "execution_count": null,
   "id": "4c605377",
   "metadata": {},
   "outputs": [],
   "source": []
  }
 ],
 "metadata": {
  "kernelspec": {
   "display_name": "Python 3 (ipykernel)",
   "language": "python",
   "name": "python3"
  },
  "language_info": {
   "codemirror_mode": {
    "name": "ipython",
    "version": 3
   },
   "file_extension": ".py",
   "mimetype": "text/x-python",
   "name": "python",
   "nbconvert_exporter": "python",
   "pygments_lexer": "ipython3",
   "version": "3.9.12"
  }
 },
 "nbformat": 4,
 "nbformat_minor": 5
}
