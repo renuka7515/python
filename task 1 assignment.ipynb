{
 "cells": [
  {
   "cell_type": "code",
   "execution_count": 5,
   "id": "f1639661",
   "metadata": {},
   "outputs": [
    {
     "name": "stdout",
     "output_type": "stream",
     "text": [
      "enter any string in upper case: APPLE\n",
      "apple\n"
     ]
    }
   ],
   "source": [
    "# 1) write a python program to convert a string to lower case\n",
    "x=str(input(\"enter any string in upper case: \"))\n",
    "y=x.lower()\n",
    "print(y)\n",
    "    \n"
   ]
  },
  {
   "cell_type": "code",
   "execution_count": 56,
   "id": "2c97a034",
   "metadata": {},
   "outputs": [
    {
     "name": "stdout",
     "output_type": "stream",
     "text": [
      "enter a sting: hello\n",
      " HeLlO\n"
     ]
    }
   ],
   "source": [
    "# 2) write a python program to convert only odd indexed characters to lower case\n",
    "x=str(input(\"enter a sting: \" ))\n",
    "y=\" \"\n",
    "for z in range(0,len(x)):\n",
    "    if z%2!=0:\n",
    "        y+=x[z].lower()   \n",
    "    else:\n",
    "        y+=x[z].upper()\n",
    "print(y)"
   ]
  },
  {
   "cell_type": "code",
   "execution_count": 53,
   "id": "91ab0e3c",
   "metadata": {},
   "outputs": [
    {
     "name": "stdout",
     "output_type": "stream",
     "text": [
      "enter a sting: hello\n",
      " hElLo\n"
     ]
    }
   ],
   "source": [
    "# 3) write a python program to convert only even indexed characters to lower case\n",
    "x=str(input(\"enter a sting: \" ))\n",
    "y=\" \"\n",
    "for z in range(0,len(x)):\n",
    "    if z%2==0:\n",
    "        y+=x[z].lower()   \n",
    "    else:\n",
    "        y+=x[z].upper()\n",
    "print(y)"
   ]
  },
  {
   "cell_type": "code",
   "execution_count": 54,
   "id": "9a47d3bd",
   "metadata": {},
   "outputs": [
    {
     "name": "stdout",
     "output_type": "stream",
     "text": [
      "enter a sting: hello\n",
      " hElLo\n"
     ]
    }
   ],
   "source": [
    "# 4) write a python program to convert only odd indexed characters to upper case\n",
    "x=str(input(\"enter a sting: \" ))\n",
    "y=\" \"\n",
    "for z in range(0,len(x)):\n",
    "    if z%2!=0:\n",
    "        y+=x[z].upper()   \n",
    "    else:\n",
    "        y+=x[z].lower()\n",
    "print(y)"
   ]
  },
  {
   "cell_type": "code",
   "execution_count": 55,
   "id": "8b28d022",
   "metadata": {},
   "outputs": [
    {
     "name": "stdout",
     "output_type": "stream",
     "text": [
      "enter a sting: hello\n",
      " HeLlO\n"
     ]
    }
   ],
   "source": [
    "# 5) write a python program to convert only even indexed characters to upper case\n",
    "x=str(input(\"enter a sting: \" ))\n",
    "y=\" \"\n",
    "for z in range(0,len(x)):\n",
    "    if z%2==0:\n",
    "        y+=x[z].upper()   \n",
    "    else:\n",
    "        y+=x[z].lower()\n",
    "print(y)"
   ]
  },
  {
   "cell_type": "code",
   "execution_count": 58,
   "id": "c62e6bed",
   "metadata": {},
   "outputs": [
    {
     "name": "stdout",
     "output_type": "stream",
     "text": [
      "enter your name: Renuka\n",
      "enter your sex 'M','m','F','f': f\n",
      "enter your age: 21\n",
      "enter your phone no: 46153256\n",
      "enter your father name: Srinivasa Rao\n",
      "enter your mother name: chamundeswari\n",
      "my name is Renuka,my sex is f,my age is 21,my phone no is 46153256,my fathers name is Srinivasa Rao and my mothers name is chamundeswari\n"
     ]
    }
   ],
   "source": [
    "# 6).Write a python program where you have different variable which contains your\n",
    "# name ,sex,age, phone no ,fathers name and mothers name.And by using this variable create a variable named bio-data \n",
    "#where you will use all this variable\n",
    "name=input(\"enter your name: \")\n",
    "sex=input(\"enter your sex 'M','m','F','f': \")\n",
    "age=input(\"enter your age: \")\n",
    "phno=int(input(\"enter your phone no: \"))\n",
    "fname=input(\"enter your father name: \")\n",
    "mname=input(\"enter your mother name: \")\n",
    "bio_data=\"my name is {},my sex is {},my age is {},my phone no is {},my fathers name is {} and my mothers name is {}\"\n",
    "print(bio_data.format(name,sex,age,phno,fname,mname))"
   ]
  },
  {
   "cell_type": "code",
   "execution_count": 1,
   "id": "6e43baea",
   "metadata": {},
   "outputs": [
    {
     "name": "stdout",
     "output_type": "stream",
     "text": [
      "enter any thing that contains @ to count how many times @ occured: a@h@f@\n",
      "3\n"
     ]
    }
   ],
   "source": [
    "#7) Write a python program to count how many times “@” occurred\n",
    "x=input(\"enter any thing that contains @ to count how many times @ occured: \")\n",
    "z=x.count(\"@\")\n",
    "print(z)"
   ]
  },
  {
   "cell_type": "code",
   "execution_count": 20,
   "id": "7c75efbf",
   "metadata": {},
   "outputs": [
    {
     "name": "stdout",
     "output_type": "stream",
     "text": [
      "name1,name2,name3\n"
     ]
    }
   ],
   "source": [
    "# 8) Write a python program to get only names from the string “name1.@gmail.com,name2.@gmail.com,name3.@gmail.com”\n",
    "#Output-name1,name2,name3\n",
    "x=\"name1.@gmail.com,name2.@gmail.com,name3.@gmail.com\"\n",
    "y=x.split(\".@gmail.com\")\n",
    "#print(y)\n",
    "z=\"\"\n",
    "for i in range(len(y)):\n",
    "    z+=y[i]\n",
    "print(z)"
   ]
  },
  {
   "cell_type": "code",
   "execution_count": 30,
   "id": "20601f28",
   "metadata": {},
   "outputs": [
    {
     "name": "stdout",
     "output_type": "stream",
     "text": [
      "enter a string of odd length greater than 9: watermelons\n",
      "rme\n"
     ]
    }
   ],
   "source": [
    "# 9) Given a string of odd length greater that 9, return a new string made of the middle three characters of a given String\n",
    "x=input(\"enter a string of odd length greater than 9: \")\n",
    "y=len(x)//2\n",
    "print(x[y-1:y+2])"
   ]
  },
  {
   "cell_type": "code",
   "execution_count": 4,
   "id": "e08b8bec",
   "metadata": {},
   "outputs": [
    {
     "name": "stdout",
     "output_type": "stream",
     "text": [
      "enter 1st string: hi\n",
      "enter 2nd string: bye\n",
      "hbyei\n"
     ]
    }
   ],
   "source": [
    "# 10) Write a python program to insert a 2 string in the middle of 1 string\n",
    "x=input(\"enter 1st string: \")\n",
    "y=input(\"enter 2nd string: \")\n",
    "z=len(x)//2\n",
    "#print(z)\n",
    "print(x[:z]+y+x[z:])\n"
   ]
  },
  {
   "cell_type": "code",
   "execution_count": 5,
   "id": "4e26edb5",
   "metadata": {},
   "outputs": [
    {
     "name": "stdout",
     "output_type": "stream",
     "text": [
      "bcdfghjklmnpqrstvwxyz\n"
     ]
    }
   ],
   "source": [
    "# 11) Write a program to remove vowels from the entire alphabets \n",
    "x=\"abcdefghijklmnopqrstuvwxyz\"\n",
    "z=\"\"\n",
    "for y in range(len(x)):\n",
    "    if x[y]==\"a\" or x[y]==\"e\" or x[y]==\"i\" or x[y]==\"o\" or x[y]==\"u\":\n",
    "        z+=\"\"\n",
    "    else:\n",
    "        z+=x[y]\n",
    "print(z)"
   ]
  },
  {
   "cell_type": "code",
   "execution_count": null,
   "id": "d5e8c34c",
   "metadata": {},
   "outputs": [],
   "source": []
  }
 ],
 "metadata": {
  "kernelspec": {
   "display_name": "Python 3 (ipykernel)",
   "language": "python",
   "name": "python3"
  },
  "language_info": {
   "codemirror_mode": {
    "name": "ipython",
    "version": 3
   },
   "file_extension": ".py",
   "mimetype": "text/x-python",
   "name": "python",
   "nbconvert_exporter": "python",
   "pygments_lexer": "ipython3",
   "version": "3.9.12"
  }
 },
 "nbformat": 4,
 "nbformat_minor": 5
}
